{
 "cells": [
  {
   "cell_type": "code",
   "execution_count": 1,
   "metadata": {
    "collapsed": false
   },
   "outputs": [
    {
     "data": {
      "text/html": [
       "<div>\n",
       "<table border=\"1\" class=\"dataframe\">\n",
       "  <thead>\n",
       "    <tr style=\"text-align: right;\">\n",
       "      <th></th>\n",
       "      <th>id</th>\n",
       "      <th>id_str</th>\n",
       "      <th>screen_name</th>\n",
       "      <th>location</th>\n",
       "      <th>description</th>\n",
       "      <th>url</th>\n",
       "      <th>followers_count</th>\n",
       "      <th>friends_count</th>\n",
       "      <th>listedcount</th>\n",
       "      <th>created_at</th>\n",
       "      <th>favourites_count</th>\n",
       "      <th>verified</th>\n",
       "      <th>statuses_count</th>\n",
       "      <th>lang</th>\n",
       "      <th>status</th>\n",
       "      <th>default_profile</th>\n",
       "      <th>default_profile_image</th>\n",
       "      <th>has_extended_profile</th>\n",
       "      <th>name</th>\n",
       "      <th>bot</th>\n",
       "    </tr>\n",
       "  </thead>\n",
       "  <tbody>\n",
       "    <tr>\n",
       "      <th>0</th>\n",
       "      <td>813286.0</td>\n",
       "      <td>813286</td>\n",
       "      <td>BarackObama</td>\n",
       "      <td>Washington, DC</td>\n",
       "      <td>Dad, husband, President, citizen.</td>\n",
       "      <td>https://t.co/93Y27HEnnX</td>\n",
       "      <td>85681083</td>\n",
       "      <td>630949</td>\n",
       "      <td>222411</td>\n",
       "      <td>Mon Mar 05 22:08:25 +0000 2007</td>\n",
       "      <td>10</td>\n",
       "      <td>True</td>\n",
       "      <td>15439</td>\n",
       "      <td>en</td>\n",
       "      <td>{u'contributors': None, u'truncated': True, u'...</td>\n",
       "      <td>False</td>\n",
       "      <td>False</td>\n",
       "      <td>True</td>\n",
       "      <td>Barack Obama</td>\n",
       "      <td>0</td>\n",
       "    </tr>\n",
       "    <tr>\n",
       "      <th>1</th>\n",
       "      <td>807095.0</td>\n",
       "      <td>807095</td>\n",
       "      <td>nytimes</td>\n",
       "      <td>New York City</td>\n",
       "      <td>Where the conversation begins. Follow for brea...</td>\n",
       "      <td>http://t.co/ahvuWqicF9</td>\n",
       "      <td>34363304</td>\n",
       "      <td>909</td>\n",
       "      <td>187570</td>\n",
       "      <td>03/02/2007 20:41</td>\n",
       "      <td>14320</td>\n",
       "      <td>True</td>\n",
       "      <td>269878</td>\n",
       "      <td>en</td>\n",
       "      <td>Status(in_reply_to_user_id_str=None, source_ur...</td>\n",
       "      <td>False</td>\n",
       "      <td>False</td>\n",
       "      <td>False</td>\n",
       "      <td>The New York Times</td>\n",
       "      <td>0</td>\n",
       "    </tr>\n",
       "    <tr>\n",
       "      <th>2</th>\n",
       "      <td>21447363.0</td>\n",
       "      <td>21447363</td>\n",
       "      <td>katyperry</td>\n",
       "      <td>NaN</td>\n",
       "      <td>Artist. Activist. Conscious.</td>\n",
       "      <td>https://t.co/wwR7hvIqW0</td>\n",
       "      <td>96321564</td>\n",
       "      <td>203</td>\n",
       "      <td>142370</td>\n",
       "      <td>Fri Feb 20 23:45:56 +0000 2009</td>\n",
       "      <td>4272</td>\n",
       "      <td>True</td>\n",
       "      <td>7837</td>\n",
       "      <td>en</td>\n",
       "      <td>{\"created_at\": \"Sat Mar 11 04:38:10 +0000 2017...</td>\n",
       "      <td>False</td>\n",
       "      <td>False</td>\n",
       "      <td>True</td>\n",
       "      <td>KATY PERRY</td>\n",
       "      <td>0</td>\n",
       "    </tr>\n",
       "    <tr>\n",
       "      <th>3</th>\n",
       "      <td>23375688.0</td>\n",
       "      <td>23375688</td>\n",
       "      <td>selenagomez</td>\n",
       "      <td>Los Angeles</td>\n",
       "      <td>Get 'It Ain't Me' with Kygo, out now on Apple ...</td>\n",
       "      <td>https://t.co/zP4EExvtte</td>\n",
       "      <td>46472564</td>\n",
       "      <td>1272</td>\n",
       "      <td>133825</td>\n",
       "      <td>Mon Mar 09 00:16:45 +0000 2009</td>\n",
       "      <td>135</td>\n",
       "      <td>True</td>\n",
       "      <td>4200</td>\n",
       "      <td>en</td>\n",
       "      <td>{u'contributors': None, u'truncated': False, u...</td>\n",
       "      <td>False</td>\n",
       "      <td>False</td>\n",
       "      <td>False</td>\n",
       "      <td>Selena Gomez</td>\n",
       "      <td>0</td>\n",
       "    </tr>\n",
       "  </tbody>\n",
       "</table>\n",
       "</div>"
      ],
      "text/plain": [
       "           id    id_str  screen_name        location  \\\n",
       "0    813286.0    813286  BarackObama  Washington, DC   \n",
       "1    807095.0    807095      nytimes   New York City   \n",
       "2  21447363.0  21447363    katyperry             NaN   \n",
       "3  23375688.0  23375688  selenagomez    Los Angeles    \n",
       "\n",
       "                                         description                      url  \\\n",
       "0                  Dad, husband, President, citizen.  https://t.co/93Y27HEnnX   \n",
       "1  Where the conversation begins. Follow for brea...   http://t.co/ahvuWqicF9   \n",
       "2                       Artist. Activist. Conscious.  https://t.co/wwR7hvIqW0   \n",
       "3  Get 'It Ain't Me' with Kygo, out now on Apple ...  https://t.co/zP4EExvtte   \n",
       "\n",
       "   followers_count  friends_count  listedcount  \\\n",
       "0         85681083         630949       222411   \n",
       "1         34363304            909       187570   \n",
       "2         96321564            203       142370   \n",
       "3         46472564           1272       133825   \n",
       "\n",
       "                       created_at  favourites_count verified  statuses_count  \\\n",
       "0  Mon Mar 05 22:08:25 +0000 2007                10     True           15439   \n",
       "1                03/02/2007 20:41             14320     True          269878   \n",
       "2  Fri Feb 20 23:45:56 +0000 2009              4272     True            7837   \n",
       "3  Mon Mar 09 00:16:45 +0000 2009               135     True            4200   \n",
       "\n",
       "  lang                                             status default_profile  \\\n",
       "0   en  {u'contributors': None, u'truncated': True, u'...           False   \n",
       "1   en  Status(in_reply_to_user_id_str=None, source_ur...           False   \n",
       "2   en  {\"created_at\": \"Sat Mar 11 04:38:10 +0000 2017...           False   \n",
       "3   en  {u'contributors': None, u'truncated': False, u...           False   \n",
       "\n",
       "  default_profile_image has_extended_profile                name  bot  \n",
       "0                 False                 True        Barack Obama    0  \n",
       "1                 False                False  The New York Times    0  \n",
       "2                 False                 True          KATY PERRY    0  \n",
       "3                 False                False        Selena Gomez    0  "
      ]
     },
     "execution_count": 1,
     "metadata": {},
     "output_type": "execute_result"
    }
   ],
   "source": [
    "import pandas as pd\n",
    "import numpy as np\n",
    "\n",
    "df = pd.read_csv('all.csv',encoding = \"ISO-8859-1\")\n",
    "df.head(4)"
   ]
  },
  {
   "cell_type": "code",
   "execution_count": 2,
   "metadata": {
    "collapsed": false
   },
   "outputs": [
    {
     "data": {
      "text/plain": [
       "0                  Washington, DC\n",
       "1                   New York City\n",
       "2                             NaN\n",
       "3                    Los Angeles \n",
       "4                             NaN\n",
       "5                      London, UK\n",
       "6                 Los Angeles, CA\n",
       "7                             NaN\n",
       "8               San Francisco, CA\n",
       "9                             NaN\n",
       "10                    Los Angeles\n",
       "11                            NaN\n",
       "12                         Madrid\n",
       "13                               \n",
       "14                    Memphis, TN\n",
       "15        Los Angeles, California\n",
       "16                            NaN\n",
       "17                            NaN\n",
       "18                 Washington, DC\n",
       "19                    los angeles\n",
       "20                  Manhattanland\n",
       "21                @happyhippiefdn\n",
       "22                Los Angeles, CA\n",
       "23                       New York\n",
       "24                      Bronx, NY\n",
       "25                            NaN\n",
       "26                  New York City\n",
       "27      TOUT-SHAQ. INSTAGRAM-SHAQ\n",
       "28                     Harveytown\n",
       "29         On a plane, probably. \n",
       "                  ...            \n",
       "2202                          NaN\n",
       "2203                          NaN\n",
       "2204       Kavadi Guda, Hyderabad\n",
       "2205                     new york\n",
       "2206                          NaN\n",
       "2207                          NaN\n",
       "2208                          NaN\n",
       "2209                          NaN\n",
       "2210                          NaN\n",
       "2211          Pittsburgh, PA, USA\n",
       "2212                 Campinas, SP\n",
       "2213              London, England\n",
       "2214                          USA\n",
       "2215              Bangalore/Jammu\n",
       "2216                          NaN\n",
       "2217         Bournemouth, England\n",
       "2218                Campinas - SP\n",
       "2219                          NaN\n",
       "2220                          NaN\n",
       "2221                          NaN\n",
       "2222                   Bhimavaram\n",
       "2223                          NaN\n",
       "2224                        \"___\"\n",
       "2225                       Brasil\n",
       "2226       Belo Horizonte, Brasil\n",
       "2227         CAMPO LIMPO PAULISTA\n",
       "2228                          NaN\n",
       "2229                       Taiwan\n",
       "2230                       Lahore\n",
       "2231                          NaN\n",
       "Name: location, dtype: object"
      ]
     },
     "execution_count": 2,
     "metadata": {},
     "output_type": "execute_result"
    }
   ],
   "source": [
    " df.location"
   ]
  },
  {
   "cell_type": "code",
   "execution_count": 3,
   "metadata": {
    "collapsed": false
   },
   "outputs": [
    {
     "data": {
      "text/plain": [
       "0       1\n",
       "1       1\n",
       "2       0\n",
       "3       1\n",
       "4       0\n",
       "5       1\n",
       "6       1\n",
       "7       0\n",
       "8       1\n",
       "9       0\n",
       "10      1\n",
       "11      0\n",
       "12      1\n",
       "13      1\n",
       "14      1\n",
       "15      1\n",
       "16      0\n",
       "17      0\n",
       "18      1\n",
       "19      1\n",
       "20      1\n",
       "21      1\n",
       "22      1\n",
       "23      1\n",
       "24      1\n",
       "25      0\n",
       "26      1\n",
       "27      1\n",
       "28      1\n",
       "29      1\n",
       "       ..\n",
       "2202    0\n",
       "2203    0\n",
       "2204    1\n",
       "2205    1\n",
       "2206    0\n",
       "2207    0\n",
       "2208    0\n",
       "2209    0\n",
       "2210    0\n",
       "2211    1\n",
       "2212    1\n",
       "2213    1\n",
       "2214    1\n",
       "2215    1\n",
       "2216    0\n",
       "2217    1\n",
       "2218    1\n",
       "2219    0\n",
       "2220    0\n",
       "2221    0\n",
       "2222    1\n",
       "2223    0\n",
       "2224    1\n",
       "2225    1\n",
       "2226    1\n",
       "2227    1\n",
       "2228    0\n",
       "2229    1\n",
       "2230    1\n",
       "2231    0\n",
       "Name: flag5, dtype: int64"
      ]
     },
     "execution_count": 3,
     "metadata": {},
     "output_type": "execute_result"
    }
   ],
   "source": [
    "df.loc[:,'flag5']=1\n",
    "for i in df.index: \n",
    "\n",
    "    if type(df.loc[i,'location'])==type('str'):\n",
    "        df.loc[i,'flag5']=1\n",
    "        #print(df.location[i])\n",
    "    else:\n",
    "        df.loc[i,'flag5']=0\n",
    "df.flag5\n"
   ]
  },
  {
   "cell_type": "code",
   "execution_count": 4,
   "metadata": {
    "collapsed": false
   },
   "outputs": [
    {
     "data": {
      "text/html": [
       "<div>\n",
       "<table border=\"1\" class=\"dataframe\">\n",
       "  <thead>\n",
       "    <tr style=\"text-align: right;\">\n",
       "      <th></th>\n",
       "      <th>id</th>\n",
       "      <th>id_str</th>\n",
       "      <th>screen_name</th>\n",
       "      <th>location</th>\n",
       "      <th>description</th>\n",
       "      <th>url</th>\n",
       "      <th>followers_count</th>\n",
       "      <th>friends_count</th>\n",
       "      <th>listedcount</th>\n",
       "      <th>created_at</th>\n",
       "      <th>...</th>\n",
       "      <th>verified</th>\n",
       "      <th>statuses_count</th>\n",
       "      <th>lang</th>\n",
       "      <th>status</th>\n",
       "      <th>default_profile</th>\n",
       "      <th>default_profile_image</th>\n",
       "      <th>has_extended_profile</th>\n",
       "      <th>name</th>\n",
       "      <th>bot</th>\n",
       "      <th>flag5</th>\n",
       "    </tr>\n",
       "  </thead>\n",
       "  <tbody>\n",
       "    <tr>\n",
       "      <th>0</th>\n",
       "      <td>813286.0</td>\n",
       "      <td>813286</td>\n",
       "      <td>BarackObama</td>\n",
       "      <td>Washington, DC</td>\n",
       "      <td>Dad, husband, President, citizen.</td>\n",
       "      <td>https://t.co/93Y27HEnnX</td>\n",
       "      <td>85681083</td>\n",
       "      <td>630949</td>\n",
       "      <td>222411</td>\n",
       "      <td>Mon Mar 05 22:08:25 +0000 2007</td>\n",
       "      <td>...</td>\n",
       "      <td>True</td>\n",
       "      <td>15439</td>\n",
       "      <td>en</td>\n",
       "      <td>{u'contributors': None, u'truncated': True, u'...</td>\n",
       "      <td>False</td>\n",
       "      <td>False</td>\n",
       "      <td>True</td>\n",
       "      <td>Barack Obama</td>\n",
       "      <td>0</td>\n",
       "      <td>1</td>\n",
       "    </tr>\n",
       "    <tr>\n",
       "      <th>1</th>\n",
       "      <td>807095.0</td>\n",
       "      <td>807095</td>\n",
       "      <td>nytimes</td>\n",
       "      <td>New York City</td>\n",
       "      <td>Where the conversation begins. Follow for brea...</td>\n",
       "      <td>http://t.co/ahvuWqicF9</td>\n",
       "      <td>34363304</td>\n",
       "      <td>909</td>\n",
       "      <td>187570</td>\n",
       "      <td>03/02/2007 20:41</td>\n",
       "      <td>...</td>\n",
       "      <td>True</td>\n",
       "      <td>269878</td>\n",
       "      <td>en</td>\n",
       "      <td>Status(in_reply_to_user_id_str=None, source_ur...</td>\n",
       "      <td>False</td>\n",
       "      <td>False</td>\n",
       "      <td>False</td>\n",
       "      <td>The New York Times</td>\n",
       "      <td>0</td>\n",
       "      <td>1</td>\n",
       "    </tr>\n",
       "    <tr>\n",
       "      <th>2</th>\n",
       "      <td>21447363.0</td>\n",
       "      <td>21447363</td>\n",
       "      <td>katyperry</td>\n",
       "      <td>NaN</td>\n",
       "      <td>Artist. Activist. Conscious.</td>\n",
       "      <td>https://t.co/wwR7hvIqW0</td>\n",
       "      <td>96321564</td>\n",
       "      <td>203</td>\n",
       "      <td>142370</td>\n",
       "      <td>Fri Feb 20 23:45:56 +0000 2009</td>\n",
       "      <td>...</td>\n",
       "      <td>True</td>\n",
       "      <td>7837</td>\n",
       "      <td>en</td>\n",
       "      <td>{\"created_at\": \"Sat Mar 11 04:38:10 +0000 2017...</td>\n",
       "      <td>False</td>\n",
       "      <td>False</td>\n",
       "      <td>True</td>\n",
       "      <td>KATY PERRY</td>\n",
       "      <td>0</td>\n",
       "      <td>0</td>\n",
       "    </tr>\n",
       "    <tr>\n",
       "      <th>3</th>\n",
       "      <td>23375688.0</td>\n",
       "      <td>23375688</td>\n",
       "      <td>selenagomez</td>\n",
       "      <td>Los Angeles</td>\n",
       "      <td>Get 'It Ain't Me' with Kygo, out now on Apple ...</td>\n",
       "      <td>https://t.co/zP4EExvtte</td>\n",
       "      <td>46472564</td>\n",
       "      <td>1272</td>\n",
       "      <td>133825</td>\n",
       "      <td>Mon Mar 09 00:16:45 +0000 2009</td>\n",
       "      <td>...</td>\n",
       "      <td>True</td>\n",
       "      <td>4200</td>\n",
       "      <td>en</td>\n",
       "      <td>{u'contributors': None, u'truncated': False, u...</td>\n",
       "      <td>False</td>\n",
       "      <td>False</td>\n",
       "      <td>False</td>\n",
       "      <td>Selena Gomez</td>\n",
       "      <td>0</td>\n",
       "      <td>1</td>\n",
       "    </tr>\n",
       "    <tr>\n",
       "      <th>4</th>\n",
       "      <td>972651.0</td>\n",
       "      <td>972651</td>\n",
       "      <td>mashable</td>\n",
       "      <td>NaN</td>\n",
       "      <td>Mashable is for superfans. We're not for the c...</td>\n",
       "      <td>http://t.co/1Gm8aVACKn</td>\n",
       "      <td>8476840</td>\n",
       "      <td>2836</td>\n",
       "      <td>129832</td>\n",
       "      <td>Mon Mar 12 01:28:01 +0000 2007</td>\n",
       "      <td>...</td>\n",
       "      <td>True</td>\n",
       "      <td>227103</td>\n",
       "      <td>en</td>\n",
       "      <td>{u'contributors': None, u'truncated': False, u...</td>\n",
       "      <td>False</td>\n",
       "      <td>False</td>\n",
       "      <td>False</td>\n",
       "      <td>Mashable</td>\n",
       "      <td>0</td>\n",
       "      <td>0</td>\n",
       "    </tr>\n",
       "  </tbody>\n",
       "</table>\n",
       "<p>5 rows × 21 columns</p>\n",
       "</div>"
      ],
      "text/plain": [
       "           id    id_str  screen_name        location  \\\n",
       "0    813286.0    813286  BarackObama  Washington, DC   \n",
       "1    807095.0    807095      nytimes   New York City   \n",
       "2  21447363.0  21447363    katyperry             NaN   \n",
       "3  23375688.0  23375688  selenagomez    Los Angeles    \n",
       "4    972651.0    972651     mashable             NaN   \n",
       "\n",
       "                                         description                      url  \\\n",
       "0                  Dad, husband, President, citizen.  https://t.co/93Y27HEnnX   \n",
       "1  Where the conversation begins. Follow for brea...   http://t.co/ahvuWqicF9   \n",
       "2                       Artist. Activist. Conscious.  https://t.co/wwR7hvIqW0   \n",
       "3  Get 'It Ain't Me' with Kygo, out now on Apple ...  https://t.co/zP4EExvtte   \n",
       "4  Mashable is for superfans. We're not for the c...   http://t.co/1Gm8aVACKn   \n",
       "\n",
       "   followers_count  friends_count  listedcount  \\\n",
       "0         85681083         630949       222411   \n",
       "1         34363304            909       187570   \n",
       "2         96321564            203       142370   \n",
       "3         46472564           1272       133825   \n",
       "4          8476840           2836       129832   \n",
       "\n",
       "                       created_at  ...    verified statuses_count  lang  \\\n",
       "0  Mon Mar 05 22:08:25 +0000 2007  ...        True          15439    en   \n",
       "1                03/02/2007 20:41  ...        True         269878    en   \n",
       "2  Fri Feb 20 23:45:56 +0000 2009  ...        True           7837    en   \n",
       "3  Mon Mar 09 00:16:45 +0000 2009  ...        True           4200    en   \n",
       "4  Mon Mar 12 01:28:01 +0000 2007  ...        True         227103    en   \n",
       "\n",
       "                                              status default_profile  \\\n",
       "0  {u'contributors': None, u'truncated': True, u'...           False   \n",
       "1  Status(in_reply_to_user_id_str=None, source_ur...           False   \n",
       "2  {\"created_at\": \"Sat Mar 11 04:38:10 +0000 2017...           False   \n",
       "3  {u'contributors': None, u'truncated': False, u...           False   \n",
       "4  {u'contributors': None, u'truncated': False, u...           False   \n",
       "\n",
       "  default_profile_image has_extended_profile                name bot  flag5  \n",
       "0                 False                 True        Barack Obama   0      1  \n",
       "1                 False                False  The New York Times   0      1  \n",
       "2                 False                 True          KATY PERRY   0      0  \n",
       "3                 False                False        Selena Gomez   0      1  \n",
       "4                 False                False            Mashable   0      0  \n",
       "\n",
       "[5 rows x 21 columns]"
      ]
     },
     "execution_count": 4,
     "metadata": {},
     "output_type": "execute_result"
    }
   ],
   "source": [
    "df.head(5)"
   ]
  },
  {
   "cell_type": "code",
   "execution_count": 5,
   "metadata": {
    "collapsed": false
   },
   "outputs": [],
   "source": [
    "df.loc[:,'flag6']=1\n",
    "for i in df.index: \n",
    "\n",
    "    if 't.co' in str(df.loc[i,'url']):\n",
    "        df.loc[i,'flag6']=1\n",
    "        #print(df.location[i])\n",
    "    else:\n",
    "        df.loc[i,'flag6']=0"
   ]
  },
  {
   "cell_type": "code",
   "execution_count": 6,
   "metadata": {
    "collapsed": false
   },
   "outputs": [],
   "source": [
    "df.loc[:,'flag7']=1\n",
    "for i in df.index:\n",
    "    if df.loc[i,'followers_count']==0:\n",
    "        df.loc[i,'flag7']=1\n",
    "    elif 0<df.loc[i,'followers_count']<=2:\n",
    "        df.loc[i,'flag7']=2\n",
    "    elif 3<=df.loc[i,'followers_count']<=8:\n",
    "        df.loc[i,'flag7']=3\n",
    "    elif 9<=df.loc[i,'followers_count']<=16:\n",
    "        df.loc[i,'flag7']=4\n",
    "    elif 17<=df.loc[i,'followers_count']<=32:\n",
    "        df.loc[i,'flag7']=5\n",
    "    elif 33<=df.loc[i,'followers_count']<=50:\n",
    "        df.loc[i,'flag7']=6\n",
    "    elif 51<=df.loc[i,'followers_count']<=74:\n",
    "        df.loc[i,'flag7']=7\n",
    "    elif 75<=df.loc[i,'followers_count']<=104:\n",
    "        df.loc[i,'flag7']=8\n",
    "    elif 105<=df.loc[i,'followers_count']<=159:\n",
    "        df.loc[i,'flag7']=9\n",
    "    elif 160<=df.loc[i,'followers_count']<=219:\n",
    "        df.loc[i,'flag7']=10\n",
    "    elif 220<=df.loc[i,'followers_count']<=314:\n",
    "        df.loc[i,'flag7']=11\n",
    "    elif 315<=df.loc[i,'followers_count']<=475:\n",
    "        df.loc[i,'flag7']=12\n",
    "    elif 476<=df.loc[i,'followers_count']<=758:\n",
    "        df.loc[i,'flag7']=13\n",
    "    elif 759<=df.loc[i,'followers_count']<=1137:\n",
    "        df.loc[i,'flag7']=14\n",
    "    elif 1138<=df.loc[i,'followers_count']<=2740:\n",
    "        df.loc[i,'flag7']=15\n",
    "    elif 2741<=df.loc[i,'followers_count']<=5730:\n",
    "        df.loc[i,'flag7']=16\n",
    "    elif 5731<=df.loc[i,'followers_count']<=14732:\n",
    "        df.loc[i,'flag7']=17\n",
    "    elif 14733<=df.loc[i,'followers_count']<=54490:\n",
    "        df.loc[i,'flag7']=18\n",
    "    elif 54490<df.loc[i,'followers_count']:\n",
    "        df.loc[i,'flag7']=19"
   ]
  },
  {
   "cell_type": "code",
   "execution_count": 7,
   "metadata": {
    "collapsed": false
   },
   "outputs": [],
   "source": [
    "df.loc[:,'flag8']=1\n",
    "for i in df.index:\n",
    "    if df.loc[i,'friends_count']==0:\n",
    "        df.loc[i,'flag8']=1\n",
    "    elif df.loc[i,'friends_count']==1:\n",
    "        df.loc[i,'flag8']=2\n",
    "    elif 2<=df.loc[i,'friends_count']<=19:\n",
    "        df.loc[i,'flag8']=3\n",
    "    elif 20<=df.loc[i,'friends_count']<=55:\n",
    "        df.loc[i,'flag8']=4\n",
    "    elif 56<=df.loc[i,'friends_count']<=124:\n",
    "        df.loc[i,'flag8']=5\n",
    "    elif 125<=df.loc[i,'friends_count']<=242:\n",
    "        df.loc[i,'flag8']=6\n",
    "    elif 243<=df.loc[i,'friends_count']<=349:\n",
    "        df.loc[i,'flag8']=7\n",
    "    elif 350<=df.loc[i,'friends_count']<=572:\n",
    "        df.loc[i,'flag8']=8\n",
    "    elif 573<=df.loc[i,'friends_count']<=973:\n",
    "        df.loc[i,'flag8']=9\n",
    "    elif 974<=df.loc[i,'friends_count']<=2194:\n",
    "        df.loc[i,'flag8']=10\n",
    "    elif 2195<=df.loc[i,'friends_count']<=389732:\n",
    "        df.loc[i,'flag8']=11\n",
    "    elif 389732<df.loc[i,'friends_count']:\n",
    "        df.loc[i,'flag8']=12"
   ]
  },
  {
   "cell_type": "code",
   "execution_count": 8,
   "metadata": {
    "collapsed": false
   },
   "outputs": [],
   "source": [
    "df.loc[:,'flag9']=1\n",
    "for i in df.index:\n",
    "    if df.loc[i,'listedcount']==0:\n",
    "        df.loc[i,'flag9']=1\n",
    "    elif df.loc[i,'listedcount']>2495:\n",
    "        df.loc[i,'flag9']=2\n",
    "    elif 1<=df.loc[i,'listedcount']<=2:\n",
    "        df.loc[i,'flag9']=3\n",
    "    elif 3<=df.loc[i,'listedcount']<=12:\n",
    "        df.loc[i,'flag9']=4\n",
    "    elif 13<=df.loc[i,'listedcount']<=40:\n",
    "        df.loc[i,'flag9']=5\n",
    "    elif 41<=df.loc[i,'listedcount']<=200:\n",
    "        df.loc[i,'flag9']=6\n",
    "    elif 201<=df.loc[i,'listedcount']<=2495:\n",
    "        df.loc[i,'flag9']=7"
   ]
  },
  {
   "cell_type": "code",
   "execution_count": 9,
   "metadata": {
    "collapsed": false
   },
   "outputs": [],
   "source": [
    "df.loc[:,'flag10']=1\n",
    "for i in df.index:\n",
    "    if df.loc[i,'favourites_count']==0:\n",
    "        df.loc[i,'flag10']=1\n",
    "    elif 1<=df.loc[i,'favourites_count']<=10:\n",
    "        df.loc[i,'flag10']=2\n",
    "    elif 11<=df.loc[i,'favourites_count']<=20:\n",
    "        df.loc[i,'flag10']=3\n",
    "    elif 21<=df.loc[i,'favourites_count']<=30:\n",
    "        df.loc[i,'flag10']=4\n",
    "    elif 31<=df.loc[i,'favourites_count']<=40:\n",
    "        df.loc[i,'flag10']=5\n",
    "    elif 41<=df.loc[i,'favourites_count']<=50:\n",
    "        df.loc[i,'flag10']=6\n",
    "    elif 51<=df.loc[i,'favourites_count']<=60:\n",
    "        df.loc[i,'flag10']=7\n",
    "    elif 61<=df.loc[i,'favourites_count']<=70:\n",
    "        df.loc[i,'flag10']=8\n",
    "    elif 71<=df.loc[i,'favourites_count']<=80:\n",
    "        df.loc[i,'flag10']=9\n",
    "    elif 81<=df.loc[i,'favourites_count']<=90:\n",
    "        df.loc[i,'flag10']=10\n",
    "    elif 91<=df.loc[i,'favourites_count']<=100:\n",
    "        df.loc[i,'flag10']=11\n",
    "    elif 101<=df.loc[i,'favourites_count']<=200:\n",
    "        df.loc[i,'flag10']=12\n",
    "    elif 201<=df.loc[i,'favourites_count']<=500:\n",
    "        df.loc[i,'flag10']=13\n",
    "    elif 501<=df.loc[i,'favourites_count']<=1600:\n",
    "        df.loc[i,'flag10']=14\n",
    "    elif 1601<=df.loc[i,'favourites_count']:\n",
    "        df.loc[i,'flag10']=15"
   ]
  },
  {
   "cell_type": "code",
   "execution_count": 10,
   "metadata": {
    "collapsed": false
   },
   "outputs": [],
   "source": [
    "df.loc[:,'flag11']=1\n",
    "for i in df.index:\n",
    "    if df.loc[i,'statuses_count']==0:\n",
    "        df.loc[i,'flag10']=1\n",
    "    elif 1<=df.loc[i,'statuses_count']<=13:\n",
    "         df.loc[i,'flag10']=2\n",
    "    elif 14<=df.loc[i,'statuses_count']<=50:\n",
    "         df.loc[i,'flag10']=3\n",
    "    elif 51<=df.loc[i,'statuses_count']<=133:\n",
    "         df.loc[i,'flag10']=4\n",
    "    elif 134<=df.loc[i,'statuses_count']<=355:\n",
    "         df.loc[i,'flag10']=5\n",
    "    elif 356<=df.loc[i,'statuses_count']<=703:\n",
    "         df.loc[i,'flag10']=6\n",
    "    elif 704<=df.loc[i,'statuses_count']<=1439:\n",
    "         df.loc[i,'flag10']=7\n",
    "    elif 1440<=df.loc[i,'statuses_count']<=2358:\n",
    "         df.loc[i,'flag10']=8\n",
    "    elif 2359<=df.loc[i,'statuses_count']<=3621:\n",
    "         df.loc[i,'flag10']=9\n",
    "    elif 3622<=df.loc[i,'statuses_count']<=5250:\n",
    "         df.loc[i,'flag10']=10\n",
    "    elif 5251<=df.loc[i,'statuses_count']<=7837:\n",
    "         df.loc[i,'flag10']=11\n",
    "    elif 7838<=df.loc[i,'statuses_count']<=12150:\n",
    "         df.loc[i,'flag10']=12\n",
    "    elif 12151<=df.loc[i,'statuses_count']<=19498:\n",
    "         df.loc[i,'flag10']=13\n",
    "    elif 19499<=df.loc[i,'statuses_count']<=38950:\n",
    "         df.loc[i,'flag10']=14\n",
    "    elif 38951<=df.loc[i,'statuses_count']:\n",
    "         df.loc[i,'flag10']=15"
   ]
  },
  {
   "cell_type": "code",
   "execution_count": 11,
   "metadata": {
    "collapsed": false
   },
   "outputs": [
    {
     "data": {
      "text/html": [
       "<div>\n",
       "<table border=\"1\" class=\"dataframe\">\n",
       "  <thead>\n",
       "    <tr style=\"text-align: right;\">\n",
       "      <th></th>\n",
       "      <th>id</th>\n",
       "      <th>id_str</th>\n",
       "      <th>screen_name</th>\n",
       "      <th>location</th>\n",
       "      <th>description</th>\n",
       "      <th>url</th>\n",
       "      <th>followers_count</th>\n",
       "      <th>friends_count</th>\n",
       "      <th>listedcount</th>\n",
       "      <th>created_at</th>\n",
       "      <th>...</th>\n",
       "      <th>has_extended_profile</th>\n",
       "      <th>name</th>\n",
       "      <th>bot</th>\n",
       "      <th>flag5</th>\n",
       "      <th>flag6</th>\n",
       "      <th>flag7</th>\n",
       "      <th>flag8</th>\n",
       "      <th>flag9</th>\n",
       "      <th>flag10</th>\n",
       "      <th>flag11</th>\n",
       "    </tr>\n",
       "  </thead>\n",
       "  <tbody>\n",
       "    <tr>\n",
       "      <th>0</th>\n",
       "      <td>813286.0</td>\n",
       "      <td>813286</td>\n",
       "      <td>BarackObama</td>\n",
       "      <td>Washington, DC</td>\n",
       "      <td>Dad, husband, President, citizen.</td>\n",
       "      <td>https://t.co/93Y27HEnnX</td>\n",
       "      <td>85681083</td>\n",
       "      <td>630949</td>\n",
       "      <td>222411</td>\n",
       "      <td>Mon Mar 05 22:08:25 +0000 2007</td>\n",
       "      <td>...</td>\n",
       "      <td>True</td>\n",
       "      <td>Barack Obama</td>\n",
       "      <td>0</td>\n",
       "      <td>1</td>\n",
       "      <td>1</td>\n",
       "      <td>19</td>\n",
       "      <td>12</td>\n",
       "      <td>2</td>\n",
       "      <td>13</td>\n",
       "      <td>1</td>\n",
       "    </tr>\n",
       "    <tr>\n",
       "      <th>1</th>\n",
       "      <td>807095.0</td>\n",
       "      <td>807095</td>\n",
       "      <td>nytimes</td>\n",
       "      <td>New York City</td>\n",
       "      <td>Where the conversation begins. Follow for brea...</td>\n",
       "      <td>http://t.co/ahvuWqicF9</td>\n",
       "      <td>34363304</td>\n",
       "      <td>909</td>\n",
       "      <td>187570</td>\n",
       "      <td>03/02/2007 20:41</td>\n",
       "      <td>...</td>\n",
       "      <td>False</td>\n",
       "      <td>The New York Times</td>\n",
       "      <td>0</td>\n",
       "      <td>1</td>\n",
       "      <td>1</td>\n",
       "      <td>19</td>\n",
       "      <td>9</td>\n",
       "      <td>2</td>\n",
       "      <td>15</td>\n",
       "      <td>1</td>\n",
       "    </tr>\n",
       "    <tr>\n",
       "      <th>2</th>\n",
       "      <td>21447363.0</td>\n",
       "      <td>21447363</td>\n",
       "      <td>katyperry</td>\n",
       "      <td>NaN</td>\n",
       "      <td>Artist. Activist. Conscious.</td>\n",
       "      <td>https://t.co/wwR7hvIqW0</td>\n",
       "      <td>96321564</td>\n",
       "      <td>203</td>\n",
       "      <td>142370</td>\n",
       "      <td>Fri Feb 20 23:45:56 +0000 2009</td>\n",
       "      <td>...</td>\n",
       "      <td>True</td>\n",
       "      <td>KATY PERRY</td>\n",
       "      <td>0</td>\n",
       "      <td>0</td>\n",
       "      <td>1</td>\n",
       "      <td>19</td>\n",
       "      <td>6</td>\n",
       "      <td>2</td>\n",
       "      <td>11</td>\n",
       "      <td>1</td>\n",
       "    </tr>\n",
       "    <tr>\n",
       "      <th>3</th>\n",
       "      <td>23375688.0</td>\n",
       "      <td>23375688</td>\n",
       "      <td>selenagomez</td>\n",
       "      <td>Los Angeles</td>\n",
       "      <td>Get 'It Ain't Me' with Kygo, out now on Apple ...</td>\n",
       "      <td>https://t.co/zP4EExvtte</td>\n",
       "      <td>46472564</td>\n",
       "      <td>1272</td>\n",
       "      <td>133825</td>\n",
       "      <td>Mon Mar 09 00:16:45 +0000 2009</td>\n",
       "      <td>...</td>\n",
       "      <td>False</td>\n",
       "      <td>Selena Gomez</td>\n",
       "      <td>0</td>\n",
       "      <td>1</td>\n",
       "      <td>1</td>\n",
       "      <td>19</td>\n",
       "      <td>10</td>\n",
       "      <td>2</td>\n",
       "      <td>10</td>\n",
       "      <td>1</td>\n",
       "    </tr>\n",
       "    <tr>\n",
       "      <th>4</th>\n",
       "      <td>972651.0</td>\n",
       "      <td>972651</td>\n",
       "      <td>mashable</td>\n",
       "      <td>NaN</td>\n",
       "      <td>Mashable is for superfans. We're not for the c...</td>\n",
       "      <td>http://t.co/1Gm8aVACKn</td>\n",
       "      <td>8476840</td>\n",
       "      <td>2836</td>\n",
       "      <td>129832</td>\n",
       "      <td>Mon Mar 12 01:28:01 +0000 2007</td>\n",
       "      <td>...</td>\n",
       "      <td>False</td>\n",
       "      <td>Mashable</td>\n",
       "      <td>0</td>\n",
       "      <td>0</td>\n",
       "      <td>1</td>\n",
       "      <td>19</td>\n",
       "      <td>11</td>\n",
       "      <td>2</td>\n",
       "      <td>15</td>\n",
       "      <td>1</td>\n",
       "    </tr>\n",
       "  </tbody>\n",
       "</table>\n",
       "<p>5 rows × 27 columns</p>\n",
       "</div>"
      ],
      "text/plain": [
       "           id    id_str  screen_name        location  \\\n",
       "0    813286.0    813286  BarackObama  Washington, DC   \n",
       "1    807095.0    807095      nytimes   New York City   \n",
       "2  21447363.0  21447363    katyperry             NaN   \n",
       "3  23375688.0  23375688  selenagomez    Los Angeles    \n",
       "4    972651.0    972651     mashable             NaN   \n",
       "\n",
       "                                         description                      url  \\\n",
       "0                  Dad, husband, President, citizen.  https://t.co/93Y27HEnnX   \n",
       "1  Where the conversation begins. Follow for brea...   http://t.co/ahvuWqicF9   \n",
       "2                       Artist. Activist. Conscious.  https://t.co/wwR7hvIqW0   \n",
       "3  Get 'It Ain't Me' with Kygo, out now on Apple ...  https://t.co/zP4EExvtte   \n",
       "4  Mashable is for superfans. We're not for the c...   http://t.co/1Gm8aVACKn   \n",
       "\n",
       "   followers_count  friends_count  listedcount  \\\n",
       "0         85681083         630949       222411   \n",
       "1         34363304            909       187570   \n",
       "2         96321564            203       142370   \n",
       "3         46472564           1272       133825   \n",
       "4          8476840           2836       129832   \n",
       "\n",
       "                       created_at   ...    has_extended_profile  \\\n",
       "0  Mon Mar 05 22:08:25 +0000 2007   ...                    True   \n",
       "1                03/02/2007 20:41   ...                   False   \n",
       "2  Fri Feb 20 23:45:56 +0000 2009   ...                    True   \n",
       "3  Mon Mar 09 00:16:45 +0000 2009   ...                   False   \n",
       "4  Mon Mar 12 01:28:01 +0000 2007   ...                   False   \n",
       "\n",
       "                 name  bot flag5 flag6 flag7 flag8 flag9 flag10  flag11  \n",
       "0        Barack Obama    0     1     1    19    12     2     13       1  \n",
       "1  The New York Times    0     1     1    19     9     2     15       1  \n",
       "2          KATY PERRY    0     0     1    19     6     2     11       1  \n",
       "3        Selena Gomez    0     1     1    19    10     2     10       1  \n",
       "4            Mashable    0     0     1    19    11     2     15       1  \n",
       "\n",
       "[5 rows x 27 columns]"
      ]
     },
     "execution_count": 11,
     "metadata": {},
     "output_type": "execute_result"
    }
   ],
   "source": [
    "df.head(5)"
   ]
  },
  {
   "cell_type": "code",
   "execution_count": 12,
   "metadata": {
    "collapsed": false
   },
   "outputs": [],
   "source": [
    "df.loc[:,'flag0']=1\n",
    "for i in df.index:\n",
    "    if type(df.description[i])!=type('str'):\n",
    "        df.loc[i,'flag0']= 'null'\n",
    "    else:\n",
    "        df.loc[i,'flag0']=df.description[i]\n"
   ]
  },
  {
   "cell_type": "code",
   "execution_count": 13,
   "metadata": {
    "collapsed": false
   },
   "outputs": [
    {
     "name": "stderr",
     "output_type": "stream",
     "text": [
      "/anaconda/lib/python3.6/site-packages/sklearn/cross_validation.py:44: DeprecationWarning: This module was deprecated in version 0.18 in favor of the model_selection module into which all the refactored classes and functions are moved. Also note that the interface of the new CV iterators are different from that of this module. This module will be removed in 0.20.\n",
      "  \"This module will be removed in 0.20.\", DeprecationWarning)\n"
     ]
    },
    {
     "data": {
      "text/plain": [
       "(1674, 6268)"
      ]
     },
     "execution_count": 13,
     "metadata": {},
     "output_type": "execute_result"
    }
   ],
   "source": [
    "\n",
    "# define X and y\n",
    "X = df.flag0\n",
    "y = df.bot\n",
    "\n",
    "# split X and y into training and testing sets\n",
    "from sklearn.cross_validation import train_test_split\n",
    "X_train, X_test, y_train, y_test = train_test_split(X, y, random_state=1)\n",
    "\n",
    "# import and instantiate CountVectorizer\n",
    "from sklearn.feature_extraction.text import CountVectorizer\n",
    "vect = CountVectorizer()\n",
    "\n",
    "# fit and transform X_train into X_train_dtm\n",
    "X_train_dtm = vect.fit_transform(X_train)\n",
    "X_train_dtm.shape\n"
   ]
  },
  {
   "cell_type": "code",
   "execution_count": 14,
   "metadata": {
    "collapsed": false
   },
   "outputs": [
    {
     "data": {
      "text/plain": [
       "(558, 6268)"
      ]
     },
     "execution_count": 14,
     "metadata": {},
     "output_type": "execute_result"
    }
   ],
   "source": [
    "\n",
    "# transform X_test into X_test_dtm\n",
    "X_test_dtm = vect.transform(X_test)\n",
    "X_test_dtm.shape\n"
   ]
  },
  {
   "cell_type": "code",
   "execution_count": 15,
   "metadata": {
    "collapsed": true
   },
   "outputs": [],
   "source": [
    "\n",
    "# import and instantiate MultinomialNB\n",
    "from sklearn.naive_bayes import MultinomialNB\n",
    "nb = MultinomialNB()\n"
   ]
  },
  {
   "cell_type": "code",
   "execution_count": 16,
   "metadata": {
    "collapsed": false
   },
   "outputs": [
    {
     "data": {
      "text/plain": [
       "MultinomialNB(alpha=1.0, class_prior=None, fit_prior=True)"
      ]
     },
     "execution_count": 16,
     "metadata": {},
     "output_type": "execute_result"
    }
   ],
   "source": [
    "\n",
    "# train the model using X_train_dtm\n",
    "nb.fit(X_train_dtm, y_train)\n"
   ]
  },
  {
   "cell_type": "code",
   "execution_count": 17,
   "metadata": {
    "collapsed": false
   },
   "outputs": [
    {
     "data": {
      "text/plain": [
       "(558,)"
      ]
     },
     "execution_count": 17,
     "metadata": {},
     "output_type": "execute_result"
    }
   ],
   "source": [
    "\n",
    "# make class predictions for X_test_dtm\n",
    "y_pred_class = nb.predict(X_test_dtm)\n",
    "y_pred_class.shape"
   ]
  },
  {
   "cell_type": "code",
   "execution_count": 18,
   "metadata": {
    "collapsed": false
   },
   "outputs": [
    {
     "data": {
      "text/plain": [
       "0.76523297491039421"
      ]
     },
     "execution_count": 18,
     "metadata": {},
     "output_type": "execute_result"
    }
   ],
   "source": [
    "from sklearn import metrics\n",
    "metrics.accuracy_score(y_test, y_pred_class)"
   ]
  },
  {
   "cell_type": "code",
   "execution_count": 19,
   "metadata": {
    "collapsed": false
   },
   "outputs": [
    {
     "data": {
      "text/plain": [
       "array([[245,  49],\n",
       "       [ 82, 182]])"
      ]
     },
     "execution_count": 19,
     "metadata": {},
     "output_type": "execute_result"
    }
   ],
   "source": [
    "\n",
    "# print the confusion matrix\n",
    "metrics.confusion_matrix(y_test, y_pred_class)"
   ]
  },
  {
   "cell_type": "code",
   "execution_count": 20,
   "metadata": {
    "collapsed": true
   },
   "outputs": [],
   "source": [
    "df_bot = pd.read_csv('bots_data.csv',encoding = \"ISO-8859-1\")\n",
    "import matplotlib\n",
    "import matplotlib.pyplot as plt\n",
    "%matplotlib inline"
   ]
  },
  {
   "cell_type": "code",
   "execution_count": 27,
   "metadata": {
    "collapsed": false
   },
   "outputs": [],
   "source": [
    "xstr = 'bot followers_count'\n",
    "x = np.array(df_bot['followers_count'])\n",
    "y = np.array(df_bot['friends_count'])"
   ]
  },
  {
   "cell_type": "code",
   "execution_count": 28,
   "metadata": {
    "collapsed": false
   },
   "outputs": [
    {
     "data": {
      "image/png": "[encoded data removed]",
      "text/plain": [
       "<matplotlib.figure.Figure at 0x118562860>"
      ]
     },
     "metadata": {},
     "output_type": "display_data"
    }
   ],
   "source": [
    "plt.plot(x,y,'o')\n",
    "plt.xlabel(xstr)\n",
    "plt.ylabel('bot friends_count')\n",
    "plt.grid(True)"
   ]
  },
  {
   "cell_type": "code",
   "execution_count": 29,
   "metadata": {
    "collapsed": false
   },
   "outputs": [
    {
     "data": {
      "image/png": "[encoded data removed]",
      "text/plain": [
       "<matplotlib.figure.Figure at 0x1188126a0>"
      ]
     },
     "metadata": {},
     "output_type": "display_data"
    }
   ],
   "source": [
    "df_nbot = pd.read_csv('nonbots_data.csv',encoding = \"ISO-8859-1\")\n",
    "xstr = 'nonbot followers_count'\n",
    "x = np.array(df_nbot['followers_count'])\n",
    "y = np.array(df_nbot['friends_count'])\n",
    "plt.plot(x,y,'o')\n",
    "plt.xlabel(xstr)\n",
    "plt.ylabel('nonbot friends_count')\n",
    "plt.grid(True)"
   ]
  },
  {
   "cell_type": "code",
   "execution_count": 30,
   "metadata": {
    "collapsed": false
   },
   "outputs": [
    {
     "data": {
      "image/png": "[encoded data removed]",
      "text/plain": [
       "<matplotlib.figure.Figure at 0x118661898>"
      ]
     },
     "metadata": {},
     "output_type": "display_data"
    }
   ],
   "source": [
    "xstr = 'nonbot listedcount'\n",
    "x = np.array(df_nbot['listedcount'])\n",
    "y = np.array(df_nbot['friends_count'])\n",
    "plt.plot(x,y,'o')\n",
    "plt.xlabel(xstr)\n",
    "plt.ylabel('nonbot friends_count')\n",
    "plt.grid(True)"
   ]
  },
  {
   "cell_type": "code",
   "execution_count": 31,
   "metadata": {
    "collapsed": false
   },
   "outputs": [
    {
     "data": {
      "image/png": "[encoded data removed]",
      "text/plain": [
       "<matplotlib.figure.Figure at 0x111ec4b70>"
      ]
     },
     "metadata": {},
     "output_type": "display_data"
    }
   ],
   "source": [
    "xstr = 'bot listedcount'\n",
    "x = np.array(df_bot['listedcount'])\n",
    "y = np.array(df_bot['friends_count'])\n",
    "plt.plot(x,y,'o')\n",
    "plt.xlabel(xstr)\n",
    "plt.ylabel('bot friends_count')\n",
    "plt.grid(True)"
   ]
  },
  {
   "cell_type": "code",
   "execution_count": null,
   "metadata": {
    "collapsed": true
   },
   "outputs": [],
   "source": []
  }
 ],
 "metadata": {
  "kernelspec": {
   "display_name": "Python 3",
   "language": "python",
   "name": "python3"
  },
  "language_info": {
   "codemirror_mode": {
    "name": "ipython",
    "version": 3
   },
   "file_extension": ".py",
   "mimetype": "text/x-python",
   "name": "python",
   "nbconvert_exporter": "python",
   "pygments_lexer": "ipython3",
   "version": "3.6.0"
  }
 },
 "nbformat": 4,
 "nbformat_minor": 2
}
