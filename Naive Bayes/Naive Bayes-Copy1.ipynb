{
 "cells": [
  {
   "cell_type": "code",
   "execution_count": 1,
   "metadata": {
    "collapsed": false,
    "deletable": true,
    "editable": true
   },
   "outputs": [
    {
     "name": "stdout",
     "output_type": "stream",
     "text": [
      "(2232, 20)\n"
     ]
    }
   ],
   "source": [
    "import pandas as pd\n",
    "import numpy as np\n",
    "\n",
    "df = pd.read_csv('all.csv',encoding = \"ISO-8859-1\")\n",
    "df.head(4)\n",
    "print(df.shape)"
   ]
  },
  {
   "cell_type": "markdown",
   "metadata": {
    "deletable": true,
    "editable": true
   },
   "source": [
    "### ConutVector"
   ]
  },
  {
   "cell_type": "code",
   "execution_count": 2,
   "metadata": {
    "collapsed": false,
    "deletable": true,
    "editable": true
   },
   "outputs": [
    {
     "data": {
      "text/plain": [
       "(2232, 7744)"
      ]
     },
     "execution_count": 2,
     "metadata": {},
     "output_type": "execute_result"
    }
   ],
   "source": [
    "from sklearn.feature_extraction.text import CountVectorizer\n",
    "count_vect = CountVectorizer()\n",
    "des1 = count_vect.fit_transform(df.description.values.astype('U'))\n",
    "lang1 = count_vect.fit_transform(df.lang.values.astype('U'))\n",
    "name1 = count_vect.fit_transform(df.name.values.astype('U'))\n",
    "des1.shape"
   ]
  },
  {
   "cell_type": "markdown",
   "metadata": {
    "deletable": true,
    "editable": true
   },
   "source": [
    "### TrueFalse Vector"
   ]
  },
  {
   "cell_type": "code",
   "execution_count": 3,
   "metadata": {
    "collapsed": false,
    "deletable": true,
    "editable": true
   },
   "outputs": [],
   "source": [
    "df.loc[:,'flag1'] = 1\n",
    "for i in df.index:    \n",
    "    if df.loc[i,'default_profile'] :\n",
    "        df.loc[i,'flag1'] = 1\n",
    "    else:\n",
    "        df.loc[i,'flag1'] = 0"
   ]
  },
  {
   "cell_type": "code",
   "execution_count": 4,
   "metadata": {
    "collapsed": true,
    "deletable": true,
    "editable": true
   },
   "outputs": [],
   "source": [
    "df.loc[:,'flag2'] = 1\n",
    "for i in df.index:    \n",
    "    if df.loc[i,'has_extended_profile'] :\n",
    "        df.loc[i,'flag2'] = 1\n",
    "    else:\n",
    "        df.loc[i,'flag2'] = 0"
   ]
  },
  {
   "cell_type": "code",
   "execution_count": 5,
   "metadata": {
    "collapsed": true,
    "deletable": true,
    "editable": true
   },
   "outputs": [],
   "source": [
    "df.loc[:,'flag3'] = 1\n",
    "for i in df.index:    \n",
    "    if df.loc[i,'default_profile_image'] :\n",
    "        df.loc[i,'flag3'] = 1\n",
    "    else:\n",
    "        df.loc[i,'flag3'] = 0"
   ]
  },
  {
   "cell_type": "code",
   "execution_count": 6,
   "metadata": {
    "collapsed": true,
    "deletable": true,
    "editable": true
   },
   "outputs": [],
   "source": [
    "df.loc[:,'flag4'] = 1\n",
    "for i in df.index:    \n",
    "    if df.loc[i,'verified'] :\n",
    "        df.loc[i,'flag4'] = 1\n",
    "    else:\n",
    "        df.loc[i,'flag4'] = 0"
   ]
  },
  {
   "cell_type": "markdown",
   "metadata": {
    "deletable": true,
    "editable": true
   },
   "source": [
    "### Number Vector"
   ]
  },
  {
   "cell_type": "code",
   "execution_count": 7,
   "metadata": {
    "collapsed": false,
    "deletable": true,
    "editable": true
   },
   "outputs": [],
   "source": [
    "df.loc[:,'flag5']=1\n",
    "for i in df.index: \n",
    "\n",
    "    if type(df.loc[i,'location'])==type('str'):\n",
    "        df.loc[i,'flag5']=1\n",
    "        #print(df.location[i])\n",
    "    else:\n",
    "        df.loc[i,'flag5']=0"
   ]
  },
  {
   "cell_type": "code",
   "execution_count": 8,
   "metadata": {
    "collapsed": false,
    "deletable": true,
    "editable": true
   },
   "outputs": [],
   "source": [
    "df.loc[:,'flag6']=1\n",
    "for i in df.index: \n",
    "\n",
    "    if 't.co' in str(df.loc[i,'url']):\n",
    "        df.loc[i,'flag6']=1\n",
    "        #print(df.location[i])\n",
    "    else:\n",
    "        df.loc[i,'flag6']=0"
   ]
  },
  {
   "cell_type": "code",
   "execution_count": 9,
   "metadata": {
    "collapsed": false,
    "deletable": true,
    "editable": true
   },
   "outputs": [],
   "source": [
    "df.loc[:,'flag7']=1\n",
    "for i in df.index:\n",
    "    if df.loc[i,'followers_count']==0:\n",
    "        df.loc[i,'flag7']=1\n",
    "    elif 0<df.loc[i,'followers_count']<=2:\n",
    "        df.loc[i,'flag7']=2\n",
    "    elif 3<=df.loc[i,'followers_count']<=8:\n",
    "        df.loc[i,'flag7']=3\n",
    "    elif 9<=df.loc[i,'followers_count']<=16:\n",
    "        df.loc[i,'flag7']=4\n",
    "    elif 17<=df.loc[i,'followers_count']<=32:\n",
    "        df.loc[i,'flag7']=5\n",
    "    elif 33<=df.loc[i,'followers_count']<=50:\n",
    "        df.loc[i,'flag7']=6\n",
    "    elif 51<=df.loc[i,'followers_count']<=74:\n",
    "        df.loc[i,'flag7']=7\n",
    "    elif 75<=df.loc[i,'followers_count']<=104:\n",
    "        df.loc[i,'flag7']=8\n",
    "    elif 105<=df.loc[i,'followers_count']<=159:\n",
    "        df.loc[i,'flag7']=9\n",
    "    elif 160<=df.loc[i,'followers_count']<=219:\n",
    "        df.loc[i,'flag7']=10\n",
    "    elif 220<=df.loc[i,'followers_count']<=314:\n",
    "        df.loc[i,'flag7']=11\n",
    "    elif 315<=df.loc[i,'followers_count']<=475:\n",
    "        df.loc[i,'flag7']=12\n",
    "    elif 476<=df.loc[i,'followers_count']<=758:\n",
    "        df.loc[i,'flag7']=13\n",
    "    elif 759<=df.loc[i,'followers_count']<=1137:\n",
    "        df.loc[i,'flag7']=14\n",
    "    elif 1138<=df.loc[i,'followers_count']<=2740:\n",
    "        df.loc[i,'flag7']=15\n",
    "    elif 2741<=df.loc[i,'followers_count']<=5730:\n",
    "        df.loc[i,'flag7']=16\n",
    "    elif 5731<=df.loc[i,'followers_count']<=14732:\n",
    "        df.loc[i,'flag7']=17\n",
    "    elif 14733<=df.loc[i,'followers_count']<=54490:\n",
    "        df.loc[i,'flag7']=18\n",
    "    elif 54490<df.loc[i,'followers_count']:\n",
    "        df.loc[i,'flag7']=19"
   ]
  },
  {
   "cell_type": "code",
   "execution_count": 10,
   "metadata": {
    "collapsed": false,
    "deletable": true,
    "editable": true
   },
   "outputs": [],
   "source": [
    "df.loc[:,'flag8']=1\n",
    "for i in df.index:\n",
    "    if df.loc[i,'friends_count']==0:\n",
    "        df.loc[i,'flag8']=1\n",
    "    elif df.loc[i,'friends_count']==1:\n",
    "        df.loc[i,'flag8']=2\n",
    "    elif 2<=df.loc[i,'friends_count']<=19:\n",
    "        df.loc[i,'flag8']=3\n",
    "    elif 20<=df.loc[i,'friends_count']<=55:\n",
    "        df.loc[i,'flag8']=4\n",
    "    elif 56<=df.loc[i,'friends_count']<=124:\n",
    "        df.loc[i,'flag8']=5\n",
    "    elif 125<=df.loc[i,'friends_count']<=242:\n",
    "        df.loc[i,'flag8']=6\n",
    "    elif 243<=df.loc[i,'friends_count']<=349:\n",
    "        df.loc[i,'flag8']=7\n",
    "    elif 350<=df.loc[i,'friends_count']<=572:\n",
    "        df.loc[i,'flag8']=8\n",
    "    elif 573<=df.loc[i,'friends_count']<=973:\n",
    "        df.loc[i,'flag8']=9\n",
    "    elif 974<=df.loc[i,'friends_count']<=2194:\n",
    "        df.loc[i,'flag8']=10\n",
    "    elif 2195<=df.loc[i,'friends_count']<=389732:\n",
    "        df.loc[i,'flag8']=11\n",
    "    elif 389732<df.loc[i,'friends_count']:\n",
    "        df.loc[i,'flag8']=12"
   ]
  },
  {
   "cell_type": "code",
   "execution_count": 11,
   "metadata": {
    "collapsed": false,
    "deletable": true,
    "editable": true
   },
   "outputs": [],
   "source": [
    "df.loc[:,'flag9']=1\n",
    "for i in df.index:\n",
    "    if df.loc[i,'listedcount']==0:\n",
    "        df.loc[i,'flag9']=1\n",
    "    elif df.loc[i,'listedcount']>2495:\n",
    "        df.loc[i,'flag9']=2\n",
    "    elif 1<=df.loc[i,'listedcount']<=2:\n",
    "        df.loc[i,'flag9']=3\n",
    "    elif 3<=df.loc[i,'listedcount']<=12:\n",
    "        df.loc[i,'flag9']=4\n",
    "    elif 13<=df.loc[i,'listedcount']<=40:\n",
    "        df.loc[i,'flag9']=5\n",
    "    elif 41<=df.loc[ i,'listedcount']<=200:\n",
    "        df.loc[i,'flag9']=6\n",
    "    elif 201<=df.loc[i,'listedcount']<=2495:\n",
    "        df.loc[i,'flag9']=7"
   ]
  },
  {
   "cell_type": "code",
   "execution_count": 12,
   "metadata": {
    "collapsed": false,
    "deletable": true,
    "editable": true
   },
   "outputs": [],
   "source": [
    "df.loc[:,'flag10']=1\n",
    "for i in df.index:\n",
    "    if df.loc[i,'favourites_count']==0:\n",
    "        df.loc[i,'flag10']=1\n",
    "    elif 1<=df.loc[i,'favourites_count']<=10:\n",
    "        df.loc[i,'flag10']=2\n",
    "    elif 11<=df.loc[i,'favourites_count']<=20:\n",
    "        df.loc[i,'flag10']=3\n",
    "    elif 21<=df.loc[i,'favourites_count']<=30:\n",
    "        df.loc[i,'flag10']=4\n",
    "    elif 31<=df.loc[i,'favourites_count']<=40:\n",
    "        df.loc[i,'flag10']=5\n",
    "    elif 41<=df.loc[i,'favourites_count']<=50:\n",
    "        df.loc[i,'flag10']=6\n",
    "    elif 51<=df.loc[i,'favourites_count']<=60:\n",
    "        df.loc[i,'flag10']=7\n",
    "    elif 61<=df.loc[i,'favourites_count']<=70:\n",
    "        df.loc[i,'flag10']=8\n",
    "    elif 71<=df.loc[i,'favourites_count']<=80:\n",
    "        df.loc[i,'flag10']=9\n",
    "    elif 81<=df.loc[i,'favourites_count']<=90:\n",
    "        df.loc[i,'flag10']=10\n",
    "    elif 91<=df.loc[i,'favourites_count']<=100:\n",
    "        df.loc[i,'flag10']=11\n",
    "    elif 101<=df.loc[i,'favourites_count']<=200:\n",
    "        df.loc[i,'flag10']=12\n",
    "    elif 201<=df.loc[i,'favourites_count']<=500:\n",
    "        df.loc[i,'flag10']=13\n",
    "    elif 501<=df.loc[i,'favourites_count']<=1600:\n",
    "        df.loc[i,'flag10']=14\n",
    "    elif 1601<=df.loc[i,'favourites_count']:\n",
    "        df.loc[i,'flag10']=15"
   ]
  },
  {
   "cell_type": "code",
   "execution_count": null,
   "metadata": {
    "collapsed": true,
    "deletable": true,
    "editable": true
   },
   "outputs": [],
   "source": []
  },
  {
   "cell_type": "code",
   "execution_count": 13,
   "metadata": {
    "collapsed": false,
    "deletable": true,
    "editable": true
   },
   "outputs": [],
   "source": [
    "df.loc[:,'flag11']=1\n",
    "for i in df.index:\n",
    "    if df.loc[i,'statuses_count']==0:\n",
    "        df.loc[i,'flag10']=1\n",
    "    elif 1<=df.loc[i,'statuses_count']<=13:\n",
    "         df.loc[i,'flag10']=2\n",
    "    elif 14<=df.loc[i,'statuses_count']<=50:\n",
    "         df.loc[i,'flag10']=3\n",
    "    elif 51<=df.loc[i,'statuses_count']<=133:\n",
    "         df.loc[i,'flag10']=4\n",
    "    elif 134<=df.loc[i,'statuses_count']<=355:\n",
    "         df.loc[i,'flag10']=5\n",
    "    elif 356<=df.loc[i,'statuses_count']<=703:\n",
    "         df.loc[i,'flag10']=6\n",
    "    elif 704<=df.loc[i,'statuses_count']<=1439:\n",
    "         df.loc[i,'flag10']=7\n",
    "    elif 1440<=df.loc[i,'statuses_count']<=2358:\n",
    "         df.loc[i,'flag10']=8\n",
    "    elif 2359<=df.loc[i,'statuses_count']<=3621:\n",
    "         df.loc[i,'flag10']=9\n",
    "    elif 3622<=df.loc[i,'statuses_count']<=5250:\n",
    "         df.loc[i,'flag10']=10\n",
    "    elif 5251<=df.loc[i,'statuses_count']<=7837:\n",
    "         df.loc[i,'flag10']=11\n",
    "    elif 7838<=df.loc[i,'statuses_count']<=12150:\n",
    "         df.loc[i,'flag10']=12\n",
    "    elif 12151<=df.loc[i,'statuses_count']<=19498:\n",
    "         df.loc[i,'flag10']=13\n",
    "    elif 19499<=df.loc[i,'statuses_count']<=38950:\n",
    "         df.loc[i,'flag10']=14\n",
    "    elif 38951<=df.loc[i,'statuses_count']:\n",
    "         df.loc[i,'flag10']=15"
   ]
  },
  {
   "cell_type": "code",
   "execution_count": 14,
   "metadata": {
    "collapsed": false,
    "deletable": true,
    "editable": true
   },
   "outputs": [
    {
     "data": {
      "text/html": [
       "<div>\n",
       "<table border=\"1\" class=\"dataframe\">\n",
       "  <thead>\n",
       "    <tr style=\"text-align: right;\">\n",
       "      <th></th>\n",
       "      <th>id</th>\n",
       "      <th>id_str</th>\n",
       "      <th>screen_name</th>\n",
       "      <th>location</th>\n",
       "      <th>description</th>\n",
       "      <th>url</th>\n",
       "      <th>followers_count</th>\n",
       "      <th>friends_count</th>\n",
       "      <th>listedcount</th>\n",
       "      <th>created_at</th>\n",
       "      <th>...</th>\n",
       "      <th>flag2</th>\n",
       "      <th>flag3</th>\n",
       "      <th>flag4</th>\n",
       "      <th>flag5</th>\n",
       "      <th>flag6</th>\n",
       "      <th>flag7</th>\n",
       "      <th>flag8</th>\n",
       "      <th>flag9</th>\n",
       "      <th>flag10</th>\n",
       "      <th>flag11</th>\n",
       "    </tr>\n",
       "  </thead>\n",
       "  <tbody>\n",
       "    <tr>\n",
       "      <th>0</th>\n",
       "      <td>813286.0</td>\n",
       "      <td>813286</td>\n",
       "      <td>BarackObama</td>\n",
       "      <td>Washington, DC</td>\n",
       "      <td>Dad, husband, President, citizen.</td>\n",
       "      <td>https://t.co/93Y27HEnnX</td>\n",
       "      <td>85681083</td>\n",
       "      <td>630949</td>\n",
       "      <td>222411</td>\n",
       "      <td>Mon Mar 05 22:08:25 +0000 2007</td>\n",
       "      <td>...</td>\n",
       "      <td>1</td>\n",
       "      <td>0</td>\n",
       "      <td>1</td>\n",
       "      <td>1</td>\n",
       "      <td>1</td>\n",
       "      <td>19</td>\n",
       "      <td>12</td>\n",
       "      <td>2</td>\n",
       "      <td>13</td>\n",
       "      <td>1</td>\n",
       "    </tr>\n",
       "    <tr>\n",
       "      <th>1</th>\n",
       "      <td>807095.0</td>\n",
       "      <td>807095</td>\n",
       "      <td>nytimes</td>\n",
       "      <td>New York City</td>\n",
       "      <td>Where the conversation begins. Follow for brea...</td>\n",
       "      <td>http://t.co/ahvuWqicF9</td>\n",
       "      <td>34363304</td>\n",
       "      <td>909</td>\n",
       "      <td>187570</td>\n",
       "      <td>03/02/2007 20:41</td>\n",
       "      <td>...</td>\n",
       "      <td>0</td>\n",
       "      <td>0</td>\n",
       "      <td>1</td>\n",
       "      <td>1</td>\n",
       "      <td>1</td>\n",
       "      <td>19</td>\n",
       "      <td>9</td>\n",
       "      <td>2</td>\n",
       "      <td>15</td>\n",
       "      <td>1</td>\n",
       "    </tr>\n",
       "    <tr>\n",
       "      <th>2</th>\n",
       "      <td>21447363.0</td>\n",
       "      <td>21447363</td>\n",
       "      <td>katyperry</td>\n",
       "      <td>NaN</td>\n",
       "      <td>Artist. Activist. Conscious.</td>\n",
       "      <td>https://t.co/wwR7hvIqW0</td>\n",
       "      <td>96321564</td>\n",
       "      <td>203</td>\n",
       "      <td>142370</td>\n",
       "      <td>Fri Feb 20 23:45:56 +0000 2009</td>\n",
       "      <td>...</td>\n",
       "      <td>1</td>\n",
       "      <td>0</td>\n",
       "      <td>1</td>\n",
       "      <td>0</td>\n",
       "      <td>1</td>\n",
       "      <td>19</td>\n",
       "      <td>6</td>\n",
       "      <td>2</td>\n",
       "      <td>11</td>\n",
       "      <td>1</td>\n",
       "    </tr>\n",
       "    <tr>\n",
       "      <th>3</th>\n",
       "      <td>23375688.0</td>\n",
       "      <td>23375688</td>\n",
       "      <td>selenagomez</td>\n",
       "      <td>Los Angeles</td>\n",
       "      <td>Get 'It Ain't Me' with Kygo, out now on Apple ...</td>\n",
       "      <td>https://t.co/zP4EExvtte</td>\n",
       "      <td>46472564</td>\n",
       "      <td>1272</td>\n",
       "      <td>133825</td>\n",
       "      <td>Mon Mar 09 00:16:45 +0000 2009</td>\n",
       "      <td>...</td>\n",
       "      <td>0</td>\n",
       "      <td>0</td>\n",
       "      <td>1</td>\n",
       "      <td>1</td>\n",
       "      <td>1</td>\n",
       "      <td>19</td>\n",
       "      <td>10</td>\n",
       "      <td>2</td>\n",
       "      <td>10</td>\n",
       "      <td>1</td>\n",
       "    </tr>\n",
       "    <tr>\n",
       "      <th>4</th>\n",
       "      <td>972651.0</td>\n",
       "      <td>972651</td>\n",
       "      <td>mashable</td>\n",
       "      <td>NaN</td>\n",
       "      <td>Mashable is for superfans. We're not for the c...</td>\n",
       "      <td>http://t.co/1Gm8aVACKn</td>\n",
       "      <td>8476840</td>\n",
       "      <td>2836</td>\n",
       "      <td>129832</td>\n",
       "      <td>Mon Mar 12 01:28:01 +0000 2007</td>\n",
       "      <td>...</td>\n",
       "      <td>0</td>\n",
       "      <td>0</td>\n",
       "      <td>1</td>\n",
       "      <td>0</td>\n",
       "      <td>1</td>\n",
       "      <td>19</td>\n",
       "      <td>11</td>\n",
       "      <td>2</td>\n",
       "      <td>15</td>\n",
       "      <td>1</td>\n",
       "    </tr>\n",
       "    <tr>\n",
       "      <th>5</th>\n",
       "      <td>5402612.0</td>\n",
       "      <td>5402612</td>\n",
       "      <td>BBCBreaking</td>\n",
       "      <td>London, UK</td>\n",
       "      <td>Breaking news alerts and updates from the BBC....</td>\n",
       "      <td>http://t.co/vBzl7LOaso</td>\n",
       "      <td>30220786</td>\n",
       "      <td>3</td>\n",
       "      <td>126490</td>\n",
       "      <td>4/22/2007 14:42</td>\n",
       "      <td>...</td>\n",
       "      <td>0</td>\n",
       "      <td>0</td>\n",
       "      <td>1</td>\n",
       "      <td>1</td>\n",
       "      <td>1</td>\n",
       "      <td>19</td>\n",
       "      <td>3</td>\n",
       "      <td>2</td>\n",
       "      <td>14</td>\n",
       "      <td>1</td>\n",
       "    </tr>\n",
       "    <tr>\n",
       "      <th>6</th>\n",
       "      <td>16409683.0</td>\n",
       "      <td>16409683</td>\n",
       "      <td>britneyspears</td>\n",
       "      <td>Los Angeles, CA</td>\n",
       "      <td>My new album #Glory is out now!</td>\n",
       "      <td>https://t.co/edKVeKuEaP</td>\n",
       "      <td>51314111</td>\n",
       "      <td>392225</td>\n",
       "      <td>123643</td>\n",
       "      <td>Mon Sep 22 20:47:35 +0000 2008</td>\n",
       "      <td>...</td>\n",
       "      <td>0</td>\n",
       "      <td>0</td>\n",
       "      <td>1</td>\n",
       "      <td>1</td>\n",
       "      <td>1</td>\n",
       "      <td>19</td>\n",
       "      <td>12</td>\n",
       "      <td>2</td>\n",
       "      <td>10</td>\n",
       "      <td>1</td>\n",
       "    </tr>\n",
       "    <tr>\n",
       "      <th>7</th>\n",
       "      <td>17919972.0</td>\n",
       "      <td>17919972</td>\n",
       "      <td>taylorswift13</td>\n",
       "      <td>NaN</td>\n",
       "      <td>Born in 1989.</td>\n",
       "      <td>https://t.co/blhi4NNEJr</td>\n",
       "      <td>83720371</td>\n",
       "      <td>244</td>\n",
       "      <td>122731</td>\n",
       "      <td>Sat Dec 06 10:10:54 +0000 2008</td>\n",
       "      <td>...</td>\n",
       "      <td>0</td>\n",
       "      <td>0</td>\n",
       "      <td>1</td>\n",
       "      <td>0</td>\n",
       "      <td>1</td>\n",
       "      <td>19</td>\n",
       "      <td>7</td>\n",
       "      <td>2</td>\n",
       "      <td>10</td>\n",
       "      <td>1</td>\n",
       "    </tr>\n",
       "    <tr>\n",
       "      <th>8</th>\n",
       "      <td>816653.0</td>\n",
       "      <td>816653</td>\n",
       "      <td>TechCrunch</td>\n",
       "      <td>San Francisco, CA</td>\n",
       "      <td>Breaking technology news, analysis, and opinio...</td>\n",
       "      <td>https://t.co/b5Oyx12qGG</td>\n",
       "      <td>8530951</td>\n",
       "      <td>890</td>\n",
       "      <td>108650</td>\n",
       "      <td>03/07/2007 1:27</td>\n",
       "      <td>...</td>\n",
       "      <td>0</td>\n",
       "      <td>0</td>\n",
       "      <td>1</td>\n",
       "      <td>1</td>\n",
       "      <td>1</td>\n",
       "      <td>19</td>\n",
       "      <td>9</td>\n",
       "      <td>2</td>\n",
       "      <td>15</td>\n",
       "      <td>1</td>\n",
       "    </tr>\n",
       "    <tr>\n",
       "      <th>9</th>\n",
       "      <td>19397785.0</td>\n",
       "      <td>19397785</td>\n",
       "      <td>Oprah</td>\n",
       "      <td>NaN</td>\n",
       "      <td>NaN</td>\n",
       "      <td>https://t.co/IKOnfAha8E</td>\n",
       "      <td>35916070</td>\n",
       "      <td>277</td>\n",
       "      <td>90152</td>\n",
       "      <td>Fri Jan 23 15:18:34 +0000 2009</td>\n",
       "      <td>...</td>\n",
       "      <td>0</td>\n",
       "      <td>0</td>\n",
       "      <td>1</td>\n",
       "      <td>0</td>\n",
       "      <td>1</td>\n",
       "      <td>19</td>\n",
       "      <td>7</td>\n",
       "      <td>2</td>\n",
       "      <td>12</td>\n",
       "      <td>1</td>\n",
       "    </tr>\n",
       "  </tbody>\n",
       "</table>\n",
       "<p>10 rows × 31 columns</p>\n",
       "</div>"
      ],
      "text/plain": [
       "           id    id_str    screen_name           location  \\\n",
       "0    813286.0    813286    BarackObama     Washington, DC   \n",
       "1    807095.0    807095        nytimes      New York City   \n",
       "2  21447363.0  21447363      katyperry                NaN   \n",
       "3  23375688.0  23375688    selenagomez       Los Angeles    \n",
       "4    972651.0    972651       mashable                NaN   \n",
       "5   5402612.0   5402612    BBCBreaking         London, UK   \n",
       "6  16409683.0  16409683  britneyspears    Los Angeles, CA   \n",
       "7  17919972.0  17919972  taylorswift13                NaN   \n",
       "8    816653.0    816653     TechCrunch  San Francisco, CA   \n",
       "9  19397785.0  19397785          Oprah                NaN   \n",
       "\n",
       "                                         description                      url  \\\n",
       "0                  Dad, husband, President, citizen.  https://t.co/93Y27HEnnX   \n",
       "1  Where the conversation begins. Follow for brea...   http://t.co/ahvuWqicF9   \n",
       "2                       Artist. Activist. Conscious.  https://t.co/wwR7hvIqW0   \n",
       "3  Get 'It Ain't Me' with Kygo, out now on Apple ...  https://t.co/zP4EExvtte   \n",
       "4  Mashable is for superfans. We're not for the c...   http://t.co/1Gm8aVACKn   \n",
       "5  Breaking news alerts and updates from the BBC....   http://t.co/vBzl7LOaso   \n",
       "6                    My new album #Glory is out now!  https://t.co/edKVeKuEaP   \n",
       "7                                      Born in 1989.  https://t.co/blhi4NNEJr   \n",
       "8  Breaking technology news, analysis, and opinio...  https://t.co/b5Oyx12qGG   \n",
       "9                                                NaN  https://t.co/IKOnfAha8E   \n",
       "\n",
       "   followers_count  friends_count  listedcount  \\\n",
       "0         85681083         630949       222411   \n",
       "1         34363304            909       187570   \n",
       "2         96321564            203       142370   \n",
       "3         46472564           1272       133825   \n",
       "4          8476840           2836       129832   \n",
       "5         30220786              3       126490   \n",
       "6         51314111         392225       123643   \n",
       "7         83720371            244       122731   \n",
       "8          8530951            890       108650   \n",
       "9         35916070            277        90152   \n",
       "\n",
       "                       created_at   ...    flag2 flag3  flag4 flag5 flag6  \\\n",
       "0  Mon Mar 05 22:08:25 +0000 2007   ...        1     0      1     1     1   \n",
       "1                03/02/2007 20:41   ...        0     0      1     1     1   \n",
       "2  Fri Feb 20 23:45:56 +0000 2009   ...        1     0      1     0     1   \n",
       "3  Mon Mar 09 00:16:45 +0000 2009   ...        0     0      1     1     1   \n",
       "4  Mon Mar 12 01:28:01 +0000 2007   ...        0     0      1     0     1   \n",
       "5                 4/22/2007 14:42   ...        0     0      1     1     1   \n",
       "6  Mon Sep 22 20:47:35 +0000 2008   ...        0     0      1     1     1   \n",
       "7  Sat Dec 06 10:10:54 +0000 2008   ...        0     0      1     0     1   \n",
       "8                 03/07/2007 1:27   ...        0     0      1     1     1   \n",
       "9  Fri Jan 23 15:18:34 +0000 2009   ...        0     0      1     0     1   \n",
       "\n",
       "  flag7 flag8 flag9 flag10  flag11  \n",
       "0    19    12     2     13       1  \n",
       "1    19     9     2     15       1  \n",
       "2    19     6     2     11       1  \n",
       "3    19    10     2     10       1  \n",
       "4    19    11     2     15       1  \n",
       "5    19     3     2     14       1  \n",
       "6    19    12     2     10       1  \n",
       "7    19     7     2     10       1  \n",
       "8    19     9     2     15       1  \n",
       "9    19     7     2     12       1  \n",
       "\n",
       "[10 rows x 31 columns]"
      ]
     },
     "execution_count": 14,
     "metadata": {},
     "output_type": "execute_result"
    }
   ],
   "source": [
    "df.head(10)"
   ]
  },
  {
   "cell_type": "markdown",
   "metadata": {
    "deletable": true,
    "editable": true
   },
   "source": [
    "### Combination"
   ]
  },
  {
   "cell_type": "code",
   "execution_count": 15,
   "metadata": {
    "collapsed": false,
    "deletable": true,
    "editable": true
   },
   "outputs": [
    {
     "data": {
      "text/plain": [
       "scipy.sparse.csr.csr_matrix"
      ]
     },
     "execution_count": 15,
     "metadata": {},
     "output_type": "execute_result"
    }
   ],
   "source": [
    "type(des1)"
   ]
  },
  {
   "cell_type": "code",
   "execution_count": 16,
   "metadata": {
    "collapsed": false,
    "deletable": true,
    "editable": true
   },
   "outputs": [
    {
     "data": {
      "text/plain": [
       "(2232, 10955)"
      ]
     },
     "execution_count": 16,
     "metadata": {},
     "output_type": "execute_result"
    }
   ],
   "source": [
    "import scipy.sparse as sp\n",
    "h = sp.hstack((des1,lang1))\n",
    "h = sp.hstack((h,name1))\n",
    "h.shape"
   ]
  },
  {
   "cell_type": "code",
   "execution_count": 17,
   "metadata": {
    "collapsed": false,
    "deletable": true,
    "editable": true
   },
   "outputs": [
    {
     "data": {
      "text/plain": [
       "numpy.matrixlib.defmatrix.matrix"
      ]
     },
     "execution_count": 17,
     "metadata": {},
     "output_type": "execute_result"
    }
   ],
   "source": [
    "flag19 = np.matrix(df[['flag1','flag2','flag3','flag4','flag5','flag6','flag7','flag8','flag9','flag10',]])\n",
    "type(flag19)"
   ]
  },
  {
   "cell_type": "code",
   "execution_count": 18,
   "metadata": {
    "collapsed": true,
    "deletable": true,
    "editable": true
   },
   "outputs": [],
   "source": [
    "f = [None] * 11\n",
    "f[1] = np.matrix(df.flag1).transpose()\n",
    "f[2] = np.matrix(df.flag2).transpose()\n",
    "f[3] = np.matrix(df.flag3).transpose()\n",
    "f[4] = np.matrix(df.flag4).transpose()\n",
    "f[5] = np.matrix(df.flag5).transpose()\n",
    "f[6] = np.matrix(df.flag6).transpose()\n",
    "f[7] = np.matrix(df.flag7).transpose()\n",
    "f[8] = np.matrix(df.flag8).transpose()\n",
    "f[9] = np.matrix(df.flag9).transpose()\n",
    "f[10] = np.matrix(df.flag10).transpose()\n",
    "f[0] = np.matrix(df.flag11).transpose()"
   ]
  },
  {
   "cell_type": "code",
   "execution_count": 19,
   "metadata": {
    "collapsed": false,
    "deletable": true,
    "editable": true
   },
   "outputs": [],
   "source": [
    "g = h\n",
    "for i in range(10):\n",
    "    g = sp.hstack((g, f[i]))"
   ]
  },
  {
   "cell_type": "code",
   "execution_count": 20,
   "metadata": {
    "collapsed": false,
    "deletable": true,
    "editable": true
   },
   "outputs": [
    {
     "data": {
      "text/plain": [
       "<2232x10965 sparse matrix of type '<class 'numpy.int64'>'\n",
       "\twith 43357 stored elements in COOrdinate format>"
      ]
     },
     "execution_count": 20,
     "metadata": {},
     "output_type": "execute_result"
    }
   ],
   "source": [
    "g"
   ]
  },
  {
   "cell_type": "markdown",
   "metadata": {
    "deletable": true,
    "editable": true
   },
   "source": [
    "### Classification"
   ]
  },
  {
   "cell_type": "code",
   "execution_count": 21,
   "metadata": {
    "collapsed": false,
    "deletable": true,
    "editable": true
   },
   "outputs": [
    {
     "name": "stdout",
     "output_type": "stream",
     "text": [
      "cmean accuracy = 0.8276\n",
      "mean precision = 0.8654\n",
      "mean recall = 0.7493\n",
      "mean f1 score = 0.7958\n",
      "mean AUC = 0.8876\n"
     ]
    }
   ],
   "source": [
    "from sklearn.model_selection import cross_val_predict\n",
    "from sklearn.naive_bayes import MultinomialNB,BernoulliNB\n",
    "from sklearn.linear_model import LogisticRegression\n",
    "from sklearn.feature_extraction.text import CountVectorizer\n",
    "from sklearn.model_selection import cross_val_score\n",
    "import numpy as np\n",
    "train_list = g\n",
    "target_list = df.bot\n",
    "accuracy = cross_val_score(MultinomialNB(alpha=0.1,fit_prior=True, class_prior=[10,10]), train_list, target_list, cv=10, scoring='accuracy')\n",
    "precision = cross_val_score(MultinomialNB(alpha=0.1), train_list, target_list, cv=10, scoring='precision')\n",
    "recall = cross_val_score(MultinomialNB(alpha=0.1), train_list, target_list, cv=10, scoring='recall')\n",
    "f1 = cross_val_score(MultinomialNB(alpha=0.1), train_list, target_list, cv=10, scoring='f1')\n",
    "roc_auc = cross_val_score(MultinomialNB(alpha=0.1), train_list, target_list, cv=10, scoring='roc_auc')\n",
    "print (\"cmean accuracy = %6.4f\"%np.mean(accuracy))\n",
    "print (\"mean precision = %6.4f\"%np.mean(precision))\n",
    "print (\"mean recall = %6.4f\"%np.mean(recall))\n",
    "print (\"mean f1 score = %6.4f\"%np.mean(f1))\n",
    "print (\"mean AUC = %6.4f\"%np.mean(roc_auc))"
   ]
  },
  {
   "cell_type": "markdown",
   "metadata": {
    "deletable": true,
    "editable": true
   },
   "source": [
    "### BackUp"
   ]
  },
  {
   "cell_type": "code",
   "execution_count": 31,
   "metadata": {
    "collapsed": true,
    "deletable": true,
    "editable": true
   },
   "outputs": [],
   "source": [
    "from sklearn.naive_bayes import MultinomialNB\n",
    "MultinomialMB_clf = MultinomialNB().fit(des1, df.bot)"
   ]
  },
  {
   "cell_type": "code",
   "execution_count": 32,
   "metadata": {
    "collapsed": false,
    "deletable": true,
    "editable": true
   },
   "outputs": [
    {
     "name": "stdout",
     "output_type": "stream",
     "text": [
      "[[85681083]\n",
      " [34363304]\n",
      " [96321564]\n",
      " ..., \n",
      " [       4]\n",
      " [      23]\n",
      " [     101]]\n"
     ]
    },
    {
     "ename": "NameError",
     "evalue": "name 'X_train_counts' is not defined",
     "output_type": "error",
     "traceback": [
      "\u001b[0;31m---------------------------------------------------------------------------\u001b[0m",
      "\u001b[0;31mNameError\u001b[0m                                 Traceback (most recent call last)",
      "\u001b[0;32m<ipython-input-32-6eb9a1fa1909>\u001b[0m in \u001b[0;36m<module>\u001b[0;34m()\u001b[0m\n\u001b[1;32m      3\u001b[0m \u001b[0mx2\u001b[0m \u001b[0;34m=\u001b[0m \u001b[0mnp\u001b[0m\u001b[0;34m.\u001b[0m\u001b[0mmatrix\u001b[0m\u001b[0;34m(\u001b[0m\u001b[0mx2\u001b[0m\u001b[0;34m)\u001b[0m\u001b[0;34m.\u001b[0m\u001b[0mtranspose\u001b[0m\u001b[0;34m(\u001b[0m\u001b[0;34m)\u001b[0m\u001b[0;34m\u001b[0m\u001b[0m\n\u001b[1;32m      4\u001b[0m \u001b[0mprint\u001b[0m\u001b[0;34m(\u001b[0m\u001b[0mx2\u001b[0m\u001b[0;34m)\u001b[0m\u001b[0;34m\u001b[0m\u001b[0m\n\u001b[0;32m----> 5\u001b[0;31m \u001b[0mxx\u001b[0m \u001b[0;34m=\u001b[0m \u001b[0mX_train_counts\u001b[0m\u001b[0;34m\u001b[0m\u001b[0m\n\u001b[0m\u001b[1;32m      6\u001b[0m \u001b[0mprint\u001b[0m \u001b[0;34m(\u001b[0m\u001b[0mtype\u001b[0m\u001b[0;34m(\u001b[0m\u001b[0mx1\u001b[0m\u001b[0;34m)\u001b[0m\u001b[0;34m)\u001b[0m\u001b[0;34m\u001b[0m\u001b[0m\n\u001b[1;32m      7\u001b[0m \u001b[0mprint\u001b[0m \u001b[0;34m(\u001b[0m\u001b[0mtype\u001b[0m\u001b[0;34m(\u001b[0m\u001b[0mx2\u001b[0m\u001b[0;34m)\u001b[0m\u001b[0;34m)\u001b[0m\u001b[0;34m\u001b[0m\u001b[0m\n",
      "\u001b[0;31mNameError\u001b[0m: name 'X_train_counts' is not defined"
     ]
    }
   ],
   "source": [
    "x1 = df.followers_count.tolist()\n",
    "x2 = [x1]\n",
    "x2 = np.matrix(x2).transpose()\n",
    "print(x2)\n",
    "xx = X_train_counts\n",
    "print (type(x1))\n",
    "print (type(x2))\n",
    "print (type(xx))\n",
    "#np.concatenate((xx,x1),axis = 1)\n",
    "import scipy.sparse as sp\n",
    "h = sp.hstack((xx, x2))\n",
    "h.shape\n",
    "print(type(df.followers_count.values))\n",
    "print(type(df.followers_count.values))"
   ]
  },
  {
   "cell_type": "code",
   "execution_count": 74,
   "metadata": {
    "collapsed": false,
    "deletable": true,
    "editable": true
   },
   "outputs": [
    {
     "data": {
      "text/plain": [
       "array([[0, 0, 0, 1, 1, 1, 0, 1, 0, 0, 1, 0, 1, 1, 0, 1, 1, 0, 0, 0, 0, 0,\n",
       "        0, 1, 0, 1, 1, 0, 1, 0, 0, 1, 0, 1, 0, 0, 1, 0, 0, 0, 1, 1, 0, 1,\n",
       "        0, 1, 1, 1, 1, 1, 1, 1, 1, 1, 1, 1, 1, 0, 1, 1, 0, 1, 1, 0, 0, 1,\n",
       "        0, 0, 0, 1, 1, 1, 1, 0, 0, 1, 1, 0, 0, 0, 0, 0, 0, 0, 1, 1, 0, 1,\n",
       "        0, 0, 1, 0, 1, 1, 0, 0, 0, 0, 0, 0],\n",
       "       [1, 0, 1, 1, 0, 1, 1, 0, 1, 1, 0, 0, 0, 0, 0, 1, 0, 1, 0, 0, 0, 0,\n",
       "        1, 1, 1, 1, 0, 0, 0, 0, 1, 0, 0, 1, 0, 1, 0, 0, 0, 1, 1, 1, 1, 1,\n",
       "        1, 1, 1, 0, 1, 0, 0, 1, 0, 1, 0, 0, 0, 1, 1, 1, 0, 1, 1, 1, 0, 1,\n",
       "        1, 0, 1, 0, 1, 0, 1, 0, 1, 1, 0, 1, 1, 1, 0, 1, 0, 0, 0, 1, 0, 0,\n",
       "        1, 1, 0, 0, 0, 0, 1, 0, 0, 0, 1, 0],\n",
       "       [1, 0, 1, 0, 0, 1, 0, 1, 0, 1, 0, 1, 0, 1, 0, 1, 0, 0, 0, 1, 1, 0,\n",
       "        1, 0, 1, 1, 0, 0, 1, 1, 0, 1, 1, 1, 1, 0, 1, 1, 0, 1, 1, 1, 1, 1,\n",
       "        1, 0, 1, 0, 1, 1, 0, 1, 1, 0, 1, 0, 1, 0, 0, 1, 0, 1, 0, 0, 0, 0,\n",
       "        1, 0, 0, 0, 0, 0, 0, 1, 1, 0, 1, 0, 0, 0, 0, 1, 0, 0, 0, 0, 1, 1,\n",
       "        1, 1, 1, 1, 0, 0, 1, 0, 0, 0, 0, 0],\n",
       "       [1, 1, 0, 1, 0, 0, 0, 0, 0, 1, 1, 1, 0, 1, 1, 0, 1, 0, 1, 1, 0, 1,\n",
       "        1, 1, 1, 0, 1, 0, 1, 0, 0, 1, 0, 1, 1, 1, 0, 0, 0, 1, 0, 1, 1, 0,\n",
       "        1, 0, 1, 1, 0, 0, 0, 1, 1, 0, 1, 1, 1, 1, 0, 1, 1, 1, 0, 1, 1, 1,\n",
       "        1, 1, 0, 1, 0, 1, 0, 0, 1, 1, 0, 1, 1, 1, 1, 1, 1, 1, 1, 1, 0, 1,\n",
       "        0, 0, 1, 0, 0, 0, 1, 0, 0, 0, 1, 1],\n",
       "       [1, 0, 1, 0, 1, 1, 0, 0, 1, 1, 0, 1, 1, 0, 1, 1, 1, 0, 0, 1, 0, 0,\n",
       "        1, 1, 1, 0, 0, 0, 1, 0, 1, 1, 1, 1, 0, 1, 0, 1, 0, 0, 0, 0, 0, 0,\n",
       "        0, 0, 0, 1, 1, 1, 1, 0, 1, 0, 0, 1, 0, 1, 1, 0, 0, 1, 0, 0, 1, 1,\n",
       "        1, 0, 1, 1, 0, 0, 1, 0, 1, 0, 0, 0, 1, 1, 0, 0, 1, 0, 1, 0, 0, 0,\n",
       "        1, 1, 0, 1, 0, 0, 1, 1, 0, 0, 1, 0],\n",
       "       [0, 0, 1, 1, 1, 1, 1, 1, 0, 1, 0, 0, 1, 1, 1, 0, 1, 1, 0, 0, 0, 1,\n",
       "        1, 1, 1, 0, 0, 1, 1, 1, 0, 0, 0, 1, 1, 0, 1, 1, 1, 0, 0, 0, 1, 1,\n",
       "        1, 0, 0, 0, 1, 0, 0, 0, 0, 1, 1, 0, 1, 0, 0, 1, 0, 1, 1, 1, 1, 0,\n",
       "        1, 1, 0, 0, 0, 1, 1, 0, 0, 1, 1, 0, 1, 1, 0, 1, 1, 1, 0, 0, 1, 1,\n",
       "        0, 0, 1, 0, 0, 0, 1, 0, 0, 1, 0, 1]])"
      ]
     },
     "execution_count": 74,
     "metadata": {},
     "output_type": "execute_result"
    }
   ],
   "source": [
    "np.random.randint(2, size=(6, 100))"
   ]
  },
  {
   "cell_type": "code",
   "execution_count": 75,
   "metadata": {
    "collapsed": true,
    "deletable": true,
    "editable": true
   },
   "outputs": [],
   "source": [
    "s= '\"abc\"'"
   ]
  },
  {
   "cell_type": "code",
   "execution_count": 77,
   "metadata": {
    "collapsed": false,
    "deletable": true,
    "editable": true
   },
   "outputs": [
    {
     "data": {
      "text/plain": [
       "'abc'"
      ]
     },
     "execution_count": 77,
     "metadata": {},
     "output_type": "execute_result"
    }
   ],
   "source": [
    "s.strip('\"')"
   ]
  },
  {
   "cell_type": "code",
   "execution_count": null,
   "metadata": {
    "collapsed": true,
    "deletable": true,
    "editable": true
   },
   "outputs": [],
   "source": []
  }
 ],
 "metadata": {
  "anaconda-cloud": {},
  "kernelspec": {
   "display_name": "Python [default]",
   "language": "python",
   "name": "python3"
  },
  "language_info": {
   "codemirror_mode": {
    "name": "ipython",
    "version": 3
   },
   "file_extension": ".py",
   "mimetype": "text/x-python",
   "name": "python",
   "nbconvert_exporter": "python",
   "pygments_lexer": "ipython3",
   "version": "3.5.2"
  }
 },
 "nbformat": 4,
 "nbformat_minor": 2
}
