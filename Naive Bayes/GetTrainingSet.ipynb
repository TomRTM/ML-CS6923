{
 "cells": [
  {
   "cell_type": "code",
   "execution_count": 1,
   "metadata": {
    "collapsed": false
   },
   "outputs": [],
   "source": [
    "import tweepy\n",
    "import csv\n",
    "from tweepy import OAuthHandler\n",
    "from tweepy import Stream\n",
    "#from shapely.geometry import Polygon\n",
    "import pandas as pd\n",
    "import numpy as np\n",
    "\n",
    "\n",
    "access_token='711280829754957824-C9G1QZ59Ukg8aC7fC71RahXKrkaJwhs'\n",
    "access_token_secret='SzJw81cTi69Ek9ZFAGgcQCIqpcKsXENxXOcUXYRiuYj1h'\n",
    "consumer_key='FULJuYkzUUQPGBktEpleo1faG'\n",
    "consumer_secret='LCeH1iDc0W2X4Qjh7Oiz3fqxqkT2yknk4uIO3zwUHudWcoUydY'\n",
    "auth = OAuthHandler(consumer_key, consumer_secret)\n",
    "auth.set_access_token(access_token, access_token_secret)\n",
    "\n",
    "api=tweepy.API(auth)"
   ]
  },
  {
   "cell_type": "code",
   "execution_count": 2,
   "metadata": {
    "collapsed": true
   },
   "outputs": [],
   "source": [
    "import botornot\n",
    "consumer_key = 'MZ8fXiLq1KhxO11UwAbjW99cm'\n",
    "consumer_secret = 'Dn50Md2gWlbVxybHAKgI1Knob71ugiF7Q7gIJClN33M1GYySCj'\n",
    "access_token = '52647948-xnlwpbETyFNX0JmEcdrsB7FLI42fTimAbyXK1xgOM'\n",
    "access_secret = 'xiYL3QEpPmNmbR0AhqphvS2s2Tyf0V0FOOcpKRb92d4kL'\n",
    "\n",
    "auth = tweepy.OAuthHandler(consumer_key, consumer_secret)\n",
    "auth.set_access_token(access_token, access_secret)\n",
    "api = tweepy.API(auth)\n",
    "\n",
    "\n",
    "twitter_app_auth = {\n",
    "  'consumer_key': 'MZ8fXiLq1KhxO11UwAbjW99cm',\n",
    "  'consumer_secret': 'Dn50Md2gWlbVxybHAKgI1Knob71ugiF7Q7gIJClN33M1GYySCj',\n",
    "  'access_token': '52647948-xnlwpbETyFNX0JmEcdrsB7FLI42fTimAbyXK1xgOM',\n",
    "  'access_token_secret': 'xiYL3QEpPmNmbR0AhqphvS2s2Tyf0V0FOOcpKRb92d4kL',\n",
    "}\n",
    "bon = botornot.BotOrNot(**twitter_app_auth)"
   ]
  },
  {
   "cell_type": "code",
   "execution_count": 3,
   "metadata": {
    "collapsed": false,
    "scrolled": true
   },
   "outputs": [
    {
     "data": {
      "text/plain": [
       "array(['\"1lovetakes2\"', '\"1pRsHsia8WbmoD7\"', '\"3461holley\"',\n",
       "       '\"alertmessages\"', '\"AnayaJarrett\"', '\"Attack_On_Tita4\"',\n",
       "       '\"AutoFollowPeeps\"', '\"b2a6813979744ac\"', '\"BTCMaster\"',\n",
       "       '\"CambsPokeAlert\"', '\"Circaenergy\"', '\"ComicBookTalks\"',\n",
       "       '\"DigitalSkyz\"', '\"DuniaOnePiece\"', '\"ERIKSGT\"', '\"FtWorthPokes\"',\n",
       "       '\"Gravity_Ireland\"', '\"HendersonPkmon\"', '\"HorizHealthShop\"',\n",
       "       '\"IndyPokeAlertDT\"', '\"IndyPokeAlertNE\"', '\"ishnobop\"',\n",
       "       '\"lenirvana666\"', '\"letsgovelo\"', '\"MelPogoMap\"', '\"Mzredd2K16\"',\n",
       "       '\"Naruto__bot\"', '\"NarutoFans_Indo\"', '\"NMBPoGoAlert\"',\n",
       "       '\"nycpokemap\"', '\"one_piece_meige\"', '\"PmapAarhus\"', '\"PoGoCV\"',\n",
       "       '\"PoGoSanteeCA\"', '\"POGOSouthCoast\"', '\"PokeAlertMalmo\"',\n",
       "       '\"pokemon_sokuho\"', '\"rrsarq\"', '\"RunnersKaskus\"',\n",
       "       '\"SaintSeiya4Ever\"', '\"SendNudes1099\"', '\"SGPokemon\"',\n",
       "       '\"ShropshirePulse\"', '\"SlideSource\"', '\"SydneyPogoMap\"',\n",
       "       '\"TravelTacticsUK\"', '\"TwitterMovies\"', '\"westlife1219\"'], dtype=object)"
      ]
     },
     "execution_count": 3,
     "metadata": {},
     "output_type": "execute_result"
    }
   ],
   "source": [
    "df = pd.read_csv('bots3 tobe cleaned.csv',encoding = \"ISO-8859-1\")\n",
    "df.head(4)\n",
    "#print(df.shape)\n",
    "user_name=np.array(df.screen_name)\n",
    "user_name_small = user_name\n",
    "user_name_small"
   ]
  },
  {
   "cell_type": "code",
   "execution_count": 4,
   "metadata": {
    "collapsed": false
   },
   "outputs": [
    {
     "name": "stdout",
     "output_type": "stream",
     "text": [
      "1\n",
      "1\n",
      "1lovetakes2\n",
      "2\n",
      "2\n",
      "1pRsHsia8WbmoD7\n",
      "3\n",
      "3\n",
      "3461holley\n",
      "4\n",
      "4\n",
      "alertmessages\n",
      "5\n",
      "5\n",
      "AnayaJarrett\n",
      "6\n",
      "6\n",
      "Attack_On_Tita4\n",
      "7\n",
      "7\n",
      "AutoFollowPeeps\n",
      "8\n",
      "8\n",
      "b2a6813979744ac\n",
      "9\n",
      "9\n",
      "BTCMaster\n",
      "10\n",
      "10\n",
      "CambsPokeAlert\n",
      "11\n",
      "11\n",
      "Circaenergy\n",
      "12\n",
      "12\n",
      "ComicBookTalks\n",
      "13\n",
      "13\n",
      "DigitalSkyz\n",
      "14\n",
      "14\n",
      "DuniaOnePiece\n",
      "15\n",
      "15\n",
      "ERIKSGT\n",
      "16\n",
      "16\n",
      "FtWorthPokes\n",
      "17\n",
      "17\n",
      "Gravity_Ireland\n",
      "18\n",
      "18\n",
      "HendersonPkmon\n",
      "19\n",
      "19\n",
      "HorizHealthShop\n",
      "20\n",
      "20\n",
      "IndyPokeAlertDT\n",
      "21\n",
      "21\n",
      "IndyPokeAlertNE\n",
      "22\n",
      "22\n",
      "ishnobop\n",
      "23\n",
      "23\n",
      "lenirvana666\n",
      "24\n",
      "24\n",
      "letsgovelo\n",
      "25\n",
      "25\n",
      "MelPogoMap\n",
      "26\n",
      "26\n",
      "Mzredd2K16\n",
      "27\n",
      "27\n",
      "Naruto__bot\n",
      "28\n",
      "28\n",
      "NarutoFans_Indo\n",
      "29\n",
      "29\n",
      "NMBPoGoAlert\n",
      "30\n",
      "30\n",
      "nycpokemap\n",
      "31\n",
      "31\n",
      "one_piece_meige\n",
      "32\n",
      "32\n",
      "PmapAarhus\n",
      "33\n",
      "33\n",
      "PoGoCV\n",
      "34\n",
      "34\n",
      "PoGoSanteeCA\n",
      "35\n",
      "35\n",
      "POGOSouthCoast\n",
      "36\n",
      "36\n",
      "PokeAlertMalmo\n",
      "37\n",
      "37\n",
      "pokemon_sokuho\n",
      "38\n",
      "38\n",
      "rrsarq\n",
      "39\n",
      "39\n",
      "RunnersKaskus\n",
      "40\n",
      "40\n",
      "SaintSeiya4Ever\n",
      "41\n",
      "41\n",
      "SendNudes1099\n",
      "42\n",
      "42\n",
      "SGPokemon\n",
      "43\n",
      "43\n",
      "ShropshirePulse\n",
      "44\n",
      "44\n",
      "SlideSource\n",
      "45\n",
      "45\n",
      "SydneyPogoMap\n",
      "46\n",
      "46\n",
      "TravelTacticsUK\n",
      "47\n",
      "47\n",
      "TwitterMovies\n",
      "48\n",
      "48\n",
      "westlife1219\n"
     ]
    }
   ],
   "source": [
    "with open('bots3.csv','w') as f:\n",
    "    spamwriter = csv.writer(f)\n",
    "    spamwriter.writerow(['index']+['id']+['id_str']+['screen_name']+['location']+['description']+['url']+['followers_count']+['friends_count']+\n",
    "        ['listedcount']+['created_at']+['favourites_count']+['verified']+['statuses_count']+['lang']+['default_profile']+['default_profile_image']\n",
    "        +['has_extended_profile']+['name']+['BotOrNot']+[\"content_classification\"]+[\"friend_classification\"] + [\"network_classification\"] + [\"sentiment_classification\"]+ [\"temporal_classification\"]+[\"user_classification\"]+['status'] )\n",
    "    count = 0\n",
    "    for i in user_name_small:\n",
    "        count = count + 1\n",
    "        i=i.strip('\"')\n",
    "        try:\n",
    "            user=api.get_user(i)\n",
    "        except:\n",
    "            continue\n",
    "        try:\n",
    "            result = bon.check_account(i) #BotOrNot判断程序 \n",
    "            st=[count,user.id,user.id_str,user.screen_name,user.location,user.description,user.url,user.followers_count,user.friends_count\n",
    "            ,user.listed_count,user.created_at,user.favourites_count,user.verified,user.statuses_count,user.lang,user.default_profile,user.default_profile_image\n",
    "            ,user.has_extended_profile,user.name, result[\"score\"],result[\"categories\"][\"content_classification\"],result[\"categories\"][\"friend_classification\"],result[\"categories\"][\"network_classification\"],result[\"categories\"][\"sentiment_classification\"],result[\"categories\"][\"temporal_classification\"],result[\"categories\"][\"user_classification\"]]\n",
    "        except:\n",
    "            st=[count,user.id,user.id_str,user.screen_name,user.location,user.description,user.url,user.followers_count,user.friends_count\n",
    "            ,user.listed_count,user.created_at,user.favourites_count,user.verified,user.statuses_count,user.lang,user.default_profile,user.default_profile_image\n",
    "            ,user.has_extended_profile,user.name, -1,-1,-1,-1,-1,-1,-1]\n",
    "        print (count)\n",
    "        print (count)\n",
    "        print (user.screen_name)\n",
    "        try:\n",
    "            user_status = user.status\n",
    "        except:\n",
    "            user_status = None\n",
    "        else:\n",
    "            st = st + [user_status]\n",
    "        spamwriter.writerow(st)"
   ]
  },
  {
   "cell_type": "markdown",
   "metadata": {},
   "source": [
    "### Re-generate data by id"
   ]
  },
  {
   "cell_type": "code",
   "execution_count": null,
   "metadata": {
    "collapsed": true
   },
   "outputs": [],
   "source": [
    "with open('bots1.csv','w') as f:\n",
    "\tspamwriter = csv.writer(f)\n",
    "\tspamwriter.writerow(['id']+['id_str']+['screen_name']+['location']+['description']+['url']+['followers_count']+['friends_count']+\n",
    "\t\t['listedcount']+['created_at']+['favourites_count']+['verified']+['statuses_count']+['lang']+['default_profile']+['default_profile_image']\n",
    "\t\t+['has_extended_profile']+['name']+['status'])\n",
    "\tfor i in user_name_small:\n",
    "\t\ttry:\n",
    "\t\t\tuser=api.get_user(i)\n",
    "\t\texcept:\n",
    "\t\t\tcontinue\n",
    "\t\tst=[user.id,user.id_str,user.screen_name,user.location,user.description,user.url,user.followers_count,user.friends_count\n",
    "\t\t,user.listed_count,user.created_at,user.favourites_count,user.verified,user.statuses_count,user.lang,user.default_profile,user.default_profile_image\n",
    "\t\t,user.has_extended_profile,user.name]\n",
    "\t\tprint (user.screen_name)\n",
    "\t\ttry:\n",
    "\t\t\tuser_status = user.status\n",
    "\t\texcept:\n",
    "\t\t\tuser_status = None\n",
    "\t\telse:\n",
    "\t\t\tst = st + [user_status]\n",
    "\t\tspamwriter.writerow(st)"
   ]
  },
  {
   "cell_type": "code",
   "execution_count": 16,
   "metadata": {
    "collapsed": false
   },
   "outputs": [
    {
     "name": "stdout",
     "output_type": "stream",
     "text": [
      "_mayf\n"
     ]
    }
   ],
   "source": [
    "user=api.get_user(200694438)\n",
    "print (user.screen_name)"
   ]
  },
  {
   "cell_type": "code",
   "execution_count": 18,
   "metadata": {
    "collapsed": false
   },
   "outputs": [
    {
     "name": "stdout",
     "output_type": "stream",
     "text": [
      "200694438\n"
     ]
    }
   ],
   "source": [
    "user=api.get_user('_mayf')\n",
    "print (user.id)"
   ]
  },
  {
   "cell_type": "code",
   "execution_count": 35,
   "metadata": {
    "collapsed": false
   },
   "outputs": [
    {
     "ename": "RateLimitError",
     "evalue": "[{'code': 88, 'message': 'Rate limit exceeded'}]",
     "output_type": "error",
     "traceback": [
      "\u001b[0;31m---------------------------------------------------------------------------\u001b[0m",
      "\u001b[0;31mRateLimitError\u001b[0m                            Traceback (most recent call last)",
      "\u001b[0;32m<ipython-input-35-845118f4e9c1>\u001b[0m in \u001b[0;36m<module>\u001b[0;34m()\u001b[0m\n\u001b[0;32m----> 1\u001b[0;31m \u001b[0mresult\u001b[0m \u001b[0;34m=\u001b[0m \u001b[0mbon\u001b[0m\u001b[0;34m.\u001b[0m\u001b[0mcheck_account\u001b[0m\u001b[0;34m(\u001b[0m\u001b[0;34m'CointraqBot'\u001b[0m\u001b[0;34m)\u001b[0m \u001b[0;31m#BotOrNot判断程序\u001b[0m\u001b[0;34m\u001b[0m\u001b[0m\n\u001b[0m",
      "\u001b[0;32m/Users/alvin/anaconda3/lib/python3.5/site-packages/botornot/__init__.py\u001b[0m in \u001b[0;36mcheck_account\u001b[0;34m(self, user)\u001b[0m\n\u001b[1;32m    118\u001b[0m \u001b[0;34m\u001b[0m\u001b[0m\n\u001b[1;32m    119\u001b[0m     \u001b[0;32mdef\u001b[0m \u001b[0mcheck_account\u001b[0m\u001b[0;34m(\u001b[0m\u001b[0mself\u001b[0m\u001b[0;34m,\u001b[0m \u001b[0muser\u001b[0m\u001b[0;34m)\u001b[0m\u001b[0;34m:\u001b[0m\u001b[0;34m\u001b[0m\u001b[0m\n\u001b[0;32m--> 120\u001b[0;31m         \u001b[0muser_data\u001b[0m\u001b[0;34m,\u001b[0m \u001b[0mtweets\u001b[0m \u001b[0;34m=\u001b[0m \u001b[0mself\u001b[0m\u001b[0;34m.\u001b[0m\u001b[0m_get_user_and_tweets\u001b[0m\u001b[0;34m(\u001b[0m\u001b[0muser\u001b[0m\u001b[0;34m)\u001b[0m\u001b[0;34m\u001b[0m\u001b[0m\n\u001b[0m\u001b[1;32m    121\u001b[0m         \u001b[0;32mif\u001b[0m \u001b[0;32mnot\u001b[0m \u001b[0mtweets\u001b[0m\u001b[0;34m:\u001b[0m\u001b[0;34m\u001b[0m\u001b[0m\n\u001b[1;32m    122\u001b[0m             \u001b[0;32mraise\u001b[0m \u001b[0mNoTimelineError\u001b[0m\u001b[0;34m(\u001b[0m\u001b[0muser\u001b[0m\u001b[0;34m)\u001b[0m\u001b[0;34m\u001b[0m\u001b[0m\n",
      "\u001b[0;32m/Users/alvin/anaconda3/lib/python3.5/site-packages/botornot/__init__.py\u001b[0m in \u001b[0;36m_get_user_and_tweets\u001b[0;34m(self, user)\u001b[0m\n\u001b[1;32m     94\u001b[0m         \u001b[0;32mexcept\u001b[0m \u001b[0mRateLimitError\u001b[0m \u001b[0;32mas\u001b[0m \u001b[0me\u001b[0m\u001b[0;34m:\u001b[0m\u001b[0;34m\u001b[0m\u001b[0m\n\u001b[1;32m     95\u001b[0m             \u001b[0me\u001b[0m\u001b[0;34m.\u001b[0m\u001b[0margs\u001b[0m \u001b[0;34m=\u001b[0m \u001b[0;34m(\u001b[0m\u001b[0mself\u001b[0m\u001b[0;34m.\u001b[0m\u001b[0m_TWITTER_RL_MSG\u001b[0m\u001b[0;34m,\u001b[0m \u001b[0;34m'search/tweets'\u001b[0m\u001b[0;34m)\u001b[0m\u001b[0;34m\u001b[0m\u001b[0m\n\u001b[0;32m---> 96\u001b[0;31m             \u001b[0;32mraise\u001b[0m \u001b[0me\u001b[0m\u001b[0;34m\u001b[0m\u001b[0m\n\u001b[0m\u001b[1;32m     97\u001b[0m \u001b[0;34m\u001b[0m\u001b[0m\n\u001b[1;32m     98\u001b[0m         \u001b[0mtweets\u001b[0m \u001b[0;34m=\u001b[0m \u001b[0muser_timeline\u001b[0m \u001b[0;34m+\u001b[0m \u001b[0msearch\u001b[0m\u001b[0;34m[\u001b[0m\u001b[0;34m'statuses'\u001b[0m\u001b[0;34m]\u001b[0m\u001b[0;34m\u001b[0m\u001b[0m\n",
      "\u001b[0;32m/Users/alvin/anaconda3/lib/python3.5/site-packages/botornot/__init__.py\u001b[0m in \u001b[0;36m_get_user_and_tweets\u001b[0;34m(self, user)\u001b[0m\n\u001b[1;32m     91\u001b[0m \u001b[0;34m\u001b[0m\u001b[0m\n\u001b[1;32m     92\u001b[0m         \u001b[0;32mtry\u001b[0m\u001b[0;34m:\u001b[0m\u001b[0;34m\u001b[0m\u001b[0m\n\u001b[0;32m---> 93\u001b[0;31m             \u001b[0msearch\u001b[0m \u001b[0;34m=\u001b[0m \u001b[0mself\u001b[0m\u001b[0;34m.\u001b[0m\u001b[0mtwitter_api\u001b[0m\u001b[0;34m.\u001b[0m\u001b[0msearch\u001b[0m\u001b[0;34m(\u001b[0m\u001b[0mscreen_name\u001b[0m\u001b[0;34m,\u001b[0m \u001b[0mcount\u001b[0m\u001b[0;34m=\u001b[0m\u001b[0;36m100\u001b[0m\u001b[0;34m)\u001b[0m\u001b[0;34m\u001b[0m\u001b[0m\n\u001b[0m\u001b[1;32m     94\u001b[0m         \u001b[0;32mexcept\u001b[0m \u001b[0mRateLimitError\u001b[0m \u001b[0;32mas\u001b[0m \u001b[0me\u001b[0m\u001b[0;34m:\u001b[0m\u001b[0;34m\u001b[0m\u001b[0m\n\u001b[1;32m     95\u001b[0m             \u001b[0me\u001b[0m\u001b[0;34m.\u001b[0m\u001b[0margs\u001b[0m \u001b[0;34m=\u001b[0m \u001b[0;34m(\u001b[0m\u001b[0mself\u001b[0m\u001b[0;34m.\u001b[0m\u001b[0m_TWITTER_RL_MSG\u001b[0m\u001b[0;34m,\u001b[0m \u001b[0;34m'search/tweets'\u001b[0m\u001b[0;34m)\u001b[0m\u001b[0;34m\u001b[0m\u001b[0m\n",
      "\u001b[0;32m/Users/alvin/anaconda3/lib/python3.5/site-packages/tweepy/binder.py\u001b[0m in \u001b[0;36m_call\u001b[0;34m(*args, **kwargs)\u001b[0m\n\u001b[1;32m    243\u001b[0m             \u001b[0;32mreturn\u001b[0m \u001b[0mmethod\u001b[0m\u001b[0;34m\u001b[0m\u001b[0m\n\u001b[1;32m    244\u001b[0m         \u001b[0;32melse\u001b[0m\u001b[0;34m:\u001b[0m\u001b[0;34m\u001b[0m\u001b[0m\n\u001b[0;32m--> 245\u001b[0;31m             \u001b[0;32mreturn\u001b[0m \u001b[0mmethod\u001b[0m\u001b[0;34m.\u001b[0m\u001b[0mexecute\u001b[0m\u001b[0;34m(\u001b[0m\u001b[0;34m)\u001b[0m\u001b[0;34m\u001b[0m\u001b[0m\n\u001b[0m\u001b[1;32m    246\u001b[0m \u001b[0;34m\u001b[0m\u001b[0m\n\u001b[1;32m    247\u001b[0m     \u001b[0;31m# Set pagination mode\u001b[0m\u001b[0;34m\u001b[0m\u001b[0;34m\u001b[0m\u001b[0m\n",
      "\u001b[0;32m/Users/alvin/anaconda3/lib/python3.5/site-packages/tweepy/binder.py\u001b[0m in \u001b[0;36mexecute\u001b[0;34m(self)\u001b[0m\n\u001b[1;32m    225\u001b[0m \u001b[0;34m\u001b[0m\u001b[0m\n\u001b[1;32m    226\u001b[0m                 \u001b[0;32mif\u001b[0m \u001b[0mis_rate_limit_error_message\u001b[0m\u001b[0;34m(\u001b[0m\u001b[0merror_msg\u001b[0m\u001b[0;34m)\u001b[0m\u001b[0;34m:\u001b[0m\u001b[0;34m\u001b[0m\u001b[0m\n\u001b[0;32m--> 227\u001b[0;31m                     \u001b[0;32mraise\u001b[0m \u001b[0mRateLimitError\u001b[0m\u001b[0;34m(\u001b[0m\u001b[0merror_msg\u001b[0m\u001b[0;34m,\u001b[0m \u001b[0mresp\u001b[0m\u001b[0;34m)\u001b[0m\u001b[0;34m\u001b[0m\u001b[0m\n\u001b[0m\u001b[1;32m    228\u001b[0m                 \u001b[0;32melse\u001b[0m\u001b[0;34m:\u001b[0m\u001b[0;34m\u001b[0m\u001b[0m\n\u001b[1;32m    229\u001b[0m                     \u001b[0;32mraise\u001b[0m \u001b[0mTweepError\u001b[0m\u001b[0;34m(\u001b[0m\u001b[0merror_msg\u001b[0m\u001b[0;34m,\u001b[0m \u001b[0mresp\u001b[0m\u001b[0;34m,\u001b[0m \u001b[0mapi_code\u001b[0m\u001b[0;34m=\u001b[0m\u001b[0mapi_error_code\u001b[0m\u001b[0;34m)\u001b[0m\u001b[0;34m\u001b[0m\u001b[0m\n",
      "\u001b[0;31mRateLimitError\u001b[0m: [{'code': 88, 'message': 'Rate limit exceeded'}]"
     ]
    }
   ],
   "source": [
    "result = bon.check_account('CointraqBot') #BotOrNot判断程序\n"
   ]
  },
  {
   "cell_type": "code",
   "execution_count": 29,
   "metadata": {
    "collapsed": false
   },
   "outputs": [
    {
     "data": {
      "text/plain": [
       "0.28"
      ]
     },
     "execution_count": 29,
     "metadata": {},
     "output_type": "execute_result"
    }
   ],
   "source": [
    "result[\"score\"]"
   ]
  },
  {
   "cell_type": "code",
   "execution_count": null,
   "metadata": {
    "collapsed": true
   },
   "outputs": [],
   "source": [
    "CointraqBot"
   ]
  }
 ],
 "metadata": {
  "anaconda-cloud": {},
  "kernelspec": {
   "display_name": "Python [default]",
   "language": "python",
   "name": "python3"
  },
  "language_info": {
   "codemirror_mode": {
    "name": "ipython",
    "version": 3
   },
   "file_extension": ".py",
   "mimetype": "text/x-python",
   "name": "python",
   "nbconvert_exporter": "python",
   "pygments_lexer": "ipython3",
   "version": "3.5.2"
  }
 },
 "nbformat": 4,
 "nbformat_minor": 1
}
