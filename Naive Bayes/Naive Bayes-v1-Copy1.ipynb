{
 "cells": [
  {
   "cell_type": "code",
   "execution_count": 1,
   "metadata": {
    "collapsed": false,
    "deletable": true,
    "editable": true
   },
   "outputs": [
    {
     "name": "stdout",
     "output_type": "stream",
     "text": [
      "(2218, 28)\n"
     ]
    }
   ],
   "source": [
    "import pandas as pd\n",
    "import numpy as np\n",
    "\n",
    "df = pd.read_csv('all_users_v1.csv',encoding = \"ISO-8859-1\")\n",
    "df.head(4)\n",
    "print(df.shape)"
   ]
  },
  {
   "cell_type": "markdown",
   "metadata": {
    "deletable": true,
    "editable": true
   },
   "source": [
    "### ConutVector"
   ]
  },
  {
   "cell_type": "code",
   "execution_count": 2,
   "metadata": {
    "collapsed": false,
    "deletable": true,
    "editable": true
   },
   "outputs": [],
   "source": [
    "from sklearn.feature_extraction.text import CountVectorizer\n",
    "count_vect = CountVectorizer()\n",
    "des1 = count_vect.fit_transform(df.description.values.astype('U'))\n",
    "lang1 = count_vect.fit_transform(df.lang.values.astype('U'))"
   ]
  },
  {
   "cell_type": "markdown",
   "metadata": {
    "deletable": true,
    "editable": true
   },
   "source": [
    "### TrueFalse Vector"
   ]
  },
  {
   "cell_type": "code",
   "execution_count": 3,
   "metadata": {
    "collapsed": false,
    "deletable": true,
    "editable": true
   },
   "outputs": [],
   "source": [
    "df.loc[:,'flag1'] = 1\n",
    "for i in df.index:    \n",
    "    if df.loc[i,'default_profile'] :\n",
    "        df.loc[i,'flag1'] = 1\n",
    "    else:\n",
    "        df.loc[i,'flag1'] = 0"
   ]
  },
  {
   "cell_type": "code",
   "execution_count": 4,
   "metadata": {
    "collapsed": true,
    "deletable": true,
    "editable": true
   },
   "outputs": [],
   "source": [
    "df.loc[:,'flag2'] = 1\n",
    "for i in df.index:    \n",
    "    if df.loc[i,'has_extended_profile'] :\n",
    "        df.loc[i,'flag2'] = 1\n",
    "    else:\n",
    "        df.loc[i,'flag2'] = 0"
   ]
  },
  {
   "cell_type": "code",
   "execution_count": 5,
   "metadata": {
    "collapsed": true,
    "deletable": true,
    "editable": true
   },
   "outputs": [],
   "source": [
    "df.loc[:,'flag3'] = 1\n",
    "for i in df.index:    \n",
    "    if df.loc[i,'default_profile_image'] :\n",
    "        df.loc[i,'flag3'] = 1\n",
    "    else:\n",
    "        df.loc[i,'flag3'] = 0"
   ]
  },
  {
   "cell_type": "code",
   "execution_count": 6,
   "metadata": {
    "collapsed": true,
    "deletable": true,
    "editable": true
   },
   "outputs": [],
   "source": [
    "df.loc[:,'flag4'] = 1\n",
    "for i in df.index:    \n",
    "    if df.loc[i,'verified'] :\n",
    "        df.loc[i,'flag4'] = 1\n",
    "    else:\n",
    "        df.loc[i,'flag4'] = 0"
   ]
  },
  {
   "cell_type": "markdown",
   "metadata": {
    "deletable": true,
    "editable": true
   },
   "source": [
    "### Binary Vector"
   ]
  },
  {
   "cell_type": "code",
   "execution_count": 7,
   "metadata": {
    "collapsed": false,
    "deletable": true,
    "editable": true
   },
   "outputs": [],
   "source": [
    "df.loc[:,'flag5']=1\n",
    "for i in df.index: \n",
    "\n",
    "    if type(df.loc[i,'location'])==type('str'):\n",
    "        df.loc[i,'flag5']=1\n",
    "        #print(df.location[i])\n",
    "    else:\n",
    "        df.loc[i,'flag5']=0"
   ]
  },
  {
   "cell_type": "code",
   "execution_count": 8,
   "metadata": {
    "collapsed": false,
    "deletable": true,
    "editable": true
   },
   "outputs": [],
   "source": [
    "df.loc[:,'flag6']=1\n",
    "for i in df.index: \n",
    "\n",
    "    if 't.co' in str(df.loc[i,'url']):\n",
    "        df.loc[i,'flag6']=1\n",
    "        #print(df.location[i])\n",
    "    else:\n",
    "        df.loc[i,'flag6']=0"
   ]
  },
  {
   "cell_type": "markdown",
   "metadata": {
    "deletable": true,
    "editable": true
   },
   "source": [
    "### Special condition"
   ]
  },
  {
   "cell_type": "code",
   "execution_count": 9,
   "metadata": {
    "collapsed": false,
    "deletable": true,
    "editable": true
   },
   "outputs": [
    {
     "data": {
      "text/plain": [
       "0       11\n",
       "1       14\n",
       "2       15\n",
       "3       15\n",
       "4       10\n",
       "5        8\n",
       "6       15\n",
       "7        8\n",
       "8       12\n",
       "9        7\n",
       "10       9\n",
       "11       9\n",
       "12      12\n",
       "13      13\n",
       "14      12\n",
       "15      13\n",
       "16      11\n",
       "17       8\n",
       "18       6\n",
       "19      12\n",
       "20       4\n",
       "21      13\n",
       "22      15\n",
       "23      13\n",
       "24      13\n",
       "25      15\n",
       "26      10\n",
       "27      13\n",
       "28      13\n",
       "29       5\n",
       "        ..\n",
       "2188    12\n",
       "2189    15\n",
       "2190    11\n",
       "2191    14\n",
       "2192    11\n",
       "2193     9\n",
       "2194    15\n",
       "2195    14\n",
       "2196    15\n",
       "2197    11\n",
       "2198    13\n",
       "2199    13\n",
       "2200    14\n",
       "2201    15\n",
       "2202    10\n",
       "2203    14\n",
       "2204    11\n",
       "2205    12\n",
       "2206    12\n",
       "2207    14\n",
       "2208    15\n",
       "2209    10\n",
       "2210    13\n",
       "2211    13\n",
       "2212    14\n",
       "2213    11\n",
       "2214    10\n",
       "2215    13\n",
       "2216    15\n",
       "2217     9\n",
       "Name: flag7, dtype: int64"
      ]
     },
     "execution_count": 9,
     "metadata": {},
     "output_type": "execute_result"
    }
   ],
   "source": [
    "# screen_name length\n",
    "sname = np.array(df.screen_name)\n",
    "g = lambda i: len(i)\n",
    "gg = np.vectorize(g)\n",
    "sname_length = gg(sname)\n",
    "df.loc[:,'flag7'] = sname_length\n",
    "df.loc[:,'flag7']"
   ]
  },
  {
   "cell_type": "code",
   "execution_count": 10,
   "metadata": {
    "collapsed": false,
    "deletable": true,
    "editable": true
   },
   "outputs": [],
   "source": [
    "#status\n",
    "df.loc[:,'flag8'] = 1\n",
    "for i in df.index:    \n",
    "    if type(df.loc[i,'status']) == type('str') :\n",
    "        df.loc[i,'flag8'] = 1\n",
    "    else:\n",
    "        df.loc[i,'flag8'] = 0"
   ]
  },
  {
   "cell_type": "markdown",
   "metadata": {},
   "source": [
    "### Number Vector"
   ]
  },
  {
   "cell_type": "code",
   "execution_count": 12,
   "metadata": {
    "collapsed": false
   },
   "outputs": [
    {
     "data": {
      "text/html": [
       "<div>\n",
       "<table border=\"1\" class=\"dataframe\">\n",
       "  <thead>\n",
       "    <tr style=\"text-align: right;\">\n",
       "      <th></th>\n",
       "      <th>index</th>\n",
       "      <th>id</th>\n",
       "      <th>id_str</th>\n",
       "      <th>screen_name</th>\n",
       "      <th>location</th>\n",
       "      <th>description</th>\n",
       "      <th>url</th>\n",
       "      <th>followers_count</th>\n",
       "      <th>friends_count</th>\n",
       "      <th>listedcount</th>\n",
       "      <th>...</th>\n",
       "      <th>bot</th>\n",
       "      <th>flag1</th>\n",
       "      <th>flag2</th>\n",
       "      <th>flag3</th>\n",
       "      <th>flag4</th>\n",
       "      <th>flag5</th>\n",
       "      <th>flag6</th>\n",
       "      <th>flag7</th>\n",
       "      <th>flag8</th>\n",
       "      <th>flag36</th>\n",
       "    </tr>\n",
       "  </thead>\n",
       "  <tbody>\n",
       "    <tr>\n",
       "      <th>524</th>\n",
       "      <td>525</td>\n",
       "      <td>1.116146e+09</td>\n",
       "      <td>1.116146e+09</td>\n",
       "      <td>Ziyansha</td>\n",
       "      <td>NaN</td>\n",
       "      <td>NaN</td>\n",
       "      <td>NaN</td>\n",
       "      <td>11</td>\n",
       "      <td>86</td>\n",
       "      <td>0</td>\n",
       "      <td>...</td>\n",
       "      <td>0</td>\n",
       "      <td>1</td>\n",
       "      <td>0</td>\n",
       "      <td>0</td>\n",
       "      <td>0</td>\n",
       "      <td>0</td>\n",
       "      <td>0</td>\n",
       "      <td>8</td>\n",
       "      <td>1</td>\n",
       "      <td>10</td>\n",
       "    </tr>\n",
       "    <tr>\n",
       "      <th>1270</th>\n",
       "      <td>1271</td>\n",
       "      <td>4.840698e+09</td>\n",
       "      <td>4.840698e+09</td>\n",
       "      <td>GregorybBcreati</td>\n",
       "      <td>Brandon, United States</td>\n",
       "      <td>Senior Vice President of Stores dressbarn Stud...</td>\n",
       "      <td>NaN</td>\n",
       "      <td>3</td>\n",
       "      <td>520</td>\n",
       "      <td>0</td>\n",
       "      <td>...</td>\n",
       "      <td>1</td>\n",
       "      <td>1</td>\n",
       "      <td>0</td>\n",
       "      <td>0</td>\n",
       "      <td>0</td>\n",
       "      <td>1</td>\n",
       "      <td>0</td>\n",
       "      <td>15</td>\n",
       "      <td>1</td>\n",
       "      <td>10</td>\n",
       "    </tr>\n",
       "    <tr>\n",
       "      <th>1268</th>\n",
       "      <td>1269</td>\n",
       "      <td>8.260000e+17</td>\n",
       "      <td>8.260000e+17</td>\n",
       "      <td>Taimanglo2526</td>\n",
       "      <td>NaN</td>\n",
       "      <td>Singlin pardise ..</td>\n",
       "      <td>NaN</td>\n",
       "      <td>0</td>\n",
       "      <td>9</td>\n",
       "      <td>0</td>\n",
       "      <td>...</td>\n",
       "      <td>1</td>\n",
       "      <td>1</td>\n",
       "      <td>0</td>\n",
       "      <td>0</td>\n",
       "      <td>0</td>\n",
       "      <td>0</td>\n",
       "      <td>0</td>\n",
       "      <td>13</td>\n",
       "      <td>1</td>\n",
       "      <td>10</td>\n",
       "    </tr>\n",
       "    <tr>\n",
       "      <th>1267</th>\n",
       "      <td>1268</td>\n",
       "      <td>7.081932e+07</td>\n",
       "      <td>7.081932e+07</td>\n",
       "      <td>Tink0074</td>\n",
       "      <td>NaN</td>\n",
       "      <td>NaN</td>\n",
       "      <td>NaN</td>\n",
       "      <td>4</td>\n",
       "      <td>32</td>\n",
       "      <td>0</td>\n",
       "      <td>...</td>\n",
       "      <td>1</td>\n",
       "      <td>1</td>\n",
       "      <td>0</td>\n",
       "      <td>1</td>\n",
       "      <td>0</td>\n",
       "      <td>0</td>\n",
       "      <td>0</td>\n",
       "      <td>8</td>\n",
       "      <td>1</td>\n",
       "      <td>10</td>\n",
       "    </tr>\n",
       "    <tr>\n",
       "      <th>1792</th>\n",
       "      <td>1793</td>\n",
       "      <td>4.841401e+09</td>\n",
       "      <td>4.841401e+09</td>\n",
       "      <td>altagraciao86</td>\n",
       "      <td>Neshkoro village, WI, USA</td>\n",
       "      <td>Activating influential customers to drive new ...</td>\n",
       "      <td>NaN</td>\n",
       "      <td>4</td>\n",
       "      <td>558</td>\n",
       "      <td>0</td>\n",
       "      <td>...</td>\n",
       "      <td>1</td>\n",
       "      <td>1</td>\n",
       "      <td>0</td>\n",
       "      <td>0</td>\n",
       "      <td>0</td>\n",
       "      <td>1</td>\n",
       "      <td>0</td>\n",
       "      <td>13</td>\n",
       "      <td>1</td>\n",
       "      <td>10</td>\n",
       "    </tr>\n",
       "    <tr>\n",
       "      <th>530</th>\n",
       "      <td>531</td>\n",
       "      <td>8.200614e+07</td>\n",
       "      <td>8.200614e+07</td>\n",
       "      <td>annie_guerra</td>\n",
       "      <td>laredo tx</td>\n",
       "      <td>NaN</td>\n",
       "      <td>NaN</td>\n",
       "      <td>13</td>\n",
       "      <td>47</td>\n",
       "      <td>0</td>\n",
       "      <td>...</td>\n",
       "      <td>0</td>\n",
       "      <td>0</td>\n",
       "      <td>0</td>\n",
       "      <td>0</td>\n",
       "      <td>0</td>\n",
       "      <td>1</td>\n",
       "      <td>0</td>\n",
       "      <td>12</td>\n",
       "      <td>0</td>\n",
       "      <td>10</td>\n",
       "    </tr>\n",
       "    <tr>\n",
       "      <th>535</th>\n",
       "      <td>536</td>\n",
       "      <td>9.410678e+07</td>\n",
       "      <td>9.410678e+07</td>\n",
       "      <td>delben29</td>\n",
       "      <td>Easley, SC</td>\n",
       "      <td>I think I'm a good person, trying everyday.</td>\n",
       "      <td>NaN</td>\n",
       "      <td>83</td>\n",
       "      <td>252</td>\n",
       "      <td>0</td>\n",
       "      <td>...</td>\n",
       "      <td>0</td>\n",
       "      <td>0</td>\n",
       "      <td>0</td>\n",
       "      <td>0</td>\n",
       "      <td>0</td>\n",
       "      <td>1</td>\n",
       "      <td>0</td>\n",
       "      <td>8</td>\n",
       "      <td>1</td>\n",
       "      <td>10</td>\n",
       "    </tr>\n",
       "    <tr>\n",
       "      <th>1266</th>\n",
       "      <td>1267</td>\n",
       "      <td>7.460000e+17</td>\n",
       "      <td>7.460000e+17</td>\n",
       "      <td>ismail_abaid</td>\n",
       "      <td>Morocco</td>\n",
       "      <td>NaN</td>\n",
       "      <td>https://t.co/4NKFOoe9oX</td>\n",
       "      <td>497</td>\n",
       "      <td>1190</td>\n",
       "      <td>0</td>\n",
       "      <td>...</td>\n",
       "      <td>1</td>\n",
       "      <td>1</td>\n",
       "      <td>0</td>\n",
       "      <td>0</td>\n",
       "      <td>0</td>\n",
       "      <td>1</td>\n",
       "      <td>1</td>\n",
       "      <td>12</td>\n",
       "      <td>1</td>\n",
       "      <td>10</td>\n",
       "    </tr>\n",
       "    <tr>\n",
       "      <th>537</th>\n",
       "      <td>538</td>\n",
       "      <td>3.161044e+09</td>\n",
       "      <td>3.161044e+09</td>\n",
       "      <td>uncarvedblock64</td>\n",
       "      <td>NaN</td>\n",
       "      <td>NaN</td>\n",
       "      <td>NaN</td>\n",
       "      <td>6</td>\n",
       "      <td>172</td>\n",
       "      <td>0</td>\n",
       "      <td>...</td>\n",
       "      <td>0</td>\n",
       "      <td>1</td>\n",
       "      <td>0</td>\n",
       "      <td>0</td>\n",
       "      <td>0</td>\n",
       "      <td>0</td>\n",
       "      <td>0</td>\n",
       "      <td>15</td>\n",
       "      <td>1</td>\n",
       "      <td>10</td>\n",
       "    </tr>\n",
       "    <tr>\n",
       "      <th>1263</th>\n",
       "      <td>1264</td>\n",
       "      <td>8.250000e+17</td>\n",
       "      <td>8.250000e+17</td>\n",
       "      <td>GRahamwbeeey</td>\n",
       "      <td>Plantation Key, FL, USA</td>\n",
       "      <td>Official Page of the Chief Minister of Karnataka</td>\n",
       "      <td>NaN</td>\n",
       "      <td>4</td>\n",
       "      <td>502</td>\n",
       "      <td>0</td>\n",
       "      <td>...</td>\n",
       "      <td>1</td>\n",
       "      <td>1</td>\n",
       "      <td>0</td>\n",
       "      <td>0</td>\n",
       "      <td>0</td>\n",
       "      <td>1</td>\n",
       "      <td>0</td>\n",
       "      <td>12</td>\n",
       "      <td>1</td>\n",
       "      <td>10</td>\n",
       "    </tr>\n",
       "  </tbody>\n",
       "</table>\n",
       "<p>10 rows × 37 columns</p>\n",
       "</div>"
      ],
      "text/plain": [
       "      index            id        id_str      screen_name  \\\n",
       "524     525  1.116146e+09  1.116146e+09         Ziyansha   \n",
       "1270   1271  4.840698e+09  4.840698e+09  GregorybBcreati   \n",
       "1268   1269  8.260000e+17  8.260000e+17    Taimanglo2526   \n",
       "1267   1268  7.081932e+07  7.081932e+07         Tink0074   \n",
       "1792   1793  4.841401e+09  4.841401e+09    altagraciao86   \n",
       "530     531  8.200614e+07  8.200614e+07     annie_guerra   \n",
       "535     536  9.410678e+07  9.410678e+07         delben29   \n",
       "1266   1267  7.460000e+17  7.460000e+17     ismail_abaid   \n",
       "537     538  3.161044e+09  3.161044e+09  uncarvedblock64   \n",
       "1263   1264  8.250000e+17  8.250000e+17     GRahamwbeeey   \n",
       "\n",
       "                       location  \\\n",
       "524                         NaN   \n",
       "1270     Brandon, United States   \n",
       "1268                        NaN   \n",
       "1267                        NaN   \n",
       "1792  Neshkoro village, WI, USA   \n",
       "530                   laredo tx   \n",
       "535                  Easley, SC   \n",
       "1266                    Morocco   \n",
       "537                         NaN   \n",
       "1263    Plantation Key, FL, USA   \n",
       "\n",
       "                                            description  \\\n",
       "524                                                 NaN   \n",
       "1270  Senior Vice President of Stores dressbarn Stud...   \n",
       "1268                                 Singlin pardise ..   \n",
       "1267                                                NaN   \n",
       "1792  Activating influential customers to drive new ...   \n",
       "530                                                 NaN   \n",
       "535         I think I'm a good person, trying everyday.   \n",
       "1266                                                NaN   \n",
       "537                                                 NaN   \n",
       "1263   Official Page of the Chief Minister of Karnataka   \n",
       "\n",
       "                          url  followers_count  friends_count  listedcount  \\\n",
       "524                       NaN               11             86            0   \n",
       "1270                      NaN                3            520            0   \n",
       "1268                      NaN                0              9            0   \n",
       "1267                      NaN                4             32            0   \n",
       "1792                      NaN                4            558            0   \n",
       "530                       NaN               13             47            0   \n",
       "535                       NaN               83            252            0   \n",
       "1266  https://t.co/4NKFOoe9oX              497           1190            0   \n",
       "537                       NaN                6            172            0   \n",
       "1263                      NaN                4            502            0   \n",
       "\n",
       "       ...   bot  flag1 flag2  flag3 flag4 flag5 flag6 flag7 flag8  flag36  \n",
       "524    ...     0      1     0      0     0     0     0     8     1      10  \n",
       "1270   ...     1      1     0      0     0     1     0    15     1      10  \n",
       "1268   ...     1      1     0      0     0     0     0    13     1      10  \n",
       "1267   ...     1      1     0      1     0     0     0     8     1      10  \n",
       "1792   ...     1      1     0      0     0     1     0    13     1      10  \n",
       "530    ...     0      0     0      0     0     1     0    12     0      10  \n",
       "535    ...     0      0     0      0     0     1     0     8     1      10  \n",
       "1266   ...     1      1     0      0     0     1     1    12     1      10  \n",
       "537    ...     0      1     0      0     0     0     0    15     1      10  \n",
       "1263   ...     1      1     0      0     0     1     0    12     1      10  \n",
       "\n",
       "[10 rows x 37 columns]"
      ]
     },
     "execution_count": 12,
     "metadata": {},
     "output_type": "execute_result"
    }
   ],
   "source": [
    "column_index = df.shape[1]\n",
    "column_name = 'flag' + str(column_index)\n",
    "df.loc[:,column_name]=10\n",
    "df = df.sort_values('listedcount',na_position='first')\n",
    "df.head(10)\n",
    "\n",
    "i = len(df[column_name])\n",
    "interval = i//10\n",
    "\n",
    "for j in range(10):\n",
    "    df.iloc[j*interval:(j+1)*interval,[column_index,]] = j\n",
    "df.iloc[10*interval:i,[column_index,]] = 9\n",
    "df[['index','listedcount',column_name]]"
   ]
  },
  {
   "cell_type": "code",
   "execution_count": 15,
   "metadata": {
    "collapsed": false,
    "deletable": true,
    "editable": true
   },
   "outputs": [],
   "source": [
    "column_index = df.shape[1]\n",
    "column_name = 'flag' + str(column_index)\n",
    "df.loc[:,column_name]=10\n",
    "df = df.sort_values('followers_count',na_position='first')\n",
    "df.head(10)\n",
    "\n",
    "i = len(df[column_name])\n",
    "interval = i//10\n",
    "\n",
    "for j in range(10):\n",
    "    df.iloc[j*interval:(j+1)*interval,[column_index,]] = j\n",
    "df.iloc[10*interval:i,[column_index,]] = 9"
   ]
  },
  {
   "cell_type": "code",
   "execution_count": 16,
   "metadata": {
    "collapsed": false,
    "deletable": true,
    "editable": true
   },
   "outputs": [],
   "source": [
    "column_index = df.shape[1]\n",
    "column_name = 'flag' + str(column_index)\n",
    "df.loc[:,column_name]=10\n",
    "df = df.sort_values('friends_count',na_position='first')\n",
    "df.head(10)\n",
    "\n",
    "i = len(df[column_name])\n",
    "interval = i//10\n",
    "\n",
    "for j in range(10):\n",
    "    df.iloc[j*interval:(j+1)*interval,[column_index,]] = j\n",
    "df.iloc[10*interval:i,[column_index,]] = 9\n"
   ]
  },
  {
   "cell_type": "code",
   "execution_count": 17,
   "metadata": {
    "collapsed": false,
    "deletable": true,
    "editable": true
   },
   "outputs": [],
   "source": [
    "column_index = df.shape[1]\n",
    "column_name = 'flag' + str(column_index)\n",
    "df.loc[:,column_name]=10\n",
    "df = df.sort_values('favourites_count',na_position='first')\n",
    "df.head(10)\n",
    "\n",
    "i = len(df[column_name])\n",
    "interval = i//10\n",
    "\n",
    "for j in range(10):\n",
    "    df.iloc[j*interval:(j+1)*interval,[column_index,]] = j\n",
    "df.iloc[10*interval:i,[column_index,]] = 9\n"
   ]
  },
  {
   "cell_type": "code",
   "execution_count": 18,
   "metadata": {
    "collapsed": false,
    "deletable": true,
    "editable": true
   },
   "outputs": [],
   "source": [
    "column_index = df.shape[1]\n",
    "column_name = 'flag' + str(column_index)\n",
    "df.loc[:,column_name]=10\n",
    "df = df.sort_values('statuses_count',na_position='first')\n",
    "df.head(10)\n",
    "\n",
    "i = len(df[column_name])\n",
    "interval = i//10\n",
    "\n",
    "for j in range(10):\n",
    "    df.iloc[j*interval:(j+1)*interval,[column_index,]] = j\n",
    "df.iloc[10*interval:i,[column_index,]] = 9\n"
   ]
  },
  {
   "cell_type": "code",
   "execution_count": 19,
   "metadata": {
    "collapsed": false
   },
   "outputs": [
    {
     "data": {
      "text/html": [
       "<div>\n",
       "<table border=\"1\" class=\"dataframe\">\n",
       "  <thead>\n",
       "    <tr style=\"text-align: right;\">\n",
       "      <th></th>\n",
       "      <th>index</th>\n",
       "      <th>id</th>\n",
       "      <th>id_str</th>\n",
       "      <th>screen_name</th>\n",
       "      <th>location</th>\n",
       "      <th>description</th>\n",
       "      <th>url</th>\n",
       "      <th>followers_count</th>\n",
       "      <th>friends_count</th>\n",
       "      <th>listedcount</th>\n",
       "      <th>...</th>\n",
       "      <th>flag4</th>\n",
       "      <th>flag5</th>\n",
       "      <th>flag6</th>\n",
       "      <th>flag7</th>\n",
       "      <th>flag8</th>\n",
       "      <th>flag36</th>\n",
       "      <th>flag37</th>\n",
       "      <th>flag38</th>\n",
       "      <th>flag39</th>\n",
       "      <th>flag40</th>\n",
       "    </tr>\n",
       "  </thead>\n",
       "  <tbody>\n",
       "    <tr>\n",
       "      <th>1208</th>\n",
       "      <td>1209</td>\n",
       "      <td>8.410000e+17</td>\n",
       "      <td>8.410000e+17</td>\n",
       "      <td>SendNudes1099</td>\n",
       "      <td>NaN</td>\n",
       "      <td>NaN</td>\n",
       "      <td>NaN</td>\n",
       "      <td>2</td>\n",
       "      <td>31</td>\n",
       "      <td>0</td>\n",
       "      <td>...</td>\n",
       "      <td>0</td>\n",
       "      <td>0</td>\n",
       "      <td>0</td>\n",
       "      <td>13</td>\n",
       "      <td>0</td>\n",
       "      <td>1</td>\n",
       "      <td>0</td>\n",
       "      <td>3</td>\n",
       "      <td>4</td>\n",
       "      <td>0</td>\n",
       "    </tr>\n",
       "    <tr>\n",
       "      <th>1414</th>\n",
       "      <td>1415</td>\n",
       "      <td>7.940000e+17</td>\n",
       "      <td>7.940000e+17</td>\n",
       "      <td>JohnKorosec1</td>\n",
       "      <td>Ohio, USA</td>\n",
       "      <td>NaN</td>\n",
       "      <td>NaN</td>\n",
       "      <td>6</td>\n",
       "      <td>198</td>\n",
       "      <td>0</td>\n",
       "      <td>...</td>\n",
       "      <td>0</td>\n",
       "      <td>1</td>\n",
       "      <td>0</td>\n",
       "      <td>12</td>\n",
       "      <td>0</td>\n",
       "      <td>1</td>\n",
       "      <td>0</td>\n",
       "      <td>5</td>\n",
       "      <td>4</td>\n",
       "      <td>0</td>\n",
       "    </tr>\n",
       "    <tr>\n",
       "      <th>1453</th>\n",
       "      <td>1454</td>\n",
       "      <td>8.410000e+17</td>\n",
       "      <td>8.410000e+17</td>\n",
       "      <td>N_ChuiYing</td>\n",
       "      <td>NaN</td>\n",
       "      <td>NaN</td>\n",
       "      <td>NaN</td>\n",
       "      <td>1</td>\n",
       "      <td>21</td>\n",
       "      <td>0</td>\n",
       "      <td>...</td>\n",
       "      <td>0</td>\n",
       "      <td>0</td>\n",
       "      <td>0</td>\n",
       "      <td>10</td>\n",
       "      <td>0</td>\n",
       "      <td>1</td>\n",
       "      <td>0</td>\n",
       "      <td>2</td>\n",
       "      <td>0</td>\n",
       "      <td>0</td>\n",
       "    </tr>\n",
       "    <tr>\n",
       "      <th>2182</th>\n",
       "      <td>2183</td>\n",
       "      <td>8.410000e+17</td>\n",
       "      <td>8.410000e+17</td>\n",
       "      <td>sabo_sabo21</td>\n",
       "      <td>NaN</td>\n",
       "      <td>NaN</td>\n",
       "      <td>NaN</td>\n",
       "      <td>2</td>\n",
       "      <td>24</td>\n",
       "      <td>0</td>\n",
       "      <td>...</td>\n",
       "      <td>0</td>\n",
       "      <td>0</td>\n",
       "      <td>0</td>\n",
       "      <td>11</td>\n",
       "      <td>0</td>\n",
       "      <td>1</td>\n",
       "      <td>0</td>\n",
       "      <td>2</td>\n",
       "      <td>0</td>\n",
       "      <td>0</td>\n",
       "    </tr>\n",
       "    <tr>\n",
       "      <th>1705</th>\n",
       "      <td>1706</td>\n",
       "      <td>8.410000e+17</td>\n",
       "      <td>8.410000e+17</td>\n",
       "      <td>SueCoyle14</td>\n",
       "      <td>Arizona, USA</td>\n",
       "      <td>art, museum.</td>\n",
       "      <td>NaN</td>\n",
       "      <td>3</td>\n",
       "      <td>25</td>\n",
       "      <td>0</td>\n",
       "      <td>...</td>\n",
       "      <td>0</td>\n",
       "      <td>1</td>\n",
       "      <td>0</td>\n",
       "      <td>10</td>\n",
       "      <td>0</td>\n",
       "      <td>1</td>\n",
       "      <td>0</td>\n",
       "      <td>2</td>\n",
       "      <td>0</td>\n",
       "      <td>0</td>\n",
       "    </tr>\n",
       "    <tr>\n",
       "      <th>554</th>\n",
       "      <td>555</td>\n",
       "      <td>4.173635e+08</td>\n",
       "      <td>4.173635e+08</td>\n",
       "      <td>Shawndafut</td>\n",
       "      <td>NaN</td>\n",
       "      <td>Relationships and the Law of Attraction. Click...</td>\n",
       "      <td>http://t.co/OQkH7uhWe9</td>\n",
       "      <td>258</td>\n",
       "      <td>991</td>\n",
       "      <td>0</td>\n",
       "      <td>...</td>\n",
       "      <td>0</td>\n",
       "      <td>0</td>\n",
       "      <td>1</td>\n",
       "      <td>10</td>\n",
       "      <td>0</td>\n",
       "      <td>0</td>\n",
       "      <td>4</td>\n",
       "      <td>8</td>\n",
       "      <td>0</td>\n",
       "      <td>0</td>\n",
       "    </tr>\n",
       "    <tr>\n",
       "      <th>1397</th>\n",
       "      <td>1398</td>\n",
       "      <td>2.763655e+07</td>\n",
       "      <td>2.763655e+07</td>\n",
       "      <td>thomp27</td>\n",
       "      <td>NaN</td>\n",
       "      <td>Pretty girl from Denmark. Want to meet somebod...</td>\n",
       "      <td>NaN</td>\n",
       "      <td>69</td>\n",
       "      <td>3707</td>\n",
       "      <td>0</td>\n",
       "      <td>...</td>\n",
       "      <td>0</td>\n",
       "      <td>0</td>\n",
       "      <td>0</td>\n",
       "      <td>7</td>\n",
       "      <td>0</td>\n",
       "      <td>2</td>\n",
       "      <td>2</td>\n",
       "      <td>9</td>\n",
       "      <td>0</td>\n",
       "      <td>0</td>\n",
       "    </tr>\n",
       "    <tr>\n",
       "      <th>1417</th>\n",
       "      <td>1418</td>\n",
       "      <td>5.488054e+07</td>\n",
       "      <td>5.488054e+07</td>\n",
       "      <td>vipeeri</td>\n",
       "      <td>NaN</td>\n",
       "      <td>NaN</td>\n",
       "      <td>NaN</td>\n",
       "      <td>0</td>\n",
       "      <td>28</td>\n",
       "      <td>0</td>\n",
       "      <td>...</td>\n",
       "      <td>0</td>\n",
       "      <td>0</td>\n",
       "      <td>0</td>\n",
       "      <td>7</td>\n",
       "      <td>0</td>\n",
       "      <td>1</td>\n",
       "      <td>0</td>\n",
       "      <td>3</td>\n",
       "      <td>0</td>\n",
       "      <td>0</td>\n",
       "    </tr>\n",
       "    <tr>\n",
       "      <th>1172</th>\n",
       "      <td>1173</td>\n",
       "      <td>2.790222e+09</td>\n",
       "      <td>2.790222e+09</td>\n",
       "      <td>AnayaJarrett</td>\n",
       "      <td>NaN</td>\n",
       "      <td>NaN</td>\n",
       "      <td>NaN</td>\n",
       "      <td>3</td>\n",
       "      <td>21</td>\n",
       "      <td>0</td>\n",
       "      <td>...</td>\n",
       "      <td>0</td>\n",
       "      <td>0</td>\n",
       "      <td>0</td>\n",
       "      <td>12</td>\n",
       "      <td>0</td>\n",
       "      <td>1</td>\n",
       "      <td>0</td>\n",
       "      <td>2</td>\n",
       "      <td>0</td>\n",
       "      <td>0</td>\n",
       "    </tr>\n",
       "    <tr>\n",
       "      <th>1550</th>\n",
       "      <td>1551</td>\n",
       "      <td>3.235274e+09</td>\n",
       "      <td>3.235274e+09</td>\n",
       "      <td>FEveryStartup</td>\n",
       "      <td>NaN</td>\n",
       "      <td>NaN</td>\n",
       "      <td>NaN</td>\n",
       "      <td>8</td>\n",
       "      <td>1</td>\n",
       "      <td>1</td>\n",
       "      <td>...</td>\n",
       "      <td>0</td>\n",
       "      <td>0</td>\n",
       "      <td>0</td>\n",
       "      <td>13</td>\n",
       "      <td>0</td>\n",
       "      <td>2</td>\n",
       "      <td>1</td>\n",
       "      <td>1</td>\n",
       "      <td>0</td>\n",
       "      <td>0</td>\n",
       "    </tr>\n",
       "  </tbody>\n",
       "</table>\n",
       "<p>10 rows × 41 columns</p>\n",
       "</div>"
      ],
      "text/plain": [
       "      index            id        id_str    screen_name      location  \\\n",
       "1208   1209  8.410000e+17  8.410000e+17  SendNudes1099           NaN   \n",
       "1414   1415  7.940000e+17  7.940000e+17   JohnKorosec1     Ohio, USA   \n",
       "1453   1454  8.410000e+17  8.410000e+17     N_ChuiYing           NaN   \n",
       "2182   2183  8.410000e+17  8.410000e+17    sabo_sabo21           NaN   \n",
       "1705   1706  8.410000e+17  8.410000e+17     SueCoyle14  Arizona, USA   \n",
       "554     555  4.173635e+08  4.173635e+08     Shawndafut           NaN   \n",
       "1397   1398  2.763655e+07  2.763655e+07        thomp27           NaN   \n",
       "1417   1418  5.488054e+07  5.488054e+07        vipeeri           NaN   \n",
       "1172   1173  2.790222e+09  2.790222e+09   AnayaJarrett           NaN   \n",
       "1550   1551  3.235274e+09  3.235274e+09  FEveryStartup           NaN   \n",
       "\n",
       "                                            description  \\\n",
       "1208                                                NaN   \n",
       "1414                                                NaN   \n",
       "1453                                                NaN   \n",
       "2182                                                NaN   \n",
       "1705                                       art, museum.   \n",
       "554   Relationships and the Law of Attraction. Click...   \n",
       "1397  Pretty girl from Denmark. Want to meet somebod...   \n",
       "1417                                                NaN   \n",
       "1172                                                NaN   \n",
       "1550                                                NaN   \n",
       "\n",
       "                         url  followers_count  friends_count  listedcount  \\\n",
       "1208                     NaN                2             31            0   \n",
       "1414                     NaN                6            198            0   \n",
       "1453                     NaN                1             21            0   \n",
       "2182                     NaN                2             24            0   \n",
       "1705                     NaN                3             25            0   \n",
       "554   http://t.co/OQkH7uhWe9              258            991            0   \n",
       "1397                     NaN               69           3707            0   \n",
       "1417                     NaN                0             28            0   \n",
       "1172                     NaN                3             21            0   \n",
       "1550                     NaN                8              1            1   \n",
       "\n",
       "       ...   flag4  flag5 flag6  flag7 flag8 flag36 flag37 flag38 flag39  \\\n",
       "1208   ...       0      0     0     13     0      1      0      3      4   \n",
       "1414   ...       0      1     0     12     0      1      0      5      4   \n",
       "1453   ...       0      0     0     10     0      1      0      2      0   \n",
       "2182   ...       0      0     0     11     0      1      0      2      0   \n",
       "1705   ...       0      1     0     10     0      1      0      2      0   \n",
       "554    ...       0      0     1     10     0      0      4      8      0   \n",
       "1397   ...       0      0     0      7     0      2      2      9      0   \n",
       "1417   ...       0      0     0      7     0      1      0      3      0   \n",
       "1172   ...       0      0     0     12     0      1      0      2      0   \n",
       "1550   ...       0      0     0     13     0      2      1      1      0   \n",
       "\n",
       "      flag40  \n",
       "1208       0  \n",
       "1414       0  \n",
       "1453       0  \n",
       "2182       0  \n",
       "1705       0  \n",
       "554        0  \n",
       "1397       0  \n",
       "1417       0  \n",
       "1172       0  \n",
       "1550       0  \n",
       "\n",
       "[10 rows x 41 columns]"
      ]
     },
     "execution_count": 19,
     "metadata": {},
     "output_type": "execute_result"
    }
   ],
   "source": [
    "df.head(10)"
   ]
  },
  {
   "cell_type": "markdown",
   "metadata": {
    "deletable": true,
    "editable": true
   },
   "source": [
    "### Combination"
   ]
  },
  {
   "cell_type": "code",
   "execution_count": 20,
   "metadata": {
    "collapsed": false,
    "deletable": true,
    "editable": true
   },
   "outputs": [
    {
     "name": "stdout",
     "output_type": "stream",
     "text": [
      "(2218, 7775)\n",
      "(2218, 7755)\n"
     ]
    }
   ],
   "source": [
    "import scipy.sparse as sp\n",
    "h = sp.hstack((des1,lang1))\n",
    "print(h.shape)\n",
    "print(des1.shape)"
   ]
  },
  {
   "cell_type": "code",
   "execution_count": 27,
   "metadata": {
    "collapsed": false,
    "deletable": true,
    "editable": true
   },
   "outputs": [
    {
     "data": {
      "text/plain": [
       "(2218, 13)"
      ]
     },
     "execution_count": 27,
     "metadata": {},
     "output_type": "execute_result"
    }
   ],
   "source": [
    "df = df.sort_values('index',na_position='first')\n",
    "flag = np.matrix(df.loc[:,'flag1':column_name])\n",
    "flag.shape"
   ]
  },
  {
   "cell_type": "code",
   "execution_count": 28,
   "metadata": {
    "collapsed": false,
    "deletable": true,
    "editable": true
   },
   "outputs": [
    {
     "name": "stdout",
     "output_type": "stream",
     "text": [
      "(2218, 7788)\n"
     ]
    }
   ],
   "source": [
    "g = sp.hstack((h, flag))\n",
    "print (g.shape)"
   ]
  },
  {
   "cell_type": "markdown",
   "metadata": {
    "deletable": true,
    "editable": true
   },
   "source": [
    "### Classification"
   ]
  },
  {
   "cell_type": "code",
   "execution_count": 49,
   "metadata": {
    "collapsed": false,
    "deletable": true,
    "editable": true
   },
   "outputs": [
    {
     "name": "stdout",
     "output_type": "stream",
     "text": [
      "cmean accuracy = 0.8431\n",
      "mean precision = 0.8518\n",
      "mean recall = 0.8095\n",
      "mean f1 score = 0.8298\n",
      "mean AUC = 0.9191\n"
     ]
    }
   ],
   "source": [
    "from sklearn.model_selection import cross_val_predict\n",
    "from sklearn.naive_bayes import MultinomialNB,BernoulliNB\n",
    "from sklearn.linear_model import LogisticRegression\n",
    "from sklearn.feature_extraction.text import CountVectorizer\n",
    "from sklearn.model_selection import cross_val_score\n",
    "import numpy as np\n",
    "train_list = g\n",
    "target_list = df.bot\n",
    "accuracy = cross_val_score(MultinomialNB(alpha=0.1,fit_prior=True, class_prior=[1050,1168]), train_list, target_list, cv=10, scoring='accuracy')\n",
    "precision = cross_val_score(MultinomialNB(alpha=0.1,fit_prior=True, class_prior=[1050,1168]), train_list, target_list, cv=10, scoring='precision')\n",
    "recall = cross_val_score(MultinomialNB(alpha=0.1,fit_prior=True, class_prior=[1050,1168]), train_list, target_list, cv=10, scoring='recall')\n",
    "f1 = cross_val_score(MultinomialNB(alpha=0.1,fit_prior=True, class_prior=[1050,1168]), train_list, target_list, cv=10, scoring='f1')\n",
    "roc_auc = cross_val_score(MultinomialNB(alpha=0.1,fit_prior=True, class_prior=[1050,1168]), train_list, target_list, cv=10, scoring='roc_auc')\n",
    "print (\"cmean accuracy = %6.4f\"%np.mean(accuracy))\n",
    "print (\"mean precision = %6.4f\"%np.mean(precision))\n",
    "print (\"mean recall = %6.4f\"%np.mean(recall))\n",
    "print (\"mean f1 score = %6.4f\"%np.mean(f1))\n",
    "print (\"mean AUC = %6.4f\"%np.mean(roc_auc))"
   ]
  },
  {
   "cell_type": "code",
   "execution_count": 44,
   "metadata": {
    "collapsed": false,
    "deletable": true,
    "editable": true
   },
   "outputs": [
    {
     "name": "stdout",
     "output_type": "stream",
     "text": [
      "cmean accuracy = 0.8440\n"
     ]
    }
   ],
   "source": [
    "from sklearn.model_selection import cross_val_predict\n",
    "from sklearn.naive_bayes import MultinomialNB,BernoulliNB\n",
    "from sklearn.linear_model import LogisticRegression\n",
    "from sklearn.feature_extraction.text import CountVectorizer\n",
    "from sklearn.model_selection import cross_val_score\n",
    "from sklearn.linear_model import SGDClassifier\n",
    "import numpy as np\n",
    "train_list = g\n",
    "target_list = df.bot\n",
    "accuracy = cross_val_score(SGDClassifier(alpha=0.1), train_list, target_list, cv=10, scoring='accuracy')\n",
    "print (\"cmean accuracy = %6.4f\"%np.mean(accuracy))\n"
   ]
  },
  {
   "cell_type": "markdown",
   "metadata": {
    "deletable": true,
    "editable": true
   },
   "source": [
    "### BackUp"
   ]
  },
  {
   "cell_type": "code",
   "execution_count": 31,
   "metadata": {
    "collapsed": true,
    "deletable": true,
    "editable": true
   },
   "outputs": [],
   "source": [
    "from sklearn.naive_bayes import MultinomialNB\n",
    "MultinomialMB_clf = MultinomialNB().fit(des1, df.bot)"
   ]
  },
  {
   "cell_type": "code",
   "execution_count": 32,
   "metadata": {
    "collapsed": false,
    "deletable": true,
    "editable": true
   },
   "outputs": [
    {
     "name": "stdout",
     "output_type": "stream",
     "text": [
      "[[85681083]\n",
      " [34363304]\n",
      " [96321564]\n",
      " ..., \n",
      " [       4]\n",
      " [      23]\n",
      " [     101]]\n"
     ]
    },
    {
     "ename": "NameError",
     "evalue": "name 'X_train_counts' is not defined",
     "output_type": "error",
     "traceback": [
      "\u001b[0;31m---------------------------------------------------------------------------\u001b[0m",
      "\u001b[0;31mNameError\u001b[0m                                 Traceback (most recent call last)",
      "\u001b[0;32m<ipython-input-32-6eb9a1fa1909>\u001b[0m in \u001b[0;36m<module>\u001b[0;34m()\u001b[0m\n\u001b[1;32m      3\u001b[0m \u001b[0mx2\u001b[0m \u001b[0;34m=\u001b[0m \u001b[0mnp\u001b[0m\u001b[0;34m.\u001b[0m\u001b[0mmatrix\u001b[0m\u001b[0;34m(\u001b[0m\u001b[0mx2\u001b[0m\u001b[0;34m)\u001b[0m\u001b[0;34m.\u001b[0m\u001b[0mtranspose\u001b[0m\u001b[0;34m(\u001b[0m\u001b[0;34m)\u001b[0m\u001b[0;34m\u001b[0m\u001b[0m\n\u001b[1;32m      4\u001b[0m \u001b[0mprint\u001b[0m\u001b[0;34m(\u001b[0m\u001b[0mx2\u001b[0m\u001b[0;34m)\u001b[0m\u001b[0;34m\u001b[0m\u001b[0m\n\u001b[0;32m----> 5\u001b[0;31m \u001b[0mxx\u001b[0m \u001b[0;34m=\u001b[0m \u001b[0mX_train_counts\u001b[0m\u001b[0;34m\u001b[0m\u001b[0m\n\u001b[0m\u001b[1;32m      6\u001b[0m \u001b[0mprint\u001b[0m \u001b[0;34m(\u001b[0m\u001b[0mtype\u001b[0m\u001b[0;34m(\u001b[0m\u001b[0mx1\u001b[0m\u001b[0;34m)\u001b[0m\u001b[0;34m)\u001b[0m\u001b[0;34m\u001b[0m\u001b[0m\n\u001b[1;32m      7\u001b[0m \u001b[0mprint\u001b[0m \u001b[0;34m(\u001b[0m\u001b[0mtype\u001b[0m\u001b[0;34m(\u001b[0m\u001b[0mx2\u001b[0m\u001b[0;34m)\u001b[0m\u001b[0;34m)\u001b[0m\u001b[0;34m\u001b[0m\u001b[0m\n",
      "\u001b[0;31mNameError\u001b[0m: name 'X_train_counts' is not defined"
     ]
    }
   ],
   "source": [
    "x1 = df.followers_count.tolist()\n",
    "x2 = [x1]\n",
    "x2 = np.matrix(x2).transpose()\n",
    "print(x2)\n",
    "xx = X_train_counts\n",
    "print (type(x1))\n",
    "print (type(x2))\n",
    "print (type(xx))\n",
    "#np.concatenate((xx,x1),axis = 1)\n",
    "import scipy.sparse as sp\n",
    "h = sp.hstack((xx, x2))\n",
    "h.shape\n",
    "print(type(df.followers_count.values))\n",
    "print(type(df.followers_count.values))"
   ]
  },
  {
   "cell_type": "code",
   "execution_count": 74,
   "metadata": {
    "collapsed": false,
    "deletable": true,
    "editable": true
   },
   "outputs": [
    {
     "data": {
      "text/plain": [
       "array([[0, 0, 0, 1, 1, 1, 0, 1, 0, 0, 1, 0, 1, 1, 0, 1, 1, 0, 0, 0, 0, 0,\n",
       "        0, 1, 0, 1, 1, 0, 1, 0, 0, 1, 0, 1, 0, 0, 1, 0, 0, 0, 1, 1, 0, 1,\n",
       "        0, 1, 1, 1, 1, 1, 1, 1, 1, 1, 1, 1, 1, 0, 1, 1, 0, 1, 1, 0, 0, 1,\n",
       "        0, 0, 0, 1, 1, 1, 1, 0, 0, 1, 1, 0, 0, 0, 0, 0, 0, 0, 1, 1, 0, 1,\n",
       "        0, 0, 1, 0, 1, 1, 0, 0, 0, 0, 0, 0],\n",
       "       [1, 0, 1, 1, 0, 1, 1, 0, 1, 1, 0, 0, 0, 0, 0, 1, 0, 1, 0, 0, 0, 0,\n",
       "        1, 1, 1, 1, 0, 0, 0, 0, 1, 0, 0, 1, 0, 1, 0, 0, 0, 1, 1, 1, 1, 1,\n",
       "        1, 1, 1, 0, 1, 0, 0, 1, 0, 1, 0, 0, 0, 1, 1, 1, 0, 1, 1, 1, 0, 1,\n",
       "        1, 0, 1, 0, 1, 0, 1, 0, 1, 1, 0, 1, 1, 1, 0, 1, 0, 0, 0, 1, 0, 0,\n",
       "        1, 1, 0, 0, 0, 0, 1, 0, 0, 0, 1, 0],\n",
       "       [1, 0, 1, 0, 0, 1, 0, 1, 0, 1, 0, 1, 0, 1, 0, 1, 0, 0, 0, 1, 1, 0,\n",
       "        1, 0, 1, 1, 0, 0, 1, 1, 0, 1, 1, 1, 1, 0, 1, 1, 0, 1, 1, 1, 1, 1,\n",
       "        1, 0, 1, 0, 1, 1, 0, 1, 1, 0, 1, 0, 1, 0, 0, 1, 0, 1, 0, 0, 0, 0,\n",
       "        1, 0, 0, 0, 0, 0, 0, 1, 1, 0, 1, 0, 0, 0, 0, 1, 0, 0, 0, 0, 1, 1,\n",
       "        1, 1, 1, 1, 0, 0, 1, 0, 0, 0, 0, 0],\n",
       "       [1, 1, 0, 1, 0, 0, 0, 0, 0, 1, 1, 1, 0, 1, 1, 0, 1, 0, 1, 1, 0, 1,\n",
       "        1, 1, 1, 0, 1, 0, 1, 0, 0, 1, 0, 1, 1, 1, 0, 0, 0, 1, 0, 1, 1, 0,\n",
       "        1, 0, 1, 1, 0, 0, 0, 1, 1, 0, 1, 1, 1, 1, 0, 1, 1, 1, 0, 1, 1, 1,\n",
       "        1, 1, 0, 1, 0, 1, 0, 0, 1, 1, 0, 1, 1, 1, 1, 1, 1, 1, 1, 1, 0, 1,\n",
       "        0, 0, 1, 0, 0, 0, 1, 0, 0, 0, 1, 1],\n",
       "       [1, 0, 1, 0, 1, 1, 0, 0, 1, 1, 0, 1, 1, 0, 1, 1, 1, 0, 0, 1, 0, 0,\n",
       "        1, 1, 1, 0, 0, 0, 1, 0, 1, 1, 1, 1, 0, 1, 0, 1, 0, 0, 0, 0, 0, 0,\n",
       "        0, 0, 0, 1, 1, 1, 1, 0, 1, 0, 0, 1, 0, 1, 1, 0, 0, 1, 0, 0, 1, 1,\n",
       "        1, 0, 1, 1, 0, 0, 1, 0, 1, 0, 0, 0, 1, 1, 0, 0, 1, 0, 1, 0, 0, 0,\n",
       "        1, 1, 0, 1, 0, 0, 1, 1, 0, 0, 1, 0],\n",
       "       [0, 0, 1, 1, 1, 1, 1, 1, 0, 1, 0, 0, 1, 1, 1, 0, 1, 1, 0, 0, 0, 1,\n",
       "        1, 1, 1, 0, 0, 1, 1, 1, 0, 0, 0, 1, 1, 0, 1, 1, 1, 0, 0, 0, 1, 1,\n",
       "        1, 0, 0, 0, 1, 0, 0, 0, 0, 1, 1, 0, 1, 0, 0, 1, 0, 1, 1, 1, 1, 0,\n",
       "        1, 1, 0, 0, 0, 1, 1, 0, 0, 1, 1, 0, 1, 1, 0, 1, 1, 1, 0, 0, 1, 1,\n",
       "        0, 0, 1, 0, 0, 0, 1, 0, 0, 1, 0, 1]])"
      ]
     },
     "execution_count": 74,
     "metadata": {},
     "output_type": "execute_result"
    }
   ],
   "source": [
    "np.random.randint(2, size=(6, 100))"
   ]
  },
  {
   "cell_type": "code",
   "execution_count": 75,
   "metadata": {
    "collapsed": true,
    "deletable": true,
    "editable": true
   },
   "outputs": [],
   "source": [
    "s= '\"abc\"'"
   ]
  },
  {
   "cell_type": "code",
   "execution_count": 77,
   "metadata": {
    "collapsed": false,
    "deletable": true,
    "editable": true
   },
   "outputs": [
    {
     "data": {
      "text/plain": [
       "'abc'"
      ]
     },
     "execution_count": 77,
     "metadata": {},
     "output_type": "execute_result"
    }
   ],
   "source": [
    "s.strip('\"')"
   ]
  },
  {
   "cell_type": "code",
   "execution_count": null,
   "metadata": {
    "collapsed": true,
    "deletable": true,
    "editable": true
   },
   "outputs": [],
   "source": []
  }
 ],
 "metadata": {
  "anaconda-cloud": {},
  "kernelspec": {
   "display_name": "Python [default]",
   "language": "python",
   "name": "python3"
  },
  "language_info": {
   "codemirror_mode": {
    "name": "ipython",
    "version": 3
   },
   "file_extension": ".py",
   "mimetype": "text/x-python",
   "name": "python",
   "nbconvert_exporter": "python",
   "pygments_lexer": "ipython3",
   "version": "3.5.2"
  }
 },
 "nbformat": 4,
 "nbformat_minor": 2
}
