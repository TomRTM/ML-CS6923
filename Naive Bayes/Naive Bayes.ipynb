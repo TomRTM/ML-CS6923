{
 "cells": [
  {
   "cell_type": "code",
   "execution_count": 1,
   "metadata": {
    "collapsed": false,
    "deletable": true,
    "editable": true
   },
   "outputs": [
    {
     "name": "stdout",
     "output_type": "stream",
     "text": [
      "(2218, 28)\n"
     ]
    }
   ],
   "source": [
    "import pandas as pd\n",
    "import numpy as np\n",
    "\n",
    "df = pd.read_csv('all_users_v1.csv',encoding = \"ISO-8859-1\")\n",
    "df.head(4)\n",
    "print(df.shape)"
   ]
  },
  {
   "cell_type": "markdown",
   "metadata": {},
   "source": [
    "### ConutVector"
   ]
  },
  {
   "cell_type": "code",
   "execution_count": 2,
   "metadata": {
    "collapsed": false
   },
   "outputs": [
    {
     "data": {
      "text/plain": [
       "(2218, 7755)"
      ]
     },
     "execution_count": 2,
     "metadata": {},
     "output_type": "execute_result"
    }
   ],
   "source": [
    "from sklearn.feature_extraction.text import CountVectorizer\n",
    "count_vect = CountVectorizer()\n",
    "des1 = count_vect.fit_transform(df.description.values.astype('U'))\n",
    "lang1 = count_vect.fit_transform(df.lang.values.astype('U'))\n",
    "name1 = count_vect.fit_transform(df.name.values.astype('U'))\n",
    "des1.shape"
   ]
  },
  {
   "cell_type": "markdown",
   "metadata": {},
   "source": [
    "### TrueFalse Vector"
   ]
  },
  {
   "cell_type": "code",
   "execution_count": 3,
   "metadata": {
    "collapsed": false,
    "deletable": true,
    "editable": true
   },
   "outputs": [],
   "source": [
    "df.loc[:,'flag1'] = 1\n",
    "for i in df.index:    \n",
    "    if df.loc[i,'default_profile'] :\n",
    "        df.loc[i,'flag1'] = 1\n",
    "    else:\n",
    "        df.loc[i,'flag1'] = 0"
   ]
  },
  {
   "cell_type": "code",
   "execution_count": 4,
   "metadata": {
    "collapsed": true
   },
   "outputs": [],
   "source": [
    "df.loc[:,'flag2'] = 1\n",
    "for i in df.index:    \n",
    "    if df.loc[i,'has_extended_profile'] :\n",
    "        df.loc[i,'flag2'] = 1\n",
    "    else:\n",
    "        df.loc[i,'flag2'] = 0"
   ]
  },
  {
   "cell_type": "code",
   "execution_count": 5,
   "metadata": {
    "collapsed": true
   },
   "outputs": [],
   "source": [
    "df.loc[:,'flag3'] = 1\n",
    "for i in df.index:    \n",
    "    if df.loc[i,'default_profile_image'] :\n",
    "        df.loc[i,'flag3'] = 1\n",
    "    else:\n",
    "        df.loc[i,'flag3'] = 0"
   ]
  },
  {
   "cell_type": "code",
   "execution_count": 6,
   "metadata": {
    "collapsed": true,
    "deletable": true,
    "editable": true
   },
   "outputs": [],
   "source": [
    "df.loc[:,'flag4'] = 1\n",
    "for i in df.index:    \n",
    "    if df.loc[i,'verified'] :\n",
    "        df.loc[i,'flag4'] = 1\n",
    "    else:\n",
    "        df.loc[i,'flag4'] = 0"
   ]
  },
  {
   "cell_type": "markdown",
   "metadata": {},
   "source": [
    "### Number Vector"
   ]
  },
  {
   "cell_type": "code",
   "execution_count": 7,
   "metadata": {
    "collapsed": false
   },
   "outputs": [],
   "source": [
    "df.loc[:,'flag5']=1\n",
    "for i in df.index: \n",
    "\n",
    "    if type(df.loc[i,'location'])==type('str'):\n",
    "        df.loc[i,'flag5']=1\n",
    "        #print(df.location[i])\n",
    "    else:\n",
    "        df.loc[i,'flag5']=0"
   ]
  },
  {
   "cell_type": "code",
   "execution_count": 8,
   "metadata": {
    "collapsed": false
   },
   "outputs": [],
   "source": [
    "df.loc[:,'flag6']=1\n",
    "for i in df.index: \n",
    "\n",
    "    if 't.co' in str(df.loc[i,'url']):\n",
    "        df.loc[i,'flag6']=1\n",
    "        #print(df.location[i])\n",
    "    else:\n",
    "        df.loc[i,'flag6']=0"
   ]
  },
  {
   "cell_type": "code",
   "execution_count": 9,
   "metadata": {
    "collapsed": false
   },
   "outputs": [],
   "source": [
    "df.loc[:,'flag7']=1\n",
    "for i in df.index:\n",
    "    if df.loc[i,'followers_count']==0:\n",
    "        df.loc[i,'flag7']=1\n",
    "    elif 0<df.loc[i,'followers_count']<=2:\n",
    "        df.loc[i,'flag7']=2\n",
    "    elif 3<=df.loc[i,'followers_count']<=8:\n",
    "        df.loc[i,'flag7']=3\n",
    "    elif 9<=df.loc[i,'followers_count']<=16:\n",
    "        df.loc[i,'flag7']=4\n",
    "    elif 17<=df.loc[i,'followers_count']<=32:\n",
    "        df.loc[i,'flag7']=5\n",
    "    elif 33<=df.loc[i,'followers_count']<=50:\n",
    "        df.loc[i,'flag7']=6\n",
    "    elif 51<=df.loc[i,'followers_count']<=74:\n",
    "        df.loc[i,'flag7']=7\n",
    "    elif 75<=df.loc[i,'followers_count']<=104:\n",
    "        df.loc[i,'flag7']=8\n",
    "    elif 105<=df.loc[i,'followers_count']<=159:\n",
    "        df.loc[i,'flag7']=9\n",
    "    elif 160<=df.loc[i,'followers_count']<=219:\n",
    "        df.loc[i,'flag7']=10\n",
    "    elif 220<=df.loc[i,'followers_count']<=314:\n",
    "        df.loc[i,'flag7']=11\n",
    "    elif 315<=df.loc[i,'followers_count']<=475:\n",
    "        df.loc[i,'flag7']=12\n",
    "    elif 476<=df.loc[i,'followers_count']<=758:\n",
    "        df.loc[i,'flag7']=13\n",
    "    elif 759<=df.loc[i,'followers_count']<=1137:\n",
    "        df.loc[i,'flag7']=14\n",
    "    elif 1138<=df.loc[i,'followers_count']<=2740:\n",
    "        df.loc[i,'flag7']=15\n",
    "    elif 2741<=df.loc[i,'followers_count']<=5730:\n",
    "        df.loc[i,'flag7']=16\n",
    "    elif 5731<=df.loc[i,'followers_count']<=14732:\n",
    "        df.loc[i,'flag7']=17\n",
    "    elif 14733<=df.loc[i,'followers_count']<=54490:\n",
    "        df.loc[i,'flag7']=18\n",
    "    elif 54490<df.loc[i,'followers_count']:\n",
    "        df.loc[i,'flag7']=19"
   ]
  },
  {
   "cell_type": "code",
   "execution_count": 10,
   "metadata": {
    "collapsed": false
   },
   "outputs": [],
   "source": [
    "df.loc[:,'flag8']=1\n",
    "for i in df.index:\n",
    "    if df.loc[i,'friends_count']==0:\n",
    "        df.loc[i,'flag8']=1\n",
    "    elif df.loc[i,'friends_count']==1:\n",
    "        df.loc[i,'flag8']=2\n",
    "    elif 2<=df.loc[i,'friends_count']<=19:\n",
    "        df.loc[i,'flag8']=3\n",
    "    elif 20<=df.loc[i,'friends_count']<=55:\n",
    "        df.loc[i,'flag8']=4\n",
    "    elif 56<=df.loc[i,'friends_count']<=124:\n",
    "        df.loc[i,'flag8']=5\n",
    "    elif 125<=df.loc[i,'friends_count']<=242:\n",
    "        df.loc[i,'flag8']=6\n",
    "    elif 243<=df.loc[i,'friends_count']<=349:\n",
    "        df.loc[i,'flag8']=7\n",
    "    elif 350<=df.loc[i,'friends_count']<=572:\n",
    "        df.loc[i,'flag8']=8\n",
    "    elif 573<=df.loc[i,'friends_count']<=973:\n",
    "        df.loc[i,'flag8']=9\n",
    "    elif 974<=df.loc[i,'friends_count']<=2194:\n",
    "        df.loc[i,'flag8']=10\n",
    "    elif 2195<=df.loc[i,'friends_count']<=389732:\n",
    "        df.loc[i,'flag8']=11\n",
    "    elif 389732<df.loc[i,'friends_count']:\n",
    "        df.loc[i,'flag8']=12"
   ]
  },
  {
   "cell_type": "code",
   "execution_count": 11,
   "metadata": {
    "collapsed": false
   },
   "outputs": [],
   "source": [
    "df.loc[:,'flag9']=1\n",
    "for i in df.index:\n",
    "    if df.loc[i,'listedcount']==0:\n",
    "        df.loc[i,'flag9']=1\n",
    "    elif df.loc[i,'listedcount']>2495:\n",
    "        df.loc[i,'flag9']=2\n",
    "    elif 1<=df.loc[i,'listedcount']<=2:\n",
    "        df.loc[i,'flag9']=3\n",
    "    elif 3<=df.loc[i,'listedcount']<=12:\n",
    "        df.loc[i,'flag9']=4\n",
    "    elif 13<=df.loc[i,'listedcount']<=40:\n",
    "        df.loc[i,'flag9']=5\n",
    "    elif 41<=df.loc[ i,'listedcount']<=200:\n",
    "        df.loc[i,'flag9']=6\n",
    "    elif 201<=df.loc[i,'listedcount']<=2495:\n",
    "        df.loc[i,'flag9']=7"
   ]
  },
  {
   "cell_type": "code",
   "execution_count": 12,
   "metadata": {
    "collapsed": false
   },
   "outputs": [],
   "source": [
    "df.loc[:,'flag10']=1\n",
    "for i in df.index:\n",
    "    if df.loc[i,'favourites_count']==0:\n",
    "        df.loc[i,'flag10']=1\n",
    "    elif 1<=df.loc[i,'favourites_count']<=10:\n",
    "        df.loc[i,'flag10']=2\n",
    "    elif 11<=df.loc[i,'favourites_count']<=20:\n",
    "        df.loc[i,'flag10']=3\n",
    "    elif 21<=df.loc[i,'favourites_count']<=30:\n",
    "        df.loc[i,'flag10']=4\n",
    "    elif 31<=df.loc[i,'favourites_count']<=40:\n",
    "        df.loc[i,'flag10']=5\n",
    "    elif 41<=df.loc[i,'favourites_count']<=50:\n",
    "        df.loc[i,'flag10']=6\n",
    "    elif 51<=df.loc[i,'favourites_count']<=60:\n",
    "        df.loc[i,'flag10']=7\n",
    "    elif 61<=df.loc[i,'favourites_count']<=70:\n",
    "        df.loc[i,'flag10']=8\n",
    "    elif 71<=df.loc[i,'favourites_count']<=80:\n",
    "        df.loc[i,'flag10']=9\n",
    "    elif 81<=df.loc[i,'favourites_count']<=90:\n",
    "        df.loc[i,'flag10']=10\n",
    "    elif 91<=df.loc[i,'favourites_count']<=100:\n",
    "        df.loc[i,'flag10']=11\n",
    "    elif 101<=df.loc[i,'favourites_count']<=200:\n",
    "        df.loc[i,'flag10']=12\n",
    "    elif 201<=df.loc[i,'favourites_count']<=500:\n",
    "        df.loc[i,'flag10']=13\n",
    "    elif 501<=df.loc[i,'favourites_count']<=1600:\n",
    "        df.loc[i,'flag10']=14\n",
    "    elif 1601<=df.loc[i,'favourites_count']:\n",
    "        df.loc[i,'flag10']=15"
   ]
  },
  {
   "cell_type": "code",
   "execution_count": null,
   "metadata": {
    "collapsed": true
   },
   "outputs": [],
   "source": []
  },
  {
   "cell_type": "code",
   "execution_count": 13,
   "metadata": {
    "collapsed": false
   },
   "outputs": [],
   "source": [
    "df.loc[:,'flag11']=1\n",
    "for i in df.index:\n",
    "    if df.loc[i,'statuses_count']==0:\n",
    "        df.loc[i,'flag10']=1\n",
    "    elif 1<=df.loc[i,'statuses_count']<=13:\n",
    "         df.loc[i,'flag10']=2\n",
    "    elif 14<=df.loc[i,'statuses_count']<=50:\n",
    "         df.loc[i,'flag10']=3\n",
    "    elif 51<=df.loc[i,'statuses_count']<=133:\n",
    "         df.loc[i,'flag10']=4\n",
    "    elif 134<=df.loc[i,'statuses_count']<=355:\n",
    "         df.loc[i,'flag10']=5\n",
    "    elif 356<=df.loc[i,'statuses_count']<=703:\n",
    "         df.loc[i,'flag10']=6\n",
    "    elif 704<=df.loc[i,'statuses_count']<=1439:\n",
    "         df.loc[i,'flag10']=7\n",
    "    elif 1440<=df.loc[i,'statuses_count']<=2358:\n",
    "         df.loc[i,'flag10']=8\n",
    "    elif 2359<=df.loc[i,'statuses_count']<=3621:\n",
    "         df.loc[i,'flag10']=9\n",
    "    elif 3622<=df.loc[i,'statuses_count']<=5250:\n",
    "         df.loc[i,'flag10']=10\n",
    "    elif 5251<=df.loc[i,'statuses_count']<=7837:\n",
    "         df.loc[i,'flag10']=11\n",
    "    elif 7838<=df.loc[i,'statuses_count']<=12150:\n",
    "         df.loc[i,'flag10']=12\n",
    "    elif 12151<=df.loc[i,'statuses_count']<=19498:\n",
    "         df.loc[i,'flag10']=13\n",
    "    elif 19499<=df.loc[i,'statuses_count']<=38950:\n",
    "         df.loc[i,'flag10']=14\n",
    "    elif 38951<=df.loc[i,'statuses_count']:\n",
    "         df.loc[i,'flag10']=15"
   ]
  },
  {
   "cell_type": "code",
   "execution_count": 14,
   "metadata": {
    "collapsed": false
   },
   "outputs": [
    {
     "data": {
      "text/html": [
       "<div>\n",
       "<table border=\"1\" class=\"dataframe\">\n",
       "  <thead>\n",
       "    <tr style=\"text-align: right;\">\n",
       "      <th></th>\n",
       "      <th>index</th>\n",
       "      <th>id</th>\n",
       "      <th>id_str</th>\n",
       "      <th>screen_name</th>\n",
       "      <th>location</th>\n",
       "      <th>description</th>\n",
       "      <th>url</th>\n",
       "      <th>followers_count</th>\n",
       "      <th>friends_count</th>\n",
       "      <th>listedcount</th>\n",
       "      <th>...</th>\n",
       "      <th>flag2</th>\n",
       "      <th>flag3</th>\n",
       "      <th>flag4</th>\n",
       "      <th>flag5</th>\n",
       "      <th>flag6</th>\n",
       "      <th>flag7</th>\n",
       "      <th>flag8</th>\n",
       "      <th>flag9</th>\n",
       "      <th>flag10</th>\n",
       "      <th>flag11</th>\n",
       "    </tr>\n",
       "  </thead>\n",
       "  <tbody>\n",
       "    <tr>\n",
       "      <th>0</th>\n",
       "      <td>1</td>\n",
       "      <td>3.471604e+07</td>\n",
       "      <td>3.471604e+07</td>\n",
       "      <td>aaroncarter</td>\n",
       "      <td>Sony Recording Artist</td>\n",
       "      <td>Singer¢ Producer¢ Song Writer - NEW MUSIC ...</td>\n",
       "      <td>https://t.co/O6YgEKxfCR</td>\n",
       "      <td>588598</td>\n",
       "      <td>42873</td>\n",
       "      <td>4896</td>\n",
       "      <td>...</td>\n",
       "      <td>1</td>\n",
       "      <td>0</td>\n",
       "      <td>1</td>\n",
       "      <td>1</td>\n",
       "      <td>1</td>\n",
       "      <td>19</td>\n",
       "      <td>11</td>\n",
       "      <td>2</td>\n",
       "      <td>15</td>\n",
       "      <td>1</td>\n",
       "    </tr>\n",
       "    <tr>\n",
       "      <th>1</th>\n",
       "      <td>2</td>\n",
       "      <td>3.013511e+06</td>\n",
       "      <td>3.013511e+06</td>\n",
       "      <td>michellebranch</td>\n",
       "      <td>NaN</td>\n",
       "      <td>singer/songwriter, hopeless romantic, drinker ...</td>\n",
       "      <td>https://t.co/2vSKw7cmzC</td>\n",
       "      <td>292668</td>\n",
       "      <td>972</td>\n",
       "      <td>6067</td>\n",
       "      <td>...</td>\n",
       "      <td>0</td>\n",
       "      <td>0</td>\n",
       "      <td>1</td>\n",
       "      <td>0</td>\n",
       "      <td>1</td>\n",
       "      <td>19</td>\n",
       "      <td>9</td>\n",
       "      <td>2</td>\n",
       "      <td>13</td>\n",
       "      <td>1</td>\n",
       "    </tr>\n",
       "    <tr>\n",
       "      <th>2</th>\n",
       "      <td>3</td>\n",
       "      <td>5.623762e+07</td>\n",
       "      <td>5.623762e+07</td>\n",
       "      <td>stronginmyfaith</td>\n",
       "      <td>NaN</td>\n",
       "      <td>NaN</td>\n",
       "      <td>NaN</td>\n",
       "      <td>1</td>\n",
       "      <td>8</td>\n",
       "      <td>0</td>\n",
       "      <td>...</td>\n",
       "      <td>0</td>\n",
       "      <td>1</td>\n",
       "      <td>0</td>\n",
       "      <td>0</td>\n",
       "      <td>0</td>\n",
       "      <td>2</td>\n",
       "      <td>3</td>\n",
       "      <td>1</td>\n",
       "      <td>2</td>\n",
       "      <td>1</td>\n",
       "    </tr>\n",
       "    <tr>\n",
       "      <th>3</th>\n",
       "      <td>4</td>\n",
       "      <td>2.796428e+07</td>\n",
       "      <td>2.796428e+07</td>\n",
       "      <td>Jessicaveronica</td>\n",
       "      <td>5th Dimension</td>\n",
       "      <td>@TheVeronicas  æ Wanderer, worshiper, if you ...</td>\n",
       "      <td>https://t.co/U6yNZoVAE4</td>\n",
       "      <td>222754</td>\n",
       "      <td>314</td>\n",
       "      <td>3253</td>\n",
       "      <td>...</td>\n",
       "      <td>0</td>\n",
       "      <td>0</td>\n",
       "      <td>1</td>\n",
       "      <td>1</td>\n",
       "      <td>1</td>\n",
       "      <td>19</td>\n",
       "      <td>7</td>\n",
       "      <td>2</td>\n",
       "      <td>12</td>\n",
       "      <td>1</td>\n",
       "    </tr>\n",
       "    <tr>\n",
       "      <th>4</th>\n",
       "      <td>5</td>\n",
       "      <td>5.528761e+08</td>\n",
       "      <td>5.528761e+08</td>\n",
       "      <td>resargento</td>\n",
       "      <td>brasil</td>\n",
       "      <td>meio ogra mas o cora_£o © de mocinha</td>\n",
       "      <td>NaN</td>\n",
       "      <td>652</td>\n",
       "      <td>454</td>\n",
       "      <td>2</td>\n",
       "      <td>...</td>\n",
       "      <td>1</td>\n",
       "      <td>0</td>\n",
       "      <td>0</td>\n",
       "      <td>1</td>\n",
       "      <td>0</td>\n",
       "      <td>13</td>\n",
       "      <td>8</td>\n",
       "      <td>3</td>\n",
       "      <td>14</td>\n",
       "      <td>1</td>\n",
       "    </tr>\n",
       "    <tr>\n",
       "      <th>5</th>\n",
       "      <td>6</td>\n",
       "      <td>3.810743e+09</td>\n",
       "      <td>3.810743e+09</td>\n",
       "      <td>crazyl1f</td>\n",
       "      <td>NaN</td>\n",
       "      <td>NaN</td>\n",
       "      <td>NaN</td>\n",
       "      <td>2</td>\n",
       "      <td>5</td>\n",
       "      <td>0</td>\n",
       "      <td>...</td>\n",
       "      <td>0</td>\n",
       "      <td>1</td>\n",
       "      <td>0</td>\n",
       "      <td>0</td>\n",
       "      <td>0</td>\n",
       "      <td>2</td>\n",
       "      <td>3</td>\n",
       "      <td>1</td>\n",
       "      <td>2</td>\n",
       "      <td>1</td>\n",
       "    </tr>\n",
       "    <tr>\n",
       "      <th>6</th>\n",
       "      <td>7</td>\n",
       "      <td>1.531344e+09</td>\n",
       "      <td>1.531344e+09</td>\n",
       "      <td>TaniasimonTania</td>\n",
       "      <td>Milano</td>\n",
       "      <td>Mechanical engineer, F1 fan and traveler _</td>\n",
       "      <td>NaN</td>\n",
       "      <td>27</td>\n",
       "      <td>25</td>\n",
       "      <td>0</td>\n",
       "      <td>...</td>\n",
       "      <td>0</td>\n",
       "      <td>0</td>\n",
       "      <td>0</td>\n",
       "      <td>1</td>\n",
       "      <td>0</td>\n",
       "      <td>5</td>\n",
       "      <td>4</td>\n",
       "      <td>1</td>\n",
       "      <td>3</td>\n",
       "      <td>1</td>\n",
       "    </tr>\n",
       "    <tr>\n",
       "      <th>7</th>\n",
       "      <td>8</td>\n",
       "      <td>1.289613e+09</td>\n",
       "      <td>1.289613e+09</td>\n",
       "      <td>YCPRProf</td>\n",
       "      <td>ÔÔ£Ô_-_´Ù-Gamma Iota Advisor</td>\n",
       "      <td>We are the music makers, and we are the dreame...</td>\n",
       "      <td>https://t.co/0qxQVPZXRS</td>\n",
       "      <td>322</td>\n",
       "      <td>198</td>\n",
       "      <td>9</td>\n",
       "      <td>...</td>\n",
       "      <td>0</td>\n",
       "      <td>0</td>\n",
       "      <td>0</td>\n",
       "      <td>1</td>\n",
       "      <td>1</td>\n",
       "      <td>12</td>\n",
       "      <td>6</td>\n",
       "      <td>4</td>\n",
       "      <td>11</td>\n",
       "      <td>1</td>\n",
       "    </tr>\n",
       "    <tr>\n",
       "      <th>8</th>\n",
       "      <td>9</td>\n",
       "      <td>1.998091e+07</td>\n",
       "      <td>1.998091e+07</td>\n",
       "      <td>bandofhorses</td>\n",
       "      <td>NaN</td>\n",
       "      <td>'Why Are You OK' out now - https://t.co/G7QeyE...</td>\n",
       "      <td>https://t.co/KcS6ANtb3a</td>\n",
       "      <td>228697</td>\n",
       "      <td>8613</td>\n",
       "      <td>4071</td>\n",
       "      <td>...</td>\n",
       "      <td>0</td>\n",
       "      <td>0</td>\n",
       "      <td>1</td>\n",
       "      <td>0</td>\n",
       "      <td>1</td>\n",
       "      <td>19</td>\n",
       "      <td>11</td>\n",
       "      <td>2</td>\n",
       "      <td>8</td>\n",
       "      <td>1</td>\n",
       "    </tr>\n",
       "    <tr>\n",
       "      <th>9</th>\n",
       "      <td>10</td>\n",
       "      <td>3.782236e+08</td>\n",
       "      <td>3.782236e+08</td>\n",
       "      <td>sparker</td>\n",
       "      <td>SF / LA / NYC</td>\n",
       "      <td>Napster, Plaxo, Facebook, Causes, Spotify &amp; Ai...</td>\n",
       "      <td>https://t.co/OChMaSsvLB</td>\n",
       "      <td>429442</td>\n",
       "      <td>600</td>\n",
       "      <td>4995</td>\n",
       "      <td>...</td>\n",
       "      <td>0</td>\n",
       "      <td>0</td>\n",
       "      <td>1</td>\n",
       "      <td>1</td>\n",
       "      <td>1</td>\n",
       "      <td>19</td>\n",
       "      <td>9</td>\n",
       "      <td>2</td>\n",
       "      <td>6</td>\n",
       "      <td>1</td>\n",
       "    </tr>\n",
       "  </tbody>\n",
       "</table>\n",
       "<p>10 rows × 39 columns</p>\n",
       "</div>"
      ],
      "text/plain": [
       "   index            id        id_str      screen_name  \\\n",
       "0      1  3.471604e+07  3.471604e+07      aaroncarter   \n",
       "1      2  3.013511e+06  3.013511e+06   michellebranch   \n",
       "2      3  5.623762e+07  5.623762e+07  stronginmyfaith   \n",
       "3      4  2.796428e+07  2.796428e+07  Jessicaveronica   \n",
       "4      5  5.528761e+08  5.528761e+08       resargento   \n",
       "5      6  3.810743e+09  3.810743e+09         crazyl1f   \n",
       "6      7  1.531344e+09  1.531344e+09  TaniasimonTania   \n",
       "7      8  1.289613e+09  1.289613e+09         YCPRProf   \n",
       "8      9  1.998091e+07  1.998091e+07     bandofhorses   \n",
       "9     10  3.782236e+08  3.782236e+08          sparker   \n",
       "\n",
       "                           location  \\\n",
       "0            Sony Recording Artist    \n",
       "1                               NaN   \n",
       "2                               NaN   \n",
       "3                    5th Dimension    \n",
       "4                            brasil   \n",
       "5                               NaN   \n",
       "6                            Milano   \n",
       "7  ÔÔ£Ô_-_´Ù-Gamma Iota Advisor   \n",
       "8                               NaN   \n",
       "9                     SF / LA / NYC   \n",
       "\n",
       "                                         description                      url  \\\n",
       "0  Singer¢ Producer¢ Song Writer - NEW MUSIC ...  https://t.co/O6YgEKxfCR   \n",
       "1  singer/songwriter, hopeless romantic, drinker ...  https://t.co/2vSKw7cmzC   \n",
       "2                                                NaN                      NaN   \n",
       "3  @TheVeronicas  æ Wanderer, worshiper, if you ...  https://t.co/U6yNZoVAE4   \n",
       "4            meio ogra mas o cora_£o © de mocinha                      NaN   \n",
       "5                                                NaN                      NaN   \n",
       "6      Mechanical engineer, F1 fan and traveler _                      NaN   \n",
       "7  We are the music makers, and we are the dreame...  https://t.co/0qxQVPZXRS   \n",
       "8  'Why Are You OK' out now - https://t.co/G7QeyE...  https://t.co/KcS6ANtb3a   \n",
       "9  Napster, Plaxo, Facebook, Causes, Spotify & Ai...  https://t.co/OChMaSsvLB   \n",
       "\n",
       "   followers_count  friends_count  listedcount   ...   flag2  flag3 flag4  \\\n",
       "0           588598          42873         4896   ...       1      0     1   \n",
       "1           292668            972         6067   ...       0      0     1   \n",
       "2                1              8            0   ...       0      1     0   \n",
       "3           222754            314         3253   ...       0      0     1   \n",
       "4              652            454            2   ...       1      0     0   \n",
       "5                2              5            0   ...       0      1     0   \n",
       "6               27             25            0   ...       0      0     0   \n",
       "7              322            198            9   ...       0      0     0   \n",
       "8           228697           8613         4071   ...       0      0     1   \n",
       "9           429442            600         4995   ...       0      0     1   \n",
       "\n",
       "   flag5 flag6 flag7 flag8 flag9 flag10  flag11  \n",
       "0      1     1    19    11     2     15       1  \n",
       "1      0     1    19     9     2     13       1  \n",
       "2      0     0     2     3     1      2       1  \n",
       "3      1     1    19     7     2     12       1  \n",
       "4      1     0    13     8     3     14       1  \n",
       "5      0     0     2     3     1      2       1  \n",
       "6      1     0     5     4     1      3       1  \n",
       "7      1     1    12     6     4     11       1  \n",
       "8      0     1    19    11     2      8       1  \n",
       "9      1     1    19     9     2      6       1  \n",
       "\n",
       "[10 rows x 39 columns]"
      ]
     },
     "execution_count": 14,
     "metadata": {},
     "output_type": "execute_result"
    }
   ],
   "source": [
    "df.head(10)"
   ]
  },
  {
   "cell_type": "markdown",
   "metadata": {},
   "source": [
    "### Combination"
   ]
  },
  {
   "cell_type": "code",
   "execution_count": 15,
   "metadata": {
    "collapsed": false
   },
   "outputs": [
    {
     "data": {
      "text/plain": [
       "scipy.sparse.csr.csr_matrix"
      ]
     },
     "execution_count": 15,
     "metadata": {},
     "output_type": "execute_result"
    }
   ],
   "source": [
    "type(des1)"
   ]
  },
  {
   "cell_type": "code",
   "execution_count": 16,
   "metadata": {
    "collapsed": false
   },
   "outputs": [
    {
     "data": {
      "text/plain": [
       "(2218, 10971)"
      ]
     },
     "execution_count": 16,
     "metadata": {},
     "output_type": "execute_result"
    }
   ],
   "source": [
    "import scipy.sparse as sp\n",
    "h = sp.hstack((des1,lang1))\n",
    "h = sp.hstack((h,name1))\n",
    "h.shape"
   ]
  },
  {
   "cell_type": "code",
   "execution_count": 17,
   "metadata": {
    "collapsed": false
   },
   "outputs": [
    {
     "data": {
      "text/plain": [
       "numpy.matrixlib.defmatrix.matrix"
      ]
     },
     "execution_count": 17,
     "metadata": {},
     "output_type": "execute_result"
    }
   ],
   "source": [
    "flag19 = np.matrix(df[['flag1','flag2','flag3','flag4','flag5','flag6','flag7','flag8','flag9','flag10',]])\n",
    "type(flag19)"
   ]
  },
  {
   "cell_type": "code",
   "execution_count": 18,
   "metadata": {
    "collapsed": true
   },
   "outputs": [],
   "source": [
    "f = [None] * 11\n",
    "f[1] = np.matrix(df.flag1).transpose()\n",
    "f[2] = np.matrix(df.flag2).transpose()\n",
    "f[3] = np.matrix(df.flag3).transpose()\n",
    "f[4] = np.matrix(df.flag4).transpose()\n",
    "f[5] = np.matrix(df.flag5).transpose()\n",
    "f[6] = np.matrix(df.flag6).transpose()\n",
    "f[7] = np.matrix(df.flag7).transpose()\n",
    "f[8] = np.matrix(df.flag8).transpose()\n",
    "f[9] = np.matrix(df.flag9).transpose()\n",
    "f[10] = np.matrix(df.flag10).transpose()\n",
    "f[0] = np.matrix(df.flag11).transpose()"
   ]
  },
  {
   "cell_type": "code",
   "execution_count": 19,
   "metadata": {
    "collapsed": false,
    "deletable": true,
    "editable": true
   },
   "outputs": [],
   "source": [
    "g = h\n",
    "for i in range(10):\n",
    "    g = sp.hstack((g, f[i]))"
   ]
  },
  {
   "cell_type": "code",
   "execution_count": 20,
   "metadata": {
    "collapsed": false
   },
   "outputs": [
    {
     "data": {
      "text/plain": [
       "<2218x10981 sparse matrix of type '<class 'numpy.int64'>'\n",
       "\twith 43070 stored elements in COOrdinate format>"
      ]
     },
     "execution_count": 20,
     "metadata": {},
     "output_type": "execute_result"
    }
   ],
   "source": [
    "g"
   ]
  },
  {
   "cell_type": "markdown",
   "metadata": {},
   "source": [
    "### Classification"
   ]
  },
  {
   "cell_type": "code",
   "execution_count": 22,
   "metadata": {
    "collapsed": false,
    "deletable": true,
    "editable": true
   },
   "outputs": [
    {
     "name": "stdout",
     "output_type": "stream",
     "text": [
      "cmean accuracy = 0.8445\n",
      "mean precision = 0.8855\n",
      "mean recall = 0.7705\n",
      "mean f1 score = 0.8236\n",
      "mean AUC = 0.9190\n"
     ]
    }
   ],
   "source": [
    "from sklearn.model_selection import cross_val_predict\n",
    "from sklearn.naive_bayes import MultinomialNB,BernoulliNB\n",
    "from sklearn.linear_model import LogisticRegression\n",
    "from sklearn.feature_extraction.text import CountVectorizer\n",
    "from sklearn.model_selection import cross_val_score\n",
    "import numpy as np\n",
    "train_list = g\n",
    "target_list = df.bot\n",
    "accuracy = cross_val_score(MultinomialNB(alpha=0.1,fit_prior=True, class_prior=[10,10]), train_list, target_list, cv=10, scoring='accuracy')\n",
    "precision = cross_val_score(MultinomialNB(alpha=0.1), train_list, target_list, cv=10, scoring='precision')\n",
    "recall = cross_val_score(MultinomialNB(alpha=0.1), train_list, target_list, cv=10, scoring='recall')\n",
    "f1 = cross_val_score(MultinomialNB(alpha=0.1), train_list, target_list, cv=10, scoring='f1')\n",
    "roc_auc = cross_val_score(MultinomialNB(alpha=0.1), train_list, target_list, cv=10, scoring='roc_auc')\n",
    "print (\"cmean accuracy = %6.4f\"%np.mean(accuracy))\n",
    "print (\"mean precision = %6.4f\"%np.mean(precision))\n",
    "print (\"mean recall = %6.4f\"%np.mean(recall))\n",
    "print (\"mean f1 score = %6.4f\"%np.mean(f1))\n",
    "print (\"mean AUC = %6.4f\"%np.mean(roc_auc))"
   ]
  },
  {
   "cell_type": "markdown",
   "metadata": {},
   "source": [
    "### BackUp"
   ]
  },
  {
   "cell_type": "code",
   "execution_count": 31,
   "metadata": {
    "collapsed": true,
    "deletable": true,
    "editable": true
   },
   "outputs": [],
   "source": [
    "from sklearn.naive_bayes import MultinomialNB\n",
    "MultinomialMB_clf = MultinomialNB().fit(des1, df.bot)"
   ]
  },
  {
   "cell_type": "code",
   "execution_count": 32,
   "metadata": {
    "collapsed": false,
    "deletable": true,
    "editable": true
   },
   "outputs": [
    {
     "name": "stdout",
     "output_type": "stream",
     "text": [
      "[[85681083]\n",
      " [34363304]\n",
      " [96321564]\n",
      " ..., \n",
      " [       4]\n",
      " [      23]\n",
      " [     101]]\n"
     ]
    },
    {
     "ename": "NameError",
     "evalue": "name 'X_train_counts' is not defined",
     "output_type": "error",
     "traceback": [
      "\u001b[0;31m---------------------------------------------------------------------------\u001b[0m",
      "\u001b[0;31mNameError\u001b[0m                                 Traceback (most recent call last)",
      "\u001b[0;32m<ipython-input-32-6eb9a1fa1909>\u001b[0m in \u001b[0;36m<module>\u001b[0;34m()\u001b[0m\n\u001b[1;32m      3\u001b[0m \u001b[0mx2\u001b[0m \u001b[0;34m=\u001b[0m \u001b[0mnp\u001b[0m\u001b[0;34m.\u001b[0m\u001b[0mmatrix\u001b[0m\u001b[0;34m(\u001b[0m\u001b[0mx2\u001b[0m\u001b[0;34m)\u001b[0m\u001b[0;34m.\u001b[0m\u001b[0mtranspose\u001b[0m\u001b[0;34m(\u001b[0m\u001b[0;34m)\u001b[0m\u001b[0;34m\u001b[0m\u001b[0m\n\u001b[1;32m      4\u001b[0m \u001b[0mprint\u001b[0m\u001b[0;34m(\u001b[0m\u001b[0mx2\u001b[0m\u001b[0;34m)\u001b[0m\u001b[0;34m\u001b[0m\u001b[0m\n\u001b[0;32m----> 5\u001b[0;31m \u001b[0mxx\u001b[0m \u001b[0;34m=\u001b[0m \u001b[0mX_train_counts\u001b[0m\u001b[0;34m\u001b[0m\u001b[0m\n\u001b[0m\u001b[1;32m      6\u001b[0m \u001b[0mprint\u001b[0m \u001b[0;34m(\u001b[0m\u001b[0mtype\u001b[0m\u001b[0;34m(\u001b[0m\u001b[0mx1\u001b[0m\u001b[0;34m)\u001b[0m\u001b[0;34m)\u001b[0m\u001b[0;34m\u001b[0m\u001b[0m\n\u001b[1;32m      7\u001b[0m \u001b[0mprint\u001b[0m \u001b[0;34m(\u001b[0m\u001b[0mtype\u001b[0m\u001b[0;34m(\u001b[0m\u001b[0mx2\u001b[0m\u001b[0;34m)\u001b[0m\u001b[0;34m)\u001b[0m\u001b[0;34m\u001b[0m\u001b[0m\n",
      "\u001b[0;31mNameError\u001b[0m: name 'X_train_counts' is not defined"
     ]
    }
   ],
   "source": [
    "x1 = df.followers_count.tolist()\n",
    "x2 = [x1]\n",
    "x2 = np.matrix(x2).transpose()\n",
    "print(x2)\n",
    "xx = X_train_counts\n",
    "print (type(x1))\n",
    "print (type(x2))\n",
    "print (type(xx))\n",
    "#np.concatenate((xx,x1),axis = 1)\n",
    "import scipy.sparse as sp\n",
    "h = sp.hstack((xx, x2))\n",
    "h.shape\n",
    "print(type(df.followers_count.values))\n",
    "print(type(df.followers_count.values))"
   ]
  },
  {
   "cell_type": "code",
   "execution_count": 74,
   "metadata": {
    "collapsed": false
   },
   "outputs": [
    {
     "data": {
      "text/plain": [
       "array([[0, 0, 0, 1, 1, 1, 0, 1, 0, 0, 1, 0, 1, 1, 0, 1, 1, 0, 0, 0, 0, 0,\n",
       "        0, 1, 0, 1, 1, 0, 1, 0, 0, 1, 0, 1, 0, 0, 1, 0, 0, 0, 1, 1, 0, 1,\n",
       "        0, 1, 1, 1, 1, 1, 1, 1, 1, 1, 1, 1, 1, 0, 1, 1, 0, 1, 1, 0, 0, 1,\n",
       "        0, 0, 0, 1, 1, 1, 1, 0, 0, 1, 1, 0, 0, 0, 0, 0, 0, 0, 1, 1, 0, 1,\n",
       "        0, 0, 1, 0, 1, 1, 0, 0, 0, 0, 0, 0],\n",
       "       [1, 0, 1, 1, 0, 1, 1, 0, 1, 1, 0, 0, 0, 0, 0, 1, 0, 1, 0, 0, 0, 0,\n",
       "        1, 1, 1, 1, 0, 0, 0, 0, 1, 0, 0, 1, 0, 1, 0, 0, 0, 1, 1, 1, 1, 1,\n",
       "        1, 1, 1, 0, 1, 0, 0, 1, 0, 1, 0, 0, 0, 1, 1, 1, 0, 1, 1, 1, 0, 1,\n",
       "        1, 0, 1, 0, 1, 0, 1, 0, 1, 1, 0, 1, 1, 1, 0, 1, 0, 0, 0, 1, 0, 0,\n",
       "        1, 1, 0, 0, 0, 0, 1, 0, 0, 0, 1, 0],\n",
       "       [1, 0, 1, 0, 0, 1, 0, 1, 0, 1, 0, 1, 0, 1, 0, 1, 0, 0, 0, 1, 1, 0,\n",
       "        1, 0, 1, 1, 0, 0, 1, 1, 0, 1, 1, 1, 1, 0, 1, 1, 0, 1, 1, 1, 1, 1,\n",
       "        1, 0, 1, 0, 1, 1, 0, 1, 1, 0, 1, 0, 1, 0, 0, 1, 0, 1, 0, 0, 0, 0,\n",
       "        1, 0, 0, 0, 0, 0, 0, 1, 1, 0, 1, 0, 0, 0, 0, 1, 0, 0, 0, 0, 1, 1,\n",
       "        1, 1, 1, 1, 0, 0, 1, 0, 0, 0, 0, 0],\n",
       "       [1, 1, 0, 1, 0, 0, 0, 0, 0, 1, 1, 1, 0, 1, 1, 0, 1, 0, 1, 1, 0, 1,\n",
       "        1, 1, 1, 0, 1, 0, 1, 0, 0, 1, 0, 1, 1, 1, 0, 0, 0, 1, 0, 1, 1, 0,\n",
       "        1, 0, 1, 1, 0, 0, 0, 1, 1, 0, 1, 1, 1, 1, 0, 1, 1, 1, 0, 1, 1, 1,\n",
       "        1, 1, 0, 1, 0, 1, 0, 0, 1, 1, 0, 1, 1, 1, 1, 1, 1, 1, 1, 1, 0, 1,\n",
       "        0, 0, 1, 0, 0, 0, 1, 0, 0, 0, 1, 1],\n",
       "       [1, 0, 1, 0, 1, 1, 0, 0, 1, 1, 0, 1, 1, 0, 1, 1, 1, 0, 0, 1, 0, 0,\n",
       "        1, 1, 1, 0, 0, 0, 1, 0, 1, 1, 1, 1, 0, 1, 0, 1, 0, 0, 0, 0, 0, 0,\n",
       "        0, 0, 0, 1, 1, 1, 1, 0, 1, 0, 0, 1, 0, 1, 1, 0, 0, 1, 0, 0, 1, 1,\n",
       "        1, 0, 1, 1, 0, 0, 1, 0, 1, 0, 0, 0, 1, 1, 0, 0, 1, 0, 1, 0, 0, 0,\n",
       "        1, 1, 0, 1, 0, 0, 1, 1, 0, 0, 1, 0],\n",
       "       [0, 0, 1, 1, 1, 1, 1, 1, 0, 1, 0, 0, 1, 1, 1, 0, 1, 1, 0, 0, 0, 1,\n",
       "        1, 1, 1, 0, 0, 1, 1, 1, 0, 0, 0, 1, 1, 0, 1, 1, 1, 0, 0, 0, 1, 1,\n",
       "        1, 0, 0, 0, 1, 0, 0, 0, 0, 1, 1, 0, 1, 0, 0, 1, 0, 1, 1, 1, 1, 0,\n",
       "        1, 1, 0, 0, 0, 1, 1, 0, 0, 1, 1, 0, 1, 1, 0, 1, 1, 1, 0, 0, 1, 1,\n",
       "        0, 0, 1, 0, 0, 0, 1, 0, 0, 1, 0, 1]])"
      ]
     },
     "execution_count": 74,
     "metadata": {},
     "output_type": "execute_result"
    }
   ],
   "source": [
    "np.random.randint(2, size=(6, 100))"
   ]
  },
  {
   "cell_type": "code",
   "execution_count": 75,
   "metadata": {
    "collapsed": true,
    "deletable": true,
    "editable": true
   },
   "outputs": [],
   "source": [
    "s= '\"abc\"'"
   ]
  },
  {
   "cell_type": "code",
   "execution_count": 77,
   "metadata": {
    "collapsed": false,
    "deletable": true,
    "editable": true
   },
   "outputs": [
    {
     "data": {
      "text/plain": [
       "'abc'"
      ]
     },
     "execution_count": 77,
     "metadata": {},
     "output_type": "execute_result"
    }
   ],
   "source": [
    "s.strip('\"')"
   ]
  },
  {
   "cell_type": "code",
   "execution_count": null,
   "metadata": {
    "collapsed": true
   },
   "outputs": [],
   "source": []
  }
 ],
 "metadata": {
  "anaconda-cloud": {},
  "kernelspec": {
   "display_name": "Python [default]",
   "language": "python",
   "name": "python3"
  },
  "language_info": {
   "codemirror_mode": {
    "name": "ipython",
    "version": 3
   },
   "file_extension": ".py",
   "mimetype": "text/x-python",
   "name": "python",
   "nbconvert_exporter": "python",
   "pygments_lexer": "ipython3",
   "version": "3.5.2"
  }
 },
 "nbformat": 4,
 "nbformat_minor": 2
}
