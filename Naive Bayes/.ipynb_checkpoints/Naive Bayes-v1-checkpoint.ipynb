{
 "cells": [
  {
   "cell_type": "code",
   "execution_count": 1,
   "metadata": {
    "collapsed": false,
    "deletable": true,
    "editable": true
   },
   "outputs": [
    {
     "name": "stdout",
     "output_type": "stream",
     "text": [
      "(2218, 28)\n"
     ]
    }
   ],
   "source": [
    "import pandas as pd\n",
    "import numpy as np\n",
    "\n",
    "df = pd.read_csv('../BotData/all_users_v1.csv',encoding = \"ISO-8859-1\")\n",
    "df.head(4)\n",
    "print(df.shape)"
   ]
  },
  {
   "cell_type": "markdown",
   "metadata": {
    "deletable": true,
    "editable": true
   },
   "source": [
    "### ConutVector"
   ]
  },
  {
   "cell_type": "code",
   "execution_count": 2,
   "metadata": {
    "collapsed": false,
    "deletable": true,
    "editable": true
   },
   "outputs": [],
   "source": [
    "from sklearn.feature_extraction.text import CountVectorizer\n",
    "count_vect = CountVectorizer()\n",
    "des1 = count_vect.fit_transform(df.description.values.astype('U'))\n",
    "lang1 = count_vect.fit_transform(df.lang.values.astype('U'))"
   ]
  },
  {
   "cell_type": "markdown",
   "metadata": {
    "deletable": true,
    "editable": true
   },
   "source": [
    "### TrueFalse Vector"
   ]
  },
  {
   "cell_type": "code",
   "execution_count": 3,
   "metadata": {
    "collapsed": false,
    "deletable": true,
    "editable": true
   },
   "outputs": [],
   "source": [
    "df.loc[:,'flag1'] = 1\n",
    "for i in df.index:    \n",
    "    if df.loc[i,'default_profile'] :\n",
    "        df.loc[i,'flag1'] = 1\n",
    "    else:\n",
    "        df.loc[i,'flag1'] = 0"
   ]
  },
  {
   "cell_type": "code",
   "execution_count": 4,
   "metadata": {
    "collapsed": true,
    "deletable": true,
    "editable": true
   },
   "outputs": [],
   "source": [
    "df.loc[:,'flag2'] = 1\n",
    "for i in df.index:    \n",
    "    if df.loc[i,'has_extended_profile'] :\n",
    "        df.loc[i,'flag2'] = 1\n",
    "    else:\n",
    "        df.loc[i,'flag2'] = 0"
   ]
  },
  {
   "cell_type": "code",
   "execution_count": 5,
   "metadata": {
    "collapsed": true,
    "deletable": true,
    "editable": true
   },
   "outputs": [],
   "source": [
    "df.loc[:,'flag3'] = 1\n",
    "for i in df.index:    \n",
    "    if df.loc[i,'default_profile_image'] :\n",
    "        df.loc[i,'flag3'] = 1\n",
    "    else:\n",
    "        df.loc[i,'flag3'] = 0"
   ]
  },
  {
   "cell_type": "code",
   "execution_count": 6,
   "metadata": {
    "collapsed": true,
    "deletable": true,
    "editable": true
   },
   "outputs": [],
   "source": [
    "df.loc[:,'flag4'] = 1\n",
    "for i in df.index:    \n",
    "    if df.loc[i,'verified'] :\n",
    "        df.loc[i,'flag4'] = 1\n",
    "    else:\n",
    "        df.loc[i,'flag4'] = 0"
   ]
  },
  {
   "cell_type": "markdown",
   "metadata": {
    "deletable": true,
    "editable": true
   },
   "source": [
    "### Binary Vector"
   ]
  },
  {
   "cell_type": "code",
   "execution_count": 7,
   "metadata": {
    "collapsed": false,
    "deletable": true,
    "editable": true
   },
   "outputs": [],
   "source": [
    "df.loc[:,'flag5']=1\n",
    "for i in df.index: \n",
    "\n",
    "    if type(df.loc[i,'location'])==type('str'):\n",
    "        df.loc[i,'flag5']=1\n",
    "        #print(df.location[i])\n",
    "    else:\n",
    "        df.loc[i,'flag5']=0"
   ]
  },
  {
   "cell_type": "code",
   "execution_count": 8,
   "metadata": {
    "collapsed": false,
    "deletable": true,
    "editable": true
   },
   "outputs": [],
   "source": [
    "df.loc[:,'flag6']=1\n",
    "for i in df.index: \n",
    "\n",
    "    if 't.co' in str(df.loc[i,'url']):\n",
    "        df.loc[i,'flag6']=1\n",
    "        #print(df.location[i])\n",
    "    else:\n",
    "        df.loc[i,'flag6']=0"
   ]
  },
  {
   "cell_type": "markdown",
   "metadata": {
    "deletable": true,
    "editable": true
   },
   "source": [
    "### Special condition"
   ]
  },
  {
   "cell_type": "code",
   "execution_count": 9,
   "metadata": {
    "collapsed": false,
    "deletable": true,
    "editable": true
   },
   "outputs": [
    {
     "data": {
      "text/plain": [
       "0       11\n",
       "1       14\n",
       "2       15\n",
       "3       15\n",
       "4       10\n",
       "5        8\n",
       "6       15\n",
       "7        8\n",
       "8       12\n",
       "9        7\n",
       "10       9\n",
       "11       9\n",
       "12      12\n",
       "13      13\n",
       "14      12\n",
       "15      13\n",
       "16      11\n",
       "17       8\n",
       "18       6\n",
       "19      12\n",
       "20       4\n",
       "21      13\n",
       "22      15\n",
       "23      13\n",
       "24      13\n",
       "25      15\n",
       "26      10\n",
       "27      13\n",
       "28      13\n",
       "29       5\n",
       "        ..\n",
       "2188    12\n",
       "2189    15\n",
       "2190    11\n",
       "2191    14\n",
       "2192    11\n",
       "2193     9\n",
       "2194    15\n",
       "2195    14\n",
       "2196    15\n",
       "2197    11\n",
       "2198    13\n",
       "2199    13\n",
       "2200    14\n",
       "2201    15\n",
       "2202    10\n",
       "2203    14\n",
       "2204    11\n",
       "2205    12\n",
       "2206    12\n",
       "2207    14\n",
       "2208    15\n",
       "2209    10\n",
       "2210    13\n",
       "2211    13\n",
       "2212    14\n",
       "2213    11\n",
       "2214    10\n",
       "2215    13\n",
       "2216    15\n",
       "2217     9\n",
       "Name: flag7, dtype: int64"
      ]
     },
     "execution_count": 9,
     "metadata": {},
     "output_type": "execute_result"
    }
   ],
   "source": [
    "# screen_name length\n",
    "sname = np.array(df.screen_name)\n",
    "g = lambda i: len(i)\n",
    "gg = np.vectorize(g)\n",
    "sname_length = gg(sname)\n",
    "df.loc[:,'flag7'] = sname_length\n",
    "df.loc[:,'flag7']"
   ]
  },
  {
   "cell_type": "code",
   "execution_count": 10,
   "metadata": {
    "collapsed": false,
    "deletable": true,
    "editable": true
   },
   "outputs": [],
   "source": [
    "#status\n",
    "df.loc[:,'flag8'] = 1\n",
    "for i in df.index:    \n",
    "    if type(df.loc[i,'status']) == type('str') :\n",
    "        df.loc[i,'flag8'] = 1\n",
    "    else:\n",
    "        df.loc[i,'flag8'] = 0"
   ]
  },
  {
   "cell_type": "markdown",
   "metadata": {
    "deletable": true,
    "editable": true
   },
   "source": [
    "### Number Vector"
   ]
  },
  {
   "cell_type": "code",
   "execution_count": 11,
   "metadata": {
    "collapsed": false,
    "deletable": true,
    "editable": true
   },
   "outputs": [
    {
     "data": {
      "text/html": [
       "<div>\n",
       "<table border=\"1\" class=\"dataframe\">\n",
       "  <thead>\n",
       "    <tr style=\"text-align: right;\">\n",
       "      <th></th>\n",
       "      <th>index</th>\n",
       "      <th>listedcount</th>\n",
       "      <th>flag36</th>\n",
       "    </tr>\n",
       "  </thead>\n",
       "  <tbody>\n",
       "    <tr>\n",
       "      <th>524</th>\n",
       "      <td>525</td>\n",
       "      <td>0</td>\n",
       "      <td>0</td>\n",
       "    </tr>\n",
       "    <tr>\n",
       "      <th>1270</th>\n",
       "      <td>1271</td>\n",
       "      <td>0</td>\n",
       "      <td>0</td>\n",
       "    </tr>\n",
       "    <tr>\n",
       "      <th>1268</th>\n",
       "      <td>1269</td>\n",
       "      <td>0</td>\n",
       "      <td>0</td>\n",
       "    </tr>\n",
       "    <tr>\n",
       "      <th>1267</th>\n",
       "      <td>1268</td>\n",
       "      <td>0</td>\n",
       "      <td>0</td>\n",
       "    </tr>\n",
       "    <tr>\n",
       "      <th>1792</th>\n",
       "      <td>1793</td>\n",
       "      <td>0</td>\n",
       "      <td>0</td>\n",
       "    </tr>\n",
       "    <tr>\n",
       "      <th>530</th>\n",
       "      <td>531</td>\n",
       "      <td>0</td>\n",
       "      <td>0</td>\n",
       "    </tr>\n",
       "    <tr>\n",
       "      <th>535</th>\n",
       "      <td>536</td>\n",
       "      <td>0</td>\n",
       "      <td>0</td>\n",
       "    </tr>\n",
       "    <tr>\n",
       "      <th>1266</th>\n",
       "      <td>1267</td>\n",
       "      <td>0</td>\n",
       "      <td>0</td>\n",
       "    </tr>\n",
       "    <tr>\n",
       "      <th>537</th>\n",
       "      <td>538</td>\n",
       "      <td>0</td>\n",
       "      <td>0</td>\n",
       "    </tr>\n",
       "    <tr>\n",
       "      <th>1263</th>\n",
       "      <td>1264</td>\n",
       "      <td>0</td>\n",
       "      <td>0</td>\n",
       "    </tr>\n",
       "    <tr>\n",
       "      <th>2091</th>\n",
       "      <td>2092</td>\n",
       "      <td>0</td>\n",
       "      <td>0</td>\n",
       "    </tr>\n",
       "    <tr>\n",
       "      <th>1262</th>\n",
       "      <td>1263</td>\n",
       "      <td>0</td>\n",
       "      <td>0</td>\n",
       "    </tr>\n",
       "    <tr>\n",
       "      <th>548</th>\n",
       "      <td>549</td>\n",
       "      <td>0</td>\n",
       "      <td>0</td>\n",
       "    </tr>\n",
       "    <tr>\n",
       "      <th>1261</th>\n",
       "      <td>1262</td>\n",
       "      <td>0</td>\n",
       "      <td>0</td>\n",
       "    </tr>\n",
       "    <tr>\n",
       "      <th>2090</th>\n",
       "      <td>2091</td>\n",
       "      <td>0</td>\n",
       "      <td>0</td>\n",
       "    </tr>\n",
       "    <tr>\n",
       "      <th>1786</th>\n",
       "      <td>1787</td>\n",
       "      <td>0</td>\n",
       "      <td>0</td>\n",
       "    </tr>\n",
       "    <tr>\n",
       "      <th>1271</th>\n",
       "      <td>1272</td>\n",
       "      <td>0</td>\n",
       "      <td>0</td>\n",
       "    </tr>\n",
       "    <tr>\n",
       "      <th>520</th>\n",
       "      <td>521</td>\n",
       "      <td>0</td>\n",
       "      <td>0</td>\n",
       "    </tr>\n",
       "    <tr>\n",
       "      <th>517</th>\n",
       "      <td>518</td>\n",
       "      <td>0</td>\n",
       "      <td>0</td>\n",
       "    </tr>\n",
       "    <tr>\n",
       "      <th>1637</th>\n",
       "      <td>1638</td>\n",
       "      <td>0</td>\n",
       "      <td>0</td>\n",
       "    </tr>\n",
       "    <tr>\n",
       "      <th>2106</th>\n",
       "      <td>2107</td>\n",
       "      <td>0</td>\n",
       "      <td>0</td>\n",
       "    </tr>\n",
       "    <tr>\n",
       "      <th>1284</th>\n",
       "      <td>1285</td>\n",
       "      <td>0</td>\n",
       "      <td>0</td>\n",
       "    </tr>\n",
       "    <tr>\n",
       "      <th>484</th>\n",
       "      <td>485</td>\n",
       "      <td>0</td>\n",
       "      <td>0</td>\n",
       "    </tr>\n",
       "    <tr>\n",
       "      <th>485</th>\n",
       "      <td>486</td>\n",
       "      <td>0</td>\n",
       "      <td>0</td>\n",
       "    </tr>\n",
       "    <tr>\n",
       "      <th>1809</th>\n",
       "      <td>1810</td>\n",
       "      <td>0</td>\n",
       "      <td>0</td>\n",
       "    </tr>\n",
       "    <tr>\n",
       "      <th>1282</th>\n",
       "      <td>1283</td>\n",
       "      <td>0</td>\n",
       "      <td>0</td>\n",
       "    </tr>\n",
       "    <tr>\n",
       "      <th>1808</th>\n",
       "      <td>1809</td>\n",
       "      <td>0</td>\n",
       "      <td>0</td>\n",
       "    </tr>\n",
       "    <tr>\n",
       "      <th>554</th>\n",
       "      <td>555</td>\n",
       "      <td>0</td>\n",
       "      <td>0</td>\n",
       "    </tr>\n",
       "    <tr>\n",
       "      <th>1804</th>\n",
       "      <td>1805</td>\n",
       "      <td>0</td>\n",
       "      <td>0</td>\n",
       "    </tr>\n",
       "    <tr>\n",
       "      <th>2102</th>\n",
       "      <td>2103</td>\n",
       "      <td>0</td>\n",
       "      <td>0</td>\n",
       "    </tr>\n",
       "    <tr>\n",
       "      <th>...</th>\n",
       "      <td>...</td>\n",
       "      <td>...</td>\n",
       "      <td>...</td>\n",
       "    </tr>\n",
       "    <tr>\n",
       "      <th>54</th>\n",
       "      <td>55</td>\n",
       "      <td>47045</td>\n",
       "      <td>9</td>\n",
       "    </tr>\n",
       "    <tr>\n",
       "      <th>769</th>\n",
       "      <td>770</td>\n",
       "      <td>47916</td>\n",
       "      <td>9</td>\n",
       "    </tr>\n",
       "    <tr>\n",
       "      <th>158</th>\n",
       "      <td>159</td>\n",
       "      <td>48805</td>\n",
       "      <td>9</td>\n",
       "    </tr>\n",
       "    <tr>\n",
       "      <th>189</th>\n",
       "      <td>190</td>\n",
       "      <td>51999</td>\n",
       "      <td>9</td>\n",
       "    </tr>\n",
       "    <tr>\n",
       "      <th>983</th>\n",
       "      <td>984</td>\n",
       "      <td>52952</td>\n",
       "      <td>9</td>\n",
       "    </tr>\n",
       "    <tr>\n",
       "      <th>773</th>\n",
       "      <td>774</td>\n",
       "      <td>53689</td>\n",
       "      <td>9</td>\n",
       "    </tr>\n",
       "    <tr>\n",
       "      <th>197</th>\n",
       "      <td>198</td>\n",
       "      <td>54806</td>\n",
       "      <td>9</td>\n",
       "    </tr>\n",
       "    <tr>\n",
       "      <th>318</th>\n",
       "      <td>319</td>\n",
       "      <td>57712</td>\n",
       "      <td>9</td>\n",
       "    </tr>\n",
       "    <tr>\n",
       "      <th>872</th>\n",
       "      <td>873</td>\n",
       "      <td>58756</td>\n",
       "      <td>9</td>\n",
       "    </tr>\n",
       "    <tr>\n",
       "      <th>410</th>\n",
       "      <td>411</td>\n",
       "      <td>60770</td>\n",
       "      <td>9</td>\n",
       "    </tr>\n",
       "    <tr>\n",
       "      <th>238</th>\n",
       "      <td>239</td>\n",
       "      <td>65408</td>\n",
       "      <td>9</td>\n",
       "    </tr>\n",
       "    <tr>\n",
       "      <th>138</th>\n",
       "      <td>139</td>\n",
       "      <td>67872</td>\n",
       "      <td>9</td>\n",
       "    </tr>\n",
       "    <tr>\n",
       "      <th>951</th>\n",
       "      <td>952</td>\n",
       "      <td>69966</td>\n",
       "      <td>9</td>\n",
       "    </tr>\n",
       "    <tr>\n",
       "      <th>1081</th>\n",
       "      <td>1082</td>\n",
       "      <td>70293</td>\n",
       "      <td>9</td>\n",
       "    </tr>\n",
       "    <tr>\n",
       "      <th>92</th>\n",
       "      <td>93</td>\n",
       "      <td>75101</td>\n",
       "      <td>9</td>\n",
       "    </tr>\n",
       "    <tr>\n",
       "      <th>882</th>\n",
       "      <td>883</td>\n",
       "      <td>75998</td>\n",
       "      <td>9</td>\n",
       "    </tr>\n",
       "    <tr>\n",
       "      <th>1074</th>\n",
       "      <td>1075</td>\n",
       "      <td>80390</td>\n",
       "      <td>9</td>\n",
       "    </tr>\n",
       "    <tr>\n",
       "      <th>362</th>\n",
       "      <td>363</td>\n",
       "      <td>86687</td>\n",
       "      <td>9</td>\n",
       "    </tr>\n",
       "    <tr>\n",
       "      <th>20</th>\n",
       "      <td>21</td>\n",
       "      <td>87793</td>\n",
       "      <td>9</td>\n",
       "    </tr>\n",
       "    <tr>\n",
       "      <th>274</th>\n",
       "      <td>275</td>\n",
       "      <td>88700</td>\n",
       "      <td>9</td>\n",
       "    </tr>\n",
       "    <tr>\n",
       "      <th>29</th>\n",
       "      <td>30</td>\n",
       "      <td>90118</td>\n",
       "      <td>9</td>\n",
       "    </tr>\n",
       "    <tr>\n",
       "      <th>874</th>\n",
       "      <td>875</td>\n",
       "      <td>108858</td>\n",
       "      <td>9</td>\n",
       "    </tr>\n",
       "    <tr>\n",
       "      <th>566</th>\n",
       "      <td>567</td>\n",
       "      <td>122719</td>\n",
       "      <td>9</td>\n",
       "    </tr>\n",
       "    <tr>\n",
       "      <th>668</th>\n",
       "      <td>669</td>\n",
       "      <td>123552</td>\n",
       "      <td>9</td>\n",
       "    </tr>\n",
       "    <tr>\n",
       "      <th>499</th>\n",
       "      <td>500</td>\n",
       "      <td>127292</td>\n",
       "      <td>9</td>\n",
       "    </tr>\n",
       "    <tr>\n",
       "      <th>267</th>\n",
       "      <td>268</td>\n",
       "      <td>129870</td>\n",
       "      <td>9</td>\n",
       "    </tr>\n",
       "    <tr>\n",
       "      <th>792</th>\n",
       "      <td>793</td>\n",
       "      <td>133730</td>\n",
       "      <td>9</td>\n",
       "    </tr>\n",
       "    <tr>\n",
       "      <th>728</th>\n",
       "      <td>729</td>\n",
       "      <td>142388</td>\n",
       "      <td>9</td>\n",
       "    </tr>\n",
       "    <tr>\n",
       "      <th>196</th>\n",
       "      <td>197</td>\n",
       "      <td>188387</td>\n",
       "      <td>9</td>\n",
       "    </tr>\n",
       "    <tr>\n",
       "      <th>699</th>\n",
       "      <td>700</td>\n",
       "      <td>222645</td>\n",
       "      <td>9</td>\n",
       "    </tr>\n",
       "  </tbody>\n",
       "</table>\n",
       "<p>2218 rows × 3 columns</p>\n",
       "</div>"
      ],
      "text/plain": [
       "      index  listedcount  flag36\n",
       "524     525            0       0\n",
       "1270   1271            0       0\n",
       "1268   1269            0       0\n",
       "1267   1268            0       0\n",
       "1792   1793            0       0\n",
       "530     531            0       0\n",
       "535     536            0       0\n",
       "1266   1267            0       0\n",
       "537     538            0       0\n",
       "1263   1264            0       0\n",
       "2091   2092            0       0\n",
       "1262   1263            0       0\n",
       "548     549            0       0\n",
       "1261   1262            0       0\n",
       "2090   2091            0       0\n",
       "1786   1787            0       0\n",
       "1271   1272            0       0\n",
       "520     521            0       0\n",
       "517     518            0       0\n",
       "1637   1638            0       0\n",
       "2106   2107            0       0\n",
       "1284   1285            0       0\n",
       "484     485            0       0\n",
       "485     486            0       0\n",
       "1809   1810            0       0\n",
       "1282   1283            0       0\n",
       "1808   1809            0       0\n",
       "554     555            0       0\n",
       "1804   1805            0       0\n",
       "2102   2103            0       0\n",
       "...     ...          ...     ...\n",
       "54       55        47045       9\n",
       "769     770        47916       9\n",
       "158     159        48805       9\n",
       "189     190        51999       9\n",
       "983     984        52952       9\n",
       "773     774        53689       9\n",
       "197     198        54806       9\n",
       "318     319        57712       9\n",
       "872     873        58756       9\n",
       "410     411        60770       9\n",
       "238     239        65408       9\n",
       "138     139        67872       9\n",
       "951     952        69966       9\n",
       "1081   1082        70293       9\n",
       "92       93        75101       9\n",
       "882     883        75998       9\n",
       "1074   1075        80390       9\n",
       "362     363        86687       9\n",
       "20       21        87793       9\n",
       "274     275        88700       9\n",
       "29       30        90118       9\n",
       "874     875       108858       9\n",
       "566     567       122719       9\n",
       "668     669       123552       9\n",
       "499     500       127292       9\n",
       "267     268       129870       9\n",
       "792     793       133730       9\n",
       "728     729       142388       9\n",
       "196     197       188387       9\n",
       "699     700       222645       9\n",
       "\n",
       "[2218 rows x 3 columns]"
      ]
     },
     "execution_count": 11,
     "metadata": {},
     "output_type": "execute_result"
    }
   ],
   "source": [
    "column_index = df.shape[1]\n",
    "column_name = 'flag' + str(column_index)\n",
    "df.loc[:,column_name]=10\n",
    "df = df.sort_values('listedcount',na_position='first')\n",
    "df.head(10)\n",
    "\n",
    "i = len(df[column_name])\n",
    "interval = i//10\n",
    "\n",
    "for j in range(10):\n",
    "    df.iloc[j*interval:(j+1)*interval,[column_index,]] = j\n",
    "df.iloc[10*interval:i,[column_index,]] = 9\n",
    "df[['index','listedcount',column_name]]"
   ]
  },
  {
   "cell_type": "code",
   "execution_count": 12,
   "metadata": {
    "collapsed": false,
    "deletable": true,
    "editable": true
   },
   "outputs": [],
   "source": [
    "column_index = df.shape[1]\n",
    "column_name = 'flag' + str(column_index)\n",
    "df.loc[:,column_name]=10\n",
    "df = df.sort_values('followers_count',na_position='first')\n",
    "df.head(10)\n",
    "\n",
    "i = len(df[column_name])\n",
    "interval = i//10\n",
    "\n",
    "for j in range(10):\n",
    "    df.iloc[j*interval:(j+1)*interval,[column_index,]] = j\n",
    "df.iloc[10*interval:i,[column_index,]] = 9"
   ]
  },
  {
   "cell_type": "code",
   "execution_count": 13,
   "metadata": {
    "collapsed": false,
    "deletable": true,
    "editable": true
   },
   "outputs": [],
   "source": [
    "column_index = df.shape[1]\n",
    "column_name = 'flag' + str(column_index)\n",
    "df.loc[:,column_name]=10\n",
    "df = df.sort_values('friends_count',na_position='first')\n",
    "df.head(10)\n",
    "\n",
    "i = len(df[column_name])\n",
    "interval = i//10\n",
    "\n",
    "for j in range(10):\n",
    "    df.iloc[j*interval:(j+1)*interval,[column_index,]] = j\n",
    "df.iloc[10*interval:i,[column_index,]] = 9\n"
   ]
  },
  {
   "cell_type": "code",
   "execution_count": 14,
   "metadata": {
    "collapsed": false,
    "deletable": true,
    "editable": true
   },
   "outputs": [],
   "source": [
    "column_index = df.shape[1]\n",
    "column_name = 'flag' + str(column_index)\n",
    "df.loc[:,column_name]=10\n",
    "df = df.sort_values('favourites_count',na_position='first')\n",
    "df.head(10)\n",
    "\n",
    "i = len(df[column_name])\n",
    "interval = i//10\n",
    "\n",
    "for j in range(10):\n",
    "    df.iloc[j*interval:(j+1)*interval,[column_index,]] = j\n",
    "df.iloc[10*interval:i,[column_index,]] = 9\n"
   ]
  },
  {
   "cell_type": "code",
   "execution_count": 15,
   "metadata": {
    "collapsed": false,
    "deletable": true,
    "editable": true
   },
   "outputs": [],
   "source": [
    "column_index = df.shape[1]\n",
    "column_name = 'flag' + str(column_index)\n",
    "df.loc[:,column_name]=10\n",
    "df = df.sort_values('statuses_count',na_position='first')\n",
    "df.head(10)\n",
    "\n",
    "i = len(df[column_name])\n",
    "interval = i//10\n",
    "\n",
    "for j in range(10):\n",
    "    df.iloc[j*interval:(j+1)*interval,[column_index,]] = j\n",
    "df.iloc[10*interval:i,[column_index,]] = 9\n"
   ]
  },
  {
   "cell_type": "code",
   "execution_count": 16,
   "metadata": {
    "collapsed": false,
    "deletable": true,
    "editable": true
   },
   "outputs": [
    {
     "data": {
      "text/html": [
       "<div>\n",
       "<table border=\"1\" class=\"dataframe\">\n",
       "  <thead>\n",
       "    <tr style=\"text-align: right;\">\n",
       "      <th></th>\n",
       "      <th>index</th>\n",
       "      <th>id</th>\n",
       "      <th>id_str</th>\n",
       "      <th>screen_name</th>\n",
       "      <th>location</th>\n",
       "      <th>description</th>\n",
       "      <th>url</th>\n",
       "      <th>followers_count</th>\n",
       "      <th>friends_count</th>\n",
       "      <th>listedcount</th>\n",
       "      <th>...</th>\n",
       "      <th>flag4</th>\n",
       "      <th>flag5</th>\n",
       "      <th>flag6</th>\n",
       "      <th>flag7</th>\n",
       "      <th>flag8</th>\n",
       "      <th>flag36</th>\n",
       "      <th>flag37</th>\n",
       "      <th>flag38</th>\n",
       "      <th>flag39</th>\n",
       "      <th>flag40</th>\n",
       "    </tr>\n",
       "  </thead>\n",
       "  <tbody>\n",
       "    <tr>\n",
       "      <th>1208</th>\n",
       "      <td>1209</td>\n",
       "      <td>8.410000e+17</td>\n",
       "      <td>8.410000e+17</td>\n",
       "      <td>SendNudes1099</td>\n",
       "      <td>NaN</td>\n",
       "      <td>NaN</td>\n",
       "      <td>NaN</td>\n",
       "      <td>2</td>\n",
       "      <td>31</td>\n",
       "      <td>0</td>\n",
       "      <td>...</td>\n",
       "      <td>0</td>\n",
       "      <td>0</td>\n",
       "      <td>0</td>\n",
       "      <td>13</td>\n",
       "      <td>0</td>\n",
       "      <td>1</td>\n",
       "      <td>0</td>\n",
       "      <td>3</td>\n",
       "      <td>4</td>\n",
       "      <td>0</td>\n",
       "    </tr>\n",
       "    <tr>\n",
       "      <th>1414</th>\n",
       "      <td>1415</td>\n",
       "      <td>7.940000e+17</td>\n",
       "      <td>7.940000e+17</td>\n",
       "      <td>JohnKorosec1</td>\n",
       "      <td>Ohio, USA</td>\n",
       "      <td>NaN</td>\n",
       "      <td>NaN</td>\n",
       "      <td>6</td>\n",
       "      <td>198</td>\n",
       "      <td>0</td>\n",
       "      <td>...</td>\n",
       "      <td>0</td>\n",
       "      <td>1</td>\n",
       "      <td>0</td>\n",
       "      <td>12</td>\n",
       "      <td>0</td>\n",
       "      <td>1</td>\n",
       "      <td>0</td>\n",
       "      <td>5</td>\n",
       "      <td>4</td>\n",
       "      <td>0</td>\n",
       "    </tr>\n",
       "    <tr>\n",
       "      <th>1453</th>\n",
       "      <td>1454</td>\n",
       "      <td>8.410000e+17</td>\n",
       "      <td>8.410000e+17</td>\n",
       "      <td>N_ChuiYing</td>\n",
       "      <td>NaN</td>\n",
       "      <td>NaN</td>\n",
       "      <td>NaN</td>\n",
       "      <td>1</td>\n",
       "      <td>21</td>\n",
       "      <td>0</td>\n",
       "      <td>...</td>\n",
       "      <td>0</td>\n",
       "      <td>0</td>\n",
       "      <td>0</td>\n",
       "      <td>10</td>\n",
       "      <td>0</td>\n",
       "      <td>1</td>\n",
       "      <td>0</td>\n",
       "      <td>2</td>\n",
       "      <td>0</td>\n",
       "      <td>0</td>\n",
       "    </tr>\n",
       "    <tr>\n",
       "      <th>2182</th>\n",
       "      <td>2183</td>\n",
       "      <td>8.410000e+17</td>\n",
       "      <td>8.410000e+17</td>\n",
       "      <td>sabo_sabo21</td>\n",
       "      <td>NaN</td>\n",
       "      <td>NaN</td>\n",
       "      <td>NaN</td>\n",
       "      <td>2</td>\n",
       "      <td>24</td>\n",
       "      <td>0</td>\n",
       "      <td>...</td>\n",
       "      <td>0</td>\n",
       "      <td>0</td>\n",
       "      <td>0</td>\n",
       "      <td>11</td>\n",
       "      <td>0</td>\n",
       "      <td>1</td>\n",
       "      <td>0</td>\n",
       "      <td>2</td>\n",
       "      <td>0</td>\n",
       "      <td>0</td>\n",
       "    </tr>\n",
       "    <tr>\n",
       "      <th>1705</th>\n",
       "      <td>1706</td>\n",
       "      <td>8.410000e+17</td>\n",
       "      <td>8.410000e+17</td>\n",
       "      <td>SueCoyle14</td>\n",
       "      <td>Arizona, USA</td>\n",
       "      <td>art, museum.</td>\n",
       "      <td>NaN</td>\n",
       "      <td>3</td>\n",
       "      <td>25</td>\n",
       "      <td>0</td>\n",
       "      <td>...</td>\n",
       "      <td>0</td>\n",
       "      <td>1</td>\n",
       "      <td>0</td>\n",
       "      <td>10</td>\n",
       "      <td>0</td>\n",
       "      <td>1</td>\n",
       "      <td>0</td>\n",
       "      <td>2</td>\n",
       "      <td>0</td>\n",
       "      <td>0</td>\n",
       "    </tr>\n",
       "    <tr>\n",
       "      <th>554</th>\n",
       "      <td>555</td>\n",
       "      <td>4.173635e+08</td>\n",
       "      <td>4.173635e+08</td>\n",
       "      <td>Shawndafut</td>\n",
       "      <td>NaN</td>\n",
       "      <td>Relationships and the Law of Attraction. Click...</td>\n",
       "      <td>http://t.co/OQkH7uhWe9</td>\n",
       "      <td>258</td>\n",
       "      <td>991</td>\n",
       "      <td>0</td>\n",
       "      <td>...</td>\n",
       "      <td>0</td>\n",
       "      <td>0</td>\n",
       "      <td>1</td>\n",
       "      <td>10</td>\n",
       "      <td>0</td>\n",
       "      <td>0</td>\n",
       "      <td>4</td>\n",
       "      <td>8</td>\n",
       "      <td>0</td>\n",
       "      <td>0</td>\n",
       "    </tr>\n",
       "    <tr>\n",
       "      <th>1397</th>\n",
       "      <td>1398</td>\n",
       "      <td>2.763655e+07</td>\n",
       "      <td>2.763655e+07</td>\n",
       "      <td>thomp27</td>\n",
       "      <td>NaN</td>\n",
       "      <td>Pretty girl from Denmark. Want to meet somebod...</td>\n",
       "      <td>NaN</td>\n",
       "      <td>69</td>\n",
       "      <td>3707</td>\n",
       "      <td>0</td>\n",
       "      <td>...</td>\n",
       "      <td>0</td>\n",
       "      <td>0</td>\n",
       "      <td>0</td>\n",
       "      <td>7</td>\n",
       "      <td>0</td>\n",
       "      <td>2</td>\n",
       "      <td>2</td>\n",
       "      <td>9</td>\n",
       "      <td>0</td>\n",
       "      <td>0</td>\n",
       "    </tr>\n",
       "    <tr>\n",
       "      <th>1417</th>\n",
       "      <td>1418</td>\n",
       "      <td>5.488054e+07</td>\n",
       "      <td>5.488054e+07</td>\n",
       "      <td>vipeeri</td>\n",
       "      <td>NaN</td>\n",
       "      <td>NaN</td>\n",
       "      <td>NaN</td>\n",
       "      <td>0</td>\n",
       "      <td>28</td>\n",
       "      <td>0</td>\n",
       "      <td>...</td>\n",
       "      <td>0</td>\n",
       "      <td>0</td>\n",
       "      <td>0</td>\n",
       "      <td>7</td>\n",
       "      <td>0</td>\n",
       "      <td>1</td>\n",
       "      <td>0</td>\n",
       "      <td>3</td>\n",
       "      <td>0</td>\n",
       "      <td>0</td>\n",
       "    </tr>\n",
       "    <tr>\n",
       "      <th>1172</th>\n",
       "      <td>1173</td>\n",
       "      <td>2.790222e+09</td>\n",
       "      <td>2.790222e+09</td>\n",
       "      <td>AnayaJarrett</td>\n",
       "      <td>NaN</td>\n",
       "      <td>NaN</td>\n",
       "      <td>NaN</td>\n",
       "      <td>3</td>\n",
       "      <td>21</td>\n",
       "      <td>0</td>\n",
       "      <td>...</td>\n",
       "      <td>0</td>\n",
       "      <td>0</td>\n",
       "      <td>0</td>\n",
       "      <td>12</td>\n",
       "      <td>0</td>\n",
       "      <td>1</td>\n",
       "      <td>0</td>\n",
       "      <td>2</td>\n",
       "      <td>0</td>\n",
       "      <td>0</td>\n",
       "    </tr>\n",
       "    <tr>\n",
       "      <th>1550</th>\n",
       "      <td>1551</td>\n",
       "      <td>3.235274e+09</td>\n",
       "      <td>3.235274e+09</td>\n",
       "      <td>FEveryStartup</td>\n",
       "      <td>NaN</td>\n",
       "      <td>NaN</td>\n",
       "      <td>NaN</td>\n",
       "      <td>8</td>\n",
       "      <td>1</td>\n",
       "      <td>1</td>\n",
       "      <td>...</td>\n",
       "      <td>0</td>\n",
       "      <td>0</td>\n",
       "      <td>0</td>\n",
       "      <td>13</td>\n",
       "      <td>0</td>\n",
       "      <td>2</td>\n",
       "      <td>1</td>\n",
       "      <td>1</td>\n",
       "      <td>0</td>\n",
       "      <td>0</td>\n",
       "    </tr>\n",
       "  </tbody>\n",
       "</table>\n",
       "<p>10 rows × 41 columns</p>\n",
       "</div>"
      ],
      "text/plain": [
       "      index            id        id_str    screen_name      location  \\\n",
       "1208   1209  8.410000e+17  8.410000e+17  SendNudes1099           NaN   \n",
       "1414   1415  7.940000e+17  7.940000e+17   JohnKorosec1     Ohio, USA   \n",
       "1453   1454  8.410000e+17  8.410000e+17     N_ChuiYing           NaN   \n",
       "2182   2183  8.410000e+17  8.410000e+17    sabo_sabo21           NaN   \n",
       "1705   1706  8.410000e+17  8.410000e+17     SueCoyle14  Arizona, USA   \n",
       "554     555  4.173635e+08  4.173635e+08     Shawndafut           NaN   \n",
       "1397   1398  2.763655e+07  2.763655e+07        thomp27           NaN   \n",
       "1417   1418  5.488054e+07  5.488054e+07        vipeeri           NaN   \n",
       "1172   1173  2.790222e+09  2.790222e+09   AnayaJarrett           NaN   \n",
       "1550   1551  3.235274e+09  3.235274e+09  FEveryStartup           NaN   \n",
       "\n",
       "                                            description  \\\n",
       "1208                                                NaN   \n",
       "1414                                                NaN   \n",
       "1453                                                NaN   \n",
       "2182                                                NaN   \n",
       "1705                                       art, museum.   \n",
       "554   Relationships and the Law of Attraction. Click...   \n",
       "1397  Pretty girl from Denmark. Want to meet somebod...   \n",
       "1417                                                NaN   \n",
       "1172                                                NaN   \n",
       "1550                                                NaN   \n",
       "\n",
       "                         url  followers_count  friends_count  listedcount  \\\n",
       "1208                     NaN                2             31            0   \n",
       "1414                     NaN                6            198            0   \n",
       "1453                     NaN                1             21            0   \n",
       "2182                     NaN                2             24            0   \n",
       "1705                     NaN                3             25            0   \n",
       "554   http://t.co/OQkH7uhWe9              258            991            0   \n",
       "1397                     NaN               69           3707            0   \n",
       "1417                     NaN                0             28            0   \n",
       "1172                     NaN                3             21            0   \n",
       "1550                     NaN                8              1            1   \n",
       "\n",
       "       ...   flag4  flag5 flag6  flag7 flag8 flag36 flag37 flag38 flag39  \\\n",
       "1208   ...       0      0     0     13     0      1      0      3      4   \n",
       "1414   ...       0      1     0     12     0      1      0      5      4   \n",
       "1453   ...       0      0     0     10     0      1      0      2      0   \n",
       "2182   ...       0      0     0     11     0      1      0      2      0   \n",
       "1705   ...       0      1     0     10     0      1      0      2      0   \n",
       "554    ...       0      0     1     10     0      0      4      8      0   \n",
       "1397   ...       0      0     0      7     0      2      2      9      0   \n",
       "1417   ...       0      0     0      7     0      1      0      3      0   \n",
       "1172   ...       0      0     0     12     0      1      0      2      0   \n",
       "1550   ...       0      0     0     13     0      2      1      1      0   \n",
       "\n",
       "      flag40  \n",
       "1208       0  \n",
       "1414       0  \n",
       "1453       0  \n",
       "2182       0  \n",
       "1705       0  \n",
       "554        0  \n",
       "1397       0  \n",
       "1417       0  \n",
       "1172       0  \n",
       "1550       0  \n",
       "\n",
       "[10 rows x 41 columns]"
      ]
     },
     "execution_count": 16,
     "metadata": {},
     "output_type": "execute_result"
    }
   ],
   "source": [
    "df.head(10)"
   ]
  },
  {
   "cell_type": "markdown",
   "metadata": {
    "deletable": true,
    "editable": true
   },
   "source": [
    "### Combination"
   ]
  },
  {
   "cell_type": "code",
   "execution_count": 17,
   "metadata": {
    "collapsed": false,
    "deletable": true,
    "editable": true
   },
   "outputs": [
    {
     "name": "stdout",
     "output_type": "stream",
     "text": [
      "(2218, 7775)\n",
      "(2218, 7755)\n"
     ]
    }
   ],
   "source": [
    "import scipy.sparse as sp\n",
    "h = sp.hstack((des1,lang1))\n",
    "print(h.shape)\n",
    "print(des1.shape)"
   ]
  },
  {
   "cell_type": "code",
   "execution_count": 18,
   "metadata": {
    "collapsed": false,
    "deletable": true,
    "editable": true
   },
   "outputs": [
    {
     "data": {
      "text/plain": [
       "(2218, 13)"
      ]
     },
     "execution_count": 18,
     "metadata": {},
     "output_type": "execute_result"
    }
   ],
   "source": [
    "df = df.sort_values('index',na_position='first')\n",
    "flag = np.matrix(df.loc[:,'flag1':column_name])\n",
    "flag.shape"
   ]
  },
  {
   "cell_type": "code",
   "execution_count": 19,
   "metadata": {
    "collapsed": false,
    "deletable": true,
    "editable": true
   },
   "outputs": [
    {
     "name": "stdout",
     "output_type": "stream",
     "text": [
      "(2218, 7788)\n"
     ]
    }
   ],
   "source": [
    "g = sp.hstack((h, flag))\n",
    "print (g.shape)"
   ]
  },
  {
   "cell_type": "markdown",
   "metadata": {
    "deletable": true,
    "editable": true
   },
   "source": [
    "### Classification"
   ]
  },
  {
   "cell_type": "code",
   "execution_count": 28,
   "metadata": {
    "collapsed": false
   },
   "outputs": [
    {
     "name": "stdout",
     "output_type": "stream",
     "text": [
      "0.81981981982\n"
     ]
    }
   ],
   "source": [
    "from sklearn.cross_validation import train_test_split\n",
    "X_train, X_test, y_train, y_test = train_test_split(g, df.bot, random_state=1)\n",
    "from sklearn.naive_bayes import MultinomialNB\n",
    "from sklearn import metrics\n",
    "nb = MultinomialNB()\n",
    "nb.fit(X_train, y_train)\n",
    "y_pred_class = nb.predict(X_test)\n",
    "print(metrics.accuracy_score(y_test, y_pred_class))"
   ]
  },
  {
   "cell_type": "code",
   "execution_count": 23,
   "metadata": {
    "collapsed": false
   },
   "outputs": [
    {
     "data": {
      "text/plain": [
       "array([[262,  16],\n",
       "       [ 84, 193]])"
      ]
     },
     "execution_count": 23,
     "metadata": {},
     "output_type": "execute_result"
    }
   ],
   "source": [
    "metrics.confusion_matrix(y_test, y_pred_class)"
   ]
  },
  {
   "cell_type": "code",
   "execution_count": 46,
   "metadata": {
    "collapsed": false,
    "deletable": true,
    "editable": true
   },
   "outputs": [
    {
     "name": "stdout",
     "output_type": "stream",
     "text": [
      "cmean accuracy = 0.8359\n",
      "mean precision = 0.8782\n",
      "mean recall = 0.7600\n",
      "mean f1 score = 0.8140\n",
      "mean AUC = 0.9275\n"
     ]
    }
   ],
   "source": [
    "from sklearn.model_selection import cross_val_predict\n",
    "from sklearn.naive_bayes import MultinomialNB,BernoulliNB\n",
    "from sklearn.linear_model import LogisticRegression\n",
    "from sklearn.feature_extraction.text import CountVectorizer\n",
    "from sklearn.model_selection import cross_val_score\n",
    "import numpy as np\n",
    "train_list = g\n",
    "target_list = df.bot\n",
    "accuracy = cross_val_score(MultinomialNB(alpha=1,fit_prior=True, class_prior=[1050,1168]), train_list, target_list, cv=10, scoring='accuracy')\n",
    "precision = cross_val_score(MultinomialNB(alpha=1,fit_prior=True, class_prior=[1050,1168]), train_list, target_list, cv=10, scoring='precision')\n",
    "recall = cross_val_score(MultinomialNB(alpha=1,fit_prior=True, class_prior=[1050,1168]), train_list, target_list, cv=10, scoring='recall')\n",
    "f1 = cross_val_score(MultinomialNB(alpha=1,fit_prior=True, class_prior=[1050,1168]), train_list, target_list, cv=10, scoring='f1')\n",
    "roc_auc = cross_val_score(MultinomialNB(alpha=1,fit_prior=True, class_prior=[1050,1168]), train_list, target_list, cv=10, scoring='roc_auc')\n",
    "print (\"cmean accuracy = %6.4f\"%np.mean(accuracy))\n",
    "print (\"mean precision = %6.4f\"%np.mean(precision))\n",
    "print (\"mean recall = %6.4f\"%np.mean(recall))\n",
    "print (\"mean f1 score = %6.4f\"%np.mean(f1))\n",
    "print (\"mean AUC = %6.4f\"%np.mean(roc_auc))"
   ]
  },
  {
   "cell_type": "markdown",
   "metadata": {
    "collapsed": false,
    "deletable": true,
    "editable": true
   },
   "source": [
    "### Parameter tuning"
   ]
  },
  {
   "cell_type": "code",
   "execution_count": 41,
   "metadata": {
    "collapsed": false,
    "deletable": true,
    "editable": true
   },
   "outputs": [],
   "source": [
    "alpha_list = tuple([ x/100 for x in range (100) ])"
   ]
  },
  {
   "cell_type": "code",
   "execution_count": 42,
   "metadata": {
    "collapsed": false,
    "deletable": true,
    "editable": true
   },
   "outputs": [],
   "source": [
    "from sklearn.model_selection import GridSearchCV\n",
    "parameters = {'alpha': alpha_list}\n",
    "MNB_clf = GridSearchCV(MultinomialNB(alpha=0.1,fit_prior=True, class_prior=[1050,1168]), parameters, n_jobs=-1)"
   ]
  },
  {
   "cell_type": "code",
   "execution_count": 43,
   "metadata": {
    "collapsed": false,
    "deletable": true,
    "editable": true
   },
   "outputs": [
    {
     "name": "stdout",
     "output_type": "stream",
     "text": [
      "0.848061316501\n",
      "alpha: 0.19\n"
     ]
    }
   ],
   "source": [
    "MNB_clf = MNB_clf.fit(g,df.bot)\n",
    "print (MNB_clf.best_score_)\n",
    "for param_name in sorted(parameters.keys()):\n",
    "    print(\"%s: %r\" % (param_name, MNB_clf.best_params_[param_name]))"
   ]
  },
  {
   "cell_type": "code",
   "execution_count": 47,
   "metadata": {
    "collapsed": false,
    "deletable": true,
    "editable": true
   },
   "outputs": [
    {
     "name": "stdout",
     "output_type": "stream",
     "text": [
      "cmean accuracy = 0.8453\n",
      "mean precision = 0.8600\n",
      "mean recall = 0.8057\n",
      "mean f1 score = 0.8314\n",
      "mean AUC = 0.9220\n"
     ]
    }
   ],
   "source": [
    "from sklearn.model_selection import cross_val_predict\n",
    "from sklearn.naive_bayes import MultinomialNB,BernoulliNB\n",
    "from sklearn.linear_model import LogisticRegression\n",
    "from sklearn.feature_extraction.text import CountVectorizer\n",
    "from sklearn.model_selection import cross_val_score\n",
    "import numpy as np\n",
    "train_list = g\n",
    "target_list = df.bot\n",
    "accuracy = cross_val_score(MultinomialNB(alpha=0.19,fit_prior=True, class_prior=[1050,1168]), train_list, target_list, cv=10, scoring='accuracy')\n",
    "precision = cross_val_score(MultinomialNB(alpha=0.19,fit_prior=True, class_prior=[1050,1168]), train_list, target_list, cv=10, scoring='precision')\n",
    "recall = cross_val_score(MultinomialNB(alpha=0.19,fit_prior=True, class_prior=[1050,1168]), train_list, target_list, cv=10, scoring='recall')\n",
    "f1 = cross_val_score(MultinomialNB(alpha=0.19,fit_prior=True, class_prior=[1050,1168]), train_list, target_list, cv=10, scoring='f1')\n",
    "roc_auc = cross_val_score(MultinomialNB(alpha=0.19,fit_prior=True, class_prior=[1050,1168]), train_list, target_list, cv=10, scoring='roc_auc')\n",
    "print (\"cmean accuracy = %6.4f\"%np.mean(accuracy))\n",
    "print (\"mean precision = %6.4f\"%np.mean(precision))\n",
    "print (\"mean recall = %6.4f\"%np.mean(recall))\n",
    "print (\"mean f1 score = %6.4f\"%np.mean(f1))\n",
    "print (\"mean AUC = %6.4f\"%np.mean(roc_auc))"
   ]
  },
  {
   "cell_type": "code",
   "execution_count": null,
   "metadata": {
    "collapsed": true,
    "deletable": true,
    "editable": true
   },
   "outputs": [],
   "source": []
  },
  {
   "cell_type": "code",
   "execution_count": null,
   "metadata": {
    "collapsed": true,
    "deletable": true,
    "editable": true
   },
   "outputs": [],
   "source": []
  },
  {
   "cell_type": "markdown",
   "metadata": {
    "deletable": true,
    "editable": true
   },
   "source": [
    "### BackUp"
   ]
  },
  {
   "cell_type": "markdown",
   "metadata": {},
   "source": [
    "### Only TrueOrFalse"
   ]
  },
  {
   "cell_type": "code",
   "execution_count": 48,
   "metadata": {
    "collapsed": false
   },
   "outputs": [
    {
     "data": {
      "text/plain": [
       "(2218, 4)"
      ]
     },
     "execution_count": 48,
     "metadata": {},
     "output_type": "execute_result"
    }
   ],
   "source": [
    "df = df.sort_values('index',na_position='first')\n",
    "flag = np.matrix(df.loc[:,'flag1':'flag4'])\n",
    "flag.shape"
   ]
  },
  {
   "cell_type": "code",
   "execution_count": 49,
   "metadata": {
    "collapsed": false
   },
   "outputs": [
    {
     "name": "stdout",
     "output_type": "stream",
     "text": [
      "cmean accuracy = 0.7385\n",
      "mean precision = 0.6522\n",
      "mean recall = 0.9676\n",
      "mean f1 score = 0.7787\n",
      "mean AUC = 0.8156\n"
     ]
    }
   ],
   "source": [
    "train_list = flag\n",
    "target_list = df.bot\n",
    "accuracy = cross_val_score(MultinomialNB(alpha=0.19,fit_prior=True, class_prior=[1050,1168]), train_list, target_list, cv=10, scoring='accuracy')\n",
    "precision = cross_val_score(MultinomialNB(alpha=0.19,fit_prior=True, class_prior=[1050,1168]), train_list, target_list, cv=10, scoring='precision')\n",
    "recall = cross_val_score(MultinomialNB(alpha=0.19,fit_prior=True, class_prior=[1050,1168]), train_list, target_list, cv=10, scoring='recall')\n",
    "f1 = cross_val_score(MultinomialNB(alpha=0.19,fit_prior=True, class_prior=[1050,1168]), train_list, target_list, cv=10, scoring='f1')\n",
    "roc_auc = cross_val_score(MultinomialNB(alpha=0.19,fit_prior=True, class_prior=[1050,1168]), train_list, target_list, cv=10, scoring='roc_auc')\n",
    "print (\"cmean accuracy = %6.4f\"%np.mean(accuracy))\n",
    "print (\"mean precision = %6.4f\"%np.mean(precision))\n",
    "print (\"mean recall = %6.4f\"%np.mean(recall))\n",
    "print (\"mean f1 score = %6.4f\"%np.mean(f1))\n",
    "print (\"mean AUC = %6.4f\"%np.mean(roc_auc))"
   ]
  },
  {
   "cell_type": "code",
   "execution_count": 32,
   "metadata": {
    "collapsed": false,
    "deletable": true,
    "editable": true
   },
   "outputs": [
    {
     "name": "stdout",
     "output_type": "stream",
     "text": [
      "[[85681083]\n",
      " [34363304]\n",
      " [96321564]\n",
      " ..., \n",
      " [       4]\n",
      " [      23]\n",
      " [     101]]\n"
     ]
    },
    {
     "ename": "NameError",
     "evalue": "name 'X_train_counts' is not defined",
     "output_type": "error",
     "traceback": [
      "\u001b[0;31m---------------------------------------------------------------------------\u001b[0m",
      "\u001b[0;31mNameError\u001b[0m                                 Traceback (most recent call last)",
      "\u001b[0;32m<ipython-input-32-6eb9a1fa1909>\u001b[0m in \u001b[0;36m<module>\u001b[0;34m()\u001b[0m\n\u001b[1;32m      3\u001b[0m \u001b[0mx2\u001b[0m \u001b[0;34m=\u001b[0m \u001b[0mnp\u001b[0m\u001b[0;34m.\u001b[0m\u001b[0mmatrix\u001b[0m\u001b[0;34m(\u001b[0m\u001b[0mx2\u001b[0m\u001b[0;34m)\u001b[0m\u001b[0;34m.\u001b[0m\u001b[0mtranspose\u001b[0m\u001b[0;34m(\u001b[0m\u001b[0;34m)\u001b[0m\u001b[0;34m\u001b[0m\u001b[0m\n\u001b[1;32m      4\u001b[0m \u001b[0mprint\u001b[0m\u001b[0;34m(\u001b[0m\u001b[0mx2\u001b[0m\u001b[0;34m)\u001b[0m\u001b[0;34m\u001b[0m\u001b[0m\n\u001b[0;32m----> 5\u001b[0;31m \u001b[0mxx\u001b[0m \u001b[0;34m=\u001b[0m \u001b[0mX_train_counts\u001b[0m\u001b[0;34m\u001b[0m\u001b[0m\n\u001b[0m\u001b[1;32m      6\u001b[0m \u001b[0mprint\u001b[0m \u001b[0;34m(\u001b[0m\u001b[0mtype\u001b[0m\u001b[0;34m(\u001b[0m\u001b[0mx1\u001b[0m\u001b[0;34m)\u001b[0m\u001b[0;34m)\u001b[0m\u001b[0;34m\u001b[0m\u001b[0m\n\u001b[1;32m      7\u001b[0m \u001b[0mprint\u001b[0m \u001b[0;34m(\u001b[0m\u001b[0mtype\u001b[0m\u001b[0;34m(\u001b[0m\u001b[0mx2\u001b[0m\u001b[0;34m)\u001b[0m\u001b[0;34m)\u001b[0m\u001b[0;34m\u001b[0m\u001b[0m\n",
      "\u001b[0;31mNameError\u001b[0m: name 'X_train_counts' is not defined"
     ]
    }
   ],
   "source": [
    "x1 = df.followers_count.tolist()\n",
    "x2 = [x1]\n",
    "x2 = np.matrix(x2).transpose()\n",
    "print(x2)\n",
    "xx = X_train_counts\n",
    "print (type(x1))\n",
    "print (type(x2))\n",
    "print (type(xx))\n",
    "#np.concatenate((xx,x1),axis = 1)\n",
    "import scipy.sparse as sp\n",
    "h = sp.hstack((xx, x2))\n",
    "h.shape\n",
    "print(type(df.followers_count.values))\n",
    "print(type(df.followers_count.values))"
   ]
  },
  {
   "cell_type": "code",
   "execution_count": 74,
   "metadata": {
    "collapsed": false,
    "deletable": true,
    "editable": true
   },
   "outputs": [
    {
     "data": {
      "text/plain": [
       "array([[0, 0, 0, 1, 1, 1, 0, 1, 0, 0, 1, 0, 1, 1, 0, 1, 1, 0, 0, 0, 0, 0,\n",
       "        0, 1, 0, 1, 1, 0, 1, 0, 0, 1, 0, 1, 0, 0, 1, 0, 0, 0, 1, 1, 0, 1,\n",
       "        0, 1, 1, 1, 1, 1, 1, 1, 1, 1, 1, 1, 1, 0, 1, 1, 0, 1, 1, 0, 0, 1,\n",
       "        0, 0, 0, 1, 1, 1, 1, 0, 0, 1, 1, 0, 0, 0, 0, 0, 0, 0, 1, 1, 0, 1,\n",
       "        0, 0, 1, 0, 1, 1, 0, 0, 0, 0, 0, 0],\n",
       "       [1, 0, 1, 1, 0, 1, 1, 0, 1, 1, 0, 0, 0, 0, 0, 1, 0, 1, 0, 0, 0, 0,\n",
       "        1, 1, 1, 1, 0, 0, 0, 0, 1, 0, 0, 1, 0, 1, 0, 0, 0, 1, 1, 1, 1, 1,\n",
       "        1, 1, 1, 0, 1, 0, 0, 1, 0, 1, 0, 0, 0, 1, 1, 1, 0, 1, 1, 1, 0, 1,\n",
       "        1, 0, 1, 0, 1, 0, 1, 0, 1, 1, 0, 1, 1, 1, 0, 1, 0, 0, 0, 1, 0, 0,\n",
       "        1, 1, 0, 0, 0, 0, 1, 0, 0, 0, 1, 0],\n",
       "       [1, 0, 1, 0, 0, 1, 0, 1, 0, 1, 0, 1, 0, 1, 0, 1, 0, 0, 0, 1, 1, 0,\n",
       "        1, 0, 1, 1, 0, 0, 1, 1, 0, 1, 1, 1, 1, 0, 1, 1, 0, 1, 1, 1, 1, 1,\n",
       "        1, 0, 1, 0, 1, 1, 0, 1, 1, 0, 1, 0, 1, 0, 0, 1, 0, 1, 0, 0, 0, 0,\n",
       "        1, 0, 0, 0, 0, 0, 0, 1, 1, 0, 1, 0, 0, 0, 0, 1, 0, 0, 0, 0, 1, 1,\n",
       "        1, 1, 1, 1, 0, 0, 1, 0, 0, 0, 0, 0],\n",
       "       [1, 1, 0, 1, 0, 0, 0, 0, 0, 1, 1, 1, 0, 1, 1, 0, 1, 0, 1, 1, 0, 1,\n",
       "        1, 1, 1, 0, 1, 0, 1, 0, 0, 1, 0, 1, 1, 1, 0, 0, 0, 1, 0, 1, 1, 0,\n",
       "        1, 0, 1, 1, 0, 0, 0, 1, 1, 0, 1, 1, 1, 1, 0, 1, 1, 1, 0, 1, 1, 1,\n",
       "        1, 1, 0, 1, 0, 1, 0, 0, 1, 1, 0, 1, 1, 1, 1, 1, 1, 1, 1, 1, 0, 1,\n",
       "        0, 0, 1, 0, 0, 0, 1, 0, 0, 0, 1, 1],\n",
       "       [1, 0, 1, 0, 1, 1, 0, 0, 1, 1, 0, 1, 1, 0, 1, 1, 1, 0, 0, 1, 0, 0,\n",
       "        1, 1, 1, 0, 0, 0, 1, 0, 1, 1, 1, 1, 0, 1, 0, 1, 0, 0, 0, 0, 0, 0,\n",
       "        0, 0, 0, 1, 1, 1, 1, 0, 1, 0, 0, 1, 0, 1, 1, 0, 0, 1, 0, 0, 1, 1,\n",
       "        1, 0, 1, 1, 0, 0, 1, 0, 1, 0, 0, 0, 1, 1, 0, 0, 1, 0, 1, 0, 0, 0,\n",
       "        1, 1, 0, 1, 0, 0, 1, 1, 0, 0, 1, 0],\n",
       "       [0, 0, 1, 1, 1, 1, 1, 1, 0, 1, 0, 0, 1, 1, 1, 0, 1, 1, 0, 0, 0, 1,\n",
       "        1, 1, 1, 0, 0, 1, 1, 1, 0, 0, 0, 1, 1, 0, 1, 1, 1, 0, 0, 0, 1, 1,\n",
       "        1, 0, 0, 0, 1, 0, 0, 0, 0, 1, 1, 0, 1, 0, 0, 1, 0, 1, 1, 1, 1, 0,\n",
       "        1, 1, 0, 0, 0, 1, 1, 0, 0, 1, 1, 0, 1, 1, 0, 1, 1, 1, 0, 0, 1, 1,\n",
       "        0, 0, 1, 0, 0, 0, 1, 0, 0, 1, 0, 1]])"
      ]
     },
     "execution_count": 74,
     "metadata": {},
     "output_type": "execute_result"
    }
   ],
   "source": [
    "np.random.randint(2, size=(6, 100))"
   ]
  },
  {
   "cell_type": "code",
   "execution_count": 75,
   "metadata": {
    "collapsed": true,
    "deletable": true,
    "editable": true
   },
   "outputs": [],
   "source": [
    "s= '\"abc\"'"
   ]
  },
  {
   "cell_type": "code",
   "execution_count": 77,
   "metadata": {
    "collapsed": false,
    "deletable": true,
    "editable": true
   },
   "outputs": [
    {
     "data": {
      "text/plain": [
       "'abc'"
      ]
     },
     "execution_count": 77,
     "metadata": {},
     "output_type": "execute_result"
    }
   ],
   "source": [
    "s.strip('\"')"
   ]
  },
  {
   "cell_type": "code",
   "execution_count": null,
   "metadata": {
    "collapsed": true,
    "deletable": true,
    "editable": true
   },
   "outputs": [],
   "source": []
  }
 ],
 "metadata": {
  "anaconda-cloud": {},
  "kernelspec": {
   "display_name": "Python [default]",
   "language": "python",
   "name": "python3"
  },
  "language_info": {
   "codemirror_mode": {
    "name": "ipython",
    "version": 3
   },
   "file_extension": ".py",
   "mimetype": "text/x-python",
   "name": "python",
   "nbconvert_exporter": "python",
   "pygments_lexer": "ipython3",
   "version": "3.5.2"
  }
 },
 "nbformat": 4,
 "nbformat_minor": 2
}
