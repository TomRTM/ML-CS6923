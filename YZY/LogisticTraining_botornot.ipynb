{
 "cells": [
  {
   "cell_type": "markdown",
   "metadata": {},
   "source": [
    "### Logistic Training on features given by botornot"
   ]
  },
  {
   "cell_type": "code",
   "execution_count": 4,
   "metadata": {
    "collapsed": true
   },
   "outputs": [],
   "source": [
    "from sklearn import linear_model\n",
    "import pandas as pd\n",
    "import numpy as np\n"
   ]
  },
  {
   "cell_type": "code",
   "execution_count": 24,
   "metadata": {
    "collapsed": false
   },
   "outputs": [
    {
     "name": "stdout",
     "output_type": "stream",
     "text": [
      "      index            id        id_str     screen_name  \\\n",
      "2662    609  5.141790e+07  5.141790e+07  thedreamstream   \n",
      "2663    820  7.460000e+17  7.460000e+17    ismail_abaid   \n",
      "2664    583  3.044051e+08  3.044051e+08     othello3579   \n",
      "2665    391  4.178444e+07  4.178444e+07   AllTheCheeses   \n",
      "2666    404  7.510000e+17  7.510000e+17       xbangtan1   \n",
      "\n",
      "                              location  \\\n",
      "2662           IN UR HEAD WHEN U SLEEP   \n",
      "2663                           Morocco   \n",
      "2664                               NaN   \n",
      "2665                               NaN   \n",
      "2666  äó_¥dont follow this accäó_¥   \n",
      "\n",
      "                                            description  \\\n",
      "2662  So we all love hearing about other ppls dreams...   \n",
      "2663                                                NaN   \n",
      "2664                                                NaN   \n",
      "2665                                                NaN   \n",
      "2666  Giving you a free follow and you can help me b...   \n",
      "\n",
      "                          url  followers_count  friends_count  listedcount  \\\n",
      "2662                      NaN              244            345           17   \n",
      "2663  https://t.co/4NKFOoe9oX              487           1086            0   \n",
      "2664                      NaN              715           1357            4   \n",
      "2665                      NaN             1321           1794           64   \n",
      "2666                      NaN              147           1426            0   \n",
      "\n",
      "       ...                    name  BotOrNot content_classification  \\\n",
      "2662   ...        The Dream Stream      0.65               0.543333   \n",
      "2663   ...            Ismail abaid      0.79               0.500000   \n",
      "2664   ...          Harold R Green      0.98               0.920000   \n",
      "2665   ...         All The Cheeses      0.79               0.620000   \n",
      "2666   ...    free follow read bio      0.96               0.905000   \n",
      "\n",
      "      friend_classification network_classification sentiment_classification  \\\n",
      "2662               0.793147               0.846000                 0.870000   \n",
      "2663               0.793147               0.790000                 0.410000   \n",
      "2664               0.793147               0.840246                 0.816667   \n",
      "2665               0.793147               0.760000                 0.592500   \n",
      "2666               0.793147               0.785371                 0.870000   \n",
      "\n",
      "     temporal_classification user_classification  \\\n",
      "2662                0.840000            0.970000   \n",
      "2663                0.910000            0.970000   \n",
      "2664                0.800000            0.970000   \n",
      "2665                0.516667            0.970667   \n",
      "2666                0.880000            0.980000   \n",
      "\n",
      "                                                 status  is_bot  \n",
      "2662  {'in_reply_to_status_id_str': None, 'source': ...       1  \n",
      "2663  {'in_reply_to_status_id_str': None, 'source': ...       1  \n",
      "2664  {'in_reply_to_status_id_str': None, 'source': ...       1  \n",
      "2665  {'in_reply_to_status_id_str': None, 'source': ...       1  \n",
      "2666  {'in_reply_to_status_id_str': None, 'source': ...       1  \n",
      "\n",
      "[5 rows x 28 columns]\n",
      "(2667, 28)\n"
     ]
    }
   ],
   "source": [
    "df = pd.read_csv('training_set_1_filter.csv',encoding = \"ISO-8859-1\")\n",
    "print(df.tail(5))\n",
    "print(df.shape)"
   ]
  },
  {
   "cell_type": "code",
   "execution_count": 25,
   "metadata": {
    "collapsed": false
   },
   "outputs": [
    {
     "data": {
      "text/plain": [
       "(2667, 7)"
      ]
     },
     "execution_count": 25,
     "metadata": {},
     "output_type": "execute_result"
    }
   ],
   "source": [
    "df1 = np.matrix(df.loc[:,'BotOrNot':'user_classification'])\n",
    "print(df1.shape)\n",
    "y = df.is_bot\n",
    "print(y.shape)"
   ]
  },
  {
   "cell_type": "code",
   "execution_count": 38,
   "metadata": {
    "collapsed": false
   },
   "outputs": [
    {
     "name": "stdout",
     "output_type": "stream",
     "text": [
      "cmean accuracy = 0.7261\n",
      "mean precision = 0.7313\n"
     ]
    }
   ],
   "source": [
    "from sklearn.model_selection import cross_val_predict\n",
    "from sklearn.linear_model import LogisticRegression,LinearRegression\n",
    "from sklearn.model_selection import cross_val_score\n",
    "from sklearn.ensemble import RandomForestClassifier\n",
    "clf = RandomForestClassifier(n_estimators=25)\n",
    "train_list = df1\n",
    "target_list = y\n",
    "accuracy = cross_val_score(clf, train_list, target_list, cv=10, scoring='accuracy')\n",
    "precision = cross_val_score(clf, train_list, target_list, cv=10, scoring='precision')\n",
    "print (\"cmean accuracy = %6.4f\"%np.mean(accuracy))\n",
    "print (\"mean precision = %6.4f\"%np.mean(precision))"
   ]
  },
  {
   "cell_type": "code",
   "execution_count": 34,
   "metadata": {
    "collapsed": false
   },
   "outputs": [],
   "source": [
    "from sklearn.model_selection import train_test_split\n",
    "X_train, X_test, y_train, y_test = train_test_split(\n",
    "    df1, y, stratify=y, random_state=42)"
   ]
  },
  {
   "cell_type": "code",
   "execution_count": 36,
   "metadata": {
    "collapsed": false
   },
   "outputs": [
    {
     "name": "stdout",
     "output_type": "stream",
     "text": [
      "Training set score: 0.842\n",
      "Test set score: 0.816\n",
      "[[285  70]\n",
      " [ 53 259]]\n",
      "             precision    recall  f1-score   support\n",
      "\n",
      "          0       0.84      0.80      0.82       355\n",
      "          1       0.79      0.83      0.81       312\n",
      "\n",
      "avg / total       0.82      0.82      0.82       667\n",
      "\n"
     ]
    }
   ],
   "source": [
    "logreg01 = LogisticRegression(penalty='l2',C=100).fit(X_train, y_train)\n",
    "\n",
    "print(\"Training set score: {:.3f}\".format(logreg01.score(X_train, y_train)))\n",
    "print(\"Test set score: {:.3f}\".format(logreg01.score(X_test, y_test)))\n",
    "\n",
    "from sklearn.metrics import confusion_matrix\n",
    "y_pred = logreg01.predict(X_test)\n",
    "print(confusion_matrix(y_test, y_pred))\n",
    "from sklearn.metrics import classification_report\n",
    "print(classification_report(y_test, y_pred))"
   ]
  },
  {
   "cell_type": "code",
   "execution_count": 40,
   "metadata": {
    "collapsed": false,
    "deletable": true,
    "editable": true
   },
   "outputs": [
    {
     "name": "stdout",
     "output_type": "stream",
     "text": [
      "Training set score: 0.998\n",
      "Test set score: 0.801\n",
      "[[273  82]\n",
      " [ 51 261]]\n",
      "             precision    recall  f1-score   support\n",
      "\n",
      "          0       0.84      0.77      0.80       355\n",
      "          1       0.76      0.84      0.80       312\n",
      "\n",
      "avg / total       0.80      0.80      0.80       667\n",
      "\n"
     ]
    }
   ],
   "source": [
    "rf1 = clf.fit(X_train, y_train)\n",
    "\n",
    "print(\"Training set score: {:.3f}\".format(rf1.score(X_train, y_train)))\n",
    "print(\"Test set score: {:.3f}\".format(rf1.score(X_test, y_test)))\n",
    "\n",
    "from sklearn.metrics import confusion_matrix\n",
    "y_pred = rf1.predict(X_test)\n",
    "print(confusion_matrix(y_test, y_pred))\n",
    "from sklearn.metrics import classification_report\n",
    "print(classification_report(y_test, y_pred))"
   ]
  },
  {
   "cell_type": "code",
   "execution_count": 47,
   "metadata": {
    "collapsed": false
   },
   "outputs": [
    {
     "name": "stdout",
     "output_type": "stream",
     "text": [
      "0.391451068616\n",
      "0.503937007874\n",
      "[ 0.60404949  0.75478065  0.51068616]\n"
     ]
    },
    {
     "data": {
      "text/plain": [
       "False"
      ]
     },
     "execution_count": 47,
     "metadata": {},
     "output_type": "execute_result"
    }
   ],
   "source": [
    "from sklearn.model_selection import cross_val_score\n",
    "from sklearn.datasets import make_blobs\n",
    "from sklearn.ensemble import RandomForestClassifier\n",
    "from sklearn.ensemble import ExtraTreesClassifier\n",
    "from sklearn.tree import DecisionTreeClassifier\n",
    "\n",
    "X = df1\n",
    "y = df.is_bot\n",
    "# X, y = make_blobs(n_samples=10000, n_features=10, centers=100,\n",
    "#     random_state=0)\n",
    "clf = DecisionTreeClassifier(max_depth=None, min_samples_split=2,\n",
    "    random_state=0)\n",
    "scores = cross_val_score(clf, X, y)\n",
    "print(scores.mean())\n",
    "\n",
    "\n",
    "clf = RandomForestClassifier(n_estimators=100, max_depth=None,\n",
    "     random_state=0)\n",
    "scores = cross_val_score(clf, X, y)\n",
    "print(scores.mean())\n",
    "\n",
    "\n",
    "clf = ExtraTreesClassifier(n_estimators=100, max_depth=None,\n",
    "     random_state=0)\n",
    "scores = cross_val_score(clf, X, y)\n",
    "print(scores)\n",
    "scores.mean() > 0.999"
   ]
  },
  {
   "cell_type": "code",
   "execution_count": 45,
   "metadata": {
    "collapsed": false
   },
   "outputs": [
    {
     "data": {
      "text/plain": [
       "(2667, 7)"
      ]
     },
     "execution_count": 45,
     "metadata": {},
     "output_type": "execute_result"
    }
   ],
   "source": [
    "df1.shape"
   ]
  },
  {
   "cell_type": "code",
   "execution_count": null,
   "metadata": {
    "collapsed": true
   },
   "outputs": [],
   "source": []
  },
  {
   "cell_type": "markdown",
   "metadata": {},
   "source": [
    "# BackUp"
   ]
  },
  {
   "cell_type": "code",
   "execution_count": 1,
   "metadata": {
    "collapsed": false,
    "deletable": true,
    "editable": true,
    "scrolled": true
   },
   "outputs": [
    {
     "name": "stdout",
     "output_type": "stream",
     "text": [
      "Automatically created module for IPython interactive environment\n"
     ]
    },
    {
     "name": "stderr",
     "output_type": "stream",
     "text": [
      "/Users/alvin/anaconda3/lib/python3.5/site-packages/ipykernel/__main__.py:11: VisibleDeprecationWarning: using a non-integer number instead of an integer will result in an error in the future\n",
      "/Users/alvin/anaconda3/lib/python3.5/site-packages/ipykernel/__main__.py:12: VisibleDeprecationWarning: using a non-integer number instead of an integer will result in an error in the future\n",
      "/Users/alvin/anaconda3/lib/python3.5/site-packages/ipykernel/__main__.py:13: VisibleDeprecationWarning: using a non-integer number instead of an integer will result in an error in the future\n",
      "/Users/alvin/anaconda3/lib/python3.5/site-packages/ipykernel/__main__.py:14: VisibleDeprecationWarning: using a non-integer number instead of an integer will result in an error in the future\n"
     ]
    },
    {
     "name": "stdout",
     "output_type": "stream",
     "text": [
      "KNN score: 0.961111\n",
      "LogisticRegression score: 0.938889\n"
     ]
    }
   ],
   "source": [
    "print(__doc__)\n",
    "\n",
    "from sklearn import datasets, neighbors, linear_model\n",
    "\n",
    "digits = datasets.load_digits()\n",
    "X_digits = digits.data\n",
    "y_digits = digits.target\n",
    "\n",
    "n_samples = len(X_digits)\n",
    "\n",
    "X_train = X_digits[:.9 * n_samples]\n",
    "y_train = y_digits[:.9 * n_samples]\n",
    "X_test = X_digits[.9 * n_samples:]\n",
    "y_test = y_digits[.9 * n_samples:]\n",
    "\n",
    "knn = neighbors.KNeighborsClassifier()\n",
    "logistic = linear_model.LogisticRegression()\n",
    "\n",
    "print('KNN score: %f' % knn.fit(X_train, y_train).score(X_test, y_test))\n",
    "print('LogisticRegression score: %f'\n",
    "      % logistic.fit(X_train, y_train).score(X_test, y_test))"
   ]
  },
  {
   "cell_type": "code",
   "execution_count": 2,
   "metadata": {
    "collapsed": true,
    "deletable": true,
    "editable": true
   },
   "outputs": [],
   "source": [
    "y_digits = digits.target"
   ]
  },
  {
   "cell_type": "code",
   "execution_count": 3,
   "metadata": {
    "collapsed": false,
    "deletable": true,
    "editable": true
   },
   "outputs": [
    {
     "data": {
      "text/plain": [
       "array([0, 1, 2, ..., 8, 9, 8])"
      ]
     },
     "execution_count": 3,
     "metadata": {},
     "output_type": "execute_result"
    }
   ],
   "source": [
    "y_digits"
   ]
  },
  {
   "cell_type": "code",
   "execution_count": 4,
   "metadata": {
    "collapsed": false,
    "deletable": true,
    "editable": true
   },
   "outputs": [
    {
     "data": {
      "text/plain": [
       "array([[  0.,   0.,   5., ...,   0.,   0.,   0.],\n",
       "       [  0.,   0.,   0., ...,  10.,   0.,   0.],\n",
       "       [  0.,   0.,   0., ...,  16.,   9.,   0.],\n",
       "       ..., \n",
       "       [  0.,   0.,   1., ...,   6.,   0.,   0.],\n",
       "       [  0.,   0.,   2., ...,  12.,   0.,   0.],\n",
       "       [  0.,   0.,  10., ...,  12.,   1.,   0.]])"
      ]
     },
     "execution_count": 4,
     "metadata": {},
     "output_type": "execute_result"
    }
   ],
   "source": [
    "X_digits"
   ]
  },
  {
   "cell_type": "code",
   "execution_count": 48,
   "metadata": {
    "collapsed": true,
    "deletable": true,
    "editable": true
   },
   "outputs": [],
   "source": [
    "XX, yy = make_blobs(n_samples=10000, n_features=10, centers=100,\n",
    "    random_state=0)"
   ]
  },
  {
   "cell_type": "code",
   "execution_count": 57,
   "metadata": {
    "collapsed": false
   },
   "outputs": [
    {
     "data": {
      "text/plain": [
       "matrix([[ 0.08      ,  0.37      ,  0.01      , ...,  0.02      ,\n",
       "          0.47      ,  0.        ],\n",
       "        [ 0.1       ,  0.4       ,  0.01      , ...,  0.07      ,\n",
       "          0.16      ,  0.        ],\n",
       "        [ 0.11      ,  0.32      ,  0.04      , ...,  0.03      ,\n",
       "          0.11      ,  0.        ],\n",
       "        ..., \n",
       "        [ 0.98      ,  0.92      ,  0.79314713, ...,  0.81666667,\n",
       "          0.8       ,  0.97      ],\n",
       "        [ 0.79      ,  0.62      ,  0.79314713, ...,  0.5925    ,\n",
       "          0.51666667,  0.97066667],\n",
       "        [ 0.96      ,  0.905     ,  0.79314713, ...,  0.87      ,\n",
       "          0.88      ,  0.98      ]])"
      ]
     },
     "execution_count": 57,
     "metadata": {},
     "output_type": "execute_result"
    }
   ],
   "source": [
    "X"
   ]
  },
  {
   "cell_type": "code",
   "execution_count": 58,
   "metadata": {
    "collapsed": false
   },
   "outputs": [
    {
     "data": {
      "text/plain": [
       "(2667, 7)"
      ]
     },
     "execution_count": 58,
     "metadata": {},
     "output_type": "execute_result"
    }
   ],
   "source": [
    "X.shape"
   ]
  },
  {
   "cell_type": "code",
   "execution_count": 51,
   "metadata": {
    "collapsed": false
   },
   "outputs": [
    {
     "name": "stdout",
     "output_type": "stream",
     "text": [
      "[85 64 93 ..., 98 80 91]\n"
     ]
    }
   ],
   "source": [
    "print (yy)"
   ]
  },
  {
   "cell_type": "code",
   "execution_count": 59,
   "metadata": {
    "collapsed": false
   },
   "outputs": [
    {
     "data": {
      "text/plain": [
       "(2667,)"
      ]
     },
     "execution_count": 59,
     "metadata": {},
     "output_type": "execute_result"
    }
   ],
   "source": [
    "y.shape"
   ]
  },
  {
   "cell_type": "code",
   "execution_count": null,
   "metadata": {
    "collapsed": true
   },
   "outputs": [],
   "source": []
  }
 ],
 "metadata": {
  "kernelspec": {
   "display_name": "Python [default]",
   "language": "python",
   "name": "python3"
  },
  "language_info": {
   "codemirror_mode": {
    "name": "ipython",
    "version": 3
   },
   "file_extension": ".py",
   "mimetype": "text/x-python",
   "name": "python",
   "nbconvert_exporter": "python",
   "pygments_lexer": "ipython3",
   "version": "3.5.2"
  }
 },
 "nbformat": 4,
 "nbformat_minor": 1
}
