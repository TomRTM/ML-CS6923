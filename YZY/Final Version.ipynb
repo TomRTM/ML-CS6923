{
 "cells": [
  {
   "cell_type": "code",
   "execution_count": 6,
   "metadata": {
    "collapsed": false,
    "deletable": true,
    "editable": true
   },
   "outputs": [],
   "source": [
    "import pandas as pd\n",
    "import numpy as np\n",
    "# df = pd.read_csv('training_set_1_filter.csv',encoding = \"ISO-8859-1\")\n",
    "df = pd.read_csv('training_data_2_csv_UTF.csv',encoding = \"UTF\").dropna(how='all')"
   ]
  },
  {
   "cell_type": "code",
   "execution_count": 7,
   "metadata": {
    "collapsed": false,
    "deletable": true,
    "editable": true,
    "scrolled": false
   },
   "outputs": [],
   "source": [
    "df.loc[:,'flag1'] = 1\n",
    "for i in df.index:\n",
    "#     print (i)\n",
    "    if df.loc[i,'default_profile'] :\n",
    "#         print (df.loc[i,'default_profile'])\n",
    "        df.loc[i,'flag1'] = 1\n",
    "    else:\n",
    "        df.loc[i,'flag1'] = 0"
   ]
  },
  {
   "cell_type": "code",
   "execution_count": 8,
   "metadata": {
    "collapsed": false,
    "deletable": true,
    "editable": true
   },
   "outputs": [],
   "source": [
    "df.loc[:,'flag2'] = 1\n",
    "for i in df.index:    \n",
    "    if df.loc[i,'default_profile_image'] :\n",
    "        df.loc[i,'flag2'] = 1\n",
    "    else:\n",
    "        df.loc[i,'flag2'] = 0"
   ]
  },
  {
   "cell_type": "code",
   "execution_count": 9,
   "metadata": {
    "collapsed": true,
    "deletable": true,
    "editable": true
   },
   "outputs": [],
   "source": [
    "df.loc[:,'flag3'] = 1\n",
    "for i in df.index:    \n",
    "    if df.loc[i,'has_extended_profile'] :\n",
    "        df.loc[i,'flag3'] = 1\n",
    "    else:\n",
    "        df.loc[i,'flag3'] = 0"
   ]
  },
  {
   "cell_type": "code",
   "execution_count": 10,
   "metadata": {
    "collapsed": true,
    "deletable": true,
    "editable": true
   },
   "outputs": [],
   "source": [
    "df.loc[:,'flag4'] = 1\n",
    "for i in df.index:    \n",
    "    if df.loc[i,'verified'] :\n",
    "        df.loc[i,'flag4'] = 1\n",
    "    else:\n",
    "        df.loc[i,'flag4'] = 0"
   ]
  },
  {
   "cell_type": "code",
   "execution_count": 11,
   "metadata": {
    "collapsed": false,
    "deletable": true,
    "editable": true
   },
   "outputs": [],
   "source": [
    "# Whether 'bot' is in location\n",
    "df.loc[:,'flag5']=1\n",
    "for i in df.index: \n",
    "    if \"bot\" in str(df.loc[i,'location']):\n",
    "        df.loc[i,'flag5'] = 1\n",
    "    else:\n",
    "        df.loc[i,'flag5']=0\n"
   ]
  },
  {
   "cell_type": "code",
   "execution_count": 12,
   "metadata": {
    "collapsed": false,
    "deletable": true,
    "editable": true
   },
   "outputs": [],
   "source": [
    "#status\n",
    "df.loc[:,'flag8'] = 1\n",
    "for i in df.index:    \n",
    "    if type(df.loc[i,'status']) == type('str') :\n",
    "        if df.loc[i,'status']== 'null' or df.loc[i,'status']== 'None':\n",
    "            df.loc[i,'flag8'] = 0\n",
    "        elif df.loc[i,'status']=='{':\n",
    "            df.loc[i,'flag8'] = 0\n",
    "        else:\n",
    "            df.loc[i,'flag8'] = 1\n",
    "    else:\n",
    "        df.loc[i,'flag8'] = 0\n"
   ]
  },
  {
   "cell_type": "code",
   "execution_count": 13,
   "metadata": {
    "collapsed": false,
    "deletable": true,
    "editable": true
   },
   "outputs": [],
   "source": [
    "# id\n",
    "df['flag9'] = df[df.columns[0]].astype(np.int64)"
   ]
  },
  {
   "cell_type": "code",
   "execution_count": 14,
   "metadata": {
    "collapsed": false,
    "deletable": true,
    "editable": true
   },
   "outputs": [],
   "source": [
    "# description\n",
    "df.loc[:,'flag10'] = 1\n",
    "for i in df.index:    \n",
    "    if type(df.loc[i,'description']) == type('str') :\n",
    "        if df.loc[i,'description']== 'null' or df.loc[i,'description']== 'None':\n",
    "#             print(df.loc[i,'description'])\n",
    "            df.loc[i,'flag10'] = 1\n",
    "        elif \"bot\" in str(df.loc[i,'description']):\n",
    "#             print (df.loc[i,'description'])\n",
    "            df.loc[i,'flag10'] = 1\n",
    "        else:\n",
    "            df.loc[i,'flag10'] = 0\n",
    "    else:\n",
    "        df.loc[i,'flag10'] = 0"
   ]
  },
  {
   "cell_type": "code",
   "execution_count": 15,
   "metadata": {
    "collapsed": false,
    "deletable": true,
    "editable": true
   },
   "outputs": [],
   "source": [
    "#bot in screen_name\n",
    "df.loc[:,'flag11']=1\n",
    "for i in df.index: \n",
    "    if (str(df.loc[i,'screen_name'][-3:])=='bot') or (str(df.loc[i,'screen_name'][-3:])=='Bot') or (str(df.loc[i,'screen_name'][0:3]))=='bot'or (str(df.loc[i,'screen_name'][0:3]))=='Bot':\n",
    "        df.loc[i,'flag11'] = 1\n",
    "    else:\n",
    "        df.loc[i,'flag11'] = 0"
   ]
  },
  {
   "cell_type": "code",
   "execution_count": 16,
   "metadata": {
    "collapsed": true,
    "deletable": true,
    "editable": true
   },
   "outputs": [],
   "source": [
    "#status or not\n",
    "df.loc[:,'flag12'] = 1\n",
    "for i in df.index:    \n",
    "    if \"entities\" in str(df.loc[i,'status']) :\n",
    "        df.loc[i,'flag12'] = 0"
   ]
  },
  {
   "cell_type": "code",
   "execution_count": 17,
   "metadata": {
    "collapsed": false,
    "deletable": true,
    "editable": true
   },
   "outputs": [],
   "source": [
    "# create_at \n",
    "df.loc[:,'flag13']= 0\n",
    "for i in df.index: \n",
    "    if \"2011\" in str(df.loc[i,'created_at']):\n",
    "        df.loc[i,'flag13'] = 1\n",
    "#         print(df.loc[i,'created_at'])    \n",
    "    elif \"2012\" in str(df.loc[i,'created_at']):\n",
    "        df.loc[i,'flag13'] = 2\n",
    "#         print(df.loc[i,'created_at'])    \n",
    "    elif \"2013\" in str(df.loc[i,'created_at']):\n",
    "        df.loc[i,'flag13'] = 3\n",
    "#         print(df.loc[i,'created_at'])    \n",
    "    elif \"2014\" in str(df.loc[i,'created_at']):\n",
    "        df.loc[i,'flag13'] = 4\n",
    "#         print(df.loc[i,'created_at'])    \n",
    "    elif \"2015\" in str(df.loc[i,'created_at']):\n",
    "        df.loc[i,'flag13'] = 5\n",
    "#         print(df.loc[i,'created_at'])\n",
    "    elif \"2016\" in str(df.loc[i,'created_at']):\n",
    "        df.loc[i,'flag13'] = 6\n",
    "#         print(df.loc[i,'created_at'])\n",
    "    elif \"2017\" in str(df.loc[i,'created_at']):\n",
    "        df.loc[i,'flag13'] = 7\n",
    "    else:\n",
    "        df.loc[i,'flag13']=0"
   ]
  },
  {
   "cell_type": "code",
   "execution_count": 18,
   "metadata": {
    "collapsed": false,
    "deletable": true,
    "editable": true
   },
   "outputs": [],
   "source": [
    "# yearly tweets\n",
    "df.loc[:,'flag6']= 0\n",
    "for i in df.index: \n",
    "    df.loc[:,'flag6'] = df.loc[:,'friends_count']*(8-df.loc[:,'flag13'])"
   ]
  },
  {
   "cell_type": "code",
   "execution_count": 19,
   "metadata": {
    "collapsed": false,
    "deletable": true,
    "editable": true
   },
   "outputs": [],
   "source": [
    "# flag7\n",
    "df.loc[:,'flag7']= 0\n",
    "for i in df.index: \n",
    "    df.loc[:,'flag7'] = df.loc[:,'followers_count']*(8-df.loc[:,'flag13'])"
   ]
  },
  {
   "cell_type": "code",
   "execution_count": 20,
   "metadata": {
    "collapsed": false,
    "deletable": true,
    "editable": true
   },
   "outputs": [],
   "source": [
    "# flag7\n",
    "df.loc[:,'flag14']= 0\n",
    "for i in df.index: \n",
    "    df.loc[:,'flag14'] = df.loc[:,'statuses_count']*(8-df.loc[:,'flag13'])"
   ]
  },
  {
   "cell_type": "code",
   "execution_count": 21,
   "metadata": {
    "collapsed": false,
    "deletable": true,
    "editable": true
   },
   "outputs": [],
   "source": [
    "#bot in name\n",
    "df.loc[:,'flag15']=1\n",
    "for i in df.index: \n",
    "    if (str(df.loc[i,'name'][-3:])=='bot') or (str(df.loc[i,'name'][-3:])=='Bot') or (str(df.loc[i,'name'][0:3]))=='bot'or (str(df.loc[i,'name'][0:3]))=='Bot':\n",
    "        df.loc[i,'flag15'] = 1\n",
    "    else:\n",
    "        df.loc[i,'flag15'] = 0"
   ]
  },
  {
   "cell_type": "code",
   "execution_count": 22,
   "metadata": {
    "collapsed": false,
    "deletable": true,
    "editable": true
   },
   "outputs": [],
   "source": [
    "fg3 = df.loc[:,['flag15','flag14','flag13','flag12','flag11','flag10','flag8','flag5','flag4','flag3','flag2','flag1',\n",
    "                          'friends_count','followers_count',]]\n",
    "# 'flag4','flag3','flag2','flag1','flag6','flag7',"
   ]
  },
  {
   "cell_type": "code",
   "execution_count": 23,
   "metadata": {
    "collapsed": false,
    "deletable": true,
    "editable": true,
    "scrolled": false
   },
   "outputs": [
    {
     "data": {
      "text/html": [
       "<div>\n",
       "<table border=\"1\" class=\"dataframe\">\n",
       "  <thead>\n",
       "    <tr style=\"text-align: right;\">\n",
       "      <th></th>\n",
       "      <th>flag15</th>\n",
       "      <th>flag14</th>\n",
       "      <th>flag13</th>\n",
       "      <th>flag12</th>\n",
       "      <th>flag11</th>\n",
       "      <th>flag10</th>\n",
       "      <th>flag8</th>\n",
       "      <th>flag5</th>\n",
       "      <th>flag4</th>\n",
       "      <th>flag3</th>\n",
       "      <th>flag2</th>\n",
       "      <th>flag1</th>\n",
       "      <th>friends_count</th>\n",
       "      <th>followers_count</th>\n",
       "    </tr>\n",
       "  </thead>\n",
       "  <tbody>\n",
       "    <tr>\n",
       "      <th>0</th>\n",
       "      <td>0</td>\n",
       "      <td>78554</td>\n",
       "      <td>7</td>\n",
       "      <td>0</td>\n",
       "      <td>0</td>\n",
       "      <td>0</td>\n",
       "      <td>1</td>\n",
       "      <td>0</td>\n",
       "      <td>0</td>\n",
       "      <td>0</td>\n",
       "      <td>0</td>\n",
       "      <td>1</td>\n",
       "      <td>0</td>\n",
       "      <td>1291</td>\n",
       "    </tr>\n",
       "    <tr>\n",
       "      <th>1</th>\n",
       "      <td>0</td>\n",
       "      <td>62</td>\n",
       "      <td>6</td>\n",
       "      <td>1</td>\n",
       "      <td>0</td>\n",
       "      <td>0</td>\n",
       "      <td>0</td>\n",
       "      <td>0</td>\n",
       "      <td>0</td>\n",
       "      <td>0</td>\n",
       "      <td>0</td>\n",
       "      <td>1</td>\n",
       "      <td>349</td>\n",
       "      <td>1</td>\n",
       "    </tr>\n",
       "    <tr>\n",
       "      <th>2</th>\n",
       "      <td>1</td>\n",
       "      <td>2139</td>\n",
       "      <td>5</td>\n",
       "      <td>0</td>\n",
       "      <td>1</td>\n",
       "      <td>1</td>\n",
       "      <td>1</td>\n",
       "      <td>0</td>\n",
       "      <td>0</td>\n",
       "      <td>0</td>\n",
       "      <td>0</td>\n",
       "      <td>1</td>\n",
       "      <td>0</td>\n",
       "      <td>1086</td>\n",
       "    </tr>\n",
       "    <tr>\n",
       "      <th>3</th>\n",
       "      <td>0</td>\n",
       "      <td>2028</td>\n",
       "      <td>5</td>\n",
       "      <td>1</td>\n",
       "      <td>0</td>\n",
       "      <td>0</td>\n",
       "      <td>1</td>\n",
       "      <td>0</td>\n",
       "      <td>0</td>\n",
       "      <td>0</td>\n",
       "      <td>1</td>\n",
       "      <td>1</td>\n",
       "      <td>0</td>\n",
       "      <td>33</td>\n",
       "    </tr>\n",
       "    <tr>\n",
       "      <th>4</th>\n",
       "      <td>0</td>\n",
       "      <td>555</td>\n",
       "      <td>5</td>\n",
       "      <td>1</td>\n",
       "      <td>0</td>\n",
       "      <td>0</td>\n",
       "      <td>0</td>\n",
       "      <td>0</td>\n",
       "      <td>0</td>\n",
       "      <td>0</td>\n",
       "      <td>0</td>\n",
       "      <td>0</td>\n",
       "      <td>745</td>\n",
       "      <td>11</td>\n",
       "    </tr>\n",
       "    <tr>\n",
       "      <th>5</th>\n",
       "      <td>0</td>\n",
       "      <td>11</td>\n",
       "      <td>7</td>\n",
       "      <td>0</td>\n",
       "      <td>0</td>\n",
       "      <td>0</td>\n",
       "      <td>1</td>\n",
       "      <td>0</td>\n",
       "      <td>0</td>\n",
       "      <td>1</td>\n",
       "      <td>0</td>\n",
       "      <td>1</td>\n",
       "      <td>186</td>\n",
       "      <td>1</td>\n",
       "    </tr>\n",
       "    <tr>\n",
       "      <th>6</th>\n",
       "      <td>0</td>\n",
       "      <td>24272</td>\n",
       "      <td>4</td>\n",
       "      <td>0</td>\n",
       "      <td>0</td>\n",
       "      <td>1</td>\n",
       "      <td>1</td>\n",
       "      <td>0</td>\n",
       "      <td>0</td>\n",
       "      <td>0</td>\n",
       "      <td>0</td>\n",
       "      <td>0</td>\n",
       "      <td>0</td>\n",
       "      <td>193</td>\n",
       "    </tr>\n",
       "    <tr>\n",
       "      <th>7</th>\n",
       "      <td>0</td>\n",
       "      <td>7791</td>\n",
       "      <td>5</td>\n",
       "      <td>0</td>\n",
       "      <td>0</td>\n",
       "      <td>0</td>\n",
       "      <td>1</td>\n",
       "      <td>0</td>\n",
       "      <td>0</td>\n",
       "      <td>0</td>\n",
       "      <td>0</td>\n",
       "      <td>1</td>\n",
       "      <td>2</td>\n",
       "      <td>8227</td>\n",
       "    </tr>\n",
       "    <tr>\n",
       "      <th>8</th>\n",
       "      <td>0</td>\n",
       "      <td>29766</td>\n",
       "      <td>5</td>\n",
       "      <td>1</td>\n",
       "      <td>0</td>\n",
       "      <td>1</td>\n",
       "      <td>1</td>\n",
       "      <td>0</td>\n",
       "      <td>0</td>\n",
       "      <td>0</td>\n",
       "      <td>0</td>\n",
       "      <td>0</td>\n",
       "      <td>0</td>\n",
       "      <td>275</td>\n",
       "    </tr>\n",
       "    <tr>\n",
       "      <th>9</th>\n",
       "      <td>0</td>\n",
       "      <td>7545</td>\n",
       "      <td>5</td>\n",
       "      <td>1</td>\n",
       "      <td>0</td>\n",
       "      <td>0</td>\n",
       "      <td>1</td>\n",
       "      <td>0</td>\n",
       "      <td>0</td>\n",
       "      <td>0</td>\n",
       "      <td>0</td>\n",
       "      <td>1</td>\n",
       "      <td>3</td>\n",
       "      <td>51</td>\n",
       "    </tr>\n",
       "  </tbody>\n",
       "</table>\n",
       "</div>"
      ],
      "text/plain": [
       "   flag15  flag14  flag13  flag12  flag11  flag10  flag8  flag5  flag4  flag3  \\\n",
       "0       0   78554       7       0       0       0      1      0      0      0   \n",
       "1       0      62       6       1       0       0      0      0      0      0   \n",
       "2       1    2139       5       0       1       1      1      0      0      0   \n",
       "3       0    2028       5       1       0       0      1      0      0      0   \n",
       "4       0     555       5       1       0       0      0      0      0      0   \n",
       "5       0      11       7       0       0       0      1      0      0      1   \n",
       "6       0   24272       4       0       0       1      1      0      0      0   \n",
       "7       0    7791       5       0       0       0      1      0      0      0   \n",
       "8       0   29766       5       1       0       1      1      0      0      0   \n",
       "9       0    7545       5       1       0       0      1      0      0      0   \n",
       "\n",
       "   flag2  flag1  friends_count  followers_count  \n",
       "0      0      1              0             1291  \n",
       "1      0      1            349                1  \n",
       "2      0      1              0             1086  \n",
       "3      1      1              0               33  \n",
       "4      0      0            745               11  \n",
       "5      0      1            186                1  \n",
       "6      0      0              0              193  \n",
       "7      0      1              2             8227  \n",
       "8      0      0              0              275  \n",
       "9      0      1              3               51  "
      ]
     },
     "execution_count": 23,
     "metadata": {},
     "output_type": "execute_result"
    }
   ],
   "source": [
    "fg3.head(10)"
   ]
  },
  {
   "cell_type": "code",
   "execution_count": 24,
   "metadata": {
    "collapsed": false,
    "deletable": true,
    "editable": true
   },
   "outputs": [],
   "source": [
    "X = fg3\n",
    "#Y = df.is_bot\n",
    "Y = df.bot\n",
    "y = Y\n",
    "train_list = X\n",
    "target_list = Y"
   ]
  },
  {
   "cell_type": "code",
   "execution_count": 25,
   "metadata": {
    "collapsed": false,
    "deletable": true,
    "editable": true
   },
   "outputs": [
    {
     "name": "stdout",
     "output_type": "stream",
     "text": [
      "0.877728020584\n",
      "0.907399485101\n"
     ]
    }
   ],
   "source": [
    "from sklearn.model_selection import cross_val_score\n",
    "from sklearn.datasets import make_blobs\n",
    "from sklearn.ensemble import RandomForestClassifier\n",
    "from sklearn.ensemble import ExtraTreesClassifier\n",
    "from sklearn.tree import DecisionTreeClassifier\n",
    "# X, y = make_blobs(n_samples=10000, n_features=10, centers=100,\n",
    "#     random_state=0)\n",
    "clf = DecisionTreeClassifier(max_depth=None, min_samples_split=2,\n",
    "    random_state=0)\n",
    "scores = cross_val_score(clf, X, y)\n",
    "print(scores.mean())\n",
    "\n",
    "\n",
    "clf = RandomForestClassifier(n_estimators=2000, max_depth=None,\n",
    "     random_state=0,n_jobs=4)\n",
    "# clf = RandomForestClassifier(n_jobs=2)\n",
    "scores = cross_val_score(clf, X, y)\n",
    "print(scores.mean())"
   ]
  },
  {
   "cell_type": "code",
   "execution_count": 26,
   "metadata": {
    "collapsed": false,
    "deletable": true,
    "editable": true
   },
   "outputs": [
    {
     "data": {
      "text/plain": [
       "RandomForestClassifier(bootstrap=True, class_weight=None, criterion='gini',\n",
       "            max_depth=None, max_features='auto', max_leaf_nodes=None,\n",
       "            min_impurity_split=1e-07, min_samples_leaf=1,\n",
       "            min_samples_split=2, min_weight_fraction_leaf=0.0,\n",
       "            n_estimators=1000, n_jobs=1, oob_score=False, random_state=0,\n",
       "            verbose=0, warm_start=False)"
      ]
     },
     "execution_count": 26,
     "metadata": {},
     "output_type": "execute_result"
    }
   ],
   "source": [
    "clf = RandomForestClassifier(n_estimators=1000, max_depth=None,\n",
    "     random_state=0)\n",
    "clf.fit(X,y)"
   ]
  },
  {
   "cell_type": "code",
   "execution_count": 27,
   "metadata": {
    "collapsed": true,
    "deletable": true,
    "editable": true
   },
   "outputs": [],
   "source": [
    "pd.DataFrame(df).to_csv('training_flag.csv',sep=',',index=False)"
   ]
  },
  {
   "cell_type": "markdown",
   "metadata": {
    "deletable": true,
    "editable": true
   },
   "source": [
    "# Result"
   ]
  },
  {
   "cell_type": "code",
   "execution_count": 28,
   "metadata": {
    "collapsed": false,
    "deletable": true,
    "editable": true
   },
   "outputs": [],
   "source": [
    "df_test = pd.read_csv('test_data_4_students.csv',encoding = \"ISO-8859-1\").dropna(how='all')"
   ]
  },
  {
   "cell_type": "code",
   "execution_count": 29,
   "metadata": {
    "collapsed": true,
    "deletable": true,
    "editable": true
   },
   "outputs": [],
   "source": [
    "df_test['friends_count'] = pd.to_numeric(df_test['friends_count'],errors='coerce')\n",
    "\n",
    "df_test['friends_count'] = df_test['friends_count'].fillna(df_test['friends_count'].median())\n",
    "\n",
    "df_test['followers_count'] = pd.to_numeric(df_test['followers_count'],errors='coerce')\n",
    "\n",
    "df_test['followers_count'] = df_test['followers_count'].fillna(df_test['followers_count'].median())\n",
    "\n",
    "# df_test['favorites_count'] = pd.to_numeric(df_test['favorites_count'],errors='coerce')\n",
    "\n",
    "# df_test['favorites_count'] = df_test['favorites_count'].fillna(df_test['favorites_count'].median())\n",
    "\n",
    "# df_test['listed_count'] = pd.to_numeric(df_test['listed_count'],errors='coerce')\n",
    "\n",
    "# df_test['listed_count'] = df_test['listed_count'].fillna(df_test['listed_count'].median())"
   ]
  },
  {
   "cell_type": "code",
   "execution_count": 30,
   "metadata": {
    "collapsed": false,
    "deletable": true,
    "editable": true
   },
   "outputs": [],
   "source": [
    "df2 = df_test"
   ]
  },
  {
   "cell_type": "code",
   "execution_count": 31,
   "metadata": {
    "collapsed": false,
    "deletable": true,
    "editable": true
   },
   "outputs": [],
   "source": [
    "\n",
    "for i in df2.index:    \n",
    "    if df2.loc[i,'default_profile'] =='None':\n",
    "         df2.loc[i,'flag1'] = -1\n",
    "    elif df2.loc[i,'default_profile']=='TRUE':\n",
    "        df2.loc[i,'flag1'] = 1\n",
    "    elif df2.loc[i,'default_profile']=='FALSE':\n",
    "        df2.loc[i,'flag1'] = 0\n",
    "    else:\n",
    "        print(\"error\")"
   ]
  },
  {
   "cell_type": "code",
   "execution_count": 32,
   "metadata": {
    "collapsed": false,
    "deletable": true,
    "editable": true
   },
   "outputs": [],
   "source": [
    "\n",
    "for i in df2.index:    \n",
    "    if df2.loc[i,'default_profile_image'] =='None':\n",
    "         df2.loc[i,'flag2'] = -1\n",
    "    elif df2.loc[i,'default_profile_image']=='TRUE':\n",
    "        df2.loc[i,'flag2'] = 1\n",
    "    elif df2.loc[i,'default_profile_image']=='FALSE':\n",
    "        df2.loc[i,'flag2'] = 0\n",
    "    else:\n",
    "        print(\"error\")"
   ]
  },
  {
   "cell_type": "code",
   "execution_count": 33,
   "metadata": {
    "collapsed": false,
    "deletable": true,
    "editable": true
   },
   "outputs": [],
   "source": [
    "\n",
    "for i in df2.index:    \n",
    "    if df2.loc[i,'has_extended_profile'] =='None':\n",
    "         df2.loc[i,'flag3'] = -1\n",
    "    elif df2.loc[i,'has_extended_profile']=='TRUE':\n",
    "        df2.loc[i,'flag3'] = 1\n",
    "    elif df2.loc[i,'has_extended_profile']=='FALSE':\n",
    "        df2.loc[i,'flag3'] = 0\n",
    "    else:\n",
    "        print(\"error\")"
   ]
  },
  {
   "cell_type": "code",
   "execution_count": 34,
   "metadata": {
    "collapsed": false,
    "deletable": true,
    "editable": true
   },
   "outputs": [],
   "source": [
    "\n",
    "for i in df2.index:    \n",
    "    if df2.loc[i,'verified'] =='None':\n",
    "         df2.loc[i,'flag4'] = -1\n",
    "    elif df2.loc[i,'verified']=='TRUE':\n",
    "        df2.loc[i,'flag4'] = 1\n",
    "    elif df2.loc[i,'verified']=='FALSE':\n",
    "        df2.loc[i,'flag4'] = 0\n",
    "    else:\n",
    "        print(\"error\")"
   ]
  },
  {
   "cell_type": "code",
   "execution_count": 35,
   "metadata": {
    "collapsed": false,
    "deletable": true,
    "editable": true
   },
   "outputs": [],
   "source": [
    "# Whether 'bot' is in location\n",
    "df2.loc[:,'flag5']=1\n",
    "for i in df2.index: \n",
    "    if \"bot\" in str(df.loc[i,'location']):\n",
    "        df.loc[i,'flag5'] = 1\n",
    "    else:\n",
    "        df.loc[i,'flag5']=0"
   ]
  },
  {
   "cell_type": "code",
   "execution_count": 36,
   "metadata": {
    "collapsed": false,
    "deletable": true,
    "editable": true
   },
   "outputs": [],
   "source": [
    "#status\n",
    "df2.loc[:,'flag8'] = 1\n",
    "for i in df2.index:    \n",
    "    if type(df2.loc[i,'status']) == type('str') :\n",
    "        if df2.loc[i,'status']== 'null' or df2.loc[i,'status']== 'None':\n",
    "            df2.loc[i,'flag8'] = 0\n",
    "        elif df2.loc[i,'status']=='{':\n",
    "            df2.loc[i,'flag8'] = 0\n",
    "        else:\n",
    "            df2.loc[i,'flag8'] = 1\n",
    "    else:\n",
    "        df2.loc[i,'flag8'] = 0\n"
   ]
  },
  {
   "cell_type": "code",
   "execution_count": 37,
   "metadata": {
    "collapsed": false,
    "deletable": true,
    "editable": true
   },
   "outputs": [],
   "source": [
    "# description\n",
    "df2.loc[:,'flag10'] = 1\n",
    "for i in df2.index:    \n",
    "    if type(df2.loc[i,'description']) == type('str') :\n",
    "        if df2.loc[i,'description']== 'null' or df2.loc[i,'description']== 'None':\n",
    "#             print(df2.loc[i,'description'])\n",
    "            df2.loc[i,'flag10'] = 1\n",
    "        elif \"bot\" in str(df2.loc[i,'description']):\n",
    "#             print (df2.loc[i,'description'])\n",
    "            df2.loc[i,'flag10'] = 1\n",
    "        else:\n",
    "            df2.loc[i,'flag10'] = 0\n",
    "    else:\n",
    "        df2.loc[i,'flag10'] = 0"
   ]
  },
  {
   "cell_type": "code",
   "execution_count": 38,
   "metadata": {
    "collapsed": false,
    "deletable": true,
    "editable": true
   },
   "outputs": [],
   "source": [
    "#bot in screen_name\n",
    "df2.loc[:,'flag11']=1\n",
    "for i in df2.index: \n",
    "    if (str(df.loc[i,'screen_name'][-3:])=='bot') or (str(df.loc[i,'screen_name'][-3:])=='Bot') or (str(df.loc[i,'screen_name'][0:3]))=='bot'or (str(df.loc[i,'screen_name'][0:3]))=='Bot':\n",
    "        df2.loc[i,'flag11'] = 1\n",
    "    else:\n",
    "        df2.loc[i,'flag11'] = 0"
   ]
  },
  {
   "cell_type": "code",
   "execution_count": 39,
   "metadata": {
    "collapsed": false,
    "deletable": true,
    "editable": true
   },
   "outputs": [],
   "source": [
    "#status or not\n",
    "df2.loc[:,'flag12'] = 1\n",
    "for i in df2.index:    \n",
    "    if \"entities\" in str(df2.loc[i,'status']) :\n",
    "        df2.loc[i,'flag12'] = 0"
   ]
  },
  {
   "cell_type": "code",
   "execution_count": 40,
   "metadata": {
    "collapsed": false,
    "deletable": true,
    "editable": true
   },
   "outputs": [],
   "source": [
    "# create_at \n",
    "df2.loc[:,'flag13']= 0\n",
    "for i in df2.index: \n",
    "    if \"2011\" in str(df2.loc[i,'created_at']):\n",
    "        df2.loc[i,'flag13'] = 1\n",
    "#         print(df.loc[i,'created_at'])    \n",
    "    elif \"2012\" in str(df2.loc[i,'created_at']):\n",
    "        df2.loc[i,'flag13'] = 2\n",
    "#         print(df.loc[i,'created_at'])    \n",
    "    elif \"2013\" in str(df2.loc[i,'created_at']):\n",
    "        df2.loc[i,'flag13'] = 3\n",
    "#         print(df.loc[i,'created_at'])    \n",
    "    elif \"2014\" in str(df2.loc[i,'created_at']):\n",
    "        df2.loc[i,'flag13'] = 4\n",
    "#         print(df.loc[i,'created_at'])    \n",
    "    elif \"2015\" in str(df2.loc[i,'created_at']):\n",
    "        df2.loc[i,'flag13'] = 5\n",
    "#         print(df.loc[i,'created_at'])\n",
    "    elif \"2016\" in str(df2.loc[i,'created_at']):\n",
    "        df2.loc[i,'flag13'] = 6\n",
    "#         print(df.loc[i,'created_at'])\n",
    "    elif \"2017\" in str(df2.loc[i,'created_at']):\n",
    "        df2.loc[i,'flag13'] = 7\n",
    "    else:\n",
    "        df2.loc[i,'flag13']=0"
   ]
  },
  {
   "cell_type": "code",
   "execution_count": 41,
   "metadata": {
    "collapsed": false,
    "deletable": true,
    "editable": true
   },
   "outputs": [],
   "source": [
    "# yearly tweets\n",
    "df2.loc[:,'flag14']= 0\n",
    "for i in df2.index: \n",
    "    df2.loc[:,'flag14'] = df2.loc[:,'statuses_count']*(8-df2.loc[:,'flag13'])"
   ]
  },
  {
   "cell_type": "code",
   "execution_count": 42,
   "metadata": {
    "collapsed": false,
    "deletable": true,
    "editable": true
   },
   "outputs": [],
   "source": [
    "#bot in screen_name\n",
    "df2.loc[:,'flag15']=1\n",
    "for i in df2.index: \n",
    "    if (str(df2.loc[i,'name'][-3:])=='bot') or (str(df2.loc[i,'name'][-3:])=='Bot') or (str(df2.loc[i,'name'][0:3]))=='bot'or (str(df2.loc[i,'name'][0:3]))=='Bot':\n",
    "        df2.loc[i,'flag15'] = 1\n",
    "    else:\n",
    "        df2.loc[i,'flag15'] = 0"
   ]
  },
  {
   "cell_type": "code",
   "execution_count": 43,
   "metadata": {
    "collapsed": false,
    "deletable": true,
    "editable": true
   },
   "outputs": [],
   "source": [
    "res4 = df2.loc[:,['flag15','flag14','flag13','flag12','flag11','flag10','flag8','flag5','flag4','flag3','flag2','flag1',\n",
    "                          'friends_count','followers_count',]]\n",
    "# 'flag4','flag3','flag2','flag1','flag6','flag7',"
   ]
  },
  {
   "cell_type": "code",
   "execution_count": 44,
   "metadata": {
    "collapsed": false,
    "deletable": true,
    "editable": true
   },
   "outputs": [
    {
     "data": {
      "text/html": [
       "<div>\n",
       "<table border=\"1\" class=\"dataframe\">\n",
       "  <thead>\n",
       "    <tr style=\"text-align: right;\">\n",
       "      <th></th>\n",
       "      <th>flag15</th>\n",
       "      <th>flag14</th>\n",
       "      <th>flag13</th>\n",
       "      <th>flag12</th>\n",
       "      <th>flag11</th>\n",
       "      <th>flag10</th>\n",
       "      <th>flag8</th>\n",
       "      <th>flag5</th>\n",
       "      <th>flag4</th>\n",
       "      <th>flag3</th>\n",
       "      <th>flag2</th>\n",
       "      <th>flag1</th>\n",
       "      <th>friends_count</th>\n",
       "      <th>followers_count</th>\n",
       "    </tr>\n",
       "  </thead>\n",
       "  <tbody>\n",
       "    <tr>\n",
       "      <th>0</th>\n",
       "      <td>0</td>\n",
       "      <td>12144.0</td>\n",
       "      <td>4</td>\n",
       "      <td>0</td>\n",
       "      <td>0</td>\n",
       "      <td>0</td>\n",
       "      <td>1</td>\n",
       "      <td>1</td>\n",
       "      <td>1.0</td>\n",
       "      <td>0.0</td>\n",
       "      <td>0.0</td>\n",
       "      <td>0.0</td>\n",
       "      <td>1295.0</td>\n",
       "      <td>4466.0</td>\n",
       "    </tr>\n",
       "    <tr>\n",
       "      <th>1</th>\n",
       "      <td>0</td>\n",
       "      <td>2472.0</td>\n",
       "      <td>4</td>\n",
       "      <td>0</td>\n",
       "      <td>0</td>\n",
       "      <td>0</td>\n",
       "      <td>1</td>\n",
       "      <td>1</td>\n",
       "      <td>0.0</td>\n",
       "      <td>0.0</td>\n",
       "      <td>0.0</td>\n",
       "      <td>0.0</td>\n",
       "      <td>1016.0</td>\n",
       "      <td>295.0</td>\n",
       "    </tr>\n",
       "    <tr>\n",
       "      <th>2</th>\n",
       "      <td>0</td>\n",
       "      <td>19974.0</td>\n",
       "      <td>2</td>\n",
       "      <td>0</td>\n",
       "      <td>1</td>\n",
       "      <td>0</td>\n",
       "      <td>1</td>\n",
       "      <td>1</td>\n",
       "      <td>1.0</td>\n",
       "      <td>1.0</td>\n",
       "      <td>0.0</td>\n",
       "      <td>1.0</td>\n",
       "      <td>3017.0</td>\n",
       "      <td>1001678.0</td>\n",
       "    </tr>\n",
       "    <tr>\n",
       "      <th>3</th>\n",
       "      <td>0</td>\n",
       "      <td>92.0</td>\n",
       "      <td>6</td>\n",
       "      <td>0</td>\n",
       "      <td>0</td>\n",
       "      <td>0</td>\n",
       "      <td>1</td>\n",
       "      <td>1</td>\n",
       "      <td>0.0</td>\n",
       "      <td>1.0</td>\n",
       "      <td>0.0</td>\n",
       "      <td>0.0</td>\n",
       "      <td>487.0</td>\n",
       "      <td>445.0</td>\n",
       "    </tr>\n",
       "    <tr>\n",
       "      <th>4</th>\n",
       "      <td>1</td>\n",
       "      <td>3451795.0</td>\n",
       "      <td>3</td>\n",
       "      <td>1</td>\n",
       "      <td>0</td>\n",
       "      <td>1</td>\n",
       "      <td>1</td>\n",
       "      <td>1</td>\n",
       "      <td>-1.0</td>\n",
       "      <td>-1.0</td>\n",
       "      <td>-1.0</td>\n",
       "      <td>-1.0</td>\n",
       "      <td>68.0</td>\n",
       "      <td>187.0</td>\n",
       "    </tr>\n",
       "    <tr>\n",
       "      <th>5</th>\n",
       "      <td>0</td>\n",
       "      <td>80668.0</td>\n",
       "      <td>4</td>\n",
       "      <td>1</td>\n",
       "      <td>0</td>\n",
       "      <td>1</td>\n",
       "      <td>1</td>\n",
       "      <td>1</td>\n",
       "      <td>-1.0</td>\n",
       "      <td>-1.0</td>\n",
       "      <td>-1.0</td>\n",
       "      <td>1.0</td>\n",
       "      <td>87.0</td>\n",
       "      <td>80.0</td>\n",
       "    </tr>\n",
       "    <tr>\n",
       "      <th>6</th>\n",
       "      <td>0</td>\n",
       "      <td>6777274.0</td>\n",
       "      <td>1</td>\n",
       "      <td>1</td>\n",
       "      <td>0</td>\n",
       "      <td>1</td>\n",
       "      <td>1</td>\n",
       "      <td>1</td>\n",
       "      <td>-1.0</td>\n",
       "      <td>-1.0</td>\n",
       "      <td>-1.0</td>\n",
       "      <td>1.0</td>\n",
       "      <td>1978.0</td>\n",
       "      <td>2020.0</td>\n",
       "    </tr>\n",
       "    <tr>\n",
       "      <th>7</th>\n",
       "      <td>1</td>\n",
       "      <td>460410.0</td>\n",
       "      <td>2</td>\n",
       "      <td>1</td>\n",
       "      <td>0</td>\n",
       "      <td>1</td>\n",
       "      <td>1</td>\n",
       "      <td>1</td>\n",
       "      <td>-1.0</td>\n",
       "      <td>-1.0</td>\n",
       "      <td>-1.0</td>\n",
       "      <td>1.0</td>\n",
       "      <td>80.0</td>\n",
       "      <td>70.0</td>\n",
       "    </tr>\n",
       "    <tr>\n",
       "      <th>8</th>\n",
       "      <td>0</td>\n",
       "      <td>1960.0</td>\n",
       "      <td>7</td>\n",
       "      <td>1</td>\n",
       "      <td>0</td>\n",
       "      <td>1</td>\n",
       "      <td>1</td>\n",
       "      <td>1</td>\n",
       "      <td>-1.0</td>\n",
       "      <td>-1.0</td>\n",
       "      <td>-1.0</td>\n",
       "      <td>1.0</td>\n",
       "      <td>144.0</td>\n",
       "      <td>181.0</td>\n",
       "    </tr>\n",
       "    <tr>\n",
       "      <th>9</th>\n",
       "      <td>0</td>\n",
       "      <td>3744.0</td>\n",
       "      <td>0</td>\n",
       "      <td>1</td>\n",
       "      <td>0</td>\n",
       "      <td>0</td>\n",
       "      <td>1</td>\n",
       "      <td>1</td>\n",
       "      <td>1.0</td>\n",
       "      <td>-1.0</td>\n",
       "      <td>-1.0</td>\n",
       "      <td>-1.0</td>\n",
       "      <td>9.0</td>\n",
       "      <td>20419393.0</td>\n",
       "    </tr>\n",
       "  </tbody>\n",
       "</table>\n",
       "</div>"
      ],
      "text/plain": [
       "   flag15     flag14  flag13  flag12  flag11  flag10  flag8  flag5  flag4  \\\n",
       "0       0    12144.0       4       0       0       0      1      1    1.0   \n",
       "1       0     2472.0       4       0       0       0      1      1    0.0   \n",
       "2       0    19974.0       2       0       1       0      1      1    1.0   \n",
       "3       0       92.0       6       0       0       0      1      1    0.0   \n",
       "4       1  3451795.0       3       1       0       1      1      1   -1.0   \n",
       "5       0    80668.0       4       1       0       1      1      1   -1.0   \n",
       "6       0  6777274.0       1       1       0       1      1      1   -1.0   \n",
       "7       1   460410.0       2       1       0       1      1      1   -1.0   \n",
       "8       0     1960.0       7       1       0       1      1      1   -1.0   \n",
       "9       0     3744.0       0       1       0       0      1      1    1.0   \n",
       "\n",
       "   flag3  flag2  flag1  friends_count  followers_count  \n",
       "0    0.0    0.0    0.0         1295.0           4466.0  \n",
       "1    0.0    0.0    0.0         1016.0            295.0  \n",
       "2    1.0    0.0    1.0         3017.0        1001678.0  \n",
       "3    1.0    0.0    0.0          487.0            445.0  \n",
       "4   -1.0   -1.0   -1.0           68.0            187.0  \n",
       "5   -1.0   -1.0    1.0           87.0             80.0  \n",
       "6   -1.0   -1.0    1.0         1978.0           2020.0  \n",
       "7   -1.0   -1.0    1.0           80.0             70.0  \n",
       "8   -1.0   -1.0    1.0          144.0            181.0  \n",
       "9   -1.0   -1.0   -1.0            9.0       20419393.0  "
      ]
     },
     "execution_count": 44,
     "metadata": {},
     "output_type": "execute_result"
    }
   ],
   "source": [
    "res4.head(10)"
   ]
  },
  {
   "cell_type": "code",
   "execution_count": 45,
   "metadata": {
    "collapsed": false,
    "deletable": true,
    "editable": true
   },
   "outputs": [],
   "source": [
    "X=res4\n",
    "result=pd.DataFrame(df2[df2.columns[0]])\n",
    "result.insert(1,'bot',0)\n",
    "rfresult=clf.predict(X)\n",
    "result['bot']=rfresult\n",
    "result=result.astype(int)\n",
    "#result['screen_name'] = df2.screen_name\n"
   ]
  },
  {
   "cell_type": "code",
   "execution_count": 50,
   "metadata": {
    "collapsed": false,
    "deletable": true,
    "editable": true
   },
   "outputs": [],
   "source": [
    "result.columns = ['id', 'bot']"
   ]
  },
  {
   "cell_type": "code",
   "execution_count": 52,
   "metadata": {
    "collapsed": true,
    "deletable": true,
    "editable": true
   },
   "outputs": [],
   "source": [
    "pd.DataFrame(result).to_csv('result_alvin_good.csv',sep=',',index=False,encoding=\"UTF\")"
   ]
  },
  {
   "cell_type": "code",
   "execution_count": null,
   "metadata": {
    "collapsed": true
   },
   "outputs": [],
   "source": []
  }
 ],
 "metadata": {
  "anaconda-cloud": {},
  "kernelspec": {
   "display_name": "Python [default]",
   "language": "python",
   "name": "python3"
  },
  "language_info": {
   "codemirror_mode": {
    "name": "ipython",
    "version": 3
   },
   "file_extension": ".py",
   "mimetype": "text/x-python",
   "name": "python",
   "nbconvert_exporter": "python",
   "pygments_lexer": "ipython3",
   "version": "3.5.2"
  }
 },
 "nbformat": 4,
 "nbformat_minor": 1
}
