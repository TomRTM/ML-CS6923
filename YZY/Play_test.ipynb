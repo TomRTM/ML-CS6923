{
 "cells": [
  {
   "cell_type": "code",
   "execution_count": 100,
   "metadata": {
    "collapsed": false
   },
   "outputs": [
    {
     "data": {
      "text/html": [
       "<div>\n",
       "<table border=\"1\" class=\"dataframe\">\n",
       "  <thead>\n",
       "    <tr style=\"text-align: right;\">\n",
       "      <th></th>\n",
       "      <th>id</th>\n",
       "      <th>bot</th>\n",
       "    </tr>\n",
       "  </thead>\n",
       "  <tbody>\n",
       "    <tr>\n",
       "      <th>0</th>\n",
       "      <td>2281292622</td>\n",
       "      <td>0</td>\n",
       "    </tr>\n",
       "    <tr>\n",
       "      <th>1</th>\n",
       "      <td>2344040251</td>\n",
       "      <td>0</td>\n",
       "    </tr>\n",
       "    <tr>\n",
       "      <th>2</th>\n",
       "      <td>765871267</td>\n",
       "      <td>0</td>\n",
       "    </tr>\n",
       "    <tr>\n",
       "      <th>3</th>\n",
       "      <td>4772373433</td>\n",
       "      <td>1</td>\n",
       "    </tr>\n",
       "    <tr>\n",
       "      <th>4</th>\n",
       "      <td>1324548560</td>\n",
       "      <td>1</td>\n",
       "    </tr>\n",
       "    <tr>\n",
       "      <th>5</th>\n",
       "      <td>2561341789</td>\n",
       "      <td>1</td>\n",
       "    </tr>\n",
       "    <tr>\n",
       "      <th>6</th>\n",
       "      <td>347810134</td>\n",
       "      <td>1</td>\n",
       "    </tr>\n",
       "    <tr>\n",
       "      <th>7</th>\n",
       "      <td>856303860</td>\n",
       "      <td>1</td>\n",
       "    </tr>\n",
       "    <tr>\n",
       "      <th>8</th>\n",
       "      <td>832875000000000000</td>\n",
       "      <td>1</td>\n",
       "    </tr>\n",
       "    <tr>\n",
       "      <th>9</th>\n",
       "      <td>88856792</td>\n",
       "      <td>0</td>\n",
       "    </tr>\n",
       "  </tbody>\n",
       "</table>\n",
       "</div>"
      ],
      "text/plain": [
       "                   id  bot\n",
       "0          2281292622    0\n",
       "1          2344040251    0\n",
       "2           765871267    0\n",
       "3          4772373433    1\n",
       "4          1324548560    1\n",
       "5          2561341789    1\n",
       "6           347810134    1\n",
       "7           856303860    1\n",
       "8  832875000000000000    1\n",
       "9            88856792    0"
      ]
     },
     "execution_count": 100,
     "metadata": {},
     "output_type": "execute_result"
    }
   ],
   "source": [
    "import pandas as pd\n",
    "import numpy as np\n",
    "# df = pd.read_csv('training_set_1_filter.csv',encoding = \"ISO-8859-1\")\n",
    "df = pd.read_csv('test_data_4_students.csv')\n",
    "df2 = pd.read_csv('result_95.csv',encoding = \"UTF\")\n",
    "df2.head(10)"
   ]
  },
  {
   "cell_type": "code",
   "execution_count": 101,
   "metadata": {
    "collapsed": false
   },
   "outputs": [
    {
     "data": {
      "text/plain": [
       "(575,)"
      ]
     },
     "execution_count": 101,
     "metadata": {},
     "output_type": "execute_result"
    }
   ],
   "source": [
    "sn =  df['screen_name'].dropna()\n",
    "sn.shape"
   ]
  },
  {
   "cell_type": "code",
   "execution_count": 102,
   "metadata": {
    "collapsed": false
   },
   "outputs": [
    {
     "data": {
      "text/plain": [
       "2344040251"
      ]
     },
     "execution_count": 102,
     "metadata": {},
     "output_type": "execute_result"
    }
   ],
   "source": [
    "df.loc[1,df.columns[0]].astype(np.int64)"
   ]
  },
  {
   "cell_type": "code",
   "execution_count": 103,
   "metadata": {
    "collapsed": false,
    "scrolled": false
   },
   "outputs": [],
   "source": [
    "botlist =[]\n",
    "count = 0\n",
    "num = 0\n",
    "for i in sn:\n",
    "    if (str(i[-3:])=='bot') or (str(i[-3:])=='Bot') or (str(i[0:3]))=='bot'or (str(i[0:3]))=='Bot' :\n",
    "        botlist.append(df.loc[count,df.columns[0]])\n",
    "        num+=1\n",
    "    count +=1"
   ]
  },
  {
   "cell_type": "code",
   "execution_count": 109,
   "metadata": {
    "collapsed": false
   },
   "outputs": [
    {
     "name": "stdout",
     "output_type": "stream",
     "text": [
      "3020873886\n",
      "263\n"
     ]
    },
    {
     "data": {
      "text/plain": [
       "157"
      ]
     },
     "execution_count": 109,
     "metadata": {},
     "output_type": "execute_result"
    }
   ],
   "source": [
    "iid = df[df.columns[0]]\n",
    "num2 = 0\n",
    "sh = []\n",
    "for i in df2.index:\n",
    "    if df2.loc[i,df2.columns[0]] in botlist:\n",
    "        if df2.loc[i,'bot']==0:\n",
    "            num2+=1\n",
    "            print (df2.loc[i,df2.columns[0]])\n",
    "            print (i)\n",
    "        else:\n",
    "            sh.append(df2.loc[i,'bot'])\n",
    "len(sh)\n"
   ]
  },
  {
   "cell_type": "code",
   "execution_count": 105,
   "metadata": {
    "collapsed": false
   },
   "outputs": [
    {
     "data": {
      "text/plain": [
       "1"
      ]
     },
     "execution_count": 105,
     "metadata": {},
     "output_type": "execute_result"
    }
   ],
   "source": [
    "num2"
   ]
  },
  {
   "cell_type": "markdown",
   "metadata": {},
   "source": [
    "# Meng"
   ]
  },
  {
   "cell_type": "code",
   "execution_count": 46,
   "metadata": {
    "collapsed": false
   },
   "outputs": [],
   "source": [
    "df_meng = pd.read_csv('difference.csv',encoding = \"UTF\",names=['id','1','2','3','4'])"
   ]
  },
  {
   "cell_type": "code",
   "execution_count": 44,
   "metadata": {
    "collapsed": true
   },
   "outputs": [],
   "source": [
    "df_test = pd.read_csv('test_data_4_students.csv',encoding = \"UTF\",)"
   ]
  },
  {
   "cell_type": "code",
   "execution_count": 45,
   "metadata": {
    "collapsed": false
   },
   "outputs": [
    {
     "data": {
      "text/html": [
       "<div>\n",
       "<table border=\"1\" class=\"dataframe\">\n",
       "  <thead>\n",
       "    <tr style=\"text-align: right;\">\n",
       "      <th></th>\n",
       "      <th></th>\n",
       "      <th></th>\n",
       "      <th></th>\n",
       "      <th></th>\n",
       "      <th></th>\n",
       "      <th></th>\n",
       "      <th></th>\n",
       "      <th></th>\n",
       "      <th></th>\n",
       "      <th></th>\n",
       "      <th></th>\n",
       "      <th></th>\n",
       "      <th></th>\n",
       "      <th></th>\n",
       "      <th></th>\n",
       "      <th></th>\n",
       "      <th></th>\n",
       "      <th>id</th>\n",
       "      <th>1</th>\n",
       "    </tr>\n",
       "  </thead>\n",
       "  <tbody>\n",
       "    <tr>\n",
       "      <th>﻿id</th>\n",
       "      <th>id_str</th>\n",
       "      <th>screen_name</th>\n",
       "      <th>location</th>\n",
       "      <th>description</th>\n",
       "      <th>url</th>\n",
       "      <th>followers_count</th>\n",
       "      <th>friends_count</th>\n",
       "      <th>listed_count</th>\n",
       "      <th>created_at</th>\n",
       "      <th>favorites_count</th>\n",
       "      <th>verified</th>\n",
       "      <th>statuses_count</th>\n",
       "      <th>lang</th>\n",
       "      <th>status</th>\n",
       "      <th>default_profile</th>\n",
       "      <th>default_profile_image</th>\n",
       "      <th>has_extended_profile</th>\n",
       "      <td>name</td>\n",
       "      <td>bot</td>\n",
       "    </tr>\n",
       "    <tr>\n",
       "      <th>2281292622</th>\n",
       "      <th>2281292622</th>\n",
       "      <th>__keating</th>\n",
       "      <th>brooklyn</th>\n",
       "      <th>lgbt editor at @buzzfeed. shannon.keating@buzzfeed.com</th>\n",
       "      <th>https://t.co/QneJmYRyhj</th>\n",
       "      <th>4466</th>\n",
       "      <th>1295</th>\n",
       "      <th>111</th>\n",
       "      <th>Tue Jan 07 23:26:52 +0000 2014</th>\n",
       "      <th>1579</th>\n",
       "      <th>TRUE</th>\n",
       "      <th>3036</th>\n",
       "      <th>en</th>\n",
       "      <th>{'created_at': 'Tue Apr 11 15:31:51 +0000 2017', 'id': 851820096632881154, 'id_str': '851820096632881154', 'text': \"@Carrasquillo @sapna still can't believe we lived to tell the tale\", 'truncated': False, 'entities': {'hashtags': [], 'symbols': [], 'user_mentions': [{'screen_name': 'Carrasquillo', 'name': 'Adrian Carrasquillo', 'id': 21688902, 'id_str': '21688902', 'indices': [0, 13]}, {'screen_name': 'sapna', 'name': 'Sapna Maheshwari', 'id': 29054836, 'id_str': '29054836', 'indices': [14, 20]}], 'urls': []}, 'source': '&lt;a href=\"https://about.twitter.com/products/tweetdeck\" rel=\"nofollow\"&gt;TweetDeck&lt;/a&gt;', 'in_reply_to_status_id': 851797673028046848, 'in_reply_to_status_id_str': '851797673028046848', 'in_reply_to_user_id': 21688902, 'in_reply_to_user_id_str': '21688902', 'in_reply_to_screen_name': 'Carrasquillo', 'geo': None, 'coordinates': None, 'place': None, 'contributors': None, 'is_quote_status': False, 'retweet_count': 0, 'favorite_count': 1, 'favorited': False, 'retweeted': False, 'lang': 'en'}</th>\n",
       "      <th>FALSE</th>\n",
       "      <th>FALSE</th>\n",
       "      <th>FALSE</th>\n",
       "      <td>shannon keating</td>\n",
       "      <td>NaN</td>\n",
       "    </tr>\n",
       "    <tr>\n",
       "      <th>2344040251</th>\n",
       "      <th>2344040251</th>\n",
       "      <th>_callme_Dani</th>\n",
       "      <th>Los Angeles, CA</th>\n",
       "      <th>News Curation Editor @BuzzFeedNews \\rI do a lot of stuff ... most of it isn't worth mentioning</th>\n",
       "      <th>NaN</th>\n",
       "      <th>295</th>\n",
       "      <th>1016</th>\n",
       "      <th>10</th>\n",
       "      <th>Fri Feb 14 19:45:56 +0000 2014</th>\n",
       "      <th>300</th>\n",
       "      <th>FALSE</th>\n",
       "      <th>618</th>\n",
       "      <th>en</th>\n",
       "      <th>{'created_at': 'Tue Apr 11 00:56:02 +0000 2017', 'id': 851599687547199488, 'id_str': '851599687547199488', 'text': \"RT @elliesunakawa: Ludacris's CGI chest looks like those rolls i buy at 7/11 when i‰Ûªm drunk https://t.co/RqXXfhit4q\", 'truncated': False, 'entities': {'hashtags': [], 'symbols': [], 'user_mentions': [{'screen_name': 'elliesunakawa', 'name': 'Ellie Sunakawa', 'id': 414485594, 'id_str': '414485594', 'indices': [3, 17]}], 'urls': [], 'media': [{'id': 851525794102956033, 'id_str': '851525794102956033', 'indices': [92, 115], 'media_url': 'http://pbs.twimg.com/media/C9E6MrqW0AEnnJu.jpg', 'media_url_https': 'https://pbs.twimg.com/media/C9E6MrqW0AEnnJu.jpg', 'url': 'https://t.co/RqXXfhit4q', 'display_url': 'pic.twitter.com/RqXXfhit4q', 'expanded_url': 'https://twitter.com/elliesunakawa/status/851527875698331658/photo/1', 'type': 'photo', 'sizes': {'thumb': {'w': 150, 'h': 150, 'resize': 'crop'}, 'large': {'w': 847, 'h': 476, 'resize': 'fit'}, 'medium': {'w': 847, 'h': 476, 'resize': 'fit'}, 'small': {'w': 680, 'h': 382, 'resize': 'fit'}}, 'source_status_id': 851527875698331658, 'source_status_id_str': '851527875698331658', 'source_user_id': 414485594, 'source_user_id_str': '414485594'}]}, 'extended_entities': {'media': [{'id': 851525794102956033, 'id_str': '851525794102956033', 'indices': [92, 115], 'media_url': 'http://pbs.twimg.com/media/C9E6MrqW0AEnnJu.jpg', 'media_url_https': 'https://pbs.twimg.com/media/C9E6MrqW0AEnnJu.jpg', 'url': 'https://t.co/RqXXfhit4q', 'display_url': 'pic.twitter.com/RqXXfhit4q', 'expanded_url': 'https://twitter.com/elliesunakawa/status/851527875698331658/photo/1', 'type': 'photo', 'sizes': {'thumb': {'w': 150, 'h': 150, 'resize': 'crop'}, 'large': {'w': 847, 'h': 476, 'resize': 'fit'}, 'medium': {'w': 847, 'h': 476, 'resize': 'fit'}, 'small': {'w': 680, 'h': 382, 'resize': 'fit'}}, 'source_status_id': 851527875698331658, 'source_status_id_str': '851527875698331658', 'source_user_id': 414485594, 'source_user_id_str': '414485594'}, {'id': 851527770224168961, 'id_str': '851527770224168961', 'indices': [92, 115], 'media_url': 'http://pbs.twimg.com/media/C9E7_tSXkAElTnK.jpg', 'media_url_https': 'https://pbs.twimg.com/media/C9E7_tSXkAElTnK.jpg', 'url': 'https://t.co/RqXXfhit4q', 'display_url': 'pic.twitter.com/RqXXfhit4q', 'expanded_url': 'https://twitter.com/elliesunakawa/status/851527875698331658/photo/1', 'type': 'photo', 'sizes': {'thumb': {'w': 150, 'h': 150, 'resize': 'crop'}, 'large': {'w': 1131, 'h': 1044, 'resize': 'fit'}, 'small': {'w': 680, 'h': 628, 'resize': 'fit'}, 'medium': {'w': 1131, 'h': 1044, 'resize': 'fit'}}, 'source_status_id': 851527875698331658, 'source_status_id_str': '851527875698331658', 'source_user_id': 414485594, 'source_user_id_str': '414485594'}, {'id': 851527807381450752, 'id_str': '851527807381450752', 'indices': [92, 115], 'media_url': 'http://pbs.twimg.com/media/C9E8B3tWsAAsgoN.jpg', 'media_url_https': 'https://pbs.twimg.com/media/C9E8B3tWsAAsgoN.jpg', 'url': 'https://t.co/RqXXfhit4q', 'display_url': 'pic.twitter.com/RqXXfhit4q', 'expanded_url': 'https://twitter.com/elliesunakawa/status/851527875698331658/photo/1', 'type': 'photo', 'sizes': {'medium': {'w': 450, 'h': 450, 'resize': 'fit'}, 'small': {'w': 450, 'h': 450, 'resize': 'fit'}, 'thumb': {'w': 150, 'h': 150, 'resize': 'crop'}, 'large': {'w': 450, 'h': 450, 'resize': 'fit'}}, 'source_status_id': 851527875698331658, 'source_status_id_str': '851527875698331658', 'source_user_id': 414485594, 'source_user_id_str': '414485594'}]}, 'source': '&lt;a href=\"https://about.twitter.com/products/tweetdeck\" rel=\"nofollow\"&gt;TweetDeck&lt;/a&gt;', 'in_reply_to_status_id': None, 'in_reply_to_status_id_str': None, 'in_reply_to_user_id': None, 'in_reply_to_user_id_str': None, 'in_reply_to_screen_name': None, 'geo': None, 'coordinates': None, 'place': None, 'contributors': None, 'retweeted_status': {'created_at': 'Mon Apr 10 20:10:40 +0000 2017', 'id': 851527875698331658, 'id_str': '851527875698331658', 'text': \"Ludacris's CGI chest looks like those rolls i buy at 7/11 when i‰Ûªm drunk https://t.co/RqXXfhit4q\", 'truncated': False, 'entities': {'hashtags': [], 'symbols': [], 'user_mentions': [], 'urls': [], 'media': [{'id': 851525794102956033, 'id_str': '851525794102956033', 'indices': [73, 96], 'media_url': 'http://pbs.twimg.com/media/C9E6MrqW0AEnnJu.jpg', 'media_url_https': 'https://pbs.twimg.com/media/C9E6MrqW0AEnnJu.jpg', 'url': 'https://t.co/RqXXfhit4q', 'display_url': 'pic.twitter.com/RqXXfhit4q', 'expanded_url': 'https://twitter.com/elliesunakawa/status/851527875698331658/photo/1', 'type': 'photo', 'sizes': {'thumb': {'w': 150, 'h': 150, 'resize': 'crop'}, 'large': {'w': 847, 'h': 476, 'resize': 'fit'}, 'medium': {'w': 847, 'h': 476, 'resize': 'fit'}, 'small': {'w': 680, 'h': 382, 'resize': 'fit'}}}]}, 'extended_entities': {'media': [{'id': 851525794102956033, 'id_str': '851525794102956033', 'indices': [73, 96], 'media_url': 'http://pbs.twimg.com/media/C9E6MrqW0AEnnJu.jpg', 'media_url_https': 'https://pbs.twimg.com/media/C9E6MrqW0AEnnJu.jpg', 'url': 'https://t.co/RqXXfhit4q', 'display_url': 'pic.twitter.com/RqXXfhit4q', 'expanded_url': 'https://twitter.com/elliesunakawa/status/851527875698331658/photo/1', 'type': 'photo', 'sizes': {'thumb': {'w': 150, 'h': 150, 'resize': 'crop'}, 'large': {'w': 847, 'h': 476, 'resize': 'fit'}, 'medium': {'w': 847, 'h': 476, 'resize': 'fit'}, 'small': {'w': 680, 'h': 382, 'resize': 'fit'}}}, {'id': 851527770224168961, 'id_str': '851527770224168961', 'indices': [73, 96], 'media_url': 'http://pbs.twimg.com/media/C9E7_tSXkAElTnK.jpg', 'media_url_https': 'https://pbs.twimg.com/media/C9E7_tSXkAElTnK.jpg', 'url': 'https://t.co/RqXXfhit4q', 'display_url': 'pic.twitter.com/RqXXfhit4q', 'expanded_url': 'https://twitter.com/elliesunakawa/status/851527875698331658/photo/1', 'type': 'photo', 'sizes': {'thumb': {'w': 150, 'h': 150, 'resize': 'crop'}, 'large': {'w': 1131, 'h': 1044, 'resize': 'fit'}, 'small': {'w': 680, 'h': 628, 'resize': 'fit'}, 'medium': {'w': 1131, 'h': 1044, 'resize': 'fit'}}}, {'id': 851527807381450752, 'id_str': '851527807381450752', 'indices': [73, 96], 'media_url': 'http://pbs.twimg.com/media/C9E8B3tWsAAsgoN.jpg', 'media_url_https': 'https://pbs.twimg.com/media/C9E8B3tWsAAsgoN.jpg', 'url': 'https://t.co/RqXXfhit4q', 'display_url': 'pic.twitter.com/RqXXfhit4q', 'expanded_url': 'https://twitter.com/elliesunakawa/status/851527875698331658/photo/1', 'type': 'photo', 'sizes': {'medium': {'w': 450, 'h': 450, 'resize': 'fit'}, 'small': {'w': 450, 'h': 450, 'resize': 'fit'}, 'thumb': {'w': 150, 'h': 150, 'resize': 'crop'}, 'large': {'w': 450, 'h': 450, 'resize': 'fit'}}}]}, 'source': '&lt;a href=\"https://about.twitter.com/products/tweetdeck\" rel=\"nofollow\"&gt;TweetDeck&lt;/a&gt;', 'in_reply_to_status_id': None, 'in_reply_to_status_id_str': None, 'in_reply_to_user_id': None, 'in_reply_to_user_id_str': None, 'in_reply_to_screen_name': None, 'geo': None, 'coordinates': None, 'place': None, 'contributors': None, 'is_quote_status': False, 'retweet_count': 9746, 'favorite_count': 25339, 'favorited': False, 'retweeted': False, 'possibly_sensitive': False, 'lang': 'en'}, 'is_quote_status': False, 'retweet_count': 9746, 'favorite_count': 0, 'favorited': False, 'retweeted': False, 'possibly_sensitive': False, 'lang': 'en'}</th>\n",
       "      <th>FALSE</th>\n",
       "      <th>FALSE</th>\n",
       "      <th>FALSE</th>\n",
       "      <td>Danielle Hopkins</td>\n",
       "      <td>NaN</td>\n",
       "    </tr>\n",
       "    <tr>\n",
       "      <th>765871267</th>\n",
       "      <th>765871267</th>\n",
       "      <th>_little_britt_</th>\n",
       "      <th>NaN</th>\n",
       "      <th>Family comes first! Also I am in love with pizza... My goal is to make people happy and love life!! Almost everyday vlogs- RomanAtwoodVlogs Smile More</th>\n",
       "      <th>https://t.co/E7DE1cJB7e</th>\n",
       "      <th>1001678</th>\n",
       "      <th>3017</th>\n",
       "      <th>14</th>\n",
       "      <th>8/18/2012 15:13</th>\n",
       "      <th>13040</th>\n",
       "      <th>TRUE</th>\n",
       "      <th>3329</th>\n",
       "      <th>en</th>\n",
       "      <th>{'place': None, 'retweeted': False, 'favorited': False, 'in_reply_to_user_id_str': None, 'in_reply_to_status_id_str': None, 'geo': None, 'coordinates': None, 'in_reply_to_status_id': None, 'in_reply_to_user_id': None, 'truncated': False, 'is_quote_status': False, 'in_reply_to_screen_name': None, 'id_str': '850790016838238210', 'text': 'I want a baby goat ðŸ˜©ðŸ', 'contributors': None, 'entities': {'symbols': [], 'urls': [], 'hashtags': [], 'user_mentions': []}, 'favorite_count': 11686, 'source': '&lt;a href=\"http://twitter.com/download/iphone\" rel=\"nofollow\"&gt;Twitter for iPhone&lt;/a&gt;', 'created_at': 'Sat Apr 08 19:18:41 +0000 2017', 'id': 850790016838238210, 'lang': 'en', 'retweet_count': 2037}</th>\n",
       "      <th>TRUE</th>\n",
       "      <th>FALSE</th>\n",
       "      <th>TRUE</th>\n",
       "      <td>Brittney Smith</td>\n",
       "      <td>NaN</td>\n",
       "    </tr>\n",
       "    <tr>\n",
       "      <th>4772373433</th>\n",
       "      <th>4772373433</th>\n",
       "      <th>134k5</th>\n",
       "      <th>NaN</th>\n",
       "      <th>@BuzzFeedJapan ‰  @cnet_japan / DMŽÐÜ‹ã‹_‹_‹ª / ŒÐ¾‹¨‹_ŽÁ÷‹ã‹âÕ‹ª‹âÜ‹Ò‹¬‹Î‹â‹â_‹_‹ª</th>\n",
       "      <th>https://t.co/Cbguzs2PjT</th>\n",
       "      <th>445</th>\n",
       "      <th>487</th>\n",
       "      <th>17</th>\n",
       "      <th>Sun Jan 17 07:11:45 +0000 2016</th>\n",
       "      <th>1112</th>\n",
       "      <th>FALSE</th>\n",
       "      <th>46</th>\n",
       "      <th>ja</th>\n",
       "      <th>{'created_at': 'Sat Apr 08 08:41:08 +0000 2017', 'id': 850629570986262533, 'id_str': '850629570986262533', 'text': '@RexRex103 @BuzzFeedJapan ‹Ò‹Á‹âä‹Ò‹‹ÛÓ_‹Ñ¬_‹â‹â_‹_‹Ý‹âÒ‹Ûâ¾äÀÙ´‹Ñ‹_‹Ñ‹Ù‹Ûâ‹_ÀÓŠ¼Ü‹âÕ‹ã‹Ù‹Ê‹‹_‹Ñ‹_‹Û‹â‹â_‹Î‹¬‹ ‹Ó‹Ð‹ã‹_‹Ñ‹Ù‹Ûâ', 'truncated': False, 'entities': {'hashtags': [], 'symbols': [], 'user_mentions': [{'screen_name': 'RexRex103', 'name': '‹ÄÂ‹ÄÄ‹âø‹â_', 'id': 2249898907, 'id_str': '2249898907', 'indices': [0, 10]}, {'screen_name': 'BuzzFeedJapan', 'name': 'BuzzFeed Japan', 'id': 2218283802, 'id_str': '2218283802', 'indices': [11, 25]}], 'urls': []}, 'source': '&lt;a href=\"http://twitter.com\" rel=\"nofollow\"&gt;Twitter Web Client&lt;/a&gt;', 'in_reply_to_status_id': 850628293522894849, 'in_reply_to_status_id_str': '850628293522894849', 'in_reply_to_user_id': 2249898907, 'in_reply_to_user_id_str': '2249898907', 'in_reply_to_screen_name': 'RexRex103', 'geo': None, 'coordinates': None, 'place': None, 'contributors': None, 'is_quote_status': False, 'retweet_count': 0, 'favorite_count': 0, 'favorited': False, 'retweeted': False, 'lang': 'ja'}</th>\n",
       "      <th>FALSE</th>\n",
       "      <th>FALSE</th>\n",
       "      <th>TRUE</th>\n",
       "      <td>Keigo Isashi</td>\n",
       "      <td>NaN</td>\n",
       "    </tr>\n",
       "    <tr>\n",
       "      <th>1324548560</th>\n",
       "      <th>None</th>\n",
       "      <th>2181chrom_bot</th>\n",
       "      <th>è‡ªåˆ†ã®å¤©å¹•</th>\n",
       "      <th>ã“ã‚Œã¯FEè¦šé†’ã®ã‚¯ãƒ­ãƒ â€¦ã¤ã¾ã‚Šä¿ºãŒãƒ„ã‚¤å»ƒãªbotã‚‰ã—ã„ã€‚ã‚ˆãåˆ†ã‹ã‚‰ã‚“ãŒãƒã‚¿è¦ç´ ã—ã‹ãªã„ãã†ã ã€‚ãƒ•ã‚©ãƒ­ãƒ¯ãƒ¼ãŒä¿ºãŸã¡ã®æˆ¦ã„ã‚’æ”¯ãˆã¦ã„ã‚‹ã‚“ã ã€‚ç®¡ç†äººã€@_hiduki_ã€‘ä½•ã‹ã‚ã£ãŸã‚‰ã“ã„ã¤ã«ä¼ãˆã¦ã‚„ã£ã¦ãã‚Œã€‚ã‚¢ã‚¤ã‚³ãƒ³ãƒ»ãƒã‚¿ã‚‚å‹Ÿé›†ä¸­ã ã€‚ã¤ã„ã«ãƒ„ã‚¤å»ƒä»²é–“ãŒå‡ºæ¥ãŸãžã€@2181lucina_botã€‘</th>\n",
       "      <th>http://t.co/10Swf6luED</th>\n",
       "      <th>187</th>\n",
       "      <th>68</th>\n",
       "      <th>13</th>\n",
       "      <th>Wed Apr 03 13:00:42 +0000 2013</th>\n",
       "      <th>None</th>\n",
       "      <th>None</th>\n",
       "      <th>690359</th>\n",
       "      <th>ja</th>\n",
       "      <th>{u'lang': u'ja', u'text': u'@2181lucina_bot \\u4ffa\\u306e\\u5922\\u306f\\u2026\\u5927\\u4e8b\\u306a\\u30c4\\u30a4\\u30fc\\u30c8\\u305f\\u3061\\u3092\\u3075\\u3041\\u307c\\u308c\\u308b\\u3088\\u3046\\u306a\\u5f37\\u3044\\u3075\\u3041\\u307c\\u9b54\\u306b\\u306a\\u308b\\u3053\\u3068\\u3060\\u3002', u'created_at': u'Sun Apr 09 21:54:04 +0000 2017', u'hashtags': [], u'user_mentions': [{u'screen_name': u'2181lucina_bot', u'name': u'\\u30c4\\u30a4\\u5ec3\\u30eb\\u30ad\\u30cabot', u'id': 1511044986}], u'source': u'&lt;a href=\"http://twpf.jp/2181chrom_bot\" rel=\"nofollow\"&gt;\\u30a4\\u30fc\\u30ea\\u30b9\\u5927\\u9678\\u306e\\u3069\\u3053\\u304b&lt;/a&gt;', u'in_reply_to_status_id': 851191070100606976, u'in_reply_to_screen_name': u'2181lucina_bot', u'id_str': u'851191507486986241', u'urls': [], u'id': 851191507486986241, u'in_reply_to_user_id': 1511044986}</th>\n",
       "      <th>None</th>\n",
       "      <th>None</th>\n",
       "      <th>None</th>\n",
       "      <td>ãƒ„ã‚¤å»ƒã‚¯ãƒ­ãƒ bot</td>\n",
       "      <td>NaN</td>\n",
       "    </tr>\n",
       "    <tr>\n",
       "      <th>2561341789</th>\n",
       "      <th>None</th>\n",
       "      <th>2LA1R_bot</th>\n",
       "      <th>None</th>\n",
       "      <th>ãµã‚Œã‚èªžã‚’ã¤ã¶ã‚„ãbotã§ã™ ãŸã¾ã«ä¸­ã®äºº(ãµã‚Œã‚)ã‚‚ã¤ã¶ã‚„ãã¾ã™</th>\n",
       "      <th>None</th>\n",
       "      <th>80</th>\n",
       "      <th>87</th>\n",
       "      <th>None</th>\n",
       "      <th>Wed Jun 11 13:12:06 +0000 2014</th>\n",
       "      <th>None</th>\n",
       "      <th>None</th>\n",
       "      <th>20167</th>\n",
       "      <th>ja</th>\n",
       "      <th>{u'lang': u'ja', u'text': u'\\u3010\\u3075\\u308c\\u3042\\u8a9e\\u3011\\u30d0\\u30a4\\u30c8\\u4f11\\u61a9\\u306a\\u3048\\uff08\\u30d0\\u30a4\\u30c8\\u4f11\\u61a9\\u306a\\u3046\\uff09', u'created_at': u'Sun Apr 09 21:54:06 +0000 2017', u'hashtags': [], u'user_mentions': [], u'source': u'&lt;a href=\"http://twittbot.net/\" rel=\"nofollow\"&gt;twittbot.net&lt;/a&gt;', u'id_str': u'851191514206097409', u'urls': [], u'id': 851191514206097409}</th>\n",
       "      <th>TRUE</th>\n",
       "      <th>None</th>\n",
       "      <th>None</th>\n",
       "      <td>ãµã‚Œã‚èªžbot ver0.2</td>\n",
       "      <td>NaN</td>\n",
       "    </tr>\n",
       "    <tr>\n",
       "      <th>347810134</th>\n",
       "      <th>None</th>\n",
       "      <th>3pei_bot</th>\n",
       "      <th>ä¸‰æ²³å±‹</th>\n",
       "      <th>â– ã¡ã‚ãƒ¼ã™ï¼ä¸‰æ²³å±‹ã§ãƒ¼ã™ï¼ä¸‰éƒŽãã‚“ã«ã¯è² ã‘ã¾ã›ã‚“ï½—ï½—ï½—â– ã‚µã‚¶ã‚¨ã•ã‚“ã«éŽåŽ»ç™»å ´ã€ä¸‰æ²³å±‹ã•ã‚“ã¸å‹¤ã‚ã¦ã„ãŸä¸‰å¹³ã•ã‚“http://p.tl/aHsx-ã®éžå…¬å¼botã§ã™â– ã‚µãƒ–ã¡ã‚ƒã‚“http://p.tl/DzZh-ã§ã¯ã‚ã‚Šã¾ã›ã‚“â– æ‰‹å‹•ã®ãªã‚Šãã‚Šbotã¨ã‚‚é•ã„ã¾ã™ï¼ˆåŸºæœ¬ã€ä¸‰æ²³å±‹ã®ä¸­ã®äººã¯å‘Ÿãã¾ã›ã‚“ï¼‰â– ä»•æ§˜ã¯ãŠæ°—ã«å…¥ã‚Šã‚’ã”è¦§ä¸‹ã•ã„</th>\n",
       "      <th>http://twpf.jp/3pei_bot</th>\n",
       "      <th>2020</th>\n",
       "      <th>1978</th>\n",
       "      <th>56</th>\n",
       "      <th>Wed Aug 03 11:52:59 +0000 2011</th>\n",
       "      <th>None</th>\n",
       "      <th>None</th>\n",
       "      <th>968182</th>\n",
       "      <th>ja</th>\n",
       "      <th>{u'lang': u'ja', u'text': u'@kazenoraby \\uff66\\uff9a\\u304c\\u30e9\\u30f4\\u30a3\\u3061\\u3083\\u3093\\uff80\\uff9d\\u3092\\u6e29\\u3081\\u3066\\u3084\\u3093\\u3088\\uff57\\uff57\\uff57', u'created_at': u'Sun Apr 09 21:54:05 +0000 2017', u'hashtags': [], u'user_mentions': [{u'screen_name': u'kazenoraby', u'name': u'\\u30e9\\u30f4\\u30a3\\u3061\\u3083\\u3093', u'id': 292250276}], u'source': u'&lt;a href=\"http://twpf.jp/3pei_bot\" rel=\"nofollow\"&gt;\\u4e09\\u6cb3\\u5c4b&lt;/a&gt;', u'in_reply_to_status_id': 851191255841124352, u'in_reply_to_screen_name': u'kazenoraby', u'id_str': u'851191511765176320', u'urls': [], u'id': 851191511765176320, u'in_reply_to_user_id': 292250276}</th>\n",
       "      <th>TRUE</th>\n",
       "      <th>None</th>\n",
       "      <th>None</th>\n",
       "      <td>ä¸‰æ²³å±‹ä¸‰å¹³</td>\n",
       "      <td>NaN</td>\n",
       "    </tr>\n",
       "    <tr>\n",
       "      <th>856303860</th>\n",
       "      <th>None</th>\n",
       "      <th>94kichi_bot</th>\n",
       "      <th>None</th>\n",
       "      <th>94 ãƒãƒ£ãƒƒã‚¯ãƒ»ã‚¦ã‚£ãƒ«ã‚½ãƒ³ã¨æ„‰å¿«ãªä»²é–“ãŸã¡ã®ç¬‘ã„ã‚ã‚Šæ¶™ã‚ã‚Šãªã¡ã‚‡ã“ã£ã¨ã‚­ãƒã‚¬ã‚¤ãƒ„ã‚¤ãƒ¼ãƒˆã‚’é›†ã‚ãŸèº«å†…ã‚¦ã‚±bot\\nå®Œå…¨è‡ªå‹•é‹è»¢ã®ãŸã‚ä½•ã‹ã‚ã‚Šã¾ã—ãŸã‚‰ä¸­ã®äºº(â˜ž @yyk_sp )ã¾ã§</th>\n",
       "      <th>None</th>\n",
       "      <th>70</th>\n",
       "      <th>80</th>\n",
       "      <th>2</th>\n",
       "      <th>Mon Oct 01 12:39:46 +0000 2012</th>\n",
       "      <th>None</th>\n",
       "      <th>None</th>\n",
       "      <th>76735</th>\n",
       "      <th>ja</th>\n",
       "      <th>{u'lang': u'ja', u'text': u'\\u307f\\u3093\\u306a\\uff01\\u3059\\u304d\\uff01\\u3061\\u3093\\u3053\\uff01\\u307f\\u305b\\u3066\\uff01\\uff1f', u'created_at': u'Sun Apr 09 21:54:08 +0000 2017', u'hashtags': [], u'user_mentions': [], u'source': u'&lt;a href=\"http://twittbot.net/\" rel=\"nofollow\"&gt;twittbot.net&lt;/a&gt;', u'id_str': u'851191524062670848', u'urls': [], u'id': 851191524062670848}</th>\n",
       "      <th>TRUE</th>\n",
       "      <th>None</th>\n",
       "      <th>None</th>\n",
       "      <td>94å¹´çµ„bot</td>\n",
       "      <td>NaN</td>\n",
       "    </tr>\n",
       "    <tr>\n",
       "      <th>832875000000000000</th>\n",
       "      <th>None</th>\n",
       "      <th>A3_Dekasegi_bot</th>\n",
       "      <th>ãƒ“ãƒ­ãƒ¼ãƒ‰é§…å‰</th>\n",
       "      <th>ã‚·ãƒˆãƒ­ãƒ³ã€ŒA3!å‡ºç¨¼ãŽæ—¥èªŒãƒ€ãƒ¨ãƒ¼ï¼ã¿ã‚“ãªã®å‡ºç¨¼ãŽä¸­ã®ã‚ã‚“ãªã“ã¨ã‚„ã“ã‚“ãªã“ã¨ã‚’ã¾ã¨ã‚ãŸæ—¥èªŒãƒï¼ã€ ç¶´ã€Œã„ã‚„è¨€ã„æ–¹ãŒã„ã‹ãŒã‚ã—ã„ã‹ã‚‰ï¼ã‚ã€å…¨è‡ªå‹•ã®botã£ã™ï¼ã¾ã è©¦é‹è»¢ä¸­ã ã‘ã©ï¼ã€ ã‚·ãƒˆãƒ­ãƒ³ã€Œã¿ã‚“ãªã®é–¢ä¿‚ãŒä»Šã€ãƒ¯ã‚¿ã‚·ã®æ‰‹ã«ã‚ˆã£ã¦æš´ã‹ã‚Œã‚‹ãƒ¨â€¦ï¼ã€ ç¶´ã€ŒæŽ¢åµã‚‚ã®ã®ãƒ‰ãƒ©ãƒžè¦‹ãŸã ã‚ï¼çœŸä¼¼ã—ãªãã¦ã„ã„ã‹ã‚‰ï¼ï¼ã€</th>\n",
       "      <th>https://t.co/t171JmIrjL</th>\n",
       "      <th>181</th>\n",
       "      <th>144</th>\n",
       "      <th>2</th>\n",
       "      <th>Sat Feb 18 08:50:03 +0000 2017</th>\n",
       "      <th>None</th>\n",
       "      <th>None</th>\n",
       "      <th>1960</th>\n",
       "      <th>ja</th>\n",
       "      <th>{u'lang': u'ja', u'text': u'\\u30b7\\u30c8\\u30ed\\u30f3\\uff1a\\u30ef\\u30bf\\u30b7\\u65e5\\u672c\\u8a9e\\u306e\\u52c9\\u5f37\\u3082\\u3063\\u3068\\u9811\\u5f35\\u308b\\u30e8\\uff01\\n\\u81f3\\uff1a\\u307e\\u3001\\u4eca\\u306e\\u307e\\u307e\\u3067\\u3082\\u3044\\u3044\\u3051\\u3069\\u306d\\u3002\\u4ffa\\u7684\\u306b\\u30c4\\u30dc\\u3060\\u3057\\n\\u30b7\\u30c8\\u30ed\\u30f3\\uff1a\\u30a4\\u30bf\\u30eb\\u3068\\u306e\\u51fa\\u4f1a\\u3044\\u306f\\u4e00\\u56de\\u4e00\\u5186\\u30c0\\u30e8\\uff01 \\u5927\\u5207\\u306b\\u3059\\u308b\\u30cd\\n\\u81f3\\uff1a\\u5b89\\u3059\\u304e\\u308f\\u308d\\u3002\\u4e00\\u671f\\u4e00\\u4f1a\\u3067\\u3042\\u3063\\u3066\\u6b32\\u3057\\u3044\\u306a', u'created_at': u'Sun Apr 09 21:54:02 +0000 2017', u'hashtags': [], u'user_mentions': [], u'source': u'&lt;a href=\"http://twittbot.net/\" rel=\"nofollow\"&gt;twittbot.net&lt;/a&gt;', u'id_str': u'851191498854998016', u'urls': [], u'id': 851191498854998016}</th>\n",
       "      <th>TRUE</th>\n",
       "      <th>None</th>\n",
       "      <th>None</th>\n",
       "      <td>A3! å‡ºç¨¼ãŽæ—¥èªŒ</td>\n",
       "      <td>NaN</td>\n",
       "    </tr>\n",
       "  </tbody>\n",
       "</table>\n",
       "</div>"
      ],
      "text/plain": [
       "                                                                                                                                                                                                                                                                                                                                                                                                      id  \\\n",
       "﻿id                id_str     screen_name     location           description                                        url                     followers_count friends_count listed_count created_at                     favorites_count verified statuses_count lang status                                             default_profile default_profile_image has_extended_profile                    name   \n",
       "2281292622         2281292622 __keating       brooklyn           lgbt editor at @buzzfeed. shannon.keating@buzzf... https://t.co/QneJmYRyhj 4466            1295          111          Tue Jan 07 23:26:52 +0000 2014 1579            TRUE     3036           en   {'created_at': 'Tue Apr 11 15:31:51 +0000 2017'... FALSE           FALSE                 FALSE                        shannon keating   \n",
       "2344040251         2344040251 _callme_Dani    Los Angeles, CA    News Curation Editor @BuzzFeedNews \\rI do a lot... NaN                     295             1016          10           Fri Feb 14 19:45:56 +0000 2014 300             FALSE    618            en   {'created_at': 'Tue Apr 11 00:56:02 +0000 2017'... FALSE           FALSE                 FALSE                       Danielle Hopkins   \n",
       "765871267          765871267  _little_britt_  NaN                Family comes first! Also I am in love with pizz... https://t.co/E7DE1cJB7e 1001678         3017          14           8/18/2012 15:13                13040           TRUE     3329           en   {'place': None, 'retweeted': False, 'favorited'... TRUE            FALSE                 TRUE                          Brittney Smith   \n",
       "4772373433         4772373433 134k5           NaN                @BuzzFeedJapan ‰  @cnet_japan / DMŽÐÜ‹ã‹_‹_... https://t.co/Cbguzs2PjT 445             487           17           Sun Jan 17 07:11:45 +0000 2016 1112            FALSE    46             ja   {'created_at': 'Sat Apr 08 08:41:08 +0000 2017'... FALSE           FALSE                 TRUE                            Keigo Isashi   \n",
       "1324548560         None       2181chrom_bot   è‡ªåˆ†ã®å¤©å¹•    ã“ã‚Œã¯FEè¦šé†’ã®ã‚¯ãƒ­ãƒ â€¦ã¤ã¾ã‚Šä¿ºãŒ... http://t.co/10Swf6luED  187             68            13           Wed Apr 03 13:00:42 +0000 2013 None            None     690359         ja   {u'lang': u'ja', u'text': u'@2181lucina_bot \\u4... None            None                  None                   ãƒ„ã‚¤å»ƒã‚¯ãƒ­ãƒ bot   \n",
       "2561341789         None       2LA1R_bot       None               ãµã‚Œã‚èªžã‚’ã¤ã¶ã‚„ãbotã§ã™ ãŸã¾ã«ä... None                    80              87            None         Wed Jun 11 13:12:06 +0000 2014 None            None     20167          ja   {u'lang': u'ja', u'text': u'\\u3010\\u3075\\u308c\\... TRUE            None                  None                  ãµã‚Œã‚èªžbot ver0.2   \n",
       "347810134          None       3pei_bot        ä¸‰æ²³å±‹          â– ã¡ã‚ãƒ¼ã™ï¼ä¸‰æ²³å±‹ã§ãƒ¼ã™ï¼ä¸‰éƒŽã... http://twpf.jp/3pei_bot 2020            1978          56           Wed Aug 03 11:52:59 +0000 2011 None            None     968182         ja   {u'lang': u'ja', u'text': u'@kazenoraby \\uff66\\... TRUE            None                  None                         ä¸‰æ²³å±‹ä¸‰å¹³   \n",
       "856303860          None       94kichi_bot     None               94 ãƒãƒ£ãƒƒã‚¯ãƒ»ã‚¦ã‚£ãƒ«ã‚½ãƒ³ã¨æ„‰å¿«ãªä»... None                    70              80            2            Mon Oct 01 12:39:46 +0000 2012 None            None     76735          ja   {u'lang': u'ja', u'text': u'\\u307f\\u3093\\u306a\\... TRUE            None                  None                             94å¹´çµ„bot   \n",
       "832875000000000000 None       A3_Dekasegi_bot ãƒ“ãƒ­ãƒ¼ãƒ‰é§…å‰ ã‚·ãƒˆãƒ­ãƒ³ã€ŒA3!å‡ºç¨¼ãŽæ—¥èªŒãƒ€ãƒ¨ãƒ¼ï¼ã... https://t.co/t171JmIrjL 181             144           2            Sat Feb 18 08:50:03 +0000 2017 None            None     1960           ja   {u'lang': u'ja', u'text': u'\\u30b7\\u30c8\\u30ed\\... TRUE            None                  None                     A3! å‡ºç¨¼ãŽæ—¥èªŒ   \n",
       "\n",
       "                                                                                                                                                                                                                                                                                                                                                                                    1  \n",
       "﻿id                id_str     screen_name     location           description                                        url                     followers_count friends_count listed_count created_at                     favorites_count verified statuses_count lang status                                             default_profile default_profile_image has_extended_profile  bot  \n",
       "2281292622         2281292622 __keating       brooklyn           lgbt editor at @buzzfeed. shannon.keating@buzzf... https://t.co/QneJmYRyhj 4466            1295          111          Tue Jan 07 23:26:52 +0000 2014 1579            TRUE     3036           en   {'created_at': 'Tue Apr 11 15:31:51 +0000 2017'... FALSE           FALSE                 FALSE                 NaN  \n",
       "2344040251         2344040251 _callme_Dani    Los Angeles, CA    News Curation Editor @BuzzFeedNews \\rI do a lot... NaN                     295             1016          10           Fri Feb 14 19:45:56 +0000 2014 300             FALSE    618            en   {'created_at': 'Tue Apr 11 00:56:02 +0000 2017'... FALSE           FALSE                 FALSE                 NaN  \n",
       "765871267          765871267  _little_britt_  NaN                Family comes first! Also I am in love with pizz... https://t.co/E7DE1cJB7e 1001678         3017          14           8/18/2012 15:13                13040           TRUE     3329           en   {'place': None, 'retweeted': False, 'favorited'... TRUE            FALSE                 TRUE                  NaN  \n",
       "4772373433         4772373433 134k5           NaN                @BuzzFeedJapan ‰  @cnet_japan / DMŽÐÜ‹ã‹_‹_... https://t.co/Cbguzs2PjT 445             487           17           Sun Jan 17 07:11:45 +0000 2016 1112            FALSE    46             ja   {'created_at': 'Sat Apr 08 08:41:08 +0000 2017'... FALSE           FALSE                 TRUE                  NaN  \n",
       "1324548560         None       2181chrom_bot   è‡ªåˆ†ã®å¤©å¹•    ã“ã‚Œã¯FEè¦šé†’ã®ã‚¯ãƒ­ãƒ â€¦ã¤ã¾ã‚Šä¿ºãŒ... http://t.co/10Swf6luED  187             68            13           Wed Apr 03 13:00:42 +0000 2013 None            None     690359         ja   {u'lang': u'ja', u'text': u'@2181lucina_bot \\u4... None            None                  None                  NaN  \n",
       "2561341789         None       2LA1R_bot       None               ãµã‚Œã‚èªžã‚’ã¤ã¶ã‚„ãbotã§ã™ ãŸã¾ã«ä... None                    80              87            None         Wed Jun 11 13:12:06 +0000 2014 None            None     20167          ja   {u'lang': u'ja', u'text': u'\\u3010\\u3075\\u308c\\... TRUE            None                  None                  NaN  \n",
       "347810134          None       3pei_bot        ä¸‰æ²³å±‹          â– ã¡ã‚ãƒ¼ã™ï¼ä¸‰æ²³å±‹ã§ãƒ¼ã™ï¼ä¸‰éƒŽã... http://twpf.jp/3pei_bot 2020            1978          56           Wed Aug 03 11:52:59 +0000 2011 None            None     968182         ja   {u'lang': u'ja', u'text': u'@kazenoraby \\uff66\\... TRUE            None                  None                  NaN  \n",
       "856303860          None       94kichi_bot     None               94 ãƒãƒ£ãƒƒã‚¯ãƒ»ã‚¦ã‚£ãƒ«ã‚½ãƒ³ã¨æ„‰å¿«ãªä»... None                    70              80            2            Mon Oct 01 12:39:46 +0000 2012 None            None     76735          ja   {u'lang': u'ja', u'text': u'\\u307f\\u3093\\u306a\\... TRUE            None                  None                  NaN  \n",
       "832875000000000000 None       A3_Dekasegi_bot ãƒ“ãƒ­ãƒ¼ãƒ‰é§…å‰ ã‚·ãƒˆãƒ­ãƒ³ã€ŒA3!å‡ºç¨¼ãŽæ—¥èªŒãƒ€ãƒ¨ãƒ¼ï¼ã... https://t.co/t171JmIrjL 181             144           2            Sat Feb 18 08:50:03 +0000 2017 None            None     1960           ja   {u'lang': u'ja', u'text': u'\\u30b7\\u30c8\\u30ed\\... TRUE            None                  None                  NaN  "
      ]
     },
     "execution_count": 45,
     "metadata": {},
     "output_type": "execute_result"
    }
   ],
   "source": [
    "df_test.head(10)"
   ]
  },
  {
   "cell_type": "code",
   "execution_count": 41,
   "metadata": {
    "collapsed": false
   },
   "outputs": [
    {
     "ename": "KeyError",
     "evalue": "'id'",
     "output_type": "error",
     "traceback": [
      "\u001b[0;31m---------------------------------------------------------------------------\u001b[0m",
      "\u001b[0;31mKeyError\u001b[0m                                  Traceback (most recent call last)",
      "\u001b[0;32m/Users/alvin/anaconda3/lib/python3.5/site-packages/pandas/indexes/base.py\u001b[0m in \u001b[0;36mget_loc\u001b[0;34m(self, key, method, tolerance)\u001b[0m\n\u001b[1;32m   1944\u001b[0m             \u001b[0;32mtry\u001b[0m\u001b[0;34m:\u001b[0m\u001b[0;34m\u001b[0m\u001b[0m\n\u001b[0;32m-> 1945\u001b[0;31m                 \u001b[0;32mreturn\u001b[0m \u001b[0mself\u001b[0m\u001b[0;34m.\u001b[0m\u001b[0m_engine\u001b[0m\u001b[0;34m.\u001b[0m\u001b[0mget_loc\u001b[0m\u001b[0;34m(\u001b[0m\u001b[0mkey\u001b[0m\u001b[0;34m)\u001b[0m\u001b[0;34m\u001b[0m\u001b[0m\n\u001b[0m\u001b[1;32m   1946\u001b[0m             \u001b[0;32mexcept\u001b[0m \u001b[0mKeyError\u001b[0m\u001b[0;34m:\u001b[0m\u001b[0;34m\u001b[0m\u001b[0m\n",
      "\u001b[0;32mpandas/index.pyx\u001b[0m in \u001b[0;36mpandas.index.IndexEngine.get_loc (pandas/index.c:4154)\u001b[0;34m()\u001b[0m\n",
      "\u001b[0;32mpandas/index.pyx\u001b[0m in \u001b[0;36mpandas.index.IndexEngine.get_loc (pandas/index.c:4018)\u001b[0;34m()\u001b[0m\n",
      "\u001b[0;32mpandas/hashtable.pyx\u001b[0m in \u001b[0;36mpandas.hashtable.PyObjectHashTable.get_item (pandas/hashtable.c:12368)\u001b[0;34m()\u001b[0m\n",
      "\u001b[0;32mpandas/hashtable.pyx\u001b[0m in \u001b[0;36mpandas.hashtable.PyObjectHashTable.get_item (pandas/hashtable.c:12322)\u001b[0;34m()\u001b[0m\n",
      "\u001b[0;31mKeyError\u001b[0m: 'id'",
      "\nDuring handling of the above exception, another exception occurred:\n",
      "\u001b[0;31mKeyError\u001b[0m                                  Traceback (most recent call last)",
      "\u001b[0;32m<ipython-input-41-6aa849cdc597>\u001b[0m in \u001b[0;36m<module>\u001b[0;34m()\u001b[0m\n\u001b[0;32m----> 1\u001b[0;31m \u001b[0mdf_merge\u001b[0m \u001b[0;34m=\u001b[0m \u001b[0mpd\u001b[0m\u001b[0;34m.\u001b[0m\u001b[0mmerge\u001b[0m\u001b[0;34m(\u001b[0m\u001b[0mdf_meng\u001b[0m\u001b[0;34m,\u001b[0m\u001b[0mdf_test\u001b[0m\u001b[0;34m,\u001b[0m\u001b[0mhow\u001b[0m\u001b[0;34m=\u001b[0m\u001b[0;34m\"inner\"\u001b[0m\u001b[0;34m,\u001b[0m\u001b[0mon\u001b[0m\u001b[0;34m=\u001b[0m\u001b[0;34m'id'\u001b[0m\u001b[0;34m)\u001b[0m\u001b[0;34m\u001b[0m\u001b[0m\n\u001b[0m\u001b[1;32m      2\u001b[0m \u001b[0mdf_merge\u001b[0m\u001b[0;34m.\u001b[0m\u001b[0mto_csv\u001b[0m\u001b[0;34m(\u001b[0m\u001b[0;34m'meng.csv'\u001b[0m\u001b[0;34m,\u001b[0m\u001b[0msep\u001b[0m\u001b[0;34m=\u001b[0m\u001b[0;34m','\u001b[0m\u001b[0;34m,\u001b[0m\u001b[0mindex\u001b[0m\u001b[0;34m=\u001b[0m\u001b[0;32mFalse\u001b[0m\u001b[0;34m)\u001b[0m\u001b[0;34m\u001b[0m\u001b[0m\n",
      "\u001b[0;32m/Users/alvin/anaconda3/lib/python3.5/site-packages/pandas/tools/merge.py\u001b[0m in \u001b[0;36mmerge\u001b[0;34m(left, right, how, on, left_on, right_on, left_index, right_index, sort, suffixes, copy, indicator)\u001b[0m\n\u001b[1;32m     36\u001b[0m                          \u001b[0mright_on\u001b[0m\u001b[0;34m=\u001b[0m\u001b[0mright_on\u001b[0m\u001b[0;34m,\u001b[0m \u001b[0mleft_index\u001b[0m\u001b[0;34m=\u001b[0m\u001b[0mleft_index\u001b[0m\u001b[0;34m,\u001b[0m\u001b[0;34m\u001b[0m\u001b[0m\n\u001b[1;32m     37\u001b[0m                          \u001b[0mright_index\u001b[0m\u001b[0;34m=\u001b[0m\u001b[0mright_index\u001b[0m\u001b[0;34m,\u001b[0m \u001b[0msort\u001b[0m\u001b[0;34m=\u001b[0m\u001b[0msort\u001b[0m\u001b[0;34m,\u001b[0m \u001b[0msuffixes\u001b[0m\u001b[0;34m=\u001b[0m\u001b[0msuffixes\u001b[0m\u001b[0;34m,\u001b[0m\u001b[0;34m\u001b[0m\u001b[0m\n\u001b[0;32m---> 38\u001b[0;31m                          copy=copy, indicator=indicator)\n\u001b[0m\u001b[1;32m     39\u001b[0m     \u001b[0;32mreturn\u001b[0m \u001b[0mop\u001b[0m\u001b[0;34m.\u001b[0m\u001b[0mget_result\u001b[0m\u001b[0;34m(\u001b[0m\u001b[0;34m)\u001b[0m\u001b[0;34m\u001b[0m\u001b[0m\n\u001b[1;32m     40\u001b[0m \u001b[0;32mif\u001b[0m \u001b[0m__debug__\u001b[0m\u001b[0;34m:\u001b[0m\u001b[0;34m\u001b[0m\u001b[0m\n",
      "\u001b[0;32m/Users/alvin/anaconda3/lib/python3.5/site-packages/pandas/tools/merge.py\u001b[0m in \u001b[0;36m__init__\u001b[0;34m(self, left, right, how, on, left_on, right_on, axis, left_index, right_index, sort, suffixes, copy, indicator)\u001b[0m\n\u001b[1;32m    208\u001b[0m         (self.left_join_keys,\n\u001b[1;32m    209\u001b[0m          \u001b[0mself\u001b[0m\u001b[0;34m.\u001b[0m\u001b[0mright_join_keys\u001b[0m\u001b[0;34m,\u001b[0m\u001b[0;34m\u001b[0m\u001b[0m\n\u001b[0;32m--> 210\u001b[0;31m          self.join_names) = self._get_merge_keys()\n\u001b[0m\u001b[1;32m    211\u001b[0m \u001b[0;34m\u001b[0m\u001b[0m\n\u001b[1;32m    212\u001b[0m     \u001b[0;32mdef\u001b[0m \u001b[0mget_result\u001b[0m\u001b[0;34m(\u001b[0m\u001b[0mself\u001b[0m\u001b[0;34m)\u001b[0m\u001b[0;34m:\u001b[0m\u001b[0;34m\u001b[0m\u001b[0m\n",
      "\u001b[0;32m/Users/alvin/anaconda3/lib/python3.5/site-packages/pandas/tools/merge.py\u001b[0m in \u001b[0;36m_get_merge_keys\u001b[0;34m(self)\u001b[0m\n\u001b[1;32m    432\u001b[0m                 \u001b[0;32melse\u001b[0m\u001b[0;34m:\u001b[0m\u001b[0;34m\u001b[0m\u001b[0m\n\u001b[1;32m    433\u001b[0m                     \u001b[0;32mif\u001b[0m \u001b[0;32mnot\u001b[0m \u001b[0mis_rkey\u001b[0m\u001b[0;34m(\u001b[0m\u001b[0mrk\u001b[0m\u001b[0;34m)\u001b[0m\u001b[0;34m:\u001b[0m\u001b[0;34m\u001b[0m\u001b[0m\n\u001b[0;32m--> 434\u001b[0;31m                         \u001b[0mright_keys\u001b[0m\u001b[0;34m.\u001b[0m\u001b[0mappend\u001b[0m\u001b[0;34m(\u001b[0m\u001b[0mright\u001b[0m\u001b[0;34m[\u001b[0m\u001b[0mrk\u001b[0m\u001b[0;34m]\u001b[0m\u001b[0;34m.\u001b[0m\u001b[0m_values\u001b[0m\u001b[0;34m)\u001b[0m\u001b[0;34m\u001b[0m\u001b[0m\n\u001b[0m\u001b[1;32m    435\u001b[0m                         \u001b[0;32mif\u001b[0m \u001b[0mlk\u001b[0m \u001b[0;34m==\u001b[0m \u001b[0mrk\u001b[0m\u001b[0;34m:\u001b[0m\u001b[0;34m\u001b[0m\u001b[0m\n\u001b[1;32m    436\u001b[0m                             \u001b[0;31m# avoid key upcast in corner case (length-0)\u001b[0m\u001b[0;34m\u001b[0m\u001b[0;34m\u001b[0m\u001b[0m\n",
      "\u001b[0;32m/Users/alvin/anaconda3/lib/python3.5/site-packages/pandas/core/frame.py\u001b[0m in \u001b[0;36m__getitem__\u001b[0;34m(self, key)\u001b[0m\n\u001b[1;32m   1995\u001b[0m             \u001b[0;32mreturn\u001b[0m \u001b[0mself\u001b[0m\u001b[0;34m.\u001b[0m\u001b[0m_getitem_multilevel\u001b[0m\u001b[0;34m(\u001b[0m\u001b[0mkey\u001b[0m\u001b[0;34m)\u001b[0m\u001b[0;34m\u001b[0m\u001b[0m\n\u001b[1;32m   1996\u001b[0m         \u001b[0;32melse\u001b[0m\u001b[0;34m:\u001b[0m\u001b[0;34m\u001b[0m\u001b[0m\n\u001b[0;32m-> 1997\u001b[0;31m             \u001b[0;32mreturn\u001b[0m \u001b[0mself\u001b[0m\u001b[0;34m.\u001b[0m\u001b[0m_getitem_column\u001b[0m\u001b[0;34m(\u001b[0m\u001b[0mkey\u001b[0m\u001b[0;34m)\u001b[0m\u001b[0;34m\u001b[0m\u001b[0m\n\u001b[0m\u001b[1;32m   1998\u001b[0m \u001b[0;34m\u001b[0m\u001b[0m\n\u001b[1;32m   1999\u001b[0m     \u001b[0;32mdef\u001b[0m \u001b[0m_getitem_column\u001b[0m\u001b[0;34m(\u001b[0m\u001b[0mself\u001b[0m\u001b[0;34m,\u001b[0m \u001b[0mkey\u001b[0m\u001b[0;34m)\u001b[0m\u001b[0;34m:\u001b[0m\u001b[0;34m\u001b[0m\u001b[0m\n",
      "\u001b[0;32m/Users/alvin/anaconda3/lib/python3.5/site-packages/pandas/core/frame.py\u001b[0m in \u001b[0;36m_getitem_column\u001b[0;34m(self, key)\u001b[0m\n\u001b[1;32m   2002\u001b[0m         \u001b[0;31m# get column\u001b[0m\u001b[0;34m\u001b[0m\u001b[0;34m\u001b[0m\u001b[0m\n\u001b[1;32m   2003\u001b[0m         \u001b[0;32mif\u001b[0m \u001b[0mself\u001b[0m\u001b[0;34m.\u001b[0m\u001b[0mcolumns\u001b[0m\u001b[0;34m.\u001b[0m\u001b[0mis_unique\u001b[0m\u001b[0;34m:\u001b[0m\u001b[0;34m\u001b[0m\u001b[0m\n\u001b[0;32m-> 2004\u001b[0;31m             \u001b[0;32mreturn\u001b[0m \u001b[0mself\u001b[0m\u001b[0;34m.\u001b[0m\u001b[0m_get_item_cache\u001b[0m\u001b[0;34m(\u001b[0m\u001b[0mkey\u001b[0m\u001b[0;34m)\u001b[0m\u001b[0;34m\u001b[0m\u001b[0m\n\u001b[0m\u001b[1;32m   2005\u001b[0m \u001b[0;34m\u001b[0m\u001b[0m\n\u001b[1;32m   2006\u001b[0m         \u001b[0;31m# duplicate columns & possible reduce dimensionality\u001b[0m\u001b[0;34m\u001b[0m\u001b[0;34m\u001b[0m\u001b[0m\n",
      "\u001b[0;32m/Users/alvin/anaconda3/lib/python3.5/site-packages/pandas/core/generic.py\u001b[0m in \u001b[0;36m_get_item_cache\u001b[0;34m(self, item)\u001b[0m\n\u001b[1;32m   1348\u001b[0m         \u001b[0mres\u001b[0m \u001b[0;34m=\u001b[0m \u001b[0mcache\u001b[0m\u001b[0;34m.\u001b[0m\u001b[0mget\u001b[0m\u001b[0;34m(\u001b[0m\u001b[0mitem\u001b[0m\u001b[0;34m)\u001b[0m\u001b[0;34m\u001b[0m\u001b[0m\n\u001b[1;32m   1349\u001b[0m         \u001b[0;32mif\u001b[0m \u001b[0mres\u001b[0m \u001b[0;32mis\u001b[0m \u001b[0;32mNone\u001b[0m\u001b[0;34m:\u001b[0m\u001b[0;34m\u001b[0m\u001b[0m\n\u001b[0;32m-> 1350\u001b[0;31m             \u001b[0mvalues\u001b[0m \u001b[0;34m=\u001b[0m \u001b[0mself\u001b[0m\u001b[0;34m.\u001b[0m\u001b[0m_data\u001b[0m\u001b[0;34m.\u001b[0m\u001b[0mget\u001b[0m\u001b[0;34m(\u001b[0m\u001b[0mitem\u001b[0m\u001b[0;34m)\u001b[0m\u001b[0;34m\u001b[0m\u001b[0m\n\u001b[0m\u001b[1;32m   1351\u001b[0m             \u001b[0mres\u001b[0m \u001b[0;34m=\u001b[0m \u001b[0mself\u001b[0m\u001b[0;34m.\u001b[0m\u001b[0m_box_item_values\u001b[0m\u001b[0;34m(\u001b[0m\u001b[0mitem\u001b[0m\u001b[0;34m,\u001b[0m \u001b[0mvalues\u001b[0m\u001b[0;34m)\u001b[0m\u001b[0;34m\u001b[0m\u001b[0m\n\u001b[1;32m   1352\u001b[0m             \u001b[0mcache\u001b[0m\u001b[0;34m[\u001b[0m\u001b[0mitem\u001b[0m\u001b[0;34m]\u001b[0m \u001b[0;34m=\u001b[0m \u001b[0mres\u001b[0m\u001b[0;34m\u001b[0m\u001b[0m\n",
      "\u001b[0;32m/Users/alvin/anaconda3/lib/python3.5/site-packages/pandas/core/internals.py\u001b[0m in \u001b[0;36mget\u001b[0;34m(self, item, fastpath)\u001b[0m\n\u001b[1;32m   3288\u001b[0m \u001b[0;34m\u001b[0m\u001b[0m\n\u001b[1;32m   3289\u001b[0m             \u001b[0;32mif\u001b[0m \u001b[0;32mnot\u001b[0m \u001b[0misnull\u001b[0m\u001b[0;34m(\u001b[0m\u001b[0mitem\u001b[0m\u001b[0;34m)\u001b[0m\u001b[0;34m:\u001b[0m\u001b[0;34m\u001b[0m\u001b[0m\n\u001b[0;32m-> 3290\u001b[0;31m                 \u001b[0mloc\u001b[0m \u001b[0;34m=\u001b[0m \u001b[0mself\u001b[0m\u001b[0;34m.\u001b[0m\u001b[0mitems\u001b[0m\u001b[0;34m.\u001b[0m\u001b[0mget_loc\u001b[0m\u001b[0;34m(\u001b[0m\u001b[0mitem\u001b[0m\u001b[0;34m)\u001b[0m\u001b[0;34m\u001b[0m\u001b[0m\n\u001b[0m\u001b[1;32m   3291\u001b[0m             \u001b[0;32melse\u001b[0m\u001b[0;34m:\u001b[0m\u001b[0;34m\u001b[0m\u001b[0m\n\u001b[1;32m   3292\u001b[0m                 \u001b[0mindexer\u001b[0m \u001b[0;34m=\u001b[0m \u001b[0mnp\u001b[0m\u001b[0;34m.\u001b[0m\u001b[0marange\u001b[0m\u001b[0;34m(\u001b[0m\u001b[0mlen\u001b[0m\u001b[0;34m(\u001b[0m\u001b[0mself\u001b[0m\u001b[0;34m.\u001b[0m\u001b[0mitems\u001b[0m\u001b[0;34m)\u001b[0m\u001b[0;34m)\u001b[0m\u001b[0;34m[\u001b[0m\u001b[0misnull\u001b[0m\u001b[0;34m(\u001b[0m\u001b[0mself\u001b[0m\u001b[0;34m.\u001b[0m\u001b[0mitems\u001b[0m\u001b[0;34m)\u001b[0m\u001b[0;34m]\u001b[0m\u001b[0;34m\u001b[0m\u001b[0m\n",
      "\u001b[0;32m/Users/alvin/anaconda3/lib/python3.5/site-packages/pandas/indexes/base.py\u001b[0m in \u001b[0;36mget_loc\u001b[0;34m(self, key, method, tolerance)\u001b[0m\n\u001b[1;32m   1945\u001b[0m                 \u001b[0;32mreturn\u001b[0m \u001b[0mself\u001b[0m\u001b[0;34m.\u001b[0m\u001b[0m_engine\u001b[0m\u001b[0;34m.\u001b[0m\u001b[0mget_loc\u001b[0m\u001b[0;34m(\u001b[0m\u001b[0mkey\u001b[0m\u001b[0;34m)\u001b[0m\u001b[0;34m\u001b[0m\u001b[0m\n\u001b[1;32m   1946\u001b[0m             \u001b[0;32mexcept\u001b[0m \u001b[0mKeyError\u001b[0m\u001b[0;34m:\u001b[0m\u001b[0;34m\u001b[0m\u001b[0m\n\u001b[0;32m-> 1947\u001b[0;31m                 \u001b[0;32mreturn\u001b[0m \u001b[0mself\u001b[0m\u001b[0;34m.\u001b[0m\u001b[0m_engine\u001b[0m\u001b[0;34m.\u001b[0m\u001b[0mget_loc\u001b[0m\u001b[0;34m(\u001b[0m\u001b[0mself\u001b[0m\u001b[0;34m.\u001b[0m\u001b[0m_maybe_cast_indexer\u001b[0m\u001b[0;34m(\u001b[0m\u001b[0mkey\u001b[0m\u001b[0;34m)\u001b[0m\u001b[0;34m)\u001b[0m\u001b[0;34m\u001b[0m\u001b[0m\n\u001b[0m\u001b[1;32m   1948\u001b[0m \u001b[0;34m\u001b[0m\u001b[0m\n\u001b[1;32m   1949\u001b[0m         \u001b[0mindexer\u001b[0m \u001b[0;34m=\u001b[0m \u001b[0mself\u001b[0m\u001b[0;34m.\u001b[0m\u001b[0mget_indexer\u001b[0m\u001b[0;34m(\u001b[0m\u001b[0;34m[\u001b[0m\u001b[0mkey\u001b[0m\u001b[0;34m]\u001b[0m\u001b[0;34m,\u001b[0m \u001b[0mmethod\u001b[0m\u001b[0;34m=\u001b[0m\u001b[0mmethod\u001b[0m\u001b[0;34m,\u001b[0m \u001b[0mtolerance\u001b[0m\u001b[0;34m=\u001b[0m\u001b[0mtolerance\u001b[0m\u001b[0;34m)\u001b[0m\u001b[0;34m\u001b[0m\u001b[0m\n",
      "\u001b[0;32mpandas/index.pyx\u001b[0m in \u001b[0;36mpandas.index.IndexEngine.get_loc (pandas/index.c:4154)\u001b[0;34m()\u001b[0m\n",
      "\u001b[0;32mpandas/index.pyx\u001b[0m in \u001b[0;36mpandas.index.IndexEngine.get_loc (pandas/index.c:4018)\u001b[0;34m()\u001b[0m\n",
      "\u001b[0;32mpandas/hashtable.pyx\u001b[0m in \u001b[0;36mpandas.hashtable.PyObjectHashTable.get_item (pandas/hashtable.c:12368)\u001b[0;34m()\u001b[0m\n",
      "\u001b[0;32mpandas/hashtable.pyx\u001b[0m in \u001b[0;36mpandas.hashtable.PyObjectHashTable.get_item (pandas/hashtable.c:12322)\u001b[0;34m()\u001b[0m\n",
      "\u001b[0;31mKeyError\u001b[0m: 'id'"
     ]
    }
   ],
   "source": [
    "df_merge = pd.merge(df_meng,df_test,how=\"inner\",on='id')\n",
    "df_merge.to_csv('meng.csv',sep=',',index=False)"
   ]
  },
  {
   "cell_type": "markdown",
   "metadata": {},
   "source": [
    "# From Meng"
   ]
  },
  {
   "cell_type": "code",
   "execution_count": null,
   "metadata": {
    "collapsed": true
   },
   "outputs": [],
   "source": [
    "from sklearn import tree\n",
    "import numpy as np\n",
    "import pandas as pd\n",
    "from sklearn.ensemble import RandomForestClassifier"
   ]
  }
 ],
 "metadata": {
  "kernelspec": {
   "display_name": "Python [default]",
   "language": "python",
   "name": "python3"
  },
  "language_info": {
   "codemirror_mode": {
    "name": "ipython",
    "version": 3
   },
   "file_extension": ".py",
   "mimetype": "text/x-python",
   "name": "python",
   "nbconvert_exporter": "python",
   "pygments_lexer": "ipython3",
   "version": "3.5.2"
  }
 },
 "nbformat": 4,
 "nbformat_minor": 1
}
